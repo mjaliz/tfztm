{
  "nbformat": 4,
  "nbformat_minor": 0,
  "metadata": {
    "colab": {
      "provenance": [],
      "authorship_tag": "ABX9TyNM08RHDtjuys9fv2VOi31Q",
      "include_colab_link": true
    },
    "kernelspec": {
      "name": "python3",
      "display_name": "Python 3"
    },
    "language_info": {
      "name": "python"
    }
  },
  "cells": [
    {
      "cell_type": "markdown",
      "metadata": {
        "id": "view-in-github",
        "colab_type": "text"
      },
      "source": [
        "<a href=\"https://colab.research.google.com/github/mjaliz/tfztm/blob/main/02_neural_network_classification_in_tensorflow.ipynb\" target=\"_parent\"><img src=\"https://colab.research.google.com/assets/colab-badge.svg\" alt=\"Open In Colab\"/></a>"
      ]
    },
    {
      "cell_type": "markdown",
      "source": [
        "# Introduction to neural network classification with TensorFlow\n",
        "\n",
        "In this notebook we're going to learn how to write neural netwoks for classification problems.\n",
        "\n",
        "A classification problem is where you try to classify as one thing or another thing.\n",
        "\n",
        "A few types of classification problems:\n",
        "* Binary classification\n",
        "* Muliticlass classification\n",
        "* Multilabel classification"
      ],
      "metadata": {
        "id": "kmYZ2ixDuGl4"
      }
    },
    {
      "cell_type": "markdown",
      "source": [
        "## Creating data to view and fit"
      ],
      "metadata": {
        "id": "TlmsblKrySRl"
      }
    },
    {
      "cell_type": "code",
      "source": [
        "from sklearn.datasets import make_circles\n",
        "\n",
        "# Make 1000 examples\n",
        "n_samples = 1000\n",
        "\n",
        "# Create circles\n",
        "X, y = make_circles(n_samples,\n",
        "                    noise=0.03,\n",
        "                    random_state=42)"
      ],
      "metadata": {
        "id": "O25dmhnmycVU"
      },
      "execution_count": 12,
      "outputs": []
    },
    {
      "cell_type": "code",
      "source": [
        "# Check out the features\n",
        "X"
      ],
      "metadata": {
        "colab": {
          "base_uri": "https://localhost:8080/"
        },
        "id": "f_iI2Z-dy7CX",
        "outputId": "70d64b9e-4e70-41c2-a068-770e66c1c5f8"
      },
      "execution_count": 13,
      "outputs": [
        {
          "output_type": "execute_result",
          "data": {
            "text/plain": [
              "array([[ 0.75424625,  0.23148074],\n",
              "       [-0.75615888,  0.15325888],\n",
              "       [-0.81539193,  0.17328203],\n",
              "       ...,\n",
              "       [-0.13690036, -0.81001183],\n",
              "       [ 0.67036156, -0.76750154],\n",
              "       [ 0.28105665,  0.96382443]])"
            ]
          },
          "metadata": {},
          "execution_count": 13
        }
      ]
    },
    {
      "cell_type": "code",
      "source": [
        "# Check the lables\n",
        "y[:10]"
      ],
      "metadata": {
        "colab": {
          "base_uri": "https://localhost:8080/"
        },
        "id": "plLEljnGy961",
        "outputId": "2710bee7-82a4-4e37-b3a9-3d045e9d4df5"
      },
      "execution_count": 14,
      "outputs": [
        {
          "output_type": "execute_result",
          "data": {
            "text/plain": [
              "array([1, 1, 1, 1, 0, 1, 1, 1, 1, 0])"
            ]
          },
          "metadata": {},
          "execution_count": 14
        }
      ]
    },
    {
      "cell_type": "markdown",
      "source": [
        "Our data is a little hard to understand right now... let's visualize it!"
      ],
      "metadata": {
        "id": "kY4_TgKKzAsd"
      }
    },
    {
      "cell_type": "code",
      "source": [
        "import pandas as pd\n",
        "circles = pd.DataFrame({\"X0\":X[:,0], \"X1\":X[:, 1], \"label\":y})\n",
        "circles"
      ],
      "metadata": {
        "colab": {
          "base_uri": "https://localhost:8080/",
          "height": 424
        },
        "id": "REWbvAggzgXF",
        "outputId": "7df7876c-eb21-4d04-dd9a-26ecdda1f6bb"
      },
      "execution_count": 15,
      "outputs": [
        {
          "output_type": "execute_result",
          "data": {
            "text/plain": [
              "           X0        X1  label\n",
              "0    0.754246  0.231481      1\n",
              "1   -0.756159  0.153259      1\n",
              "2   -0.815392  0.173282      1\n",
              "3   -0.393731  0.692883      1\n",
              "4    0.442208 -0.896723      0\n",
              "..        ...       ...    ...\n",
              "995  0.244054  0.944125      0\n",
              "996 -0.978655 -0.272373      0\n",
              "997 -0.136900 -0.810012      1\n",
              "998  0.670362 -0.767502      0\n",
              "999  0.281057  0.963824      0\n",
              "\n",
              "[1000 rows x 3 columns]"
            ],
            "text/html": [
              "\n",
              "  <div id=\"df-e62e32ad-68db-4441-9741-e44d8f63ac7c\" class=\"colab-df-container\">\n",
              "    <div>\n",
              "<style scoped>\n",
              "    .dataframe tbody tr th:only-of-type {\n",
              "        vertical-align: middle;\n",
              "    }\n",
              "\n",
              "    .dataframe tbody tr th {\n",
              "        vertical-align: top;\n",
              "    }\n",
              "\n",
              "    .dataframe thead th {\n",
              "        text-align: right;\n",
              "    }\n",
              "</style>\n",
              "<table border=\"1\" class=\"dataframe\">\n",
              "  <thead>\n",
              "    <tr style=\"text-align: right;\">\n",
              "      <th></th>\n",
              "      <th>X0</th>\n",
              "      <th>X1</th>\n",
              "      <th>label</th>\n",
              "    </tr>\n",
              "  </thead>\n",
              "  <tbody>\n",
              "    <tr>\n",
              "      <th>0</th>\n",
              "      <td>0.754246</td>\n",
              "      <td>0.231481</td>\n",
              "      <td>1</td>\n",
              "    </tr>\n",
              "    <tr>\n",
              "      <th>1</th>\n",
              "      <td>-0.756159</td>\n",
              "      <td>0.153259</td>\n",
              "      <td>1</td>\n",
              "    </tr>\n",
              "    <tr>\n",
              "      <th>2</th>\n",
              "      <td>-0.815392</td>\n",
              "      <td>0.173282</td>\n",
              "      <td>1</td>\n",
              "    </tr>\n",
              "    <tr>\n",
              "      <th>3</th>\n",
              "      <td>-0.393731</td>\n",
              "      <td>0.692883</td>\n",
              "      <td>1</td>\n",
              "    </tr>\n",
              "    <tr>\n",
              "      <th>4</th>\n",
              "      <td>0.442208</td>\n",
              "      <td>-0.896723</td>\n",
              "      <td>0</td>\n",
              "    </tr>\n",
              "    <tr>\n",
              "      <th>...</th>\n",
              "      <td>...</td>\n",
              "      <td>...</td>\n",
              "      <td>...</td>\n",
              "    </tr>\n",
              "    <tr>\n",
              "      <th>995</th>\n",
              "      <td>0.244054</td>\n",
              "      <td>0.944125</td>\n",
              "      <td>0</td>\n",
              "    </tr>\n",
              "    <tr>\n",
              "      <th>996</th>\n",
              "      <td>-0.978655</td>\n",
              "      <td>-0.272373</td>\n",
              "      <td>0</td>\n",
              "    </tr>\n",
              "    <tr>\n",
              "      <th>997</th>\n",
              "      <td>-0.136900</td>\n",
              "      <td>-0.810012</td>\n",
              "      <td>1</td>\n",
              "    </tr>\n",
              "    <tr>\n",
              "      <th>998</th>\n",
              "      <td>0.670362</td>\n",
              "      <td>-0.767502</td>\n",
              "      <td>0</td>\n",
              "    </tr>\n",
              "    <tr>\n",
              "      <th>999</th>\n",
              "      <td>0.281057</td>\n",
              "      <td>0.963824</td>\n",
              "      <td>0</td>\n",
              "    </tr>\n",
              "  </tbody>\n",
              "</table>\n",
              "<p>1000 rows × 3 columns</p>\n",
              "</div>\n",
              "    <div class=\"colab-df-buttons\">\n",
              "\n",
              "  <div class=\"colab-df-container\">\n",
              "    <button class=\"colab-df-convert\" onclick=\"convertToInteractive('df-e62e32ad-68db-4441-9741-e44d8f63ac7c')\"\n",
              "            title=\"Convert this dataframe to an interactive table.\"\n",
              "            style=\"display:none;\">\n",
              "\n",
              "  <svg xmlns=\"http://www.w3.org/2000/svg\" height=\"24px\" viewBox=\"0 -960 960 960\">\n",
              "    <path d=\"M120-120v-720h720v720H120Zm60-500h600v-160H180v160Zm220 220h160v-160H400v160Zm0 220h160v-160H400v160ZM180-400h160v-160H180v160Zm440 0h160v-160H620v160ZM180-180h160v-160H180v160Zm440 0h160v-160H620v160Z\"/>\n",
              "  </svg>\n",
              "    </button>\n",
              "\n",
              "  <style>\n",
              "    .colab-df-container {\n",
              "      display:flex;\n",
              "      gap: 12px;\n",
              "    }\n",
              "\n",
              "    .colab-df-convert {\n",
              "      background-color: #E8F0FE;\n",
              "      border: none;\n",
              "      border-radius: 50%;\n",
              "      cursor: pointer;\n",
              "      display: none;\n",
              "      fill: #1967D2;\n",
              "      height: 32px;\n",
              "      padding: 0 0 0 0;\n",
              "      width: 32px;\n",
              "    }\n",
              "\n",
              "    .colab-df-convert:hover {\n",
              "      background-color: #E2EBFA;\n",
              "      box-shadow: 0px 1px 2px rgba(60, 64, 67, 0.3), 0px 1px 3px 1px rgba(60, 64, 67, 0.15);\n",
              "      fill: #174EA6;\n",
              "    }\n",
              "\n",
              "    .colab-df-buttons div {\n",
              "      margin-bottom: 4px;\n",
              "    }\n",
              "\n",
              "    [theme=dark] .colab-df-convert {\n",
              "      background-color: #3B4455;\n",
              "      fill: #D2E3FC;\n",
              "    }\n",
              "\n",
              "    [theme=dark] .colab-df-convert:hover {\n",
              "      background-color: #434B5C;\n",
              "      box-shadow: 0px 1px 3px 1px rgba(0, 0, 0, 0.15);\n",
              "      filter: drop-shadow(0px 1px 2px rgba(0, 0, 0, 0.3));\n",
              "      fill: #FFFFFF;\n",
              "    }\n",
              "  </style>\n",
              "\n",
              "    <script>\n",
              "      const buttonEl =\n",
              "        document.querySelector('#df-e62e32ad-68db-4441-9741-e44d8f63ac7c button.colab-df-convert');\n",
              "      buttonEl.style.display =\n",
              "        google.colab.kernel.accessAllowed ? 'block' : 'none';\n",
              "\n",
              "      async function convertToInteractive(key) {\n",
              "        const element = document.querySelector('#df-e62e32ad-68db-4441-9741-e44d8f63ac7c');\n",
              "        const dataTable =\n",
              "          await google.colab.kernel.invokeFunction('convertToInteractive',\n",
              "                                                    [key], {});\n",
              "        if (!dataTable) return;\n",
              "\n",
              "        const docLinkHtml = 'Like what you see? Visit the ' +\n",
              "          '<a target=\"_blank\" href=https://colab.research.google.com/notebooks/data_table.ipynb>data table notebook</a>'\n",
              "          + ' to learn more about interactive tables.';\n",
              "        element.innerHTML = '';\n",
              "        dataTable['output_type'] = 'display_data';\n",
              "        await google.colab.output.renderOutput(dataTable, element);\n",
              "        const docLink = document.createElement('div');\n",
              "        docLink.innerHTML = docLinkHtml;\n",
              "        element.appendChild(docLink);\n",
              "      }\n",
              "    </script>\n",
              "  </div>\n",
              "\n",
              "\n",
              "<div id=\"df-8e0cf497-b69b-473a-9bc6-edd204c7afad\">\n",
              "  <button class=\"colab-df-quickchart\" onclick=\"quickchart('df-8e0cf497-b69b-473a-9bc6-edd204c7afad')\"\n",
              "            title=\"Suggest charts.\"\n",
              "            style=\"display:none;\">\n",
              "\n",
              "<svg xmlns=\"http://www.w3.org/2000/svg\" height=\"24px\"viewBox=\"0 0 24 24\"\n",
              "     width=\"24px\">\n",
              "    <g>\n",
              "        <path d=\"M19 3H5c-1.1 0-2 .9-2 2v14c0 1.1.9 2 2 2h14c1.1 0 2-.9 2-2V5c0-1.1-.9-2-2-2zM9 17H7v-7h2v7zm4 0h-2V7h2v10zm4 0h-2v-4h2v4z\"/>\n",
              "    </g>\n",
              "</svg>\n",
              "  </button>\n",
              "\n",
              "<style>\n",
              "  .colab-df-quickchart {\n",
              "      --bg-color: #E8F0FE;\n",
              "      --fill-color: #1967D2;\n",
              "      --hover-bg-color: #E2EBFA;\n",
              "      --hover-fill-color: #174EA6;\n",
              "      --disabled-fill-color: #AAA;\n",
              "      --disabled-bg-color: #DDD;\n",
              "  }\n",
              "\n",
              "  [theme=dark] .colab-df-quickchart {\n",
              "      --bg-color: #3B4455;\n",
              "      --fill-color: #D2E3FC;\n",
              "      --hover-bg-color: #434B5C;\n",
              "      --hover-fill-color: #FFFFFF;\n",
              "      --disabled-bg-color: #3B4455;\n",
              "      --disabled-fill-color: #666;\n",
              "  }\n",
              "\n",
              "  .colab-df-quickchart {\n",
              "    background-color: var(--bg-color);\n",
              "    border: none;\n",
              "    border-radius: 50%;\n",
              "    cursor: pointer;\n",
              "    display: none;\n",
              "    fill: var(--fill-color);\n",
              "    height: 32px;\n",
              "    padding: 0;\n",
              "    width: 32px;\n",
              "  }\n",
              "\n",
              "  .colab-df-quickchart:hover {\n",
              "    background-color: var(--hover-bg-color);\n",
              "    box-shadow: 0 1px 2px rgba(60, 64, 67, 0.3), 0 1px 3px 1px rgba(60, 64, 67, 0.15);\n",
              "    fill: var(--button-hover-fill-color);\n",
              "  }\n",
              "\n",
              "  .colab-df-quickchart-complete:disabled,\n",
              "  .colab-df-quickchart-complete:disabled:hover {\n",
              "    background-color: var(--disabled-bg-color);\n",
              "    fill: var(--disabled-fill-color);\n",
              "    box-shadow: none;\n",
              "  }\n",
              "\n",
              "  .colab-df-spinner {\n",
              "    border: 2px solid var(--fill-color);\n",
              "    border-color: transparent;\n",
              "    border-bottom-color: var(--fill-color);\n",
              "    animation:\n",
              "      spin 1s steps(1) infinite;\n",
              "  }\n",
              "\n",
              "  @keyframes spin {\n",
              "    0% {\n",
              "      border-color: transparent;\n",
              "      border-bottom-color: var(--fill-color);\n",
              "      border-left-color: var(--fill-color);\n",
              "    }\n",
              "    20% {\n",
              "      border-color: transparent;\n",
              "      border-left-color: var(--fill-color);\n",
              "      border-top-color: var(--fill-color);\n",
              "    }\n",
              "    30% {\n",
              "      border-color: transparent;\n",
              "      border-left-color: var(--fill-color);\n",
              "      border-top-color: var(--fill-color);\n",
              "      border-right-color: var(--fill-color);\n",
              "    }\n",
              "    40% {\n",
              "      border-color: transparent;\n",
              "      border-right-color: var(--fill-color);\n",
              "      border-top-color: var(--fill-color);\n",
              "    }\n",
              "    60% {\n",
              "      border-color: transparent;\n",
              "      border-right-color: var(--fill-color);\n",
              "    }\n",
              "    80% {\n",
              "      border-color: transparent;\n",
              "      border-right-color: var(--fill-color);\n",
              "      border-bottom-color: var(--fill-color);\n",
              "    }\n",
              "    90% {\n",
              "      border-color: transparent;\n",
              "      border-bottom-color: var(--fill-color);\n",
              "    }\n",
              "  }\n",
              "</style>\n",
              "\n",
              "  <script>\n",
              "    async function quickchart(key) {\n",
              "      const quickchartButtonEl =\n",
              "        document.querySelector('#' + key + ' button');\n",
              "      quickchartButtonEl.disabled = true;  // To prevent multiple clicks.\n",
              "      quickchartButtonEl.classList.add('colab-df-spinner');\n",
              "      try {\n",
              "        const charts = await google.colab.kernel.invokeFunction(\n",
              "            'suggestCharts', [key], {});\n",
              "      } catch (error) {\n",
              "        console.error('Error during call to suggestCharts:', error);\n",
              "      }\n",
              "      quickchartButtonEl.classList.remove('colab-df-spinner');\n",
              "      quickchartButtonEl.classList.add('colab-df-quickchart-complete');\n",
              "    }\n",
              "    (() => {\n",
              "      let quickchartButtonEl =\n",
              "        document.querySelector('#df-8e0cf497-b69b-473a-9bc6-edd204c7afad button');\n",
              "      quickchartButtonEl.style.display =\n",
              "        google.colab.kernel.accessAllowed ? 'block' : 'none';\n",
              "    })();\n",
              "  </script>\n",
              "</div>\n",
              "    </div>\n",
              "  </div>\n"
            ]
          },
          "metadata": {},
          "execution_count": 15
        }
      ]
    },
    {
      "cell_type": "code",
      "source": [
        "# Visualize with a plot\n",
        "import matplotlib.pyplot as plt\n",
        "plt.scatter(X[:, 0], X[:, 1], c=y, cmap=plt.cm.RdYlBu);"
      ],
      "metadata": {
        "colab": {
          "base_uri": "https://localhost:8080/",
          "height": 430
        },
        "id": "6v2YS7zwzu_t",
        "outputId": "d98bffcc-e1be-4596-e62b-e7b5f7180e06"
      },
      "execution_count": 16,
      "outputs": [
        {
          "output_type": "display_data",
          "data": {
            "text/plain": [
              "<Figure size 640x480 with 1 Axes>"
            ],
            "image/png": "[encoded data removed]"
          },
          "metadata": {}
        }
      ]
    },
    {
      "cell_type": "markdown",
      "source": [
        "## Input and output shapes"
      ],
      "metadata": {
        "id": "-Om1g2Inz9sM"
      }
    },
    {
      "cell_type": "code",
      "source": [
        "# Check the shapes of our features and labels\n",
        "X.shape, y.shape"
      ],
      "metadata": {
        "colab": {
          "base_uri": "https://localhost:8080/"
        },
        "id": "TEueLFQ7COFe",
        "outputId": "186a1fa0-d45a-41af-eba3-7459085fae1c"
      },
      "execution_count": 17,
      "outputs": [
        {
          "output_type": "execute_result",
          "data": {
            "text/plain": [
              "((1000, 2), (1000,))"
            ]
          },
          "metadata": {},
          "execution_count": 17
        }
      ]
    },
    {
      "cell_type": "code",
      "source": [
        "# How many samples we're working\n",
        "len(X), len(y)"
      ],
      "metadata": {
        "id": "YU4UC6fyCTbG",
        "colab": {
          "base_uri": "https://localhost:8080/"
        },
        "outputId": "8b314d55-b2bf-4f5c-91e7-df25297e10b1"
      },
      "execution_count": 18,
      "outputs": [
        {
          "output_type": "execute_result",
          "data": {
            "text/plain": [
              "(1000, 1000)"
            ]
          },
          "metadata": {},
          "execution_count": 18
        }
      ]
    },
    {
      "cell_type": "code",
      "source": [
        "# View the first example of features and labels\n",
        "X[0], y[0]"
      ],
      "metadata": {
        "colab": {
          "base_uri": "https://localhost:8080/"
        },
        "id": "kZJuTibztiSE",
        "outputId": "9eaa0bed-e17f-46e9-8bc5-12bed1f8964d"
      },
      "execution_count": 19,
      "outputs": [
        {
          "output_type": "execute_result",
          "data": {
            "text/plain": [
              "(array([0.75424625, 0.23148074]), 1)"
            ]
          },
          "metadata": {},
          "execution_count": 19
        }
      ]
    },
    {
      "cell_type": "markdown",
      "source": [
        "## Steps in modeling\n",
        "\n",
        "The steps in modelling with TensorFlow are typically:\n",
        "\n",
        "1. Create or import a model\n",
        "2. Compile the model\n",
        "3. Fit the model\n",
        "4. Evaluate the model\n",
        "5. Tweak\n",
        "6. Evaluate..."
      ],
      "metadata": {
        "id": "Y5MbZildtqeD"
      }
    },
    {
      "cell_type": "code",
      "source": [
        "import tensorflow as tf\n",
        "tf.__version__"
      ],
      "metadata": {
        "colab": {
          "base_uri": "https://localhost:8080/",
          "height": 35
        },
        "id": "wrCyYEPzwFKa",
        "outputId": "d267da93-9951-47fa-cb40-f15dfb02a4a1"
      },
      "execution_count": 20,
      "outputs": [
        {
          "output_type": "execute_result",
          "data": {
            "text/plain": [
              "'2.13.0'"
            ],
            "application/vnd.google.colaboratory.intrinsic+json": {
              "type": "string"
            }
          },
          "metadata": {},
          "execution_count": 20
        }
      ]
    },
    {
      "cell_type": "code",
      "source": [
        "# Set random seed\n",
        "tf.random.set_seed(42)\n",
        "\n",
        "# 1. Create the model\n",
        "model_1 = tf.keras.Sequential([\n",
        "    tf.keras.layers.Dense(1)\n",
        "])\n",
        "\n",
        "# 2. Compile the model\n",
        "model_1.compile(loss=tf.keras.losses.BinaryCrossentropy(),\n",
        "                optimizer=tf.keras.optimizers.SGD(),\n",
        "                metrics=[\"accuracy\"])\n",
        "\n",
        "# 3. Fit the model\n",
        "model_1.fit(X, y, epochs=5)"
      ],
      "metadata": {
        "colab": {
          "base_uri": "https://localhost:8080/"
        },
        "id": "oHujXuiot7Ca",
        "outputId": "6892481e-5725-45f5-8799-2bb8dea92a3a"
      },
      "execution_count": 21,
      "outputs": [
        {
          "output_type": "stream",
          "name": "stdout",
          "text": [
            "Epoch 1/5\n",
            "32/32 [==============================] - 1s 3ms/step - loss: 4.1404 - accuracy: 0.4890\n",
            "Epoch 2/5\n",
            "32/32 [==============================] - 0s 3ms/step - loss: 0.7978 - accuracy: 0.4950\n",
            "Epoch 3/5\n",
            "32/32 [==============================] - 0s 3ms/step - loss: 0.7214 - accuracy: 0.4980\n",
            "Epoch 4/5\n",
            "32/32 [==============================] - 0s 3ms/step - loss: 0.7026 - accuracy: 0.4920\n",
            "Epoch 5/5\n",
            "32/32 [==============================] - 0s 2ms/step - loss: 0.6964 - accuracy: 0.4960\n"
          ]
        },
        {
          "output_type": "execute_result",
          "data": {
            "text/plain": [
              "<keras.src.callbacks.History at 0x79a678174f70>"
            ]
          },
          "metadata": {},
          "execution_count": 21
        }
      ]
    },
    {
      "cell_type": "code",
      "source": [
        "# Let's try and improve our model by training for longer\n",
        "model_1.fit(X, y, epochs=200, verbose=0)\n",
        "model_1.evaluate(X, y)"
      ],
      "metadata": {
        "colab": {
          "base_uri": "https://localhost:8080/"
        },
        "id": "Xw8hvF2Vuqfj",
        "outputId": "3353a28e-5af4-4e97-8348-9cd56cd546bf"
      },
      "execution_count": 22,
      "outputs": [
        {
          "output_type": "stream",
          "name": "stdout",
          "text": [
            "32/32 [==============================] - 0s 3ms/step - loss: 0.6935 - accuracy: 0.5000\n"
          ]
        },
        {
          "output_type": "execute_result",
          "data": {
            "text/plain": [
              "[0.6934831142425537, 0.5]"
            ]
          },
          "metadata": {},
          "execution_count": 22
        }
      ]
    },
    {
      "cell_type": "markdown",
      "source": [
        "Since we're working on a binary classification problem and our model is getting around ~50% accuracy... it's performing as if it's guessing. So let's step thins up a notch and add and extra layer."
      ],
      "metadata": {
        "id": "S3a-cSC1wuBr"
      }
    },
    {
      "cell_type": "code",
      "source": [
        "# Set the rando seed\n",
        "tf.random.set_seed(42)\n",
        "\n",
        "# 1. Create a model, this time with 2 layer\n",
        "model_2 = tf.keras.Sequential([\n",
        "    tf.keras.layers.Dense(1),\n",
        "    tf.keras.layers.Dense(1)\n",
        "])\n",
        "\n",
        "# 2. Compile the model\n",
        "model_2.compile(loss=tf.keras.losses.BinaryCrossentropy(),\n",
        "                optimizer=tf.keras.optimizers.SGD(),\n",
        "                metrics=[\"accuracy\"])\n",
        "\n",
        "# 3. Fit the model\n",
        "model_2.fit(X, y, epochs=100, verbose=0)"
      ],
      "metadata": {
        "colab": {
          "base_uri": "https://localhost:8080/"
        },
        "id": "zoso6NcjxIei",
        "outputId": "888540e0-56e8-47bf-9679-6ae9eee0acf8"
      },
      "execution_count": 23,
      "outputs": [
        {
          "output_type": "execute_result",
          "data": {
            "text/plain": [
              "<keras.src.callbacks.History at 0x79a6697ba0e0>"
            ]
          },
          "metadata": {},
          "execution_count": 23
        }
      ]
    },
    {
      "cell_type": "code",
      "source": [
        "# 4. Evaluate the model\n",
        "model_2.evaluate(X, y)"
      ],
      "metadata": {
        "colab": {
          "base_uri": "https://localhost:8080/"
        },
        "id": "Mxs8wn21x-Hf",
        "outputId": "97765fce-b60b-4c9d-f7ec-1b11da1bd8e0"
      },
      "execution_count": 24,
      "outputs": [
        {
          "output_type": "stream",
          "name": "stdout",
          "text": [
            "32/32 [==============================] - 0s 1ms/step - loss: 0.6932 - accuracy: 0.5000\n"
          ]
        },
        {
          "output_type": "execute_result",
          "data": {
            "text/plain": [
              "[0.6932453513145447, 0.5]"
            ]
          },
          "metadata": {},
          "execution_count": 24
        }
      ]
    },
    {
      "cell_type": "code",
      "source": [
        "circles[\"label\"].value_counts()"
      ],
      "metadata": {
        "colab": {
          "base_uri": "https://localhost:8080/"
        },
        "id": "x-1ReV9F0LTs",
        "outputId": "fa6a9e48-c713-4fa1-bf44-3b2ee479fbbe"
      },
      "execution_count": 25,
      "outputs": [
        {
          "output_type": "execute_result",
          "data": {
            "text/plain": [
              "1    500\n",
              "0    500\n",
              "Name: label, dtype: int64"
            ]
          },
          "metadata": {},
          "execution_count": 25
        }
      ]
    },
    {
      "cell_type": "markdown",
      "source": [
        "## Improve our model\n",
        "\n",
        "Let's look into our bag of tricks to see how we can improve our model.\n",
        "\n",
        "1. Create a model - we might to add more layers or increase the number of hidden units within a layer.\n",
        "2. Compiling a model - here we might to choose a different optimization such as Adam instead of SGD.\n",
        "3. Fitting a model - perhaps we might fit our model for more epochs (leave it training for longer epochs)"
      ],
      "metadata": {
        "id": "gMi_gtsUyB3u"
      }
    },
    {
      "cell_type": "code",
      "source": [
        "# Set the random seed\n",
        "tf.random.set_seed(42)\n",
        "\n",
        "# 1. Create the model (this time 3 layers)\n",
        "model_3 = tf.keras.Sequential([\n",
        "    tf.keras.layers.Dense(100, input_shape=(None, 1)),\n",
        "    tf.keras.layers.Dense(10),\n",
        "    tf.keras.layers.Dense(1)\n",
        "])\n",
        "\n",
        "# 2. Compile the model\n",
        "model_3.compile(loss=tf.keras.losses.BinaryCrossentropy(),\n",
        "                optimizer=tf.keras.optimizers.Adam(),\n",
        "                metrics=[\"accuracy\"])\n",
        "\n",
        "# 3. Fit the model\n",
        "model_3.fit(X, y, epochs=100, verbose=0)"
      ],
      "metadata": {
        "colab": {
          "base_uri": "https://localhost:8080/"
        },
        "id": "b1sj6Yp9yK1O",
        "outputId": "5644bab7-9b90-46bb-aace-ec4d02eed435"
      },
      "execution_count": 35,
      "outputs": [
        {
          "output_type": "execute_result",
          "data": {
            "text/plain": [
              "<keras.src.callbacks.History at 0x79a66af23a90>"
            ]
          },
          "metadata": {},
          "execution_count": 35
        }
      ]
    },
    {
      "cell_type": "code",
      "source": [
        "# 4. Evaluate the model\n",
        "model_3.evaluate(X, y)"
      ],
      "metadata": {
        "colab": {
          "base_uri": "https://localhost:8080/"
        },
        "id": "8ZkeWxnr2K_S",
        "outputId": "a0e90879-f89f-4d98-f709-1469c061b2ba"
      },
      "execution_count": 36,
      "outputs": [
        {
          "output_type": "stream",
          "name": "stdout",
          "text": [
            "32/32 [==============================] - 0s 2ms/step - loss: 0.6940 - accuracy: 0.5000\n"
          ]
        },
        {
          "output_type": "execute_result",
          "data": {
            "text/plain": [
              "[0.6940268874168396, 0.5]"
            ]
          },
          "metadata": {},
          "execution_count": 36
        }
      ]
    },
    {
      "cell_type": "markdown",
      "source": [
        "To visualize our model's predictions, let's crate a function `plot_decision_boundry`, this function will:\n",
        "\n",
        "* Take in a trained model, features (X) and labels (y)\n",
        "* Create a meshgrid of the different X values\n",
        "* Make predictions across the meshgrid\n",
        "* Plot the predictions as well as a line between zones (where each unique class falls)"
      ],
      "metadata": {
        "id": "ZEjdWzqt2TAo"
      }
    },
    {
      "cell_type": "code",
      "source": [
        "import numpy as np\n",
        "\n",
        "def plot_decision_boundary(model, X, y):\n",
        "  \"\"\"\n",
        "  Plots the decision boundary created by a model prediction on X.\n",
        "  \"\"\"\n",
        "  # Define the axis boundaries of the plot and create a meshgrid\n",
        "\n",
        "  x_min, x_max = X[:, 0].min() - 0.1, X[:, 0].max() + 0.1\n",
        "  y_min, y_max = X[:, 1].min() - 0.1, X[:, 1].max() + 0.1\n",
        "\n",
        "  xx, yy = np.meshgrid(np.linspace(x_min, x_max, 100),\n",
        "                       np.linspace(y_min, y_max, 100))\n",
        "\n",
        "  # Create X value (we're going to make predictions on these)\n",
        "  x_in = np.c_[xx.ravel(), yy.ravel()] # stack 2D arrays together\n",
        "\n",
        "  # Make predictions\n",
        "  y_pred = model.predict(x_in)\n",
        "\n",
        "  # Check for multi-class\n",
        "  if len(y_pred[0]) > 1:\n",
        "    print(\"doing multiclass classification\")\n",
        "    # We have to reshape our prediction to get them reaady for plotting\n",
        "    y_pred = np.argmax(y_pred, axis=1).reshape(xx.shape)\n",
        "  else:\n",
        "    print(\"doing binary classification\")\n",
        "    y_pred = np.round(y_pred).reshape(xx.shape)\n",
        "\n",
        "  # Plot the decision boundary\n",
        "  plt.contourf(xx, yy, y_pred, cmap=plt.cm.RdYlBu, alpha=0.7)\n",
        "  plt.scatter(X[:, 0], X[:, 1], c=y, s=40, cmap=plt.cm.RdYlBu)\n",
        "  plt.xlim(xx.min(), xx.max())\n",
        "  plt.ylim(yy.min(), yy.max())"
      ],
      "metadata": {
        "id": "HCSzDTEU22he"
      },
      "execution_count": 37,
      "outputs": []
    },
    {
      "cell_type": "code",
      "source": [
        "# Check out the predictions our model is making\n",
        "plot_decision_boundary(model_3,\n",
        "                       X,\n",
        "                       y)"
      ],
      "metadata": {
        "colab": {
          "base_uri": "https://localhost:8080/",
          "height": 465
        },
        "id": "oMgtXsbV6jBX",
        "outputId": "154cf97e-3aa4-490b-9463-29b17e6eda87"
      },
      "execution_count": 38,
      "outputs": [
        {
          "output_type": "stream",
          "name": "stdout",
          "text": [
            "313/313 [==============================] - 1s 2ms/step\n",
            "doing multiclass classification\n"
          ]
        },
        {
          "output_type": "display_data",
          "data": {
            "text/plain": [
              "<Figure size 640x480 with 1 Axes>"
            ],
            "image/png": "[encoded data removed]"
          },
          "metadata": {}
        }
      ]
    },
    {
      "cell_type": "code",
      "source": [
        "# Let's see if our model can be used for a regression problem...\n",
        "\n",
        "tf.random.set_seed(42)\n",
        "\n",
        "# Create some regression data\n",
        "X_regression = tf.range(0, 1000, 5)\n",
        "y_regression = tf.range(100, 1100, 5) # y = x + 100\n",
        "\n",
        "# Split our regression data into training and test sets\n",
        "X_reg_train = X_regression[:150]\n",
        "X_reg_test = X_regression[150:]\n",
        "y_reg_train = y_regression[:150]\n",
        "y_reg_test = y_regression[150:]\n",
        "\n",
        "# Fit our model to the regression data\n",
        "model_3.fit(tf.expand_dims(X_reg_train, axis=-1), y_reg_train, epochs=100)"
      ],
      "metadata": {
        "id": "sezrrlqR6u4-",
        "colab": {
          "base_uri": "https://localhost:8080/"
        },
        "outputId": "e3f18ba9-2ebd-48f7-b821-a107fc86b7f6"
      },
      "execution_count": 47,
      "outputs": [
        {
          "output_type": "stream",
          "name": "stdout",
          "text": [
            "Epoch 1/100\n",
            "5/5 [==============================] - 0s 4ms/step - loss: 241.8187 - mae: 241.8187\n",
            "Epoch 2/100\n",
            "5/5 [==============================] - 0s 3ms/step - loss: 239.0670 - mae: 239.0670\n",
            "Epoch 3/100\n",
            "5/5 [==============================] - 0s 3ms/step - loss: 242.0160 - mae: 242.0160\n",
            "Epoch 4/100\n",
            "5/5 [==============================] - 0s 3ms/step - loss: 235.3694 - mae: 235.3694\n",
            "Epoch 5/100\n",
            "5/5 [==============================] - 0s 4ms/step - loss: 236.5125 - mae: 236.5125\n",
            "Epoch 6/100\n",
            "5/5 [==============================] - 0s 3ms/step - loss: 238.3814 - mae: 238.3814\n",
            "Epoch 7/100\n",
            "5/5 [==============================] - 0s 3ms/step - loss: 233.4725 - mae: 233.4725\n",
            "Epoch 8/100\n",
            "5/5 [==============================] - 0s 3ms/step - loss: 233.4275 - mae: 233.4275\n",
            "Epoch 9/100\n",
            "5/5 [==============================] - 0s 4ms/step - loss: 239.1740 - mae: 239.1740\n",
            "Epoch 10/100\n",
            "5/5 [==============================] - 0s 3ms/step - loss: 235.8490 - mae: 235.8490\n",
            "Epoch 11/100\n",
            "5/5 [==============================] - 0s 3ms/step - loss: 237.6277 - mae: 237.6277\n",
            "Epoch 12/100\n",
            "5/5 [==============================] - 0s 3ms/step - loss: 234.8819 - mae: 234.8819\n",
            "Epoch 13/100\n",
            "5/5 [==============================] - 0s 4ms/step - loss: 236.4024 - mae: 236.4024\n",
            "Epoch 14/100\n",
            "5/5 [==============================] - 0s 3ms/step - loss: 238.2414 - mae: 238.2414\n",
            "Epoch 15/100\n",
            "5/5 [==============================] - 0s 3ms/step - loss: 230.4161 - mae: 230.4161\n",
            "Epoch 16/100\n",
            "5/5 [==============================] - 0s 3ms/step - loss: 235.8867 - mae: 235.8867\n",
            "Epoch 17/100\n",
            "5/5 [==============================] - 0s 3ms/step - loss: 234.7428 - mae: 234.7428\n",
            "Epoch 18/100\n",
            "5/5 [==============================] - 0s 3ms/step - loss: 236.4023 - mae: 236.4023\n",
            "Epoch 19/100\n",
            "5/5 [==============================] - 0s 3ms/step - loss: 234.6481 - mae: 234.6481\n",
            "Epoch 20/100\n",
            "5/5 [==============================] - 0s 4ms/step - loss: 233.0147 - mae: 233.0147\n",
            "Epoch 21/100\n",
            "5/5 [==============================] - 0s 3ms/step - loss: 234.3819 - mae: 234.3819\n",
            "Epoch 22/100\n",
            "5/5 [==============================] - 0s 3ms/step - loss: 231.1044 - mae: 231.1044\n",
            "Epoch 23/100\n",
            "5/5 [==============================] - 0s 4ms/step - loss: 228.5998 - mae: 228.5998\n",
            "Epoch 24/100\n",
            "5/5 [==============================] - 0s 3ms/step - loss: 229.3333 - mae: 229.3333\n",
            "Epoch 25/100\n",
            "5/5 [==============================] - 0s 4ms/step - loss: 237.1090 - mae: 237.1090\n",
            "Epoch 26/100\n",
            "5/5 [==============================] - 0s 3ms/step - loss: 231.0167 - mae: 231.0167\n",
            "Epoch 27/100\n",
            "5/5 [==============================] - 0s 4ms/step - loss: 231.3551 - mae: 231.3551\n",
            "Epoch 28/100\n",
            "5/5 [==============================] - 0s 3ms/step - loss: 229.0754 - mae: 229.0754\n",
            "Epoch 29/100\n",
            "5/5 [==============================] - 0s 5ms/step - loss: 230.1179 - mae: 230.1179\n",
            "Epoch 30/100\n",
            "5/5 [==============================] - 0s 4ms/step - loss: 226.5758 - mae: 226.5758\n",
            "Epoch 31/100\n",
            "5/5 [==============================] - 0s 3ms/step - loss: 230.5890 - mae: 230.5890\n",
            "Epoch 32/100\n",
            "5/5 [==============================] - 0s 3ms/step - loss: 231.6515 - mae: 231.6515\n",
            "Epoch 33/100\n",
            "5/5 [==============================] - 0s 3ms/step - loss: 225.2912 - mae: 225.2912\n",
            "Epoch 34/100\n",
            "5/5 [==============================] - 0s 4ms/step - loss: 228.5997 - mae: 228.5997\n",
            "Epoch 35/100\n",
            "5/5 [==============================] - 0s 3ms/step - loss: 224.3949 - mae: 224.3949\n",
            "Epoch 36/100\n",
            "5/5 [==============================] - 0s 4ms/step - loss: 227.6419 - mae: 227.6419\n",
            "Epoch 37/100\n",
            "5/5 [==============================] - 0s 4ms/step - loss: 226.5262 - mae: 226.5262\n",
            "Epoch 38/100\n",
            "5/5 [==============================] - 0s 4ms/step - loss: 227.0933 - mae: 227.0933\n",
            "Epoch 39/100\n",
            "5/5 [==============================] - 0s 3ms/step - loss: 225.5129 - mae: 225.5129\n",
            "Epoch 40/100\n",
            "5/5 [==============================] - 0s 4ms/step - loss: 223.5761 - mae: 223.5761\n",
            "Epoch 41/100\n",
            "5/5 [==============================] - 0s 3ms/step - loss: 226.4898 - mae: 226.4898\n",
            "Epoch 42/100\n",
            "5/5 [==============================] - 0s 4ms/step - loss: 225.9280 - mae: 225.9280\n",
            "Epoch 43/100\n",
            "5/5 [==============================] - 0s 3ms/step - loss: 225.4076 - mae: 225.4076\n",
            "Epoch 44/100\n",
            "5/5 [==============================] - 0s 3ms/step - loss: 225.8968 - mae: 225.8968\n",
            "Epoch 45/100\n",
            "5/5 [==============================] - 0s 3ms/step - loss: 226.1334 - mae: 226.1334\n",
            "Epoch 46/100\n",
            "5/5 [==============================] - 0s 3ms/step - loss: 220.2269 - mae: 220.2269\n",
            "Epoch 47/100\n",
            "5/5 [==============================] - 0s 3ms/step - loss: 221.4438 - mae: 221.4438\n",
            "Epoch 48/100\n",
            "5/5 [==============================] - 0s 3ms/step - loss: 222.6455 - mae: 222.6455\n",
            "Epoch 49/100\n",
            "5/5 [==============================] - 0s 3ms/step - loss: 218.6701 - mae: 218.6701\n",
            "Epoch 50/100\n",
            "5/5 [==============================] - 0s 3ms/step - loss: 220.3096 - mae: 220.3096\n",
            "Epoch 51/100\n",
            "5/5 [==============================] - 0s 3ms/step - loss: 219.3828 - mae: 219.3828\n",
            "Epoch 52/100\n",
            "5/5 [==============================] - 0s 3ms/step - loss: 221.0584 - mae: 221.0584\n",
            "Epoch 53/100\n",
            "5/5 [==============================] - 0s 3ms/step - loss: 219.8777 - mae: 219.8777\n",
            "Epoch 54/100\n",
            "5/5 [==============================] - 0s 4ms/step - loss: 220.5338 - mae: 220.5338\n",
            "Epoch 55/100\n",
            "5/5 [==============================] - 0s 5ms/step - loss: 216.6560 - mae: 216.6560\n",
            "Epoch 56/100\n",
            "5/5 [==============================] - 0s 4ms/step - loss: 212.9221 - mae: 212.9221\n",
            "Epoch 57/100\n",
            "5/5 [==============================] - 0s 5ms/step - loss: 220.8699 - mae: 220.8699\n",
            "Epoch 58/100\n",
            "5/5 [==============================] - 0s 4ms/step - loss: 222.6789 - mae: 222.6789\n",
            "Epoch 59/100\n",
            "5/5 [==============================] - 0s 4ms/step - loss: 220.2708 - mae: 220.2708\n",
            "Epoch 60/100\n",
            "5/5 [==============================] - 0s 5ms/step - loss: 220.4636 - mae: 220.4636\n",
            "Epoch 61/100\n",
            "5/5 [==============================] - 0s 5ms/step - loss: 219.0663 - mae: 219.0663\n",
            "Epoch 62/100\n",
            "5/5 [==============================] - 0s 5ms/step - loss: 215.0725 - mae: 215.0725\n",
            "Epoch 63/100\n",
            "5/5 [==============================] - 0s 6ms/step - loss: 213.4783 - mae: 213.4783\n",
            "Epoch 64/100\n",
            "5/5 [==============================] - 0s 5ms/step - loss: 214.2930 - mae: 214.2930\n",
            "Epoch 65/100\n",
            "5/5 [==============================] - 0s 6ms/step - loss: 211.0939 - mae: 211.0939\n",
            "Epoch 66/100\n",
            "5/5 [==============================] - 0s 4ms/step - loss: 212.5048 - mae: 212.5048\n",
            "Epoch 67/100\n",
            "5/5 [==============================] - 0s 4ms/step - loss: 214.8205 - mae: 214.8205\n",
            "Epoch 68/100\n",
            "5/5 [==============================] - 0s 6ms/step - loss: 213.6704 - mae: 213.6704\n",
            "Epoch 69/100\n",
            "5/5 [==============================] - 0s 5ms/step - loss: 210.9178 - mae: 210.9178\n",
            "Epoch 70/100\n",
            "5/5 [==============================] - 0s 5ms/step - loss: 211.0855 - mae: 211.0855\n",
            "Epoch 71/100\n",
            "5/5 [==============================] - 0s 5ms/step - loss: 217.0199 - mae: 217.0199\n",
            "Epoch 72/100\n",
            "5/5 [==============================] - 0s 4ms/step - loss: 213.8116 - mae: 213.8116\n",
            "Epoch 73/100\n",
            "5/5 [==============================] - 0s 4ms/step - loss: 214.5765 - mae: 214.5765\n",
            "Epoch 74/100\n",
            "5/5 [==============================] - 0s 4ms/step - loss: 214.2420 - mae: 214.2420\n",
            "Epoch 75/100\n",
            "5/5 [==============================] - 0s 5ms/step - loss: 213.0901 - mae: 213.0901\n",
            "Epoch 76/100\n",
            "5/5 [==============================] - 0s 4ms/step - loss: 212.3433 - mae: 212.3433\n",
            "Epoch 77/100\n",
            "5/5 [==============================] - 0s 4ms/step - loss: 206.0980 - mae: 206.0980\n",
            "Epoch 78/100\n",
            "5/5 [==============================] - 0s 4ms/step - loss: 205.9574 - mae: 205.9574\n",
            "Epoch 79/100\n",
            "5/5 [==============================] - 0s 5ms/step - loss: 206.8114 - mae: 206.8114\n",
            "Epoch 80/100\n",
            "5/5 [==============================] - 0s 4ms/step - loss: 204.1473 - mae: 204.1473\n",
            "Epoch 81/100\n",
            "5/5 [==============================] - 0s 4ms/step - loss: 205.9603 - mae: 205.9603\n",
            "Epoch 82/100\n",
            "5/5 [==============================] - 0s 4ms/step - loss: 204.7641 - mae: 204.7641\n",
            "Epoch 83/100\n",
            "5/5 [==============================] - 0s 4ms/step - loss: 205.7696 - mae: 205.7696\n",
            "Epoch 84/100\n",
            "5/5 [==============================] - 0s 4ms/step - loss: 204.6231 - mae: 204.6231\n",
            "Epoch 85/100\n",
            "5/5 [==============================] - 0s 4ms/step - loss: 203.0612 - mae: 203.0612\n",
            "Epoch 86/100\n",
            "5/5 [==============================] - 0s 4ms/step - loss: 203.9966 - mae: 203.9966\n",
            "Epoch 87/100\n",
            "5/5 [==============================] - 0s 4ms/step - loss: 205.8663 - mae: 205.8663\n",
            "Epoch 88/100\n",
            "5/5 [==============================] - 0s 4ms/step - loss: 209.9440 - mae: 209.9440\n",
            "Epoch 89/100\n",
            "5/5 [==============================] - 0s 4ms/step - loss: 203.9848 - mae: 203.9848\n",
            "Epoch 90/100\n",
            "5/5 [==============================] - 0s 5ms/step - loss: 201.0070 - mae: 201.0070\n",
            "Epoch 91/100\n",
            "5/5 [==============================] - 0s 4ms/step - loss: 204.7947 - mae: 204.7947\n",
            "Epoch 92/100\n",
            "5/5 [==============================] - 0s 4ms/step - loss: 202.3805 - mae: 202.3805\n",
            "Epoch 93/100\n",
            "5/5 [==============================] - 0s 5ms/step - loss: 204.8130 - mae: 204.8130\n",
            "Epoch 94/100\n",
            "5/5 [==============================] - 0s 4ms/step - loss: 202.8021 - mae: 202.8021\n",
            "Epoch 95/100\n",
            "5/5 [==============================] - 0s 4ms/step - loss: 205.3654 - mae: 205.3654\n",
            "Epoch 96/100\n",
            "5/5 [==============================] - 0s 4ms/step - loss: 201.8322 - mae: 201.8322\n",
            "Epoch 97/100\n",
            "5/5 [==============================] - 0s 4ms/step - loss: 200.5471 - mae: 200.5471\n",
            "Epoch 98/100\n",
            "5/5 [==============================] - 0s 4ms/step - loss: 201.1076 - mae: 201.1076\n",
            "Epoch 99/100\n",
            "5/5 [==============================] - 0s 4ms/step - loss: 198.8647 - mae: 198.8647\n",
            "Epoch 100/100\n",
            "5/5 [==============================] - 0s 4ms/step - loss: 202.1778 - mae: 202.1778\n"
          ]
        },
        {
          "output_type": "execute_result",
          "data": {
            "text/plain": [
              "<keras.src.callbacks.History at 0x79a665c4fe20>"
            ]
          },
          "metadata": {},
          "execution_count": 47
        }
      ]
    },
    {
      "cell_type": "markdown",
      "source": [
        "Oh wait... we compiled our model for a binary classification problem.\n",
        "But... we're now working on a regression problem, let's change the model to suit our data."
      ],
      "metadata": {
        "id": "izoPeZtiTkf6"
      }
    },
    {
      "cell_type": "code",
      "source": [
        "# Setup random seed\n",
        "tf.random.set_seed(42)\n",
        "\n",
        "# 1. Create the model\n",
        "model_3 = tf.keras.Sequential([\n",
        "  tf.keras.layers.Dense(100, input_shape=(None, 1)),\n",
        "  tf.keras.layers.Dense(10),\n",
        "  tf.keras.layers.Dense(1)\n",
        "])\n",
        "\n",
        "# 2. Compile the model, this time with a regression-specific loss function\n",
        "model_3.compile(loss=tf.keras.losses.mae,\n",
        "                optimizer=tf.keras.optimizers.Adam(),\n",
        "                metrics=[\"mae\"])\n",
        "\n",
        "# 3. Fit the model\n",
        "model_3.fit(tf.expand_dims(X_reg_train, axis=-1), y_reg_train, epochs=100)"
      ],
      "metadata": {
        "colab": {
          "base_uri": "https://localhost:8080/"
        },
        "id": "bdZ4GQXtR9J1",
        "outputId": "3f4e129a-9925-4738-dcd9-82b869d16550"
      },
      "execution_count": 48,
      "outputs": [
        {
          "output_type": "stream",
          "name": "stdout",
          "text": [
            "Epoch 1/100\n",
            "5/5 [==============================] - 1s 5ms/step - loss: 524.0397 - mae: 524.0397\n",
            "Epoch 2/100\n",
            "5/5 [==============================] - 0s 4ms/step - loss: 413.4830 - mae: 413.4830\n",
            "Epoch 3/100\n",
            "5/5 [==============================] - 0s 4ms/step - loss: 326.0825 - mae: 326.0825\n",
            "Epoch 4/100\n",
            "5/5 [==============================] - 0s 4ms/step - loss: 272.5539 - mae: 272.5539\n",
            "Epoch 5/100\n",
            "5/5 [==============================] - 0s 4ms/step - loss: 257.5453 - mae: 257.5453\n",
            "Epoch 6/100\n",
            "5/5 [==============================] - 0s 5ms/step - loss: 260.2410 - mae: 260.2410\n",
            "Epoch 7/100\n",
            "5/5 [==============================] - 0s 5ms/step - loss: 260.2598 - mae: 260.2598\n",
            "Epoch 8/100\n",
            "5/5 [==============================] - 0s 4ms/step - loss: 257.2068 - mae: 257.2068\n",
            "Epoch 9/100\n",
            "5/5 [==============================] - 0s 4ms/step - loss: 260.8662 - mae: 260.8662\n",
            "Epoch 10/100\n",
            "5/5 [==============================] - 0s 5ms/step - loss: 256.6923 - mae: 256.6923\n",
            "Epoch 11/100\n",
            "5/5 [==============================] - 0s 5ms/step - loss: 257.8415 - mae: 257.8415\n",
            "Epoch 12/100\n",
            "5/5 [==============================] - 0s 4ms/step - loss: 256.6429 - mae: 256.6429\n",
            "Epoch 13/100\n",
            "5/5 [==============================] - 0s 4ms/step - loss: 258.8390 - mae: 258.8390\n",
            "Epoch 14/100\n",
            "5/5 [==============================] - 0s 4ms/step - loss: 261.1280 - mae: 261.1280\n",
            "Epoch 15/100\n",
            "5/5 [==============================] - 0s 4ms/step - loss: 252.8824 - mae: 252.8824\n",
            "Epoch 16/100\n",
            "5/5 [==============================] - 0s 4ms/step - loss: 259.0633 - mae: 259.0633\n",
            "Epoch 17/100\n",
            "5/5 [==============================] - 0s 4ms/step - loss: 258.2224 - mae: 258.2224\n",
            "Epoch 18/100\n",
            "5/5 [==============================] - 0s 4ms/step - loss: 260.7785 - mae: 260.7785\n",
            "Epoch 19/100\n",
            "5/5 [==============================] - 0s 4ms/step - loss: 259.3274 - mae: 259.3274\n",
            "Epoch 20/100\n",
            "5/5 [==============================] - 0s 5ms/step - loss: 256.3716 - mae: 256.3716\n",
            "Epoch 21/100\n",
            "5/5 [==============================] - 0s 5ms/step - loss: 259.2050 - mae: 259.2050\n",
            "Epoch 22/100\n",
            "5/5 [==============================] - 0s 5ms/step - loss: 257.0513 - mae: 257.0513\n",
            "Epoch 23/100\n",
            "5/5 [==============================] - 0s 4ms/step - loss: 253.9369 - mae: 253.9369\n",
            "Epoch 24/100\n",
            "5/5 [==============================] - 0s 4ms/step - loss: 253.9525 - mae: 253.9525\n",
            "Epoch 25/100\n",
            "5/5 [==============================] - 0s 7ms/step - loss: 259.8916 - mae: 259.8916\n",
            "Epoch 26/100\n",
            "5/5 [==============================] - 0s 3ms/step - loss: 256.2725 - mae: 256.2725\n",
            "Epoch 27/100\n",
            "5/5 [==============================] - 0s 4ms/step - loss: 258.7005 - mae: 258.7005\n",
            "Epoch 28/100\n",
            "5/5 [==============================] - 0s 3ms/step - loss: 255.3170 - mae: 255.3170\n",
            "Epoch 29/100\n",
            "5/5 [==============================] - 0s 3ms/step - loss: 258.5828 - mae: 258.5828\n",
            "Epoch 30/100\n",
            "5/5 [==============================] - 0s 3ms/step - loss: 254.6604 - mae: 254.6604\n",
            "Epoch 31/100\n",
            "5/5 [==============================] - 0s 3ms/step - loss: 258.7552 - mae: 258.7552\n",
            "Epoch 32/100\n",
            "5/5 [==============================] - 0s 4ms/step - loss: 258.7494 - mae: 258.7494\n",
            "Epoch 33/100\n",
            "5/5 [==============================] - 0s 3ms/step - loss: 256.3139 - mae: 256.3139\n",
            "Epoch 34/100\n",
            "5/5 [==============================] - 0s 3ms/step - loss: 257.9887 - mae: 257.9887\n",
            "Epoch 35/100\n",
            "5/5 [==============================] - 0s 3ms/step - loss: 255.7022 - mae: 255.7022\n",
            "Epoch 36/100\n",
            "5/5 [==============================] - 0s 3ms/step - loss: 257.7528 - mae: 257.7528\n",
            "Epoch 37/100\n",
            "5/5 [==============================] - 0s 3ms/step - loss: 258.4077 - mae: 258.4077\n",
            "Epoch 38/100\n",
            "5/5 [==============================] - 0s 4ms/step - loss: 260.2542 - mae: 260.2542\n",
            "Epoch 39/100\n",
            "5/5 [==============================] - 0s 4ms/step - loss: 258.7650 - mae: 258.7650\n",
            "Epoch 40/100\n",
            "5/5 [==============================] - 0s 3ms/step - loss: 256.2397 - mae: 256.2397\n",
            "Epoch 41/100\n",
            "5/5 [==============================] - 0s 3ms/step - loss: 260.8006 - mae: 260.8006\n",
            "Epoch 42/100\n",
            "5/5 [==============================] - 0s 4ms/step - loss: 260.0255 - mae: 260.0255\n",
            "Epoch 43/100\n",
            "5/5 [==============================] - 0s 3ms/step - loss: 259.6867 - mae: 259.6867\n",
            "Epoch 44/100\n",
            "5/5 [==============================] - 0s 4ms/step - loss: 258.2263 - mae: 258.2263\n",
            "Epoch 45/100\n",
            "5/5 [==============================] - 0s 3ms/step - loss: 260.3937 - mae: 260.3937\n",
            "Epoch 46/100\n",
            "5/5 [==============================] - 0s 4ms/step - loss: 256.0218 - mae: 256.0218\n",
            "Epoch 47/100\n",
            "5/5 [==============================] - 0s 3ms/step - loss: 257.6277 - mae: 257.6277\n",
            "Epoch 48/100\n",
            "5/5 [==============================] - 0s 3ms/step - loss: 259.0917 - mae: 259.0917\n",
            "Epoch 49/100\n",
            "5/5 [==============================] - 0s 4ms/step - loss: 255.7876 - mae: 255.7876\n",
            "Epoch 50/100\n",
            "5/5 [==============================] - 0s 4ms/step - loss: 257.2605 - mae: 257.2605\n",
            "Epoch 51/100\n",
            "5/5 [==============================] - 0s 3ms/step - loss: 257.8588 - mae: 257.8588\n",
            "Epoch 52/100\n",
            "5/5 [==============================] - 0s 3ms/step - loss: 259.9293 - mae: 259.9293\n",
            "Epoch 53/100\n",
            "5/5 [==============================] - 0s 3ms/step - loss: 258.7444 - mae: 258.7444\n",
            "Epoch 54/100\n",
            "5/5 [==============================] - 0s 3ms/step - loss: 260.2936 - mae: 260.2936\n",
            "Epoch 55/100\n",
            "5/5 [==============================] - 0s 3ms/step - loss: 256.9568 - mae: 256.9568\n",
            "Epoch 56/100\n",
            "5/5 [==============================] - 0s 3ms/step - loss: 253.1196 - mae: 253.1196\n",
            "Epoch 57/100\n",
            "5/5 [==============================] - 0s 3ms/step - loss: 256.7098 - mae: 256.7098\n",
            "Epoch 58/100\n",
            "5/5 [==============================] - 0s 3ms/step - loss: 259.1956 - mae: 259.1956\n",
            "Epoch 59/100\n",
            "5/5 [==============================] - 0s 4ms/step - loss: 259.9212 - mae: 259.9212\n",
            "Epoch 60/100\n",
            "5/5 [==============================] - 0s 3ms/step - loss: 259.8185 - mae: 259.8185\n",
            "Epoch 61/100\n",
            "5/5 [==============================] - 0s 4ms/step - loss: 256.1138 - mae: 256.1138\n",
            "Epoch 62/100\n",
            "5/5 [==============================] - 0s 4ms/step - loss: 258.4008 - mae: 258.4008\n",
            "Epoch 63/100\n",
            "5/5 [==============================] - 0s 4ms/step - loss: 257.6119 - mae: 257.6119\n",
            "Epoch 64/100\n",
            "5/5 [==============================] - 0s 3ms/step - loss: 259.2319 - mae: 259.2319\n",
            "Epoch 65/100\n",
            "5/5 [==============================] - 0s 3ms/step - loss: 254.3766 - mae: 254.3766\n",
            "Epoch 66/100\n",
            "5/5 [==============================] - 0s 3ms/step - loss: 252.2109 - mae: 252.2109\n",
            "Epoch 67/100\n",
            "5/5 [==============================] - 0s 3ms/step - loss: 258.2600 - mae: 258.2600\n",
            "Epoch 68/100\n",
            "5/5 [==============================] - 0s 4ms/step - loss: 258.9857 - mae: 258.9857\n",
            "Epoch 69/100\n",
            "5/5 [==============================] - 0s 4ms/step - loss: 256.5108 - mae: 256.5108\n",
            "Epoch 70/100\n",
            "5/5 [==============================] - 0s 3ms/step - loss: 253.9748 - mae: 253.9748\n",
            "Epoch 71/100\n",
            "5/5 [==============================] - 0s 3ms/step - loss: 258.3250 - mae: 258.3250\n",
            "Epoch 72/100\n",
            "5/5 [==============================] - 0s 3ms/step - loss: 257.8980 - mae: 257.8980\n",
            "Epoch 73/100\n",
            "5/5 [==============================] - 0s 3ms/step - loss: 258.9723 - mae: 258.9723\n",
            "Epoch 74/100\n",
            "5/5 [==============================] - 0s 3ms/step - loss: 257.9820 - mae: 257.9820\n",
            "Epoch 75/100\n",
            "5/5 [==============================] - 0s 3ms/step - loss: 255.3002 - mae: 255.3002\n",
            "Epoch 76/100\n",
            "5/5 [==============================] - 0s 3ms/step - loss: 259.6730 - mae: 259.6730\n",
            "Epoch 77/100\n",
            "5/5 [==============================] - 0s 3ms/step - loss: 250.8273 - mae: 250.8273\n",
            "Epoch 78/100\n",
            "5/5 [==============================] - 0s 3ms/step - loss: 255.4298 - mae: 255.4298\n",
            "Epoch 79/100\n",
            "5/5 [==============================] - 0s 3ms/step - loss: 256.7346 - mae: 256.7346\n",
            "Epoch 80/100\n",
            "5/5 [==============================] - 0s 3ms/step - loss: 253.3134 - mae: 253.3134\n",
            "Epoch 81/100\n",
            "5/5 [==============================] - 0s 3ms/step - loss: 257.2969 - mae: 257.2969\n",
            "Epoch 82/100\n",
            "5/5 [==============================] - 0s 3ms/step - loss: 255.9812 - mae: 255.9812\n",
            "Epoch 83/100\n",
            "5/5 [==============================] - 0s 4ms/step - loss: 258.3984 - mae: 258.3984\n",
            "Epoch 84/100\n",
            "5/5 [==============================] - 0s 4ms/step - loss: 256.9242 - mae: 256.9242\n",
            "Epoch 85/100\n",
            "5/5 [==============================] - 0s 5ms/step - loss: 253.3598 - mae: 253.3598\n",
            "Epoch 86/100\n",
            "5/5 [==============================] - 0s 3ms/step - loss: 256.5142 - mae: 256.5142\n",
            "Epoch 87/100\n",
            "5/5 [==============================] - 0s 3ms/step - loss: 251.2675 - mae: 251.2675\n",
            "Epoch 88/100\n",
            "5/5 [==============================] - 0s 3ms/step - loss: 254.3561 - mae: 254.3561\n",
            "Epoch 89/100\n",
            "5/5 [==============================] - 0s 4ms/step - loss: 258.5016 - mae: 258.5016\n",
            "Epoch 90/100\n",
            "5/5 [==============================] - 0s 3ms/step - loss: 256.5242 - mae: 256.5242\n",
            "Epoch 91/100\n",
            "5/5 [==============================] - 0s 3ms/step - loss: 257.7638 - mae: 257.7638\n",
            "Epoch 92/100\n",
            "5/5 [==============================] - 0s 4ms/step - loss: 256.4376 - mae: 256.4376\n",
            "Epoch 93/100\n",
            "5/5 [==============================] - 0s 3ms/step - loss: 257.9158 - mae: 257.9158\n",
            "Epoch 94/100\n",
            "5/5 [==============================] - 0s 3ms/step - loss: 257.6585 - mae: 257.6585\n",
            "Epoch 95/100\n",
            "5/5 [==============================] - 0s 3ms/step - loss: 259.0037 - mae: 259.0037\n",
            "Epoch 96/100\n",
            "5/5 [==============================] - 0s 3ms/step - loss: 252.0952 - mae: 252.0952\n",
            "Epoch 97/100\n",
            "5/5 [==============================] - 0s 3ms/step - loss: 255.2906 - mae: 255.2906\n",
            "Epoch 98/100\n",
            "5/5 [==============================] - 0s 3ms/step - loss: 252.2155 - mae: 252.2155\n",
            "Epoch 99/100\n",
            "5/5 [==============================] - 0s 3ms/step - loss: 248.8710 - mae: 248.8710\n",
            "Epoch 100/100\n",
            "5/5 [==============================] - 0s 6ms/step - loss: 257.5997 - mae: 257.5997\n"
          ]
        },
        {
          "output_type": "execute_result",
          "data": {
            "text/plain": [
              "<keras.src.callbacks.History at 0x79a6659163e0>"
            ]
          },
          "metadata": {},
          "execution_count": 48
        }
      ]
    },
    {
      "cell_type": "code",
      "source": [
        "# Make predictions with our trained model\n",
        "y_reg_preds = model_3.predict(tf.expand_dims(X_reg_test, axis=-1))\n",
        "\n",
        "# Plot the model's predictions against our regression data\n",
        "plt.figure(figsize=(10, 7))\n",
        "plt.scatter(X_reg_train, y_reg_train, c=\"b\", label=\"Training data\")\n",
        "plt.scatter(X_reg_test, y_reg_test, c=\"g\", label=\"Test data\")\n",
        "plt.scatter(X_reg_test, y_reg_preds, c=\"r\", label=\"Predictions\")\n",
        "plt.legend();"
      ],
      "metadata": {
        "colab": {
          "base_uri": "https://localhost:8080/",
          "height": 616
        },
        "id": "bEaMZAf1UkaD",
        "outputId": "01e3e9d1-89c8-4a2d-f52c-76aa0160f4ea"
      },
      "execution_count": 49,
      "outputs": [
        {
          "output_type": "stream",
          "name": "stdout",
          "text": [
            "2/2 [==============================] - 0s 9ms/step\n"
          ]
        },
        {
          "output_type": "display_data",
          "data": {
            "text/plain": [
              "<Figure size 1000x700 with 1 Axes>"
            ],
            "image/png": "[encoded data removed]"
          },
          "metadata": {}
        }
      ]
    },
    {
      "cell_type": "markdown",
      "source": [
        "## The missing piece: Non-linearity"
      ],
      "metadata": {
        "id": "qOoQxnaqVba7"
      }
    }
  ]
}