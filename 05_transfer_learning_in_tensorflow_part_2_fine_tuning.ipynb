{
  "nbformat": 4,
  "nbformat_minor": 0,
  "metadata": {
    "colab": {
      "provenance": [],
      "gpuType": "T4",
      "authorship_tag": "ABX9TyN+dmZfRN+4Pf4gU0jF7VWM",
      "include_colab_link": true
    },
    "kernelspec": {
      "name": "python3",
      "display_name": "Python 3"
    },
    "language_info": {
      "name": "python"
    },
    "accelerator": "GPU"
  },
  "cells": [
    {
      "cell_type": "markdown",
      "metadata": {
        "id": "view-in-github",
        "colab_type": "text"
      },
      "source": [
        "<a href=\"https://colab.research.google.com/github/mjaliz/tfztm/blob/main/05_transfer_learning_in_tensorflow_part_2_fine_tuning.ipynb\" target=\"_parent\"><img src=\"https://colab.research.google.com/assets/colab-badge.svg\" alt=\"Open In Colab\"/></a>"
      ]
    },
    {
      "cell_type": "markdown",
      "source": [
        "# Transfer Learning with TensorFlow Part 2: Fine-tuning"
      ],
      "metadata": {
        "id": "PbDgSp7tDQK6"
      }
    },
    {
      "cell_type": "code",
      "source": [
        "# Check if we're using a GPU\n",
        "!nvidia-smi"
      ],
      "metadata": {
        "colab": {
          "base_uri": "https://localhost:8080/"
        },
        "id": "ObZ5Ns1sELqf",
        "outputId": "2065fd63-c984-49ca-9268-4514c54e5127"
      },
      "execution_count": 2,
      "outputs": [
        {
          "output_type": "stream",
          "name": "stdout",
          "text": [
            "Tue Sep 26 15:19:08 2023       \n",
            "+-----------------------------------------------------------------------------+\n",
            "| NVIDIA-SMI 525.105.17   Driver Version: 525.105.17   CUDA Version: 12.0     |\n",
            "|-------------------------------+----------------------+----------------------+\n",
            "| GPU  Name        Persistence-M| Bus-Id        Disp.A | Volatile Uncorr. ECC |\n",
            "| Fan  Temp  Perf  Pwr:Usage/Cap|         Memory-Usage | GPU-Util  Compute M. |\n",
            "|                               |                      |               MIG M. |\n",
            "|===============================+======================+======================|\n",
            "|   0  Tesla T4            Off  | 00000000:00:04.0 Off |                    0 |\n",
            "| N/A   46C    P8     9W /  70W |      0MiB / 15360MiB |      0%      Default |\n",
            "|                               |                      |                  N/A |\n",
            "+-------------------------------+----------------------+----------------------+\n",
            "                                                                               \n",
            "+-----------------------------------------------------------------------------+\n",
            "| Processes:                                                                  |\n",
            "|  GPU   GI   CI        PID   Type   Process name                  GPU Memory |\n",
            "|        ID   ID                                                   Usage      |\n",
            "|=============================================================================|\n",
            "|  No running processes found                                                 |\n",
            "+-----------------------------------------------------------------------------+\n"
          ]
        }
      ]
    },
    {
      "cell_type": "code",
      "source": [
        "!wget https://raw.githubusercontent.com/mrdbourke/tensorflow-deep-learning/main/extras/helper_functions.py"
      ],
      "metadata": {
        "colab": {
          "base_uri": "https://localhost:8080/"
        },
        "id": "FCRgoLdUEkYr",
        "outputId": "4259d1a9-ec5e-47ca-986c-6c7c595f36ba"
      },
      "execution_count": 5,
      "outputs": [
        {
          "output_type": "stream",
          "name": "stdout",
          "text": [
            "--2023-09-26 15:30:12--  https://raw.githubusercontent.com/mrdbourke/tensorflow-deep-learning/main/extras/helper_functions.py\n",
            "Resolving raw.githubusercontent.com (raw.githubusercontent.com)... 185.199.108.133, 185.199.109.133, 185.199.111.133, ...\n",
            "Connecting to raw.githubusercontent.com (raw.githubusercontent.com)|185.199.108.133|:443... connected.\n",
            "HTTP request sent, awaiting response... 200 OK\n",
            "Length: 10246 (10K) [text/plain]\n",
            "Saving to: ‘helper_functions.py’\n",
            "\n",
            "\rhelper_functions.py   0%[                    ]       0  --.-KB/s               \rhelper_functions.py 100%[===================>]  10.01K  --.-KB/s    in 0s      \n",
            "\n",
            "2023-09-26 15:30:12 (71.1 MB/s) - ‘helper_functions.py’ saved [10246/10246]\n",
            "\n"
          ]
        }
      ]
    },
    {
      "cell_type": "code",
      "source": [
        "# Import helper functions we're going to use in this notebook\n",
        "from helper_functions import create_tensorboard_callback, plot_loss_curves, unzip_data, walk_through_dir"
      ],
      "metadata": {
        "id": "gsim6WwJGXcQ"
      },
      "execution_count": 6,
      "outputs": []
    },
    {
      "cell_type": "markdown",
      "source": [
        "# Let's get some data"
      ],
      "metadata": {
        "id": "cdIHZ5RXG22p"
      }
    },
    {
      "cell_type": "code",
      "source": [
        "# Get 10 % of training data of 10 classes of Food101\n",
        "!wget https://storage.googleapis.com/ztm_tf_course/food_vision/10_food_classes_10_percent.zip\n",
        "\n",
        "unzip_data(\"10_food_classes_10_percent.zip\")"
      ],
      "metadata": {
        "colab": {
          "base_uri": "https://localhost:8080/"
        },
        "id": "NuubR2r-IcKr",
        "outputId": "e8952d9e-dd0f-438e-933b-b89a1cd92198"
      },
      "execution_count": 8,
      "outputs": [
        {
          "output_type": "stream",
          "name": "stdout",
          "text": [
            "--2023-09-26 15:39:37--  https://storage.googleapis.com/ztm_tf_course/food_vision/10_food_classes_10_percent.zip\n",
            "Resolving storage.googleapis.com (storage.googleapis.com)... 142.250.159.207, 142.251.120.207, 142.251.161.207, ...\n",
            "Connecting to storage.googleapis.com (storage.googleapis.com)|142.250.159.207|:443... connected.\n",
            "HTTP request sent, awaiting response... 200 OK\n",
            "Length: 168546183 (161M) [application/zip]\n",
            "Saving to: ‘10_food_classes_10_percent.zip’\n",
            "\n",
            "10_food_classes_10_ 100%[===================>] 160.74M   262MB/s    in 0.6s    \n",
            "\n",
            "2023-09-26 15:39:38 (262 MB/s) - ‘10_food_classes_10_percent.zip’ saved [168546183/168546183]\n",
            "\n"
          ]
        }
      ]
    },
    {
      "cell_type": "code",
      "source": [
        "# Check out how many iamges and subdirectories are in our dataset\n",
        "walk_through_dir(\"10_food_classes_10_percent\")"
      ],
      "metadata": {
        "colab": {
          "base_uri": "https://localhost:8080/"
        },
        "id": "Ps7E9J1LJWUG",
        "outputId": "e0ba5b4f-28fb-4d13-e651-88c365023861"
      },
      "execution_count": 9,
      "outputs": [
        {
          "output_type": "stream",
          "name": "stdout",
          "text": [
            "There are 2 directories and 0 images in '10_food_classes_10_percent'.\n",
            "There are 10 directories and 0 images in '10_food_classes_10_percent/train'.\n",
            "There are 0 directories and 75 images in '10_food_classes_10_percent/train/sushi'.\n",
            "There are 0 directories and 75 images in '10_food_classes_10_percent/train/steak'.\n",
            "There are 0 directories and 75 images in '10_food_classes_10_percent/train/grilled_salmon'.\n",
            "There are 0 directories and 75 images in '10_food_classes_10_percent/train/fried_rice'.\n",
            "There are 0 directories and 75 images in '10_food_classes_10_percent/train/hamburger'.\n",
            "There are 0 directories and 75 images in '10_food_classes_10_percent/train/chicken_curry'.\n",
            "There are 0 directories and 75 images in '10_food_classes_10_percent/train/pizza'.\n",
            "There are 0 directories and 75 images in '10_food_classes_10_percent/train/ice_cream'.\n",
            "There are 0 directories and 75 images in '10_food_classes_10_percent/train/chicken_wings'.\n",
            "There are 0 directories and 75 images in '10_food_classes_10_percent/train/ramen'.\n",
            "There are 10 directories and 0 images in '10_food_classes_10_percent/test'.\n",
            "There are 0 directories and 250 images in '10_food_classes_10_percent/test/sushi'.\n",
            "There are 0 directories and 250 images in '10_food_classes_10_percent/test/steak'.\n",
            "There are 0 directories and 250 images in '10_food_classes_10_percent/test/grilled_salmon'.\n",
            "There are 0 directories and 250 images in '10_food_classes_10_percent/test/fried_rice'.\n",
            "There are 0 directories and 250 images in '10_food_classes_10_percent/test/hamburger'.\n",
            "There are 0 directories and 250 images in '10_food_classes_10_percent/test/chicken_curry'.\n",
            "There are 0 directories and 250 images in '10_food_classes_10_percent/test/pizza'.\n",
            "There are 0 directories and 250 images in '10_food_classes_10_percent/test/ice_cream'.\n",
            "There are 0 directories and 250 images in '10_food_classes_10_percent/test/chicken_wings'.\n",
            "There are 0 directories and 250 images in '10_food_classes_10_percent/test/ramen'.\n"
          ]
        }
      ]
    },
    {
      "cell_type": "code",
      "source": [
        "# Create training and test directory paths\n",
        "train_dir = \"10_food_classes_10_percent/train\"\n",
        "test_dir = \"10_food_classes_10_percent/test\""
      ],
      "metadata": {
        "id": "2udj1xViJlfo"
      },
      "execution_count": 10,
      "outputs": []
    },
    {
      "cell_type": "code",
      "source": [
        "import tensorflow as tf\n",
        "\n",
        "IMG_SIZE = (224, 224)\n",
        "BATCH_SIZE = 32\n",
        "\n",
        "train_data_10_percent = tf.keras.utils.image_dataset_from_directory(directory=train_dir,\n",
        "                                                                    image_size=IMG_SIZE,\n",
        "                                                                    label_mode=\"categorical\",\n",
        "                                                                    batch_size=BATCH_SIZE)\n",
        "\n",
        "test_data = tf.keras.utils.image_dataset_from_directory(directory=test_dir,\n",
        "                                                        image_size=IMG_SIZE,\n",
        "                                                        label_mode=\"categorical\",\n",
        "                                                        batch_size=BATCH_SIZE)"
      ],
      "metadata": {
        "colab": {
          "base_uri": "https://localhost:8080/"
        },
        "id": "OewyrFLRKG5-",
        "outputId": "9ff940b6-fd2c-48aa-d7d8-facbc580761b"
      },
      "execution_count": 11,
      "outputs": [
        {
          "output_type": "stream",
          "name": "stdout",
          "text": [
            "Found 750 files belonging to 10 classes.\n",
            "Found 2500 files belonging to 10 classes.\n"
          ]
        }
      ]
    },
    {
      "cell_type": "code",
      "source": [
        "train_data_10_percent"
      ],
      "metadata": {
        "colab": {
          "base_uri": "https://localhost:8080/"
        },
        "id": "DN-Yh9vJL_zC",
        "outputId": "a4c20d5e-a309-4570-8b5d-d7919a734076"
      },
      "execution_count": 12,
      "outputs": [
        {
          "output_type": "execute_result",
          "data": {
            "text/plain": [
              "<_BatchDataset element_spec=(TensorSpec(shape=(None, 224, 224, 3), dtype=tf.float32, name=None), TensorSpec(shape=(None, 10), dtype=tf.float32, name=None))>"
            ]
          },
          "metadata": {},
          "execution_count": 12
        }
      ]
    },
    {
      "cell_type": "code",
      "source": [
        "# Check out the class names of our dataset\n",
        "train_data_10_percent.class_names"
      ],
      "metadata": {
        "colab": {
          "base_uri": "https://localhost:8080/"
        },
        "id": "jH4zMSzPPlVq",
        "outputId": "c7b6bedb-895e-4155-f68b-13d72b691547"
      },
      "execution_count": 13,
      "outputs": [
        {
          "output_type": "execute_result",
          "data": {
            "text/plain": [
              "['chicken_curry',\n",
              " 'chicken_wings',\n",
              " 'fried_rice',\n",
              " 'grilled_salmon',\n",
              " 'hamburger',\n",
              " 'ice_cream',\n",
              " 'pizza',\n",
              " 'ramen',\n",
              " 'steak',\n",
              " 'sushi']"
            ]
          },
          "metadata": {},
          "execution_count": 13
        }
      ]
    },
    {
      "cell_type": "code",
      "source": [
        "# See an example of a batch of data\n",
        "for images, labels in train_data_10_percent.take(1):\n",
        "  print(images, labels)"
      ],
      "metadata": {
        "colab": {
          "base_uri": "https://localhost:8080/"
        },
        "id": "UlmaAC4HP9d6",
        "outputId": "5e7476d1-646d-47b3-8358-9803459d44e5"
      },
      "execution_count": 14,
      "outputs": [
        {
          "output_type": "stream",
          "name": "stdout",
          "text": [
            "tf.Tensor(\n",
            "[[[[106.21938    66.29081    21.219387 ]\n",
            "   [ 75.10714    33.249996    3.8775506]\n",
            "   [116.65817    71.43878    36.566334 ]\n",
            "   ...\n",
            "   [167.11252   104.03599    36.255325 ]\n",
            "   [190.95396   125.122314   56.953915 ]\n",
            "   [164.06577    94.22388    25.530066 ]]\n",
            "\n",
            "  [[ 98.90306    50.188774   10.887752 ]\n",
            "   [110.719406   58.076546   25.005117 ]\n",
            "   [178.62755   124.897964   87.255104 ]\n",
            "   ...\n",
            "   [163.55092   101.29584    24.295877 ]\n",
            "   [133.31117    73.16322     3.5102139]\n",
            "   [140.05634    79.699196   16.816578 ]]\n",
            "\n",
            "  [[163.90816   108.122444   58.556114 ]\n",
            "   [144.17857    85.52041    43.56122  ]\n",
            "   [126.86224    64.03061    21.056122 ]\n",
            "   ...\n",
            "   [168.48419   103.96381    13.775132 ]\n",
            "   [138.80093    82.67339     8.887798 ]\n",
            "   [136.74022    85.17393    28.39854  ]]\n",
            "\n",
            "  ...\n",
            "\n",
            "  [[250.78574   238.29085   157.85202  ]\n",
            "   [251.72961   238.72961   159.94388  ]\n",
            "   [250.78572   238.12245   159.16835  ]\n",
            "   ...\n",
            "   [251.61739   226.73982   137.21426  ]\n",
            "   [252.94386   228.94386   139.37239  ]\n",
            "   [251.85709   227.85709   138.28561  ]]\n",
            "\n",
            "  [[249.92856   237.92856   153.92856  ]\n",
            "   [250.85713   238.85713   154.85713  ]\n",
            "   [249.71428   237.92856   155.8163   ]\n",
            "   ...\n",
            "   [250.        225.0153    131.96939  ]\n",
            "   [249.92856   224.92856   132.92856  ]\n",
            "   [248.        224.        134.       ]]\n",
            "\n",
            "  [[248.77042   236.77042   150.77042  ]\n",
            "   [249.33167   237.33167   151.33167  ]\n",
            "   [248.78572   237.21428   153.       ]\n",
            "   ...\n",
            "   [250.35718   225.57144   131.77559  ]\n",
            "   [250.35718   225.35718   133.35718  ]\n",
            "   [250.71436   225.71436   135.71436  ]]]\n",
            "\n",
            "\n",
            " [[[ 22.         12.         10.       ]\n",
            "   [ 21.714285   11.714286    9.714286 ]\n",
            "   [ 23.061224   11.846939   10.275511 ]\n",
            "   ...\n",
            "   [138.7755     67.775505   25.346975 ]\n",
            "   [140.1633     69.16329    27.163296 ]\n",
            "   [141.80098    69.80097    29.800974 ]]\n",
            "\n",
            "  [[ 20.760202   10.760204    8.760204 ]\n",
            "   [ 18.071428    8.071428    6.0714283]\n",
            "   [ 23.642857   12.428572   10.857143 ]\n",
            "   ...\n",
            "   [132.44385    61.443855   19.443853 ]\n",
            "   [142.01022    71.010216   29.01022  ]\n",
            "   [141.45401    70.45401    28.454014 ]]\n",
            "\n",
            "  [[ 19.92347    10.137755    7.494898 ]\n",
            "   [ 22.142857   11.928572    9.5      ]\n",
            "   [ 23.551022   11.403061    9.785714 ]\n",
            "   ...\n",
            "   [133.21428    60.214287   19.214287 ]\n",
            "   [143.19894    70.19895    29.19895  ]\n",
            "   [139.29597    66.29597    25.295969 ]]\n",
            "\n",
            "  ...\n",
            "\n",
            "  [[124.29612    74.36744    44.867287 ]\n",
            "   [125.87277    74.158356   44.229675 ]\n",
            "   [131.11754    77.18886    47.045914 ]\n",
            "   ...\n",
            "   [148.57147    85.3113     41.571472 ]\n",
            "   [151.23978    89.35205    42.18365  ]\n",
            "   [151.16324    90.73471    40.948975 ]]\n",
            "\n",
            "  [[132.12242    78.19386    40.050976 ]\n",
            "   [136.70914    80.78057    43.637688 ]\n",
            "   [131.44382    73.41319    36.357063 ]\n",
            "   ...\n",
            "   [147.5612     86.7296     41.5612   ]\n",
            "   [146.48988    88.48988    38.489883 ]\n",
            "   [150.12227    93.12226    40.12226  ]]\n",
            "\n",
            "  [[130.77028    77.77028    37.770283 ]\n",
            "   [130.14268    77.142685   37.142685 ]\n",
            "   [126.79076    71.147896   32.362183 ]\n",
            "   ...\n",
            "   [142.07135    84.07135    36.499878 ]\n",
            "   [148.30614    92.37759    41.16326  ]\n",
            "   [146.89798    91.89797    37.897976 ]]]\n",
            "\n",
            "\n",
            " [[[ 39.933674   29.933672   27.933672 ]\n",
            "   [ 37.7449     28.938776   26.341837 ]\n",
            "   [ 37.642857   29.42857    28.071428 ]\n",
            "   ...\n",
            "   [163.19385   146.75508   128.47446  ]\n",
            "   [168.10211   155.245     136.17355  ]\n",
            "   [186.03615   176.79642   158.20966  ]]\n",
            "\n",
            "  [[ 51.341843   43.341843   40.341843 ]\n",
            "   [ 41.10204    33.10204    30.102041 ]\n",
            "   [ 38.5        33.285713   30.928572 ]\n",
            "   ...\n",
            "   [141.64275   122.7856    105.71417  ]\n",
            "   [139.79596   125.07149   106.07149  ]\n",
            "   [151.66858   136.92888   120.500275 ]]\n",
            "\n",
            "  [[ 47.367348   42.367348   38.367348 ]\n",
            "   [ 50.30102    45.72959    41.515305 ]\n",
            "   [ 36.862244   32.862244   30.290815 ]\n",
            "   ...\n",
            "   [137.13765   115.70908    99.26011  ]\n",
            "   [123.1021    103.61743    88.76028  ]\n",
            "   [140.41356   121.56159   106.4187   ]]\n",
            "\n",
            "  ...\n",
            "\n",
            "  [[218.        213.        193.       ]\n",
            "   [218.        213.        191.       ]\n",
            "   [216.90817   211.52554   189.52554  ]\n",
            "   ...\n",
            "   [ 52.260174   34.168354   23.785736 ]\n",
            "   [ 47.285645   30.101995   19.65816  ]\n",
            "   [ 44.943764   28.99997    18.07653  ]]\n",
            "\n",
            "  [[217.35715   215.35715   194.35715  ]\n",
            "   [217.00508   212.00508   190.00508  ]\n",
            "   [214.        208.78572   186.78572  ]\n",
            "   ...\n",
            "   [ 50.785675   33.58672    25.15819  ]\n",
            "   [ 43.857117   27.275558   19.13778  ]\n",
            "   [ 45.571472   31.974575   22.974575 ]]\n",
            "\n",
            "  [[217.35715   215.35715   194.35715  ]\n",
            "   [214.47452   212.47452   189.47452  ]\n",
            "   [215.43372   210.21944   188.21944  ]\n",
            "   ...\n",
            "   [ 52.14273    35.984673   27.704025 ]\n",
            "   [ 46.525547   32.92865    23.92865  ]\n",
            "   [ 43.18362    31.943956   22.357178 ]]]\n",
            "\n",
            "\n",
            " ...\n",
            "\n",
            "\n",
            " [[[ 34.872448   16.872448   16.872448 ]\n",
            "   [ 31.785713   15.785714   15.785714 ]\n",
            "   [ 28.77551    14.214286   13.494898 ]\n",
            "   ...\n",
            "   [210.00009   203.00009   185.42862  ]\n",
            "   [223.1174    216.1174    197.1174   ]\n",
            "   [235.00024   229.00024   207.00024  ]]\n",
            "\n",
            "  [[ 30.765305   14.765306   14.765306 ]\n",
            "   [ 28.214285   13.938776   13.07653  ]\n",
            "   [ 26.83163    13.428572   12.229592 ]\n",
            "   ...\n",
            "   [221.71437   214.71437   197.1429   ]\n",
            "   [233.0715    226.0715    207.0715   ]\n",
            "   [247.45425   241.45425   219.45425  ]]\n",
            "\n",
            "  [[ 25.933674   12.57653    11.362245 ]\n",
            "   [ 27.841837   16.67347    14.729592 ]\n",
            "   [ 25.571426   14.785714   12.785714 ]\n",
            "   ...\n",
            "   [240.73991   235.38277   219.16849  ]\n",
            "   [249.77048   245.19904   226.14291  ]\n",
            "   [255.        253.0612    233.2755   ]]\n",
            "\n",
            "  ...\n",
            "\n",
            "  [[204.25508   123.25508    32.04082  ]\n",
            "   [202.20406   121.63258    30.418318 ]\n",
            "   [197.2806    116.83158    26.091805 ]\n",
            "   ...\n",
            "   [189.26018   188.59688   194.42853  ]\n",
            "   [187.65816   186.7143    191.5459   ]\n",
            "   [185.21426   185.21426   187.21426  ]]\n",
            "\n",
            "  [[200.30103   115.82142    25.846937 ]\n",
            "   [199.21439   114.93884    27.07661  ]\n",
            "   [203.27046   122.05613    33.127575 ]\n",
            "   ...\n",
            "   [187.85712   188.64285   194.28564  ]\n",
            "   [188.64789   187.71933   192.505    ]\n",
            "   [185.57138   185.57138   185.57138  ]]\n",
            "\n",
            "  [[203.54591   114.3724     27.95916  ]\n",
            "   [206.14786   119.341675   32.341675 ]\n",
            "   [203.58662   119.02534    31.305977 ]\n",
            "   ...\n",
            "   [185.57144   186.35718   191.99997  ]\n",
            "   [184.02551   185.02551   188.88263  ]\n",
            "   [185.48476   185.48476   185.48476  ]]]\n",
            "\n",
            "\n",
            " [[[245.2857    245.2857    245.2857   ]\n",
            "   [247.92857   247.92857   247.92857  ]\n",
            "   [247.92348   247.92348   247.92348  ]\n",
            "   ...\n",
            "   [246.43367   246.43367   246.43367  ]\n",
            "   [245.33163   245.33163   245.33163  ]\n",
            "   [245.64285   245.64285   245.64285  ]]\n",
            "\n",
            "  [[244.71428   244.71428   244.71428  ]\n",
            "   [246.07143   246.07143   246.07143  ]\n",
            "   [246.85715   246.85715   246.85715  ]\n",
            "   ...\n",
            "   [246.0153    246.0153    246.0153   ]\n",
            "   [246.07143   246.07143   246.07143  ]\n",
            "   [247.07143   247.07143   247.07143  ]]\n",
            "\n",
            "  [[247.        247.        247.       ]\n",
            "   [247.78572   247.78572   247.78572  ]\n",
            "   [248.83163   248.83163   248.83163  ]\n",
            "   ...\n",
            "   [246.42854   246.42854   246.42854  ]\n",
            "   [245.15816   245.15816   245.15816  ]\n",
            "   [244.50511   244.50511   244.50511  ]]\n",
            "\n",
            "  ...\n",
            "\n",
            "  [[242.49489   242.49489   242.49489  ]\n",
            "   [242.        242.        242.       ]\n",
            "   [243.00002   243.00002   243.00002  ]\n",
            "   ...\n",
            "   [242.95409   242.95409   242.95409  ]\n",
            "   [242.37239   242.37239   242.37239  ]\n",
            "   [241.352     241.352     241.352    ]]\n",
            "\n",
            "  [[240.        240.        240.       ]\n",
            "   [240.86223   240.86223   240.86223  ]\n",
            "   [242.14284   242.14284   242.14284  ]\n",
            "   ...\n",
            "   [240.92856   240.92856   240.92856  ]\n",
            "   [241.07144   241.07144   241.07144  ]\n",
            "   [242.02551   242.02551   242.02551  ]]\n",
            "\n",
            "  [[241.71432   241.71432   241.71432  ]\n",
            "   [241.02551   241.02551   241.02551  ]\n",
            "   [241.21428   241.21428   241.21428  ]\n",
            "   ...\n",
            "   [241.14291   241.14291   241.14291  ]\n",
            "   [243.33167   243.33167   243.33167  ]\n",
            "   [241.87242   241.87242   241.87242  ]]]\n",
            "\n",
            "\n",
            " [[[254.        254.        254.       ]\n",
            "   [254.        254.        254.       ]\n",
            "   [254.        254.        254.       ]\n",
            "   ...\n",
            "   [254.        254.        254.       ]\n",
            "   [254.        254.        254.       ]\n",
            "   [254.        254.        254.       ]]\n",
            "\n",
            "  [[254.        254.        254.       ]\n",
            "   [254.        254.        254.       ]\n",
            "   [254.        254.        254.       ]\n",
            "   ...\n",
            "   [254.        254.        254.       ]\n",
            "   [254.        254.        254.       ]\n",
            "   [254.        254.        254.       ]]\n",
            "\n",
            "  [[254.        254.        254.       ]\n",
            "   [254.        254.        254.       ]\n",
            "   [254.        254.        254.       ]\n",
            "   ...\n",
            "   [254.        254.        254.       ]\n",
            "   [254.        254.        254.       ]\n",
            "   [254.        254.        254.       ]]\n",
            "\n",
            "  ...\n",
            "\n",
            "  [[254.        254.        254.       ]\n",
            "   [254.        254.        254.       ]\n",
            "   [254.        254.        254.       ]\n",
            "   ...\n",
            "   [254.        254.        254.       ]\n",
            "   [254.        254.        254.       ]\n",
            "   [254.        254.        254.       ]]\n",
            "\n",
            "  [[254.        254.        254.       ]\n",
            "   [254.        254.        254.       ]\n",
            "   [254.        254.        254.       ]\n",
            "   ...\n",
            "   [254.        254.        254.       ]\n",
            "   [254.        254.        254.       ]\n",
            "   [254.        254.        254.       ]]\n",
            "\n",
            "  [[254.        254.        254.       ]\n",
            "   [254.        254.        254.       ]\n",
            "   [254.        254.        254.       ]\n",
            "   ...\n",
            "   [254.        254.        254.       ]\n",
            "   [254.        254.        254.       ]\n",
            "   [254.        254.        254.       ]]]], shape=(32, 224, 224, 3), dtype=float32) tf.Tensor(\n",
            "[[0. 0. 0. 0. 0. 0. 0. 0. 1. 0.]\n",
            " [0. 0. 0. 0. 0. 1. 0. 0. 0. 0.]\n",
            " [0. 0. 0. 0. 1. 0. 0. 0. 0. 0.]\n",
            " [0. 0. 0. 0. 0. 0. 0. 0. 0. 1.]\n",
            " [0. 0. 0. 0. 0. 1. 0. 0. 0. 0.]\n",
            " [0. 0. 0. 1. 0. 0. 0. 0. 0. 0.]\n",
            " [0. 0. 0. 0. 0. 0. 0. 1. 0. 0.]\n",
            " [0. 0. 0. 0. 0. 0. 0. 1. 0. 0.]\n",
            " [0. 1. 0. 0. 0. 0. 0. 0. 0. 0.]\n",
            " [0. 0. 0. 1. 0. 0. 0. 0. 0. 0.]\n",
            " [0. 0. 0. 0. 0. 0. 1. 0. 0. 0.]\n",
            " [0. 0. 0. 0. 0. 0. 0. 1. 0. 0.]\n",
            " [0. 0. 0. 0. 1. 0. 0. 0. 0. 0.]\n",
            " [0. 0. 0. 0. 0. 0. 0. 1. 0. 0.]\n",
            " [0. 0. 0. 0. 1. 0. 0. 0. 0. 0.]\n",
            " [1. 0. 0. 0. 0. 0. 0. 0. 0. 0.]\n",
            " [0. 0. 0. 0. 0. 0. 0. 0. 1. 0.]\n",
            " [0. 0. 0. 0. 1. 0. 0. 0. 0. 0.]\n",
            " [0. 0. 0. 0. 0. 0. 1. 0. 0. 0.]\n",
            " [0. 0. 0. 0. 0. 0. 0. 1. 0. 0.]\n",
            " [0. 0. 1. 0. 0. 0. 0. 0. 0. 0.]\n",
            " [0. 0. 0. 0. 0. 1. 0. 0. 0. 0.]\n",
            " [0. 0. 0. 0. 1. 0. 0. 0. 0. 0.]\n",
            " [0. 0. 0. 0. 0. 0. 1. 0. 0. 0.]\n",
            " [0. 0. 0. 0. 0. 0. 0. 0. 1. 0.]\n",
            " [0. 1. 0. 0. 0. 0. 0. 0. 0. 0.]\n",
            " [0. 0. 0. 0. 0. 0. 0. 1. 0. 0.]\n",
            " [1. 0. 0. 0. 0. 0. 0. 0. 0. 0.]\n",
            " [0. 0. 0. 1. 0. 0. 0. 0. 0. 0.]\n",
            " [0. 0. 0. 1. 0. 0. 0. 0. 0. 0.]\n",
            " [0. 0. 0. 0. 0. 0. 0. 1. 0. 0.]\n",
            " [0. 0. 0. 0. 0. 1. 0. 0. 0. 0.]], shape=(32, 10), dtype=float32)\n"
          ]
        }
      ]
    },
    {
      "cell_type": "code",
      "source": [],
      "metadata": {
        "id": "iUStfg7bQhV9"
      },
      "execution_count": null,
      "outputs": []
    }
  ]
}