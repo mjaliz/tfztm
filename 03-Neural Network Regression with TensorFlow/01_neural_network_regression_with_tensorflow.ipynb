{
 "cells": [
  {
   "cell_type": "markdown",
   "metadata": {},
   "source": [
    "# Introduction to Regression with Neural Networks in TensorFlow\n",
    "\n",
    "There are many definitions for a regression problem but in our case, we're going to simplify it: predicting a numerical variable based on some other combination of variables, even shorter... predicting a number."
   ]
  },
  {
   "cell_type": "code",
   "execution_count": 37,
   "metadata": {},
   "outputs": [
    {
     "name": "stdout",
     "output_type": "stream",
     "text": [
      "2.13.0\n"
     ]
    }
   ],
   "source": [
    "import tensorflow as tf\n",
    "print(tf.__version__)"
   ]
  },
  {
   "cell_type": "code",
   "execution_count": 38,
   "metadata": {},
   "outputs": [
    {
     "data": {
      "text/plain": [
       "[PhysicalDevice(name='/physical_device:CPU:0', device_type='CPU')]"
      ]
     },
     "execution_count": 38,
     "metadata": {},
     "output_type": "execute_result"
    }
   ],
   "source": [
    "tf.config.list_physical_devices()"
   ]
  },
  {
   "cell_type": "markdown",
   "metadata": {},
   "source": [
    "## Creating data to view and fit"
   ]
  },
  {
   "cell_type": "code",
   "execution_count": 39,
   "metadata": {},
   "outputs": [
    {
     "data": {
      "text/plain": [
       "<matplotlib.collections.PathCollection at 0x13bcd89df10>"
      ]
     },
     "execution_count": 39,
     "metadata": {},
     "output_type": "execute_result"
    },
    {
     "data": {
      "image/png": "[encoded data removed]",
      "text/plain": [
       "<Figure size 640x480 with 1 Axes>"
      ]
     },
     "metadata": {},
     "output_type": "display_data"
    }
   ],
   "source": [
    "import numpy as np\n",
    "import matplotlib.pyplot as plt\n",
    "\n",
    "# Create features\n",
    "X = np.array([-7.0, -4.0, -1.0, 2.0, 5.0, 8.0, 11.0, 14.0])\n",
    "\n",
    "# Create labels\n",
    "y = np.array([3.0, 6.0, 9.0, 12.0, 15.0, 18.0, 21.0, 24.0])\n",
    "\n",
    "# Visualize it\n",
    "plt.scatter(X, y)"
   ]
  },
  {
   "cell_type": "code",
   "execution_count": 40,
   "metadata": {},
   "outputs": [
    {
     "data": {
      "text/plain": [
       "array([ True,  True,  True,  True,  True,  True,  True,  True])"
      ]
     },
     "execution_count": 40,
     "metadata": {},
     "output_type": "execute_result"
    }
   ],
   "source": [
    "y == X + 10"
   ]
  },
  {
   "cell_type": "markdown",
   "metadata": {},
   "source": [
    "## Input and output shapes"
   ]
  },
  {
   "cell_type": "code",
   "execution_count": 41,
   "metadata": {},
   "outputs": [
    {
     "data": {
      "text/plain": [
       "(<tf.Tensor: shape=(3,), dtype=string, numpy=array([b'bedroom', b'bathroom', b'garage'], dtype=object)>,\n",
       " <tf.Tensor: shape=(1,), dtype=int32, numpy=array([939700])>)"
      ]
     },
     "execution_count": 41,
     "metadata": {},
     "output_type": "execute_result"
    }
   ],
   "source": [
    "# Create a demo tensor for our housing price prediction problem\n",
    "house_info = tf.constant([\"bedroom\", \"bathroom\", \"garage\"])\n",
    "house_price = tf.constant([939700])\n",
    "house_info, house_price"
   ]
  },
  {
   "cell_type": "code",
   "execution_count": 42,
   "metadata": {},
   "outputs": [
    {
     "data": {
      "text/plain": [
       "((8,), (8,))"
      ]
     },
     "execution_count": 42,
     "metadata": {},
     "output_type": "execute_result"
    }
   ],
   "source": [
    "input_shape = X.shape\n",
    "output_shape = y.shape\n",
    "input_shape, output_shape"
   ]
  },
  {
   "cell_type": "code",
   "execution_count": 43,
   "metadata": {},
   "outputs": [
    {
     "data": {
      "text/plain": [
       "(<tf.Tensor: shape=(8,), dtype=float32, numpy=array([-7., -4., -1.,  2.,  5.,  8., 11., 14.], dtype=float32)>,\n",
       " <tf.Tensor: shape=(8,), dtype=float32, numpy=array([ 3.,  6.,  9., 12., 15., 18., 21., 24.], dtype=float32)>)"
      ]
     },
     "execution_count": 43,
     "metadata": {},
     "output_type": "execute_result"
    }
   ],
   "source": [
    "# Turn our numpy array to tensors\n",
    "X = tf.constant(X, dtype=tf.float32)\n",
    "y = tf.constant(y, dtype=tf.float32)\n",
    "X, y"
   ]
  },
  {
   "cell_type": "code",
   "execution_count": 44,
   "metadata": {},
   "outputs": [
    {
     "data": {
      "text/plain": [
       "<matplotlib.collections.PathCollection at 0x13bcd842c90>"
      ]
     },
     "execution_count": 44,
     "metadata": {},
     "output_type": "execute_result"
    },
    {
     "data": {
      "image/png": "[encoded data removed]",
      "text/plain": [
       "<Figure size 640x480 with 1 Axes>"
      ]
     },
     "metadata": {},
     "output_type": "display_data"
    }
   ],
   "source": [
    "plt.scatter(X, y)"
   ]
  },
  {
   "cell_type": "markdown",
   "metadata": {},
   "source": [
    "## Steps in modelling with TensorFlow\n",
    "1. Creating a model - define the input and output layers, as well as the hidden layers of a deep learning model.\n",
    "2. Compiling a model - define the loss function (in other words, the function with tells our model how wrong it is) and the optimizer (tell our model to improve the patterns its learning) and evaluation metrics (what we can use to interpret the performance of our model).\n",
    "3. Fitting a model - letting the model try to find patterns between X & y (features and labels)."
   ]
  },
  {
   "cell_type": "code",
   "execution_count": 45,
   "metadata": {},
   "outputs": [
    {
     "data": {
      "text/plain": [
       "(TensorShape([8]), 1)"
      ]
     },
     "execution_count": 45,
     "metadata": {},
     "output_type": "execute_result"
    }
   ],
   "source": [
    "X.shape, X.ndim"
   ]
  },
  {
   "cell_type": "code",
   "execution_count": 46,
   "metadata": {},
   "outputs": [],
   "source": [
    "X = tf.expand_dims(X, axis=-1)"
   ]
  },
  {
   "cell_type": "code",
   "execution_count": 47,
   "metadata": {},
   "outputs": [
    {
     "data": {
      "text/plain": [
       "(2, TensorShape([8, 1]))"
      ]
     },
     "execution_count": 47,
     "metadata": {},
     "output_type": "execute_result"
    }
   ],
   "source": [
    "X.ndim, X.shape"
   ]
  },
  {
   "cell_type": "code",
   "execution_count": 48,
   "metadata": {},
   "outputs": [
    {
     "name": "stdout",
     "output_type": "stream",
     "text": [
      "Epoch 1/5\n",
      "1/1 [==============================] - 0s 280ms/step - loss: 16.0954 - mae: 16.0954\n",
      "Epoch 2/5\n",
      "1/1 [==============================] - 0s 5ms/step - loss: 15.8142 - mae: 15.8142\n",
      "Epoch 3/5\n",
      "1/1 [==============================] - 0s 4ms/step - loss: 15.5329 - mae: 15.5329\n",
      "Epoch 4/5\n",
      "1/1 [==============================] - 0s 5ms/step - loss: 15.2517 - mae: 15.2517\n",
      "Epoch 5/5\n",
      "1/1 [==============================] - 0s 4ms/step - loss: 14.9704 - mae: 14.9704\n"
     ]
    },
    {
     "data": {
      "text/plain": [
       "<keras.src.callbacks.History at 0x13bcc8f4090>"
      ]
     },
     "execution_count": 48,
     "metadata": {},
     "output_type": "execute_result"
    }
   ],
   "source": [
    "# Set random seed\n",
    "tf.random.set_seed(42)\n",
    "\n",
    "# 1. Create a model using the Sequential API \n",
    "model = tf.keras.Sequential([\n",
    "    tf.keras.layers.Dense(1)\n",
    "])\n",
    "\n",
    "# 2. Compile the model\n",
    "model.compile(loss=tf.keras.losses.mae,\n",
    "               optimizer=tf.keras.optimizers.SGD(),\n",
    "               metrics=[\"mae\"])\n",
    "\n",
    "# 3. Fit the model\n",
    "model.fit(X, y, epochs=5)"
   ]
  },
  {
   "cell_type": "code",
   "execution_count": 49,
   "metadata": {},
   "outputs": [
    {
     "data": {
      "text/plain": [
       "(<tf.Tensor: shape=(8, 1), dtype=float32, numpy=\n",
       " array([[-7.],\n",
       "        [-4.],\n",
       "        [-1.],\n",
       "        [ 2.],\n",
       "        [ 5.],\n",
       "        [ 8.],\n",
       "        [11.],\n",
       "        [14.]], dtype=float32)>,\n",
       " <tf.Tensor: shape=(8,), dtype=float32, numpy=array([ 3.,  6.,  9., 12., 15., 18., 21., 24.], dtype=float32)>)"
      ]
     },
     "execution_count": 49,
     "metadata": {},
     "output_type": "execute_result"
    }
   ],
   "source": [
    "# Check out X and y\n",
    "X, y"
   ]
  },
  {
   "cell_type": "code",
   "execution_count": 50,
   "metadata": {},
   "outputs": [
    {
     "name": "stdout",
     "output_type": "stream",
     "text": [
      "WARNING:tensorflow:5 out of the last 5 calls to <function Model.make_predict_function.<locals>.predict_function at 0x0000013BCD82F100> triggered tf.function retracing. Tracing is expensive and the excessive number of tracings could be due to (1) creating @tf.function repeatedly in a loop, (2) passing tensors with different shapes, (3) passing Python objects instead of tensors. For (1), please define your @tf.function outside of the loop. For (2), @tf.function has reduce_retracing=True option that can avoid unnecessary retracing. For (3), please refer to https://www.tensorflow.org/guide/function#controlling_retracing and https://www.tensorflow.org/api_docs/python/tf/function for  more details.\n",
      "1/1 [==============================] - 0s 53ms/step\n"
     ]
    },
    {
     "data": {
      "text/plain": [
       "array([[-6.3328023]], dtype=float32)"
      ]
     },
     "execution_count": 50,
     "metadata": {},
     "output_type": "execute_result"
    }
   ],
   "source": [
    "# Try and make a prediction using our model\n",
    "model.predict([17.0])"
   ]
  },
  {
   "cell_type": "markdown",
   "metadata": {},
   "source": [
    "## Improving our model\n",
    "\n",
    "We can improve our model, by altering the steps we took to create a model.\n",
    "\n",
    "1. **Creating a model** - here we might add more layers, increase the number of units (all called neurons) within each of the hidden layers, change the activation function of each layer.\n",
    "2.  **Compiling a model** - here we might change the optimization function or perhaps the **learning rate** of the optimization of the optimization function.\n",
    "3.  **Fitting a model** - here we might fit a model for more **epochs** (leave it training for longer) or on more data (give the model more example to learn from)."
   ]
  },
  {
   "cell_type": "code",
   "execution_count": 51,
   "metadata": {},
   "outputs": [
    {
     "name": "stdout",
     "output_type": "stream",
     "text": [
      "Epoch 1/100\n"
     ]
    },
    {
     "name": "stdout",
     "output_type": "stream",
     "text": [
      "1/1 [==============================] - 0s 254ms/step - loss: 9.1822 - mae: 9.1822\n",
      "Epoch 2/100\n",
      "1/1 [==============================] - 0s 4ms/step - loss: 9.0497 - mae: 9.0497\n",
      "Epoch 3/100\n",
      "1/1 [==============================] - 0s 4ms/step - loss: 8.9172 - mae: 8.9172\n",
      "Epoch 4/100\n",
      "1/1 [==============================] - 0s 4ms/step - loss: 8.7847 - mae: 8.7847\n",
      "Epoch 5/100\n",
      "1/1 [==============================] - 0s 4ms/step - loss: 8.6522 - mae: 8.6522\n",
      "Epoch 6/100\n",
      "1/1 [==============================] - 0s 5ms/step - loss: 8.5197 - mae: 8.5197\n",
      "Epoch 7/100\n",
      "1/1 [==============================] - 0s 5ms/step - loss: 8.3872 - mae: 8.3872\n",
      "Epoch 8/100\n",
      "1/1 [==============================] - 0s 6ms/step - loss: 8.2547 - mae: 8.2547\n",
      "Epoch 9/100\n",
      "1/1 [==============================] - 0s 6ms/step - loss: 8.1222 - mae: 8.1222\n",
      "Epoch 10/100\n",
      "1/1 [==============================] - 0s 5ms/step - loss: 7.9897 - mae: 7.9897\n",
      "Epoch 11/100\n",
      "1/1 [==============================] - 0s 6ms/step - loss: 7.8572 - mae: 7.8572\n",
      "Epoch 12/100\n",
      "1/1 [==============================] - 0s 5ms/step - loss: 7.7247 - mae: 7.7247\n",
      "Epoch 13/100\n",
      "1/1 [==============================] - 0s 4ms/step - loss: 7.5922 - mae: 7.5922\n",
      "Epoch 14/100\n",
      "1/1 [==============================] - 0s 4ms/step - loss: 7.4597 - mae: 7.4597\n",
      "Epoch 15/100\n",
      "1/1 [==============================] - 0s 4ms/step - loss: 7.3950 - mae: 7.3950\n",
      "Epoch 16/100\n",
      "1/1 [==============================] - 0s 7ms/step - loss: 7.3894 - mae: 7.3894\n",
      "Epoch 17/100\n",
      "1/1 [==============================] - 0s 4ms/step - loss: 7.3837 - mae: 7.3837\n",
      "Epoch 18/100\n",
      "1/1 [==============================] - 0s 6ms/step - loss: 7.3781 - mae: 7.3781\n",
      "Epoch 19/100\n",
      "1/1 [==============================] - 0s 4ms/step - loss: 7.3725 - mae: 7.3725\n",
      "Epoch 20/100\n",
      "1/1 [==============================] - 0s 4ms/step - loss: 7.3669 - mae: 7.3669\n",
      "Epoch 21/100\n",
      "1/1 [==============================] - 0s 4ms/step - loss: 7.3613 - mae: 7.3613\n",
      "Epoch 22/100\n",
      "1/1 [==============================] - 0s 3ms/step - loss: 7.3556 - mae: 7.3556\n",
      "Epoch 23/100\n",
      "1/1 [==============================] - 0s 3ms/step - loss: 7.3500 - mae: 7.3500\n",
      "Epoch 24/100\n",
      "1/1 [==============================] - 0s 5ms/step - loss: 7.3444 - mae: 7.3444\n",
      "Epoch 25/100\n",
      "1/1 [==============================] - 0s 4ms/step - loss: 7.3388 - mae: 7.3388\n",
      "Epoch 26/100\n",
      "1/1 [==============================] - 0s 3ms/step - loss: 7.3331 - mae: 7.3331\n",
      "Epoch 27/100\n",
      "1/1 [==============================] - 0s 4ms/step - loss: 7.3275 - mae: 7.3275\n",
      "Epoch 28/100\n",
      "1/1 [==============================] - 0s 3ms/step - loss: 7.3219 - mae: 7.3219\n",
      "Epoch 29/100\n",
      "1/1 [==============================] - 0s 3ms/step - loss: 7.3162 - mae: 7.3162\n",
      "Epoch 30/100\n",
      "1/1 [==============================] - 0s 3ms/step - loss: 7.3106 - mae: 7.3106\n",
      "Epoch 31/100\n",
      "1/1 [==============================] - 0s 4ms/step - loss: 7.3050 - mae: 7.3050\n",
      "Epoch 32/100\n",
      "1/1 [==============================] - 0s 4ms/step - loss: 7.2994 - mae: 7.2994\n",
      "Epoch 33/100\n",
      "1/1 [==============================] - 0s 3ms/step - loss: 7.2938 - mae: 7.2938\n",
      "Epoch 34/100\n",
      "1/1 [==============================] - 0s 3ms/step - loss: 7.2881 - mae: 7.2881\n",
      "Epoch 35/100\n",
      "1/1 [==============================] - 0s 5ms/step - loss: 7.2825 - mae: 7.2825\n",
      "Epoch 36/100\n",
      "1/1 [==============================] - 0s 4ms/step - loss: 7.2769 - mae: 7.2769\n",
      "Epoch 37/100\n",
      "1/1 [==============================] - 0s 5ms/step - loss: 7.2712 - mae: 7.2712\n",
      "Epoch 38/100\n",
      "1/1 [==============================] - 0s 5ms/step - loss: 7.2656 - mae: 7.2656\n",
      "Epoch 39/100\n",
      "1/1 [==============================] - 0s 6ms/step - loss: 7.2600 - mae: 7.2600\n",
      "Epoch 40/100\n",
      "1/1 [==============================] - 0s 4ms/step - loss: 7.2544 - mae: 7.2544\n",
      "Epoch 41/100\n",
      "1/1 [==============================] - 0s 4ms/step - loss: 7.2487 - mae: 7.2487\n",
      "Epoch 42/100\n",
      "1/1 [==============================] - 0s 4ms/step - loss: 7.2431 - mae: 7.2431\n",
      "Epoch 43/100\n",
      "1/1 [==============================] - 0s 4ms/step - loss: 7.2375 - mae: 7.2375\n",
      "Epoch 44/100\n",
      "1/1 [==============================] - 0s 3ms/step - loss: 7.2319 - mae: 7.2319\n",
      "Epoch 45/100\n",
      "1/1 [==============================] - 0s 4ms/step - loss: 7.2263 - mae: 7.2263\n",
      "Epoch 46/100\n",
      "1/1 [==============================] - 0s 4ms/step - loss: 7.2206 - mae: 7.2206\n",
      "Epoch 47/100\n",
      "1/1 [==============================] - 0s 4ms/step - loss: 7.2150 - mae: 7.2150\n",
      "Epoch 48/100\n",
      "1/1 [==============================] - 0s 5ms/step - loss: 7.2094 - mae: 7.2094\n",
      "Epoch 49/100\n",
      "1/1 [==============================] - 0s 4ms/step - loss: 7.2038 - mae: 7.2038\n",
      "Epoch 50/100\n",
      "1/1 [==============================] - 0s 4ms/step - loss: 7.1981 - mae: 7.1981\n",
      "Epoch 51/100\n",
      "1/1 [==============================] - 0s 4ms/step - loss: 7.1925 - mae: 7.1925\n",
      "Epoch 52/100\n",
      "1/1 [==============================] - 0s 5ms/step - loss: 7.1869 - mae: 7.1869\n",
      "Epoch 53/100\n",
      "1/1 [==============================] - 0s 4ms/step - loss: 7.1813 - mae: 7.1813\n",
      "Epoch 54/100\n",
      "1/1 [==============================] - 0s 4ms/step - loss: 7.1756 - mae: 7.1756\n",
      "Epoch 55/100\n",
      "1/1 [==============================] - 0s 4ms/step - loss: 7.1700 - mae: 7.1700\n",
      "Epoch 56/100\n",
      "1/1 [==============================] - 0s 4ms/step - loss: 7.1644 - mae: 7.1644\n",
      "Epoch 57/100\n",
      "1/1 [==============================] - 0s 4ms/step - loss: 7.1588 - mae: 7.1588\n",
      "Epoch 58/100\n",
      "1/1 [==============================] - 0s 4ms/step - loss: 7.1531 - mae: 7.1531\n",
      "Epoch 59/100\n",
      "1/1 [==============================] - 0s 5ms/step - loss: 7.1475 - mae: 7.1475\n",
      "Epoch 60/100\n",
      "1/1 [==============================] - 0s 5ms/step - loss: 7.1419 - mae: 7.1419\n",
      "Epoch 61/100\n",
      "1/1 [==============================] - 0s 4ms/step - loss: 7.1363 - mae: 7.1363\n",
      "Epoch 62/100\n",
      "1/1 [==============================] - 0s 4ms/step - loss: 7.1306 - mae: 7.1306\n",
      "Epoch 63/100\n",
      "1/1 [==============================] - 0s 5ms/step - loss: 7.1250 - mae: 7.1250\n",
      "Epoch 64/100\n",
      "1/1 [==============================] - 0s 3ms/step - loss: 7.1194 - mae: 7.1194\n",
      "Epoch 65/100\n",
      "1/1 [==============================] - 0s 4ms/step - loss: 7.1138 - mae: 7.1138\n",
      "Epoch 66/100\n",
      "1/1 [==============================] - 0s 3ms/step - loss: 7.1081 - mae: 7.1081\n",
      "Epoch 67/100\n",
      "1/1 [==============================] - 0s 4ms/step - loss: 7.1025 - mae: 7.1025\n",
      "Epoch 68/100\n",
      "1/1 [==============================] - 0s 4ms/step - loss: 7.0969 - mae: 7.0969\n",
      "Epoch 69/100\n",
      "1/1 [==============================] - 0s 3ms/step - loss: 7.0913 - mae: 7.0913\n",
      "Epoch 70/100\n",
      "1/1 [==============================] - 0s 3ms/step - loss: 7.0856 - mae: 7.0856\n",
      "Epoch 71/100\n",
      "1/1 [==============================] - 0s 4ms/step - loss: 7.0800 - mae: 7.0800\n",
      "Epoch 72/100\n",
      "1/1 [==============================] - 0s 4ms/step - loss: 7.0744 - mae: 7.0744\n",
      "Epoch 73/100\n",
      "1/1 [==============================] - 0s 4ms/step - loss: 7.0688 - mae: 7.0688\n",
      "Epoch 74/100\n",
      "1/1 [==============================] - 0s 4ms/step - loss: 7.0631 - mae: 7.0631\n",
      "Epoch 75/100\n",
      "1/1 [==============================] - 0s 3ms/step - loss: 7.0575 - mae: 7.0575\n",
      "Epoch 76/100\n",
      "1/1 [==============================] - 0s 3ms/step - loss: 7.0519 - mae: 7.0519\n",
      "Epoch 77/100\n",
      "1/1 [==============================] - 0s 4ms/step - loss: 7.0463 - mae: 7.0463\n",
      "Epoch 78/100\n",
      "1/1 [==============================] - 0s 4ms/step - loss: 7.0406 - mae: 7.0406\n",
      "Epoch 79/100\n",
      "1/1 [==============================] - 0s 3ms/step - loss: 7.0350 - mae: 7.0350\n",
      "Epoch 80/100\n",
      "1/1 [==============================] - 0s 4ms/step - loss: 7.0294 - mae: 7.0294\n",
      "Epoch 81/100\n",
      "1/1 [==============================] - 0s 4ms/step - loss: 7.0238 - mae: 7.0238\n",
      "Epoch 82/100\n",
      "1/1 [==============================] - 0s 3ms/step - loss: 7.0181 - mae: 7.0181\n",
      "Epoch 83/100\n",
      "1/1 [==============================] - 0s 4ms/step - loss: 7.0125 - mae: 7.0125\n",
      "Epoch 84/100\n",
      "1/1 [==============================] - 0s 4ms/step - loss: 7.0069 - mae: 7.0069\n",
      "Epoch 85/100\n",
      "1/1 [==============================] - 0s 3ms/step - loss: 7.0013 - mae: 7.0013\n",
      "Epoch 86/100\n",
      "1/1 [==============================] - 0s 4ms/step - loss: 6.9956 - mae: 6.9956\n",
      "Epoch 87/100\n",
      "1/1 [==============================] - 0s 6ms/step - loss: 6.9900 - mae: 6.9900\n",
      "Epoch 88/100\n",
      "1/1 [==============================] - 0s 4ms/step - loss: 6.9844 - mae: 6.9844\n",
      "Epoch 89/100\n",
      "1/1 [==============================] - 0s 3ms/step - loss: 6.9788 - mae: 6.9788\n",
      "Epoch 90/100\n",
      "1/1 [==============================] - 0s 4ms/step - loss: 6.9731 - mae: 6.9731\n",
      "Epoch 91/100\n",
      "1/1 [==============================] - 0s 4ms/step - loss: 6.9675 - mae: 6.9675\n",
      "Epoch 92/100\n",
      "1/1 [==============================] - 0s 4ms/step - loss: 6.9619 - mae: 6.9619\n",
      "Epoch 93/100\n",
      "1/1 [==============================] - 0s 4ms/step - loss: 6.9563 - mae: 6.9563\n",
      "Epoch 94/100\n",
      "1/1 [==============================] - 0s 3ms/step - loss: 6.9506 - mae: 6.9506\n",
      "Epoch 95/100\n",
      "1/1 [==============================] - 0s 4ms/step - loss: 6.9450 - mae: 6.9450\n",
      "Epoch 96/100\n",
      "1/1 [==============================] - 0s 4ms/step - loss: 6.9394 - mae: 6.9394\n",
      "Epoch 97/100\n",
      "1/1 [==============================] - 0s 4ms/step - loss: 6.9338 - mae: 6.9338\n",
      "Epoch 98/100\n",
      "1/1 [==============================] - 0s 7ms/step - loss: 6.9281 - mae: 6.9281\n",
      "Epoch 99/100\n",
      "1/1 [==============================] - 0s 10ms/step - loss: 6.9225 - mae: 6.9225\n",
      "Epoch 100/100\n",
      "1/1 [==============================] - 0s 5ms/step - loss: 6.9169 - mae: 6.9169\n"
     ]
    },
    {
     "data": {
      "text/plain": [
       "<keras.src.callbacks.History at 0x13bcd97efd0>"
      ]
     },
     "execution_count": 51,
     "metadata": {},
     "output_type": "execute_result"
    }
   ],
   "source": [
    "# Let's rebuild our model\n",
    "\n",
    "# 1. Create the model\n",
    "model = tf.keras.Sequential([\n",
    "    tf.keras.layers.Dense(1)\n",
    "])\n",
    "\n",
    "# 2. Compile the model\n",
    "model.compile(loss=tf.keras.losses.mae,\n",
    "              optimizer=tf.keras.optimizers.SGD(),\n",
    "              metrics=[\"mae\"])\n",
    "\n",
    "# 3. Fit the model\n",
    "model.fit(X, y, epochs=100)"
   ]
  },
  {
   "cell_type": "code",
   "execution_count": 52,
   "metadata": {},
   "outputs": [
    {
     "data": {
      "text/plain": [
       "(<tf.Tensor: shape=(8, 1), dtype=float32, numpy=\n",
       " array([[-7.],\n",
       "        [-4.],\n",
       "        [-1.],\n",
       "        [ 2.],\n",
       "        [ 5.],\n",
       "        [ 8.],\n",
       "        [11.],\n",
       "        [14.]], dtype=float32)>,\n",
       " <tf.Tensor: shape=(8,), dtype=float32, numpy=array([ 3.,  6.,  9., 12., 15., 18., 21., 24.], dtype=float32)>)"
      ]
     },
     "execution_count": 52,
     "metadata": {},
     "output_type": "execute_result"
    }
   ],
   "source": [
    "# Remind ourselves of the data\n",
    "X, y"
   ]
  },
  {
   "cell_type": "code",
   "execution_count": 53,
   "metadata": {},
   "outputs": [
    {
     "name": "stdout",
     "output_type": "stream",
     "text": [
      "WARNING:tensorflow:6 out of the last 6 calls to <function Model.make_predict_function.<locals>.predict_function at 0x0000013BCD82DD00> triggered tf.function retracing. Tracing is expensive and the excessive number of tracings could be due to (1) creating @tf.function repeatedly in a loop, (2) passing tensors with different shapes, (3) passing Python objects instead of tensors. For (1), please define your @tf.function outside of the loop. For (2), @tf.function has reduce_retracing=True option that can avoid unnecessary retracing. For (3), please refer to https://www.tensorflow.org/guide/function#controlling_retracing and https://www.tensorflow.org/api_docs/python/tf/function for  more details.\n",
      "1/1 [==============================] - 0s 51ms/step\n"
     ]
    },
    {
     "data": {
      "text/plain": [
       "array([[30.087263]], dtype=float32)"
      ]
     },
     "execution_count": 53,
     "metadata": {},
     "output_type": "execute_result"
    }
   ],
   "source": [
    "# Let's see if our model's prediction has improved...\n",
    "model.predict([17.0])"
   ]
  },
  {
   "cell_type": "code",
   "execution_count": 54,
   "metadata": {},
   "outputs": [
    {
     "name": "stdout",
     "output_type": "stream",
     "text": [
      "Epoch 1/100\n",
      "1/1 [==============================] - 0s 421ms/step - loss: 12.9741 - mae: 12.9741\n",
      "Epoch 2/100\n",
      "1/1 [==============================] - 0s 4ms/step - loss: 12.3118 - mae: 12.3118\n",
      "Epoch 3/100\n",
      "1/1 [==============================] - 0s 4ms/step - loss: 11.6380 - mae: 11.6380\n",
      "Epoch 4/100\n",
      "1/1 [==============================] - 0s 5ms/step - loss: 10.9511 - mae: 10.9511\n",
      "Epoch 5/100\n",
      "1/1 [==============================] - 0s 5ms/step - loss: 10.2490 - mae: 10.2490\n",
      "Epoch 6/100\n",
      "1/1 [==============================] - 0s 4ms/step - loss: 9.5299 - mae: 9.5299\n",
      "Epoch 7/100\n",
      "1/1 [==============================] - 0s 6ms/step - loss: 8.7919 - mae: 8.7919\n",
      "Epoch 8/100\n",
      "1/1 [==============================] - 0s 5ms/step - loss: 8.0328 - mae: 8.0328\n",
      "Epoch 9/100\n",
      "1/1 [==============================] - 0s 8ms/step - loss: 7.2499 - mae: 7.2499\n",
      "Epoch 10/100\n",
      "1/1 [==============================] - 0s 4ms/step - loss: 6.7602 - mae: 6.7602\n",
      "Epoch 11/100\n",
      "1/1 [==============================] - 0s 5ms/step - loss: 6.9539 - mae: 6.9539\n",
      "Epoch 12/100\n",
      "1/1 [==============================] - 0s 4ms/step - loss: 7.2424 - mae: 7.2424\n",
      "Epoch 13/100\n",
      "1/1 [==============================] - 0s 4ms/step - loss: 7.5036 - mae: 7.5036\n",
      "Epoch 14/100\n",
      "1/1 [==============================] - 0s 5ms/step - loss: 7.5852 - mae: 7.5852\n",
      "Epoch 15/100\n",
      "1/1 [==============================] - 0s 4ms/step - loss: 7.4596 - mae: 7.4596\n",
      "Epoch 16/100\n",
      "1/1 [==============================] - 0s 4ms/step - loss: 7.1807 - mae: 7.1807\n",
      "Epoch 17/100\n",
      "1/1 [==============================] - 0s 5ms/step - loss: 6.8810 - mae: 6.8810\n",
      "Epoch 18/100\n",
      "1/1 [==============================] - 0s 4ms/step - loss: 6.6110 - mae: 6.6110\n",
      "Epoch 19/100\n",
      "1/1 [==============================] - 0s 3ms/step - loss: 6.3258 - mae: 6.3258\n",
      "Epoch 20/100\n",
      "1/1 [==============================] - 0s 4ms/step - loss: 6.1036 - mae: 6.1036\n",
      "Epoch 21/100\n",
      "1/1 [==============================] - 0s 4ms/step - loss: 6.0592 - mae: 6.0592\n",
      "Epoch 22/100\n",
      "1/1 [==============================] - 0s 4ms/step - loss: 6.0817 - mae: 6.0817\n",
      "Epoch 23/100\n",
      "1/1 [==============================] - 0s 5ms/step - loss: 6.1520 - mae: 6.1520\n",
      "Epoch 24/100\n",
      "1/1 [==============================] - 0s 4ms/step - loss: 6.1142 - mae: 6.1142\n",
      "Epoch 25/100\n",
      "1/1 [==============================] - 0s 3ms/step - loss: 5.9820 - mae: 5.9820\n",
      "Epoch 26/100\n",
      "1/1 [==============================] - 0s 4ms/step - loss: 5.7652 - mae: 5.7652\n",
      "Epoch 27/100\n",
      "1/1 [==============================] - 0s 3ms/step - loss: 5.5875 - mae: 5.5875\n",
      "Epoch 28/100\n",
      "1/1 [==============================] - 0s 3ms/step - loss: 5.4782 - mae: 5.4782\n",
      "Epoch 29/100\n",
      "1/1 [==============================] - 0s 4ms/step - loss: 5.3656 - mae: 5.3656\n",
      "Epoch 30/100\n",
      "1/1 [==============================] - 0s 5ms/step - loss: 5.3875 - mae: 5.3875\n",
      "Epoch 31/100\n",
      "1/1 [==============================] - 0s 4ms/step - loss: 5.3687 - mae: 5.3687\n",
      "Epoch 32/100\n",
      "1/1 [==============================] - 0s 4ms/step - loss: 5.3052 - mae: 5.3052\n",
      "Epoch 33/100\n",
      "1/1 [==============================] - 0s 4ms/step - loss: 5.2006 - mae: 5.2006\n",
      "Epoch 34/100\n",
      "1/1 [==============================] - 0s 4ms/step - loss: 5.0586 - mae: 5.0586\n",
      "Epoch 35/100\n",
      "1/1 [==============================] - 0s 5ms/step - loss: 4.8827 - mae: 4.8827\n",
      "Epoch 36/100\n",
      "1/1 [==============================] - 0s 4ms/step - loss: 4.6761 - mae: 4.6761\n",
      "Epoch 37/100\n",
      "1/1 [==============================] - 0s 4ms/step - loss: 4.5720 - mae: 4.5720\n",
      "Epoch 38/100\n",
      "1/1 [==============================] - 0s 5ms/step - loss: 4.4782 - mae: 4.4782\n",
      "Epoch 39/100\n",
      "1/1 [==============================] - 0s 4ms/step - loss: 4.4364 - mae: 4.4364\n",
      "Epoch 40/100\n",
      "1/1 [==============================] - 0s 4ms/step - loss: 4.3456 - mae: 4.3456\n",
      "Epoch 41/100\n",
      "1/1 [==============================] - 0s 4ms/step - loss: 4.1363 - mae: 4.1363\n",
      "Epoch 42/100\n",
      "1/1 [==============================] - 0s 5ms/step - loss: 3.9521 - mae: 3.9521\n",
      "Epoch 43/100\n",
      "1/1 [==============================] - 0s 5ms/step - loss: 3.7857 - mae: 3.7857\n",
      "Epoch 44/100\n",
      "1/1 [==============================] - 0s 5ms/step - loss: 3.7145 - mae: 3.7145\n",
      "Epoch 45/100\n",
      "1/1 [==============================] - 0s 4ms/step - loss: 3.6269 - mae: 3.6269\n",
      "Epoch 46/100\n",
      "1/1 [==============================] - 0s 5ms/step - loss: 3.4877 - mae: 3.4877\n",
      "Epoch 47/100\n",
      "1/1 [==============================] - 0s 4ms/step - loss: 3.2995 - mae: 3.2995\n",
      "Epoch 48/100\n",
      "1/1 [==============================] - 0s 4ms/step - loss: 3.0652 - mae: 3.0652\n",
      "Epoch 49/100\n",
      "1/1 [==============================] - 0s 4ms/step - loss: 2.8072 - mae: 2.8072\n",
      "Epoch 50/100\n",
      "1/1 [==============================] - 0s 4ms/step - loss: 2.6396 - mae: 2.6396\n",
      "Epoch 51/100\n",
      "1/1 [==============================] - 0s 4ms/step - loss: 2.4940 - mae: 2.4940\n",
      "Epoch 52/100\n",
      "1/1 [==============================] - 0s 4ms/step - loss: 2.2724 - mae: 2.2724\n",
      "Epoch 53/100\n",
      "1/1 [==============================] - 0s 3ms/step - loss: 2.0229 - mae: 2.0229\n",
      "Epoch 54/100\n",
      "1/1 [==============================] - 0s 3ms/step - loss: 1.8639 - mae: 1.8639\n",
      "Epoch 55/100\n",
      "1/1 [==============================] - 0s 4ms/step - loss: 1.6864 - mae: 1.6864\n",
      "Epoch 56/100\n",
      "1/1 [==============================] - 0s 4ms/step - loss: 1.4442 - mae: 1.4442\n",
      "Epoch 57/100\n",
      "1/1 [==============================] - 0s 3ms/step - loss: 1.1403 - mae: 1.1403\n",
      "Epoch 58/100\n",
      "1/1 [==============================] - 0s 4ms/step - loss: 0.8533 - mae: 0.8533\n",
      "Epoch 59/100\n",
      "1/1 [==============================] - 0s 4ms/step - loss: 0.6161 - mae: 0.6161\n",
      "Epoch 60/100\n",
      "1/1 [==============================] - 0s 4ms/step - loss: 0.3498 - mae: 0.3498\n",
      "Epoch 61/100\n",
      "1/1 [==============================] - 0s 4ms/step - loss: 0.0781 - mae: 0.0781\n",
      "Epoch 62/100\n",
      "1/1 [==============================] - 0s 4ms/step - loss: 0.5066 - mae: 0.5066\n",
      "Epoch 63/100\n",
      "1/1 [==============================] - 0s 3ms/step - loss: 0.6813 - mae: 0.6813\n",
      "Epoch 64/100\n",
      "1/1 [==============================] - 0s 5ms/step - loss: 0.6721 - mae: 0.6721\n",
      "Epoch 65/100\n",
      "1/1 [==============================] - 0s 5ms/step - loss: 0.8203 - mae: 0.8203\n",
      "Epoch 66/100\n",
      "1/1 [==============================] - 0s 9ms/step - loss: 0.9160 - mae: 0.9160\n",
      "Epoch 67/100\n",
      "1/1 [==============================] - 0s 6ms/step - loss: 0.8182 - mae: 0.8182\n",
      "Epoch 68/100\n",
      "1/1 [==============================] - 0s 6ms/step - loss: 0.8262 - mae: 0.8262\n",
      "Epoch 69/100\n",
      "1/1 [==============================] - 0s 6ms/step - loss: 0.7881 - mae: 0.7881\n",
      "Epoch 70/100\n",
      "1/1 [==============================] - 0s 5ms/step - loss: 0.6717 - mae: 0.6717\n",
      "Epoch 71/100\n",
      "1/1 [==============================] - 0s 3ms/step - loss: 0.5256 - mae: 0.5256\n",
      "Epoch 72/100\n",
      "1/1 [==============================] - 0s 4ms/step - loss: 0.3820 - mae: 0.3820\n",
      "Epoch 73/100\n",
      "1/1 [==============================] - 0s 4ms/step - loss: 0.2668 - mae: 0.2668\n",
      "Epoch 74/100\n",
      "1/1 [==============================] - 0s 5ms/step - loss: 0.0883 - mae: 0.0883\n",
      "Epoch 75/100\n",
      "1/1 [==============================] - 0s 6ms/step - loss: 0.1406 - mae: 0.1406\n",
      "Epoch 76/100\n",
      "1/1 [==============================] - 0s 4ms/step - loss: 0.2767 - mae: 0.2767\n",
      "Epoch 77/100\n",
      "1/1 [==============================] - 0s 4ms/step - loss: 0.3329 - mae: 0.3329\n",
      "Epoch 78/100\n",
      "1/1 [==============================] - 0s 4ms/step - loss: 0.4002 - mae: 0.4002\n",
      "Epoch 79/100\n",
      "1/1 [==============================] - 0s 4ms/step - loss: 0.4149 - mae: 0.4149\n",
      "Epoch 80/100\n",
      "1/1 [==============================] - 0s 4ms/step - loss: 0.4126 - mae: 0.4126\n",
      "Epoch 81/100\n",
      "1/1 [==============================] - 0s 3ms/step - loss: 0.3515 - mae: 0.3515\n",
      "Epoch 82/100\n",
      "1/1 [==============================] - 0s 4ms/step - loss: 0.2705 - mae: 0.2705\n",
      "Epoch 83/100\n",
      "1/1 [==============================] - 0s 4ms/step - loss: 0.1984 - mae: 0.1984\n",
      "Epoch 84/100\n",
      "1/1 [==============================] - 0s 4ms/step - loss: 0.1289 - mae: 0.1289\n",
      "Epoch 85/100\n",
      "1/1 [==============================] - 0s 3ms/step - loss: 0.0555 - mae: 0.0555\n",
      "Epoch 86/100\n",
      "1/1 [==============================] - 0s 4ms/step - loss: 0.2383 - mae: 0.2383\n",
      "Epoch 87/100\n",
      "1/1 [==============================] - 0s 4ms/step - loss: 0.2436 - mae: 0.2436\n",
      "Epoch 88/100\n",
      "1/1 [==============================] - 0s 4ms/step - loss: 0.2700 - mae: 0.2700\n",
      "Epoch 89/100\n",
      "1/1 [==============================] - 0s 4ms/step - loss: 0.2715 - mae: 0.2715\n",
      "Epoch 90/100\n",
      "1/1 [==============================] - 0s 5ms/step - loss: 0.1910 - mae: 0.1910\n",
      "Epoch 91/100\n",
      "1/1 [==============================] - 0s 3ms/step - loss: 0.1524 - mae: 0.1524\n",
      "Epoch 92/100\n",
      "1/1 [==============================] - 0s 3ms/step - loss: 0.0523 - mae: 0.0523\n",
      "Epoch 93/100\n",
      "1/1 [==============================] - 0s 4ms/step - loss: 0.1439 - mae: 0.1439\n",
      "Epoch 94/100\n",
      "1/1 [==============================] - 0s 4ms/step - loss: 0.1598 - mae: 0.1598\n",
      "Epoch 95/100\n",
      "1/1 [==============================] - 0s 3ms/step - loss: 0.1586 - mae: 0.1586\n",
      "Epoch 96/100\n",
      "1/1 [==============================] - 0s 3ms/step - loss: 0.1404 - mae: 0.1404\n",
      "Epoch 97/100\n",
      "1/1 [==============================] - 0s 4ms/step - loss: 0.0986 - mae: 0.0986\n",
      "Epoch 98/100\n",
      "1/1 [==============================] - 0s 3ms/step - loss: 0.0420 - mae: 0.0420\n",
      "Epoch 99/100\n",
      "1/1 [==============================] - 0s 3ms/step - loss: 0.1745 - mae: 0.1745\n",
      "Epoch 100/100\n",
      "1/1 [==============================] - 0s 4ms/step - loss: 0.1215 - mae: 0.1215\n"
     ]
    },
    {
     "data": {
      "text/plain": [
       "<keras.src.callbacks.History at 0x13bcea15910>"
      ]
     },
     "execution_count": 54,
     "metadata": {},
     "output_type": "execute_result"
    }
   ],
   "source": [
    "model = tf.keras.Sequential([\n",
    "    tf.keras.layers.Dense(50, activation=None),\n",
    "    tf.keras.layers.Dense(1)\n",
    "])\n",
    "\n",
    "model.compile(loss=tf.keras.losses.mae,\n",
    "              optimizer=tf.keras.optimizers.Adam(learning_rate=0.01),\n",
    "              metrics=[\"mae\"])\n",
    "\n",
    "model.fit(X, y, epochs=100)"
   ]
  },
  {
   "cell_type": "code",
   "execution_count": 55,
   "metadata": {},
   "outputs": [
    {
     "name": "stdout",
     "output_type": "stream",
     "text": [
      "1/1 [==============================] - 0s 57ms/step\n"
     ]
    },
    {
     "data": {
      "text/plain": [
       "array([[27.165195]], dtype=float32)"
      ]
     },
     "execution_count": 55,
     "metadata": {},
     "output_type": "execute_result"
    }
   ],
   "source": [
    "model.predict([17.0])"
   ]
  },
  {
   "cell_type": "markdown",
   "metadata": {},
   "source": [
    "## Evaluating a model\n",
    "\n",
    "In practice, a typical workflow you'll go through when building neural networks is:\n",
    "```\n",
    "Build a model -> fit it -> evaluate it -> tweak a model -> fit it -> evaluate it -> tweak a model -> fit it -> evaluate it...\n",
    "```"
   ]
  },
  {
   "cell_type": "markdown",
   "metadata": {},
   "source": [
    "When it comes to evaluation... there are 3 words you should memorize:\n",
    "> \"Visualize, visualize, visualize\"\n",
    "It's a good idea to visualize:\n",
    "* The data - what data are we working with? What does it look like?\n",
    "* The model itself - what does our model look like?\n",
    "* The training of a model - how does a model perform while it learns?\n",
    "* The predictions of the model - how do the predictions of model line up against the ground truth (the original labels)?"
   ]
  },
  {
   "cell_type": "code",
   "execution_count": 56,
   "metadata": {},
   "outputs": [
    {
     "data": {
      "text/plain": [
       "<tf.Tensor: shape=(50,), dtype=int32, numpy=\n",
       "array([-100,  -96,  -92,  -88,  -84,  -80,  -76,  -72,  -68,  -64,  -60,\n",
       "        -56,  -52,  -48,  -44,  -40,  -36,  -32,  -28,  -24,  -20,  -16,\n",
       "        -12,   -8,   -4,    0,    4,    8,   12,   16,   20,   24,   28,\n",
       "         32,   36,   40,   44,   48,   52,   56,   60,   64,   68,   72,\n",
       "         76,   80,   84,   88,   92,   96])>"
      ]
     },
     "execution_count": 56,
     "metadata": {},
     "output_type": "execute_result"
    }
   ],
   "source": [
    "# Make a bigger dataset\n",
    "X = tf.range(-100, 100, 4)\n",
    "X"
   ]
  },
  {
   "cell_type": "code",
   "execution_count": 57,
   "metadata": {},
   "outputs": [
    {
     "data": {
      "text/plain": [
       "<tf.Tensor: shape=(50,), dtype=int32, numpy=\n",
       "array([-90, -86, -82, -78, -74, -70, -66, -62, -58, -54, -50, -46, -42,\n",
       "       -38, -34, -30, -26, -22, -18, -14, -10,  -6,  -2,   2,   6,  10,\n",
       "        14,  18,  22,  26,  30,  34,  38,  42,  46,  50,  54,  58,  62,\n",
       "        66,  70,  74,  78,  82,  86,  90,  94,  98, 102, 106])>"
      ]
     },
     "execution_count": 57,
     "metadata": {},
     "output_type": "execute_result"
    }
   ],
   "source": [
    "# Make labels for dataset\n",
    "y = X + 10\n",
    "y"
   ]
  },
  {
   "cell_type": "code",
   "execution_count": 58,
   "metadata": {},
   "outputs": [
    {
     "data": {
      "text/plain": [
       "<matplotlib.collections.PathCollection at 0x13bceafc790>"
      ]
     },
     "execution_count": 58,
     "metadata": {},
     "output_type": "execute_result"
    },
    {
     "data": {
      "image/png": "[encoded data removed]",
      "text/plain": [
       "<Figure size 640x480 with 1 Axes>"
      ]
     },
     "metadata": {},
     "output_type": "display_data"
    }
   ],
   "source": [
    "# Visualize the data\n",
    "import matplotlib.pyplot as plt\n",
    "\n",
    "plt.scatter(X, y)"
   ]
  },
  {
   "cell_type": "markdown",
   "metadata": {},
   "source": [
    "### The 3 sets...\n",
    "\n",
    "  * Training set - the model learns from this data, which is typically 70-80% of the total data you have available.\n",
    "  * Validation set - the model get tuned on this data, which is typically 10-15% of the data available.\n",
    "  * Test set - the model gets evaluated on this data to test what is has learned, this set is typically 10-15% of the total data available."
   ]
  },
  {
   "cell_type": "code",
   "execution_count": 59,
   "metadata": {},
   "outputs": [
    {
     "data": {
      "text/plain": [
       "50"
      ]
     },
     "execution_count": 59,
     "metadata": {},
     "output_type": "execute_result"
    }
   ],
   "source": [
    "# Check teh length of how many sample we have\n",
    "len(X)"
   ]
  },
  {
   "cell_type": "code",
   "execution_count": 60,
   "metadata": {},
   "outputs": [
    {
     "data": {
      "text/plain": [
       "(40, 10, 40, 10)"
      ]
     },
     "execution_count": 60,
     "metadata": {},
     "output_type": "execute_result"
    }
   ],
   "source": [
    "# Split the data into train and test sets\n",
    "X_train = X[:40] # first 40 are training samples (80& of the data)\n",
    "y_train = y[:40]\n",
    "\n",
    "X_test = X[40:]\n",
    "y_test = y[40:]\n",
    "\n",
    "len(X_train), len(X_test), len(y_train), len(y_test)"
   ]
  },
  {
   "cell_type": "markdown",
   "metadata": {},
   "source": [
    "### Visualizing the data\n",
    "\n",
    "Now we've got our data in training test sets... let's visualize it again!"
   ]
  },
  {
   "cell_type": "code",
   "execution_count": 61,
   "metadata": {},
   "outputs": [
    {
     "data": {
      "text/plain": [
       "<matplotlib.legend.Legend at 0x13bcd9a2d90>"
      ]
     },
     "execution_count": 61,
     "metadata": {},
     "output_type": "execute_result"
    },
    {
     "data": {
      "image/png": "[encoded data removed]",
      "text/plain": [
       "<Figure size 1000x700 with 1 Axes>"
      ]
     },
     "metadata": {},
     "output_type": "display_data"
    }
   ],
   "source": [
    "plt.figure(figsize=(10, 7))\n",
    "# Plot training data in blue\n",
    "plt.scatter(X_train, y_train, c=\"b\", label=\"Training data\")\n",
    "# Plot the test data in green\n",
    "plt.scatter(X_test, y_test, c=\"g\", label=\"Testing data\")\n",
    "plt.legend()"
   ]
  },
  {
   "cell_type": "code",
   "execution_count": 62,
   "metadata": {},
   "outputs": [],
   "source": [
    "# Let's have a look at how to build a neural network for our data\n",
    "\n",
    "# 1. Create a model\n",
    "model = tf.keras.Sequential([\n",
    "    tf.keras.layers.Dense(100, activation=\"relu\"),\n",
    "    tf.keras.layers.Dense(1)\n",
    "])\n",
    "\n",
    "# 2. Compile the model\n",
    "model.compile(loss=tf.keras.losses.mae,\n",
    "              optimizer=tf.keras.optimizers.SGD(),\n",
    "              metrics=[\"mae\"])\n",
    "\n",
    "# 3. Fit the model\n",
    "# model.fit(X_train, y_train, epochs=100)"
   ]
  },
  {
   "cell_type": "markdown",
   "metadata": {},
   "source": [
    "### Visualizing the model"
   ]
  },
  {
   "cell_type": "code",
   "execution_count": 63,
   "metadata": {},
   "outputs": [
    {
     "ename": "ValueError",
     "evalue": "This model has not yet been built. Build the model first by calling `build()` or by calling the model on a batch of data.",
     "output_type": "error",
     "traceback": [
      "\u001b[1;31m---------------------------------------------------------------------------\u001b[0m",
      "\u001b[1;31mValueError\u001b[0m                                Traceback (most recent call last)",
      "\u001b[1;32mc:\\Users\\MohammadJavad\\OneDrive\\Desktop\\mjaliz\\tfztm\\03-Neural Network Regression with TensorFlow\\01_neural_network_regression_with_tensorflow.ipynb Cell 37\u001b[0m line \u001b[0;36m1\n\u001b[1;32m----> <a href='vscode-notebook-cell:/c%3A/Users/MohammadJavad/OneDrive/Desktop/mjaliz/tfztm/03-Neural%20Network%20Regression%20with%20TensorFlow/01_neural_network_regression_with_tensorflow.ipynb#Y153sZmlsZQ%3D%3D?line=0'>1</a>\u001b[0m model\u001b[39m.\u001b[39;49msummary()\n",
      "File \u001b[1;32mc:\\Users\\MohammadJavad\\OneDrive\\Desktop\\mjaliz\\tfztm\\venv\\Lib\\site-packages\\keras\\src\\engine\\training.py:3403\u001b[0m, in \u001b[0;36mModel.summary\u001b[1;34m(self, line_length, positions, print_fn, expand_nested, show_trainable, layer_range)\u001b[0m\n\u001b[0;32m   3372\u001b[0m \u001b[39m\u001b[39m\u001b[39m\"\"\"Prints a string summary of the network.\u001b[39;00m\n\u001b[0;32m   3373\u001b[0m \n\u001b[0;32m   3374\u001b[0m \u001b[39mArgs:\u001b[39;00m\n\u001b[1;32m   (...)\u001b[0m\n\u001b[0;32m   3400\u001b[0m \u001b[39m    ValueError: if `summary()` is called before the model is built.\u001b[39;00m\n\u001b[0;32m   3401\u001b[0m \u001b[39m\"\"\"\u001b[39;00m\n\u001b[0;32m   3402\u001b[0m \u001b[39mif\u001b[39;00m \u001b[39mnot\u001b[39;00m \u001b[39mself\u001b[39m\u001b[39m.\u001b[39mbuilt:\n\u001b[1;32m-> 3403\u001b[0m     \u001b[39mraise\u001b[39;00m \u001b[39mValueError\u001b[39;00m(\n\u001b[0;32m   3404\u001b[0m         \u001b[39m\"\u001b[39m\u001b[39mThis model has not yet been built. \u001b[39m\u001b[39m\"\u001b[39m\n\u001b[0;32m   3405\u001b[0m         \u001b[39m\"\u001b[39m\u001b[39mBuild the model first by calling `build()` or by calling \u001b[39m\u001b[39m\"\u001b[39m\n\u001b[0;32m   3406\u001b[0m         \u001b[39m\"\u001b[39m\u001b[39mthe model on a batch of data.\u001b[39m\u001b[39m\"\u001b[39m\n\u001b[0;32m   3407\u001b[0m     )\n\u001b[0;32m   3408\u001b[0m layer_utils\u001b[39m.\u001b[39mprint_summary(\n\u001b[0;32m   3409\u001b[0m     \u001b[39mself\u001b[39m,\n\u001b[0;32m   3410\u001b[0m     line_length\u001b[39m=\u001b[39mline_length,\n\u001b[1;32m   (...)\u001b[0m\n\u001b[0;32m   3415\u001b[0m     layer_range\u001b[39m=\u001b[39mlayer_range,\n\u001b[0;32m   3416\u001b[0m )\n",
      "\u001b[1;31mValueError\u001b[0m: This model has not yet been built. Build the model first by calling `build()` or by calling the model on a batch of data."
     ]
    }
   ],
   "source": [
    "model.summary()"
   ]
  },
  {
   "cell_type": "code",
   "execution_count": 64,
   "metadata": {},
   "outputs": [],
   "source": [
    "# Let's create a model which builds automatically by defining the input_shape argument in the first layer\n",
    "tf.random.set_seed(42)\n",
    "\n",
    "# 1. Create the model (same as above)\n",
    "model = tf.keras.Sequential([\n",
    "    tf.keras.layers.Dense(10, input_shape=[1]),\n",
    "    tf.keras.layers.Dense(1)\n",
    "])\n",
    "\n",
    "# 2. Compile the model\n",
    "model.compile(loss=tf.keras.losses.mae,\n",
    "              optimizer=tf.keras.optimizers.SGD(),\n",
    "              metrics=[\"mae\"])"
   ]
  },
  {
   "cell_type": "code",
   "execution_count": 65,
   "metadata": {},
   "outputs": [
    {
     "name": "stdout",
     "output_type": "stream",
     "text": [
      "Model: \"sequential_9\"\n",
      "_________________________________________________________________\n",
      " Layer (type)                Output Shape              Param #   \n",
      "=================================================================\n",
      " dense_14 (Dense)            (None, 10)                20        \n",
      "                                                                 \n",
      " dense_15 (Dense)            (None, 1)                 11        \n",
      "                                                                 \n",
      "=================================================================\n",
      "Total params: 31 (124.00 Byte)\n",
      "Trainable params: 31 (124.00 Byte)\n",
      "Non-trainable params: 0 (0.00 Byte)\n",
      "_________________________________________________________________\n"
     ]
    }
   ],
   "source": [
    "model.summary()"
   ]
  },
  {
   "cell_type": "markdown",
   "metadata": {},
   "source": [
    "* Total params - total number of parameters in the model.\n",
    "* Trainable parameters - these are the parameters (patterns) the model can update as it trains.\n",
    "* Non-trainable params - these parameters aren't updated during training (this is typical when you bring in already learn patterns or parameters from other models during **transfer learning**)."
   ]
  },
  {
   "cell_type": "code",
   "execution_count": 66,
   "metadata": {},
   "outputs": [
    {
     "data": {
      "text/plain": [
       "<keras.src.callbacks.History at 0x13bcec61b50>"
      ]
     },
     "execution_count": 66,
     "metadata": {},
     "output_type": "execute_result"
    }
   ],
   "source": [
    "model.fit(X_train, y_train ,epochs=100, verbose=0)"
   ]
  },
  {
   "cell_type": "code",
   "execution_count": 67,
   "metadata": {},
   "outputs": [
    {
     "name": "stdout",
     "output_type": "stream",
     "text": [
      "Model: \"sequential_9\"\n",
      "_________________________________________________________________\n",
      " Layer (type)                Output Shape              Param #   \n",
      "=================================================================\n",
      " dense_14 (Dense)            (None, 10)                20        \n",
      "                                                                 \n",
      " dense_15 (Dense)            (None, 1)                 11        \n",
      "                                                                 \n",
      "=================================================================\n",
      "Total params: 31 (124.00 Byte)\n",
      "Trainable params: 31 (124.00 Byte)\n",
      "Non-trainable params: 0 (0.00 Byte)\n",
      "_________________________________________________________________\n"
     ]
    }
   ],
   "source": [
    "model.summary()"
   ]
  },
  {
   "cell_type": "code",
   "execution_count": 68,
   "metadata": {},
   "outputs": [
    {
     "name": "stdout",
     "output_type": "stream",
     "text": [
      "You must install pydot (`pip install pydot`) and install graphviz (see instructions at https://graphviz.gitlab.io/download/) for plot_model to work.\n"
     ]
    }
   ],
   "source": [
    "from  tensorflow.keras.utils import plot_model\n",
    "plot_model(model)"
   ]
  },
  {
   "cell_type": "markdown",
   "metadata": {},
   "source": [
    "### Visualize our model's predictions\n",
    "\n",
    "To visualize predictions, it's a good idea to plot them against ground truth labels.\n",
    "\n",
    "Often you'll see this in the form of `y_test` or `y_true` versus `y_pred` (ground truth versus your model predictions)"
   ]
  },
  {
   "cell_type": "code",
   "execution_count": 69,
   "metadata": {},
   "outputs": [
    {
     "name": "stdout",
     "output_type": "stream",
     "text": [
      "1/1 [==============================] - 0s 69ms/step\n"
     ]
    },
    {
     "data": {
      "text/plain": [
       "array([[ 75.72078 ],\n",
       "       [ 80.65325 ],\n",
       "       [ 85.585724],\n",
       "       [ 90.51821 ],\n",
       "       [ 95.45067 ],\n",
       "       [100.38314 ],\n",
       "       [105.31562 ],\n",
       "       [110.24809 ],\n",
       "       [115.180565],\n",
       "       [120.113045]], dtype=float32)"
      ]
     },
     "execution_count": 69,
     "metadata": {},
     "output_type": "execute_result"
    }
   ],
   "source": [
    "# Make some predictions\n",
    "y_pred = model.predict(X_test)\n",
    "y_pred"
   ]
  },
  {
   "cell_type": "code",
   "execution_count": 70,
   "metadata": {},
   "outputs": [],
   "source": [
    "# Let's create a plotting function\n",
    "def plot_predictions(train_data=X_train,\n",
    "                     train_labels=y_train,\n",
    "                     test_data=X_test,\n",
    "                     test_labels=y_test,\n",
    "                     predictions=y_pred):\n",
    "    \"\"\"\n",
    "    Plots training data, test data and compares predictions to ground truth labels.\n",
    "    \"\"\"\n",
    "\n",
    "    plt.figure(figsize=(10, 7))\n",
    "    # Plot training data in blue\n",
    "    plt.scatter(train_data, train_labels, c=\"b\", label=\"Training data\")\n",
    "    # Plot the test data in green\n",
    "    plt.scatter(test_data, test_labels, c=\"g\", label=\"Testing data\")\n",
    "    # Plot models predictions in red\n",
    "    plt.scatter(test_data, predictions, c=\"r\", label=\"Predictions\")\n",
    "    # Show the legend\n",
    "    plt.legend();"
   ]
  },
  {
   "cell_type": "code",
   "execution_count": 71,
   "metadata": {},
   "outputs": [],
   "source": [
    "# X_test = tf.expand_dims(X_test, axis=-1)"
   ]
  },
  {
   "cell_type": "code",
   "execution_count": 72,
   "metadata": {},
   "outputs": [
    {
     "data": {
      "text/plain": [
       "(TensorShape([10]), (10, 1))"
      ]
     },
     "execution_count": 72,
     "metadata": {},
     "output_type": "execute_result"
    }
   ],
   "source": [
    "X_test.shape, y_pred.shape"
   ]
  },
  {
   "cell_type": "code",
   "execution_count": 73,
   "metadata": {},
   "outputs": [
    {
     "data": {
      "image/png": "[encoded data removed]",
      "text/plain": [
       "<Figure size 1000x700 with 1 Axes>"
      ]
     },
     "metadata": {},
     "output_type": "display_data"
    }
   ],
   "source": [
    "plot_predictions()"
   ]
  },
  {
   "cell_type": "markdown",
   "metadata": {},
   "source": [
    "### Evaluating our model's predictions with regression evaluation metrics\n",
    "\n",
    "Depending on the problem you're working on, there will be different evaluation metrics to evaluate your model's performance.\n",
    "\n",
    "Since we're working on a regression problem, two of the main metrics:\n",
    "* MAE - mean absolute error, \"on average, how wrong is each of my model's predictions\"\n",
    "* MSE - mean square error, \"square the average errors\""
   ]
  },
  {
   "cell_type": "code",
   "execution_count": null,
   "metadata": {},
   "outputs": [],
   "source": []
  },
  {
   "cell_type": "code",
   "execution_count": null,
   "metadata": {},
   "outputs": [],
   "source": []
  },
  {
   "cell_type": "code",
   "execution_count": null,
   "metadata": {},
   "outputs": [],
   "source": []
  },
  {
   "cell_type": "code",
   "execution_count": null,
   "metadata": {},
   "outputs": [],
   "source": []
  },
  {
   "cell_type": "code",
   "execution_count": null,
   "metadata": {},
   "outputs": [],
   "source": []
  },
  {
   "cell_type": "code",
   "execution_count": null,
   "metadata": {},
   "outputs": [],
   "source": []
  },
  {
   "cell_type": "code",
   "execution_count": null,
   "metadata": {},
   "outputs": [],
   "source": []
  },
  {
   "cell_type": "code",
   "execution_count": null,
   "metadata": {},
   "outputs": [],
   "source": []
  },
  {
   "cell_type": "code",
   "execution_count": null,
   "metadata": {},
   "outputs": [],
   "source": []
  }
 ],
 "metadata": {
  "kernelspec": {
   "display_name": "Python 3 (ipykernel)",
   "language": "python",
   "name": "python3"
  },
  "language_info": {
   "codemirror_mode": {
    "name": "ipython",
    "version": 3
   },
   "file_extension": ".py",
   "mimetype": "text/x-python",
   "name": "python",
   "nbconvert_exporter": "python",
   "pygments_lexer": "ipython3",
   "version": "3.8.10"
  }
 },
 "nbformat": 4,
 "nbformat_minor": 2
}
