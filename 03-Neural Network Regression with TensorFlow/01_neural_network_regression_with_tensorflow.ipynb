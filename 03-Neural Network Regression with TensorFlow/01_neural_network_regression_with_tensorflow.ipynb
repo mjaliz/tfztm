{
 "cells": [
  {
   "cell_type": "markdown",
   "metadata": {},
   "source": [
    "# Introduction to Regression with Neural Networks in TensorFlow\n",
    "\n",
    "There are many definitions for a regression problem but in our case, we're going to simplify it: predicting a numerical variable based on some other combination of variables, even shorter... predicting a number."
   ]
  },
  {
   "cell_type": "code",
   "execution_count": 1,
   "metadata": {},
   "outputs": [
    {
     "name": "stdout",
     "output_type": "stream",
     "text": [
      "2.13.0\n"
     ]
    }
   ],
   "source": [
    "import tensorflow as tf\n",
    "print(tf.__version__)"
   ]
  },
  {
   "cell_type": "code",
   "execution_count": 2,
   "metadata": {},
   "outputs": [
    {
     "data": {
      "text/plain": [
       "[PhysicalDevice(name='/physical_device:CPU:0', device_type='CPU')]"
      ]
     },
     "execution_count": 2,
     "metadata": {},
     "output_type": "execute_result"
    }
   ],
   "source": [
    "tf.config.list_physical_devices()"
   ]
  },
  {
   "cell_type": "markdown",
   "metadata": {},
   "source": [
    "## Creating data to view and fit"
   ]
  },
  {
   "cell_type": "code",
   "execution_count": 3,
   "metadata": {},
   "outputs": [
    {
     "data": {
      "text/plain": [
       "<matplotlib.collections.PathCollection at 0x21363b1f050>"
      ]
     },
     "execution_count": 3,
     "metadata": {},
     "output_type": "execute_result"
    },
    {
     "data": {
      "image/png": "[encoded data removed]",
      "text/plain": [
       "<Figure size 640x480 with 1 Axes>"
      ]
     },
     "metadata": {},
     "output_type": "display_data"
    }
   ],
   "source": [
    "import numpy as np\n",
    "import matplotlib.pyplot as plt\n",
    "\n",
    "# Create features\n",
    "X = np.array([-7.0, -4.0, -1.0, 2.0, 5.0, 8.0, 11.0, 14.0])\n",
    "\n",
    "# Create labels\n",
    "y = np.array([3.0, 6.0, 9.0, 12.0, 15.0, 18.0, 21.0, 24.0])\n",
    "\n",
    "# Visualize it\n",
    "plt.scatter(X, y)"
   ]
  },
  {
   "cell_type": "code",
   "execution_count": 4,
   "metadata": {},
   "outputs": [
    {
     "data": {
      "text/plain": [
       "array([ True,  True,  True,  True,  True,  True,  True,  True])"
      ]
     },
     "execution_count": 4,
     "metadata": {},
     "output_type": "execute_result"
    }
   ],
   "source": [
    "y == X + 10"
   ]
  },
  {
   "cell_type": "markdown",
   "metadata": {},
   "source": [
    "## Input and output shapes"
   ]
  },
  {
   "cell_type": "code",
   "execution_count": 5,
   "metadata": {},
   "outputs": [
    {
     "data": {
      "text/plain": [
       "(<tf.Tensor: shape=(3,), dtype=string, numpy=array([b'bedroom', b'bathroom', b'garage'], dtype=object)>,\n",
       " <tf.Tensor: shape=(1,), dtype=int32, numpy=array([939700])>)"
      ]
     },
     "execution_count": 5,
     "metadata": {},
     "output_type": "execute_result"
    }
   ],
   "source": [
    "# Create a demo tensor for our housing price prediction problem\n",
    "house_info = tf.constant([\"bedroom\", \"bathroom\", \"garage\"])\n",
    "house_price = tf.constant([939700])\n",
    "house_info, house_price"
   ]
  },
  {
   "cell_type": "code",
   "execution_count": 6,
   "metadata": {},
   "outputs": [
    {
     "data": {
      "text/plain": [
       "((8,), (8,))"
      ]
     },
     "execution_count": 6,
     "metadata": {},
     "output_type": "execute_result"
    }
   ],
   "source": [
    "input_shape = X.shape\n",
    "output_shape = y.shape\n",
    "input_shape, output_shape"
   ]
  },
  {
   "cell_type": "code",
   "execution_count": 7,
   "metadata": {},
   "outputs": [
    {
     "data": {
      "text/plain": [
       "(<tf.Tensor: shape=(8,), dtype=float32, numpy=array([-7., -4., -1.,  2.,  5.,  8., 11., 14.], dtype=float32)>,\n",
       " <tf.Tensor: shape=(8,), dtype=float32, numpy=array([ 3.,  6.,  9., 12., 15., 18., 21., 24.], dtype=float32)>)"
      ]
     },
     "execution_count": 7,
     "metadata": {},
     "output_type": "execute_result"
    }
   ],
   "source": [
    "# Turn our numpy array to tensors\n",
    "X = tf.constant(X, dtype=tf.float32)\n",
    "y = tf.constant(y, dtype=tf.float32)\n",
    "X, y"
   ]
  },
  {
   "cell_type": "code",
   "execution_count": 8,
   "metadata": {},
   "outputs": [
    {
     "data": {
      "text/plain": [
       "<matplotlib.collections.PathCollection at 0x2136409d390>"
      ]
     },
     "execution_count": 8,
     "metadata": {},
     "output_type": "execute_result"
    },
    {
     "data": {
      "image/png": "[encoded data removed]",
      "text/plain": [
       "<Figure size 640x480 with 1 Axes>"
      ]
     },
     "metadata": {},
     "output_type": "display_data"
    }
   ],
   "source": [
    "plt.scatter(X, y)"
   ]
  },
  {
   "cell_type": "markdown",
   "metadata": {},
   "source": [
    "## Steps in modelling with TensorFlow\n",
    "1. Creating a model - define the input and output layers, as well as the hidden layers of a deep learning model.\n",
    "2. Compiling a model - define the loss function (in other words, the function with tells our model how wrong it is) and the optimizer (tell our model to improve the patterns its learning) and evaluation metrics (what we can use to interpret the performance of our model).\n",
    "3. Fitting a model - letting the model try to find patterns between X & y (features and labels)."
   ]
  },
  {
   "cell_type": "code",
   "execution_count": 9,
   "metadata": {},
   "outputs": [
    {
     "data": {
      "text/plain": [
       "(TensorShape([8]), 1)"
      ]
     },
     "execution_count": 9,
     "metadata": {},
     "output_type": "execute_result"
    }
   ],
   "source": [
    "X.shape, X.ndim"
   ]
  },
  {
   "cell_type": "code",
   "execution_count": 10,
   "metadata": {},
   "outputs": [],
   "source": [
    "X = tf.expand_dims(X, axis=-1)"
   ]
  },
  {
   "cell_type": "code",
   "execution_count": 11,
   "metadata": {},
   "outputs": [
    {
     "data": {
      "text/plain": [
       "(2, TensorShape([8, 1]))"
      ]
     },
     "execution_count": 11,
     "metadata": {},
     "output_type": "execute_result"
    }
   ],
   "source": [
    "X.ndim, X.shape"
   ]
  },
  {
   "cell_type": "code",
   "execution_count": 12,
   "metadata": {},
   "outputs": [
    {
     "name": "stdout",
     "output_type": "stream",
     "text": [
      "Epoch 1/5\n",
      "1/1 [==============================] - 0s 332ms/step - loss: 17.6482 - mae: 17.6482\n",
      "Epoch 2/5\n",
      "1/1 [==============================] - 0s 3ms/step - loss: 17.3670 - mae: 17.3670\n",
      "Epoch 3/5\n",
      "1/1 [==============================] - 0s 3ms/step - loss: 17.0857 - mae: 17.0857\n",
      "Epoch 4/5\n",
      "1/1 [==============================] - 0s 4ms/step - loss: 16.8045 - mae: 16.8045\n",
      "Epoch 5/5\n",
      "1/1 [==============================] - 0s 4ms/step - loss: 16.5232 - mae: 16.5232\n"
     ]
    },
    {
     "data": {
      "text/plain": [
       "<keras.src.callbacks.History at 0x213640d2dd0>"
      ]
     },
     "execution_count": 12,
     "metadata": {},
     "output_type": "execute_result"
    }
   ],
   "source": [
    "# Set random seed\n",
    "tf.random.set_seed(42)\n",
    "\n",
    "# 1. Create a model using the Sequential API \n",
    "model = tf.keras.Sequential([\n",
    "    tf.keras.layers.Dense(1)\n",
    "])\n",
    "\n",
    "# 2. Compile the model\n",
    "model.compile(loss=tf.keras.losses.mae,\n",
    "               optimizer=tf.keras.optimizers.SGD(),\n",
    "               metrics=[\"mae\"])\n",
    "\n",
    "# 3. Fit the model\n",
    "model.fit(X, y, epochs=5)"
   ]
  },
  {
   "cell_type": "code",
   "execution_count": 13,
   "metadata": {},
   "outputs": [
    {
     "data": {
      "text/plain": [
       "(<tf.Tensor: shape=(8, 1), dtype=float32, numpy=\n",
       " array([[-7.],\n",
       "        [-4.],\n",
       "        [-1.],\n",
       "        [ 2.],\n",
       "        [ 5.],\n",
       "        [ 8.],\n",
       "        [11.],\n",
       "        [14.]], dtype=float32)>,\n",
       " <tf.Tensor: shape=(8,), dtype=float32, numpy=array([ 3.,  6.,  9., 12., 15., 18., 21., 24.], dtype=float32)>)"
      ]
     },
     "execution_count": 13,
     "metadata": {},
     "output_type": "execute_result"
    }
   ],
   "source": [
    "# Check out X and y\n",
    "X, y"
   ]
  },
  {
   "cell_type": "code",
   "execution_count": 14,
   "metadata": {},
   "outputs": [
    {
     "name": "stdout",
     "output_type": "stream",
     "text": [
      "1/1 [==============================] - 0s 89ms/step\n"
     ]
    },
    {
     "data": {
      "text/plain": [
       "array([[-11.360989]], dtype=float32)"
      ]
     },
     "execution_count": 14,
     "metadata": {},
     "output_type": "execute_result"
    }
   ],
   "source": [
    "# Try and make a prediction using our model\n",
    "model.predict([17.0])"
   ]
  },
  {
   "cell_type": "markdown",
   "metadata": {},
   "source": [
    "## Improving our model\n",
    "\n",
    "We can improve our model, by altering the steps we took to create a model.\n",
    "\n",
    "1. **Creating a model** - here we might add more layers, increase the number of units (all called neurons) within each of the hidden layers, change the activation function of each layer.\n",
    "2.  **Compiling a model** - here we might change the optimization function or perhaps the **learning rate** of the optimization of the optimization function.\n",
    "3.  **Fitting a model** - here we might fit a model for more **epochs** (leave it training for longer) or on more data (give the model more example to learn from)."
   ]
  },
  {
   "cell_type": "code",
   "execution_count": 15,
   "metadata": {},
   "outputs": [
    {
     "name": "stdout",
     "output_type": "stream",
     "text": [
      "Epoch 1/100\n",
      "1/1 [==============================] - 0s 215ms/step - loss: 13.5247 - mae: 13.5247\n",
      "Epoch 2/100\n",
      "1/1 [==============================] - 0s 4ms/step - loss: 13.3922 - mae: 13.3922\n",
      "Epoch 3/100\n",
      "1/1 [==============================] - 0s 4ms/step - loss: 13.2597 - mae: 13.2597\n",
      "Epoch 4/100\n",
      "1/1 [==============================] - 0s 3ms/step - loss: 13.1272 - mae: 13.1272\n",
      "Epoch 5/100\n",
      "1/1 [==============================] - 0s 3ms/step - loss: 12.9947 - mae: 12.9947\n",
      "Epoch 6/100\n",
      "1/1 [==============================] - 0s 3ms/step - loss: 12.8622 - mae: 12.8622\n",
      "Epoch 7/100\n",
      "1/1 [==============================] - 0s 3ms/step - loss: 12.7297 - mae: 12.7297\n",
      "Epoch 8/100\n",
      "1/1 [==============================] - 0s 4ms/step - loss: 12.5972 - mae: 12.5972\n",
      "Epoch 9/100\n",
      "1/1 [==============================] - 0s 3ms/step - loss: 12.4647 - mae: 12.4647\n",
      "Epoch 10/100\n",
      "1/1 [==============================] - 0s 3ms/step - loss: 12.3322 - mae: 12.3322\n",
      "Epoch 11/100\n",
      "1/1 [==============================] - 0s 3ms/step - loss: 12.1997 - mae: 12.1997\n",
      "Epoch 12/100\n",
      "1/1 [==============================] - 0s 4ms/step - loss: 12.0672 - mae: 12.0672\n",
      "Epoch 13/100\n",
      "1/1 [==============================] - 0s 4ms/step - loss: 11.9347 - mae: 11.9347\n",
      "Epoch 14/100\n",
      "1/1 [==============================] - 0s 3ms/step - loss: 11.8022 - mae: 11.8022\n",
      "Epoch 15/100\n",
      "1/1 [==============================] - 0s 4ms/step - loss: 11.6697 - mae: 11.6697\n",
      "Epoch 16/100\n",
      "1/1 [==============================] - 0s 3ms/step - loss: 11.5372 - mae: 11.5372\n",
      "Epoch 17/100\n",
      "1/1 [==============================] - 0s 3ms/step - loss: 11.4047 - mae: 11.4047\n",
      "Epoch 18/100\n",
      "1/1 [==============================] - 0s 4ms/step - loss: 11.2722 - mae: 11.2722\n",
      "Epoch 19/100\n",
      "1/1 [==============================] - 0s 4ms/step - loss: 11.1397 - mae: 11.1397\n",
      "Epoch 20/100\n",
      "1/1 [==============================] - 0s 3ms/step - loss: 11.0072 - mae: 11.0072\n",
      "Epoch 21/100\n",
      "1/1 [==============================] - 0s 4ms/step - loss: 10.8747 - mae: 10.8747\n",
      "Epoch 22/100\n",
      "1/1 [==============================] - 0s 4ms/step - loss: 10.7422 - mae: 10.7422\n",
      "Epoch 23/100\n",
      "1/1 [==============================] - 0s 5ms/step - loss: 10.6097 - mae: 10.6097\n",
      "Epoch 24/100\n",
      "1/1 [==============================] - 0s 4ms/step - loss: 10.4772 - mae: 10.4772\n",
      "Epoch 25/100\n",
      "1/1 [==============================] - 0s 4ms/step - loss: 10.3447 - mae: 10.3447\n",
      "Epoch 26/100\n",
      "1/1 [==============================] - 0s 3ms/step - loss: 10.2122 - mae: 10.2122\n",
      "Epoch 27/100\n",
      "1/1 [==============================] - 0s 3ms/step - loss: 10.0797 - mae: 10.0797\n",
      "Epoch 28/100\n",
      "1/1 [==============================] - 0s 3ms/step - loss: 9.9472 - mae: 9.9472\n",
      "Epoch 29/100\n",
      "1/1 [==============================] - 0s 3ms/step - loss: 9.8147 - mae: 9.8147\n",
      "Epoch 30/100\n",
      "1/1 [==============================] - 0s 3ms/step - loss: 9.6822 - mae: 9.6822\n",
      "Epoch 31/100\n",
      "1/1 [==============================] - 0s 4ms/step - loss: 9.5497 - mae: 9.5497\n",
      "Epoch 32/100\n",
      "1/1 [==============================] - 0s 4ms/step - loss: 9.4172 - mae: 9.4172\n",
      "Epoch 33/100\n",
      "1/1 [==============================] - 0s 3ms/step - loss: 9.2847 - mae: 9.2847\n",
      "Epoch 34/100\n",
      "1/1 [==============================] - 0s 3ms/step - loss: 9.1522 - mae: 9.1522\n",
      "Epoch 35/100\n",
      "1/1 [==============================] - 0s 3ms/step - loss: 9.0197 - mae: 9.0197\n",
      "Epoch 36/100\n",
      "1/1 [==============================] - 0s 4ms/step - loss: 8.8872 - mae: 8.8872\n",
      "Epoch 37/100\n",
      "1/1 [==============================] - 0s 3ms/step - loss: 8.7547 - mae: 8.7547\n",
      "Epoch 38/100\n",
      "1/1 [==============================] - 0s 3ms/step - loss: 8.6222 - mae: 8.6222\n",
      "Epoch 39/100\n",
      "1/1 [==============================] - 0s 4ms/step - loss: 8.4897 - mae: 8.4897\n",
      "Epoch 40/100\n",
      "1/1 [==============================] - 0s 3ms/step - loss: 8.3572 - mae: 8.3572\n",
      "Epoch 41/100\n",
      "1/1 [==============================] - 0s 3ms/step - loss: 8.2247 - mae: 8.2247\n",
      "Epoch 42/100\n",
      "1/1 [==============================] - 0s 4ms/step - loss: 8.0922 - mae: 8.0922\n",
      "Epoch 43/100\n",
      "1/1 [==============================] - 0s 4ms/step - loss: 7.9597 - mae: 7.9597\n",
      "Epoch 44/100\n",
      "1/1 [==============================] - 0s 3ms/step - loss: 7.8272 - mae: 7.8272\n",
      "Epoch 45/100\n",
      "1/1 [==============================] - 0s 3ms/step - loss: 7.6947 - mae: 7.6947\n",
      "Epoch 46/100\n",
      "1/1 [==============================] - 0s 4ms/step - loss: 7.5622 - mae: 7.5622\n",
      "Epoch 47/100\n",
      "1/1 [==============================] - 0s 4ms/step - loss: 7.4297 - mae: 7.4297\n",
      "Epoch 48/100\n",
      "1/1 [==============================] - 0s 3ms/step - loss: 7.2972 - mae: 7.2972\n",
      "Epoch 49/100\n",
      "1/1 [==============================] - 0s 3ms/step - loss: 7.1647 - mae: 7.1647\n",
      "Epoch 50/100\n",
      "1/1 [==============================] - 0s 4ms/step - loss: 7.1325 - mae: 7.1325\n",
      "Epoch 51/100\n",
      "1/1 [==============================] - 0s 4ms/step - loss: 7.1269 - mae: 7.1269\n",
      "Epoch 52/100\n",
      "1/1 [==============================] - 0s 3ms/step - loss: 7.1213 - mae: 7.1213\n",
      "Epoch 53/100\n",
      "1/1 [==============================] - 0s 4ms/step - loss: 7.1156 - mae: 7.1156\n",
      "Epoch 54/100\n",
      "1/1 [==============================] - 0s 4ms/step - loss: 7.1100 - mae: 7.1100\n",
      "Epoch 55/100\n",
      "1/1 [==============================] - 0s 4ms/step - loss: 7.1044 - mae: 7.1044\n",
      "Epoch 56/100\n",
      "1/1 [==============================] - 0s 4ms/step - loss: 7.0988 - mae: 7.0988\n",
      "Epoch 57/100\n",
      "1/1 [==============================] - 0s 4ms/step - loss: 7.0931 - mae: 7.0931\n",
      "Epoch 58/100\n",
      "1/1 [==============================] - 0s 3ms/step - loss: 7.0875 - mae: 7.0875\n",
      "Epoch 59/100\n",
      "1/1 [==============================] - 0s 4ms/step - loss: 7.0819 - mae: 7.0819\n",
      "Epoch 60/100\n",
      "1/1 [==============================] - 0s 6ms/step - loss: 7.0763 - mae: 7.0763\n",
      "Epoch 61/100\n",
      "1/1 [==============================] - 0s 4ms/step - loss: 7.0706 - mae: 7.0706\n",
      "Epoch 62/100\n",
      "1/1 [==============================] - 0s 6ms/step - loss: 7.0650 - mae: 7.0650\n",
      "Epoch 63/100\n",
      "1/1 [==============================] - 0s 5ms/step - loss: 7.0594 - mae: 7.0594\n",
      "Epoch 64/100\n",
      "1/1 [==============================] - 0s 5ms/step - loss: 7.0538 - mae: 7.0538\n",
      "Epoch 65/100\n",
      "1/1 [==============================] - 0s 4ms/step - loss: 7.0481 - mae: 7.0481\n",
      "Epoch 66/100\n",
      "1/1 [==============================] - 0s 4ms/step - loss: 7.0425 - mae: 7.0425\n",
      "Epoch 67/100\n",
      "1/1 [==============================] - 0s 3ms/step - loss: 7.0369 - mae: 7.0369\n",
      "Epoch 68/100\n",
      "1/1 [==============================] - 0s 3ms/step - loss: 7.0312 - mae: 7.0312\n",
      "Epoch 69/100\n",
      "1/1 [==============================] - 0s 3ms/step - loss: 7.0256 - mae: 7.0256\n",
      "Epoch 70/100\n",
      "1/1 [==============================] - 0s 4ms/step - loss: 7.0200 - mae: 7.0200\n",
      "Epoch 71/100\n",
      "1/1 [==============================] - 0s 3ms/step - loss: 7.0144 - mae: 7.0144\n",
      "Epoch 72/100\n",
      "1/1 [==============================] - 0s 3ms/step - loss: 7.0088 - mae: 7.0088\n",
      "Epoch 73/100\n",
      "1/1 [==============================] - 0s 3ms/step - loss: 7.0031 - mae: 7.0031\n",
      "Epoch 74/100\n",
      "1/1 [==============================] - 0s 4ms/step - loss: 6.9975 - mae: 6.9975\n",
      "Epoch 75/100\n",
      "1/1 [==============================] - 0s 3ms/step - loss: 6.9919 - mae: 6.9919\n",
      "Epoch 76/100\n",
      "1/1 [==============================] - 0s 3ms/step - loss: 6.9863 - mae: 6.9863\n",
      "Epoch 77/100\n",
      "1/1 [==============================] - 0s 4ms/step - loss: 6.9806 - mae: 6.9806\n",
      "Epoch 78/100\n",
      "1/1 [==============================] - 0s 3ms/step - loss: 6.9750 - mae: 6.9750\n",
      "Epoch 79/100\n",
      "1/1 [==============================] - 0s 3ms/step - loss: 6.9694 - mae: 6.9694\n",
      "Epoch 80/100\n",
      "1/1 [==============================] - 0s 3ms/step - loss: 6.9638 - mae: 6.9638\n",
      "Epoch 81/100\n",
      "1/1 [==============================] - 0s 4ms/step - loss: 6.9581 - mae: 6.9581\n",
      "Epoch 82/100\n",
      "1/1 [==============================] - 0s 3ms/step - loss: 6.9525 - mae: 6.9525\n",
      "Epoch 83/100\n",
      "1/1 [==============================] - 0s 3ms/step - loss: 6.9469 - mae: 6.9469\n",
      "Epoch 84/100\n",
      "1/1 [==============================] - 0s 4ms/step - loss: 6.9413 - mae: 6.9413\n",
      "Epoch 85/100\n",
      "1/1 [==============================] - 0s 3ms/step - loss: 6.9356 - mae: 6.9356\n",
      "Epoch 86/100\n",
      "1/1 [==============================] - 0s 3ms/step - loss: 6.9300 - mae: 6.9300\n",
      "Epoch 87/100\n",
      "1/1 [==============================] - 0s 3ms/step - loss: 6.9244 - mae: 6.9244\n",
      "Epoch 88/100\n",
      "1/1 [==============================] - 0s 3ms/step - loss: 6.9188 - mae: 6.9188\n",
      "Epoch 89/100\n",
      "1/1 [==============================] - 0s 3ms/step - loss: 6.9131 - mae: 6.9131\n",
      "Epoch 90/100\n",
      "1/1 [==============================] - 0s 4ms/step - loss: 6.9075 - mae: 6.9075\n",
      "Epoch 91/100\n",
      "1/1 [==============================] - 0s 3ms/step - loss: 6.9019 - mae: 6.9019\n",
      "Epoch 92/100\n",
      "1/1 [==============================] - 0s 3ms/step - loss: 6.8963 - mae: 6.8963\n",
      "Epoch 93/100\n",
      "1/1 [==============================] - 0s 4ms/step - loss: 6.8906 - mae: 6.8906\n",
      "Epoch 94/100\n",
      "1/1 [==============================] - 0s 3ms/step - loss: 6.8850 - mae: 6.8850\n",
      "Epoch 95/100\n",
      "1/1 [==============================] - 0s 4ms/step - loss: 6.8794 - mae: 6.8794\n",
      "Epoch 96/100\n",
      "1/1 [==============================] - 0s 3ms/step - loss: 6.8738 - mae: 6.8738\n",
      "Epoch 97/100\n",
      "1/1 [==============================] - 0s 4ms/step - loss: 6.8681 - mae: 6.8681\n",
      "Epoch 98/100\n",
      "1/1 [==============================] - 0s 3ms/step - loss: 6.8625 - mae: 6.8625\n",
      "Epoch 99/100\n",
      "1/1 [==============================] - 0s 3ms/step - loss: 6.8569 - mae: 6.8569\n",
      "Epoch 100/100\n",
      "1/1 [==============================] - 0s 3ms/step - loss: 6.8513 - mae: 6.8513\n"
     ]
    },
    {
     "data": {
      "text/plain": [
       "<keras.src.callbacks.History at 0x213672cf010>"
      ]
     },
     "execution_count": 15,
     "metadata": {},
     "output_type": "execute_result"
    }
   ],
   "source": [
    "# Let's rebuild our model\n",
    "\n",
    "# 1. Create the model\n",
    "model = tf.keras.Sequential([\n",
    "    tf.keras.layers.Dense(1)\n",
    "])\n",
    "\n",
    "# 2. Compile the model\n",
    "model.compile(loss=tf.keras.losses.mae,\n",
    "              optimizer=tf.keras.optimizers.SGD(),\n",
    "              metrics=[\"mae\"])\n",
    "\n",
    "# 3. Fit the model\n",
    "model.fit(X, y, epochs=100)"
   ]
  },
  {
   "cell_type": "code",
   "execution_count": 16,
   "metadata": {},
   "outputs": [
    {
     "data": {
      "text/plain": [
       "(<tf.Tensor: shape=(8, 1), dtype=float32, numpy=\n",
       " array([[-7.],\n",
       "        [-4.],\n",
       "        [-1.],\n",
       "        [ 2.],\n",
       "        [ 5.],\n",
       "        [ 8.],\n",
       "        [11.],\n",
       "        [14.]], dtype=float32)>,\n",
       " <tf.Tensor: shape=(8,), dtype=float32, numpy=array([ 3.,  6.,  9., 12., 15., 18., 21., 24.], dtype=float32)>)"
      ]
     },
     "execution_count": 16,
     "metadata": {},
     "output_type": "execute_result"
    }
   ],
   "source": [
    "# Remind ourselves of the data\n",
    "X, y"
   ]
  },
  {
   "cell_type": "code",
   "execution_count": 17,
   "metadata": {},
   "outputs": [
    {
     "name": "stdout",
     "output_type": "stream",
     "text": [
      "1/1 [==============================] - 0s 61ms/step\n"
     ]
    },
    {
     "data": {
      "text/plain": [
       "array([[29.90756]], dtype=float32)"
      ]
     },
     "execution_count": 17,
     "metadata": {},
     "output_type": "execute_result"
    }
   ],
   "source": [
    "# Let's see if our model's prediction has improved...\n",
    "model.predict([17.0])"
   ]
  },
  {
   "cell_type": "code",
   "execution_count": 18,
   "metadata": {},
   "outputs": [
    {
     "name": "stdout",
     "output_type": "stream",
     "text": [
      "Epoch 1/100\n",
      "1/1 [==============================] - 0s 402ms/step - loss: 13.9591 - mae: 13.9591\n",
      "Epoch 2/100\n",
      "1/1 [==============================] - 0s 4ms/step - loss: 13.2719 - mae: 13.2719\n",
      "Epoch 3/100\n",
      "1/1 [==============================] - 0s 4ms/step - loss: 12.5928 - mae: 12.5928\n",
      "Epoch 4/100\n",
      "1/1 [==============================] - 0s 3ms/step - loss: 11.9190 - mae: 11.9190\n",
      "Epoch 5/100\n",
      "1/1 [==============================] - 0s 4ms/step - loss: 11.2491 - mae: 11.2491\n",
      "Epoch 6/100\n",
      "1/1 [==============================] - 0s 4ms/step - loss: 10.5815 - mae: 10.5815\n",
      "Epoch 7/100\n",
      "1/1 [==============================] - 0s 4ms/step - loss: 9.9141 - mae: 9.9141\n",
      "Epoch 8/100\n",
      "1/1 [==============================] - 0s 3ms/step - loss: 9.2441 - mae: 9.2441\n",
      "Epoch 9/100\n",
      "1/1 [==============================] - 0s 3ms/step - loss: 8.5683 - mae: 8.5683\n",
      "Epoch 10/100\n",
      "1/1 [==============================] - 0s 3ms/step - loss: 7.8835 - mae: 7.8835\n",
      "Epoch 11/100\n",
      "1/1 [==============================] - 0s 4ms/step - loss: 7.1862 - mae: 7.1862\n",
      "Epoch 12/100\n",
      "1/1 [==============================] - 0s 3ms/step - loss: 6.7375 - mae: 6.7375\n",
      "Epoch 13/100\n",
      "1/1 [==============================] - 0s 4ms/step - loss: 6.8502 - mae: 6.8502\n",
      "Epoch 14/100\n",
      "1/1 [==============================] - 0s 4ms/step - loss: 7.1228 - mae: 7.1228\n",
      "Epoch 15/100\n",
      "1/1 [==============================] - 0s 3ms/step - loss: 7.2952 - mae: 7.2952\n",
      "Epoch 16/100\n",
      "1/1 [==============================] - 0s 3ms/step - loss: 7.4817 - mae: 7.4817\n",
      "Epoch 17/100\n",
      "1/1 [==============================] - 0s 3ms/step - loss: 7.4781 - mae: 7.4781\n",
      "Epoch 18/100\n",
      "1/1 [==============================] - 0s 3ms/step - loss: 7.3168 - mae: 7.3168\n",
      "Epoch 19/100\n",
      "1/1 [==============================] - 0s 4ms/step - loss: 7.0458 - mae: 7.0458\n",
      "Epoch 20/100\n",
      "1/1 [==============================] - 0s 4ms/step - loss: 6.8353 - mae: 6.8353\n",
      "Epoch 21/100\n",
      "1/1 [==============================] - 0s 3ms/step - loss: 6.6044 - mae: 6.6044\n",
      "Epoch 22/100\n",
      "1/1 [==============================] - 0s 3ms/step - loss: 6.3574 - mae: 6.3574\n",
      "Epoch 23/100\n",
      "1/1 [==============================] - 0s 4ms/step - loss: 6.1092 - mae: 6.1092\n",
      "Epoch 24/100\n",
      "1/1 [==============================] - 0s 3ms/step - loss: 6.0662 - mae: 6.0662\n",
      "Epoch 25/100\n",
      "1/1 [==============================] - 0s 3ms/step - loss: 6.0188 - mae: 6.0188\n",
      "Epoch 26/100\n",
      "1/1 [==============================] - 0s 3ms/step - loss: 6.0695 - mae: 6.0695\n",
      "Epoch 27/100\n",
      "1/1 [==============================] - 0s 4ms/step - loss: 6.0918 - mae: 6.0918\n",
      "Epoch 28/100\n",
      "1/1 [==============================] - 0s 4ms/step - loss: 6.0196 - mae: 6.0196\n",
      "Epoch 29/100\n",
      "1/1 [==============================] - 0s 4ms/step - loss: 5.8643 - mae: 5.8643\n",
      "Epoch 30/100\n",
      "1/1 [==============================] - 0s 4ms/step - loss: 5.6547 - mae: 5.6547\n",
      "Epoch 31/100\n",
      "1/1 [==============================] - 0s 4ms/step - loss: 5.5596 - mae: 5.5596\n",
      "Epoch 32/100\n",
      "1/1 [==============================] - 0s 3ms/step - loss: 5.4619 - mae: 5.4619\n",
      "Epoch 33/100\n",
      "1/1 [==============================] - 0s 3ms/step - loss: 5.3612 - mae: 5.3612\n",
      "Epoch 34/100\n",
      "1/1 [==============================] - 0s 3ms/step - loss: 5.3115 - mae: 5.3115\n",
      "Epoch 35/100\n",
      "1/1 [==============================] - 0s 4ms/step - loss: 5.2735 - mae: 5.2735\n",
      "Epoch 36/100\n",
      "1/1 [==============================] - 0s 3ms/step - loss: 5.1955 - mae: 5.1955\n",
      "Epoch 37/100\n",
      "1/1 [==============================] - 0s 3ms/step - loss: 5.0807 - mae: 5.0807\n",
      "Epoch 38/100\n",
      "1/1 [==============================] - 0s 3ms/step - loss: 4.9322 - mae: 4.9322\n",
      "Epoch 39/100\n",
      "1/1 [==============================] - 0s 3ms/step - loss: 4.8026 - mae: 4.8026\n",
      "Epoch 40/100\n",
      "1/1 [==============================] - 0s 4ms/step - loss: 4.7119 - mae: 4.7119\n",
      "Epoch 41/100\n",
      "1/1 [==============================] - 0s 3ms/step - loss: 4.6144 - mae: 4.6144\n",
      "Epoch 42/100\n",
      "1/1 [==============================] - 0s 3ms/step - loss: 4.5099 - mae: 4.5099\n",
      "Epoch 43/100\n",
      "1/1 [==============================] - 0s 3ms/step - loss: 4.3983 - mae: 4.3983\n",
      "Epoch 44/100\n",
      "1/1 [==============================] - 0s 4ms/step - loss: 4.2795 - mae: 4.2795\n",
      "Epoch 45/100\n",
      "1/1 [==============================] - 0s 3ms/step - loss: 4.1744 - mae: 4.1744\n",
      "Epoch 46/100\n",
      "1/1 [==============================] - 0s 3ms/step - loss: 4.0092 - mae: 4.0092\n",
      "Epoch 47/100\n",
      "1/1 [==============================] - 0s 4ms/step - loss: 3.8582 - mae: 3.8582\n",
      "Epoch 48/100\n",
      "1/1 [==============================] - 0s 5ms/step - loss: 3.6996 - mae: 3.6996\n",
      "Epoch 49/100\n",
      "1/1 [==============================] - 0s 5ms/step - loss: 3.5333 - mae: 3.5333\n",
      "Epoch 50/100\n",
      "1/1 [==============================] - 0s 5ms/step - loss: 3.4382 - mae: 3.4382\n",
      "Epoch 51/100\n",
      "1/1 [==============================] - 0s 5ms/step - loss: 3.2928 - mae: 3.2928\n",
      "Epoch 52/100\n",
      "1/1 [==============================] - 0s 5ms/step - loss: 3.0906 - mae: 3.0906\n",
      "Epoch 53/100\n",
      "1/1 [==============================] - 0s 4ms/step - loss: 2.8526 - mae: 2.8526\n",
      "Epoch 54/100\n",
      "1/1 [==============================] - 0s 4ms/step - loss: 2.6741 - mae: 2.6741\n",
      "Epoch 55/100\n",
      "1/1 [==============================] - 0s 4ms/step - loss: 2.4840 - mae: 2.4840\n",
      "Epoch 56/100\n",
      "1/1 [==============================] - 0s 4ms/step - loss: 2.3169 - mae: 2.3169\n",
      "Epoch 57/100\n",
      "1/1 [==============================] - 0s 3ms/step - loss: 2.0566 - mae: 2.0566\n",
      "Epoch 58/100\n",
      "1/1 [==============================] - 0s 3ms/step - loss: 1.8200 - mae: 1.8200\n",
      "Epoch 59/100\n",
      "1/1 [==============================] - 0s 3ms/step - loss: 1.6259 - mae: 1.6259\n",
      "Epoch 60/100\n",
      "1/1 [==============================] - 0s 4ms/step - loss: 1.3851 - mae: 1.3851\n",
      "Epoch 61/100\n",
      "1/1 [==============================] - 0s 4ms/step - loss: 1.0792 - mae: 1.0792\n",
      "Epoch 62/100\n",
      "1/1 [==============================] - 0s 4ms/step - loss: 0.8291 - mae: 0.8291\n",
      "Epoch 63/100\n",
      "1/1 [==============================] - 0s 4ms/step - loss: 0.5506 - mae: 0.5506\n",
      "Epoch 64/100\n",
      "1/1 [==============================] - 0s 3ms/step - loss: 0.2603 - mae: 0.2603\n",
      "Epoch 65/100\n",
      "1/1 [==============================] - 0s 3ms/step - loss: 0.1898 - mae: 0.1898\n",
      "Epoch 66/100\n",
      "1/1 [==============================] - 0s 3ms/step - loss: 0.3893 - mae: 0.3893\n",
      "Epoch 67/100\n",
      "1/1 [==============================] - 0s 4ms/step - loss: 0.5627 - mae: 0.5627\n",
      "Epoch 68/100\n",
      "1/1 [==============================] - 0s 4ms/step - loss: 0.6855 - mae: 0.6855\n",
      "Epoch 69/100\n",
      "1/1 [==============================] - 0s 4ms/step - loss: 0.8113 - mae: 0.8113\n",
      "Epoch 70/100\n",
      "1/1 [==============================] - 0s 3ms/step - loss: 0.7535 - mae: 0.7535\n",
      "Epoch 71/100\n",
      "1/1 [==============================] - 0s 3ms/step - loss: 0.7877 - mae: 0.7877\n",
      "Epoch 72/100\n",
      "1/1 [==============================] - 0s 4ms/step - loss: 0.7042 - mae: 0.7042\n",
      "Epoch 73/100\n",
      "1/1 [==============================] - 0s 4ms/step - loss: 0.6622 - mae: 0.6622\n",
      "Epoch 74/100\n",
      "1/1 [==============================] - 0s 3ms/step - loss: 0.5470 - mae: 0.5470\n",
      "Epoch 75/100\n",
      "1/1 [==============================] - 0s 4ms/step - loss: 0.4072 - mae: 0.4072\n",
      "Epoch 76/100\n",
      "1/1 [==============================] - 0s 3ms/step - loss: 0.2450 - mae: 0.2450\n",
      "Epoch 77/100\n",
      "1/1 [==============================] - 0s 3ms/step - loss: 0.0781 - mae: 0.0781\n",
      "Epoch 78/100\n",
      "1/1 [==============================] - 0s 4ms/step - loss: 0.2159 - mae: 0.2159\n",
      "Epoch 79/100\n",
      "1/1 [==============================] - 0s 3ms/step - loss: 0.2942 - mae: 0.2942\n",
      "Epoch 80/100\n",
      "1/1 [==============================] - 0s 4ms/step - loss: 0.3852 - mae: 0.3852\n",
      "Epoch 81/100\n",
      "1/1 [==============================] - 0s 5ms/step - loss: 0.4269 - mae: 0.4269\n",
      "Epoch 82/100\n",
      "1/1 [==============================] - 0s 5ms/step - loss: 0.3973 - mae: 0.3973\n",
      "Epoch 83/100\n",
      "1/1 [==============================] - 0s 5ms/step - loss: 0.3784 - mae: 0.3784\n",
      "Epoch 84/100\n",
      "1/1 [==============================] - 0s 4ms/step - loss: 0.3860 - mae: 0.3860\n",
      "Epoch 85/100\n",
      "1/1 [==============================] - 0s 5ms/step - loss: 0.3075 - mae: 0.3075\n",
      "Epoch 86/100\n",
      "1/1 [==============================] - 0s 5ms/step - loss: 0.2453 - mae: 0.2453\n",
      "Epoch 87/100\n",
      "1/1 [==============================] - 0s 3ms/step - loss: 0.1630 - mae: 0.1630\n",
      "Epoch 88/100\n",
      "1/1 [==============================] - 0s 3ms/step - loss: 0.1245 - mae: 0.1245\n",
      "Epoch 89/100\n",
      "1/1 [==============================] - 0s 4ms/step - loss: 0.1671 - mae: 0.1671\n",
      "Epoch 90/100\n",
      "1/1 [==============================] - 0s 4ms/step - loss: 0.2812 - mae: 0.2812\n",
      "Epoch 91/100\n",
      "1/1 [==============================] - 0s 3ms/step - loss: 0.2419 - mae: 0.2419\n",
      "Epoch 92/100\n",
      "1/1 [==============================] - 0s 3ms/step - loss: 0.2827 - mae: 0.2827\n",
      "Epoch 93/100\n",
      "1/1 [==============================] - 0s 3ms/step - loss: 0.2766 - mae: 0.2766\n",
      "Epoch 94/100\n",
      "1/1 [==============================] - 0s 3ms/step - loss: 0.1110 - mae: 0.1110\n",
      "Epoch 95/100\n",
      "1/1 [==============================] - 0s 3ms/step - loss: 0.2841 - mae: 0.2841\n",
      "Epoch 96/100\n",
      "1/1 [==============================] - 0s 3ms/step - loss: 0.2855 - mae: 0.2855\n",
      "Epoch 97/100\n",
      "1/1 [==============================] - 0s 3ms/step - loss: 0.1517 - mae: 0.1517\n",
      "Epoch 98/100\n",
      "1/1 [==============================] - 0s 4ms/step - loss: 0.4814 - mae: 0.4814\n",
      "Epoch 99/100\n",
      "1/1 [==============================] - 0s 3ms/step - loss: 0.5909 - mae: 0.5909\n",
      "Epoch 100/100\n",
      "1/1 [==============================] - 0s 3ms/step - loss: 0.4070 - mae: 0.4070\n"
     ]
    },
    {
     "data": {
      "text/plain": [
       "<keras.src.callbacks.History at 0x21367440490>"
      ]
     },
     "execution_count": 18,
     "metadata": {},
     "output_type": "execute_result"
    }
   ],
   "source": [
    "model = tf.keras.Sequential([\n",
    "    tf.keras.layers.Dense(50, activation=None),\n",
    "    tf.keras.layers.Dense(1)\n",
    "])\n",
    "\n",
    "model.compile(loss=tf.keras.losses.mae,\n",
    "              optimizer=tf.keras.optimizers.Adam(learning_rate=0.01),\n",
    "              metrics=[\"mae\"])\n",
    "\n",
    "model.fit(X, y, epochs=100)"
   ]
  },
  {
   "cell_type": "code",
   "execution_count": 19,
   "metadata": {},
   "outputs": [
    {
     "name": "stdout",
     "output_type": "stream",
     "text": [
      "1/1 [==============================] - 0s 52ms/step\n"
     ]
    },
    {
     "data": {
      "text/plain": [
       "array([[26.814146]], dtype=float32)"
      ]
     },
     "execution_count": 19,
     "metadata": {},
     "output_type": "execute_result"
    }
   ],
   "source": [
    "model.predict([17.0])"
   ]
  },
  {
   "cell_type": "markdown",
   "metadata": {},
   "source": [
    "## Evaluating a model\n",
    "\n",
    "In practice, a typical workflow you'll go through when building neural networks is:\n",
    "```\n",
    "Build a model -> fit it -> evaluate it -> tweak a model -> fit it -> evaluate it -> tweak a model -> fit it -> evaluate it...\n",
    "```"
   ]
  },
  {
   "cell_type": "markdown",
   "metadata": {},
   "source": [
    "When it comes to evaluation... there are 3 words you should memorize:\n",
    "> \"Visualize, visualize, visualize\"\n",
    "It's a good idea to visualize:\n",
    "* The data - what data are we working with? What does it look like?\n",
    "* The model itself - what does our model look like?\n",
    "* The training of a model - how does a model perform while it learns?\n",
    "* The predictions of the model - how do the predictions of model line up against the ground truth (the original labels)?"
   ]
  },
  {
   "cell_type": "code",
   "execution_count": 20,
   "metadata": {},
   "outputs": [
    {
     "data": {
      "text/plain": [
       "<tf.Tensor: shape=(50,), dtype=int32, numpy=\n",
       "array([-100,  -96,  -92,  -88,  -84,  -80,  -76,  -72,  -68,  -64,  -60,\n",
       "        -56,  -52,  -48,  -44,  -40,  -36,  -32,  -28,  -24,  -20,  -16,\n",
       "        -12,   -8,   -4,    0,    4,    8,   12,   16,   20,   24,   28,\n",
       "         32,   36,   40,   44,   48,   52,   56,   60,   64,   68,   72,\n",
       "         76,   80,   84,   88,   92,   96])>"
      ]
     },
     "execution_count": 20,
     "metadata": {},
     "output_type": "execute_result"
    }
   ],
   "source": [
    "# Make a bigger dataset\n",
    "X = tf.range(-100, 100, 4)\n",
    "X"
   ]
  },
  {
   "cell_type": "code",
   "execution_count": 21,
   "metadata": {},
   "outputs": [
    {
     "data": {
      "text/plain": [
       "<tf.Tensor: shape=(50,), dtype=int32, numpy=\n",
       "array([-90, -86, -82, -78, -74, -70, -66, -62, -58, -54, -50, -46, -42,\n",
       "       -38, -34, -30, -26, -22, -18, -14, -10,  -6,  -2,   2,   6,  10,\n",
       "        14,  18,  22,  26,  30,  34,  38,  42,  46,  50,  54,  58,  62,\n",
       "        66,  70,  74,  78,  82,  86,  90,  94,  98, 102, 106])>"
      ]
     },
     "execution_count": 21,
     "metadata": {},
     "output_type": "execute_result"
    }
   ],
   "source": [
    "# Make labels for dataset\n",
    "y = X + 10\n",
    "y"
   ]
  },
  {
   "cell_type": "code",
   "execution_count": 22,
   "metadata": {},
   "outputs": [
    {
     "data": {
      "text/plain": [
       "<matplotlib.collections.PathCollection at 0x213684bb290>"
      ]
     },
     "execution_count": 22,
     "metadata": {},
     "output_type": "execute_result"
    },
    {
     "data": {
      "image/png": "[encoded data removed]",
      "text/plain": [
       "<Figure size 640x480 with 1 Axes>"
      ]
     },
     "metadata": {},
     "output_type": "display_data"
    }
   ],
   "source": [
    "# Visualize the data\n",
    "import matplotlib.pyplot as plt\n",
    "\n",
    "plt.scatter(X, y)"
   ]
  },
  {
   "cell_type": "markdown",
   "metadata": {},
   "source": [
    "### The 3 sets...\n",
    "\n",
    "  * Training set - the model learns from this data, which is typically 70-80% of the total data you have available.\n",
    "  * Validation set - the model get tuned on this data, which is typically 10-15% of the data available.\n",
    "  * Test set - the model gets evaluated on this data to test what is has learned, this set is typically 10-15% of the total data available."
   ]
  },
  {
   "cell_type": "code",
   "execution_count": 23,
   "metadata": {},
   "outputs": [
    {
     "data": {
      "text/plain": [
       "50"
      ]
     },
     "execution_count": 23,
     "metadata": {},
     "output_type": "execute_result"
    }
   ],
   "source": [
    "# Check teh length of how many sample we have\n",
    "len(X)"
   ]
  },
  {
   "cell_type": "code",
   "execution_count": 24,
   "metadata": {},
   "outputs": [
    {
     "data": {
      "text/plain": [
       "(40, 10, 40, 10)"
      ]
     },
     "execution_count": 24,
     "metadata": {},
     "output_type": "execute_result"
    }
   ],
   "source": [
    "# Split the data into train and test sets\n",
    "X_train = X[:40] # first 40 are training samples (80& of the data)\n",
    "y_train = y[:40]\n",
    "\n",
    "X_test = X[40:]\n",
    "y_test = y[40:]\n",
    "\n",
    "len(X_train), len(X_test), len(y_train), len(y_test)"
   ]
  },
  {
   "cell_type": "markdown",
   "metadata": {},
   "source": [
    "### Visualizing the data\n",
    "\n",
    "Now we've got our data in training test sets... let's visualize it again!"
   ]
  },
  {
   "cell_type": "code",
   "execution_count": 25,
   "metadata": {},
   "outputs": [
    {
     "data": {
      "text/plain": [
       "<matplotlib.legend.Legend at 0x213684af3d0>"
      ]
     },
     "execution_count": 25,
     "metadata": {},
     "output_type": "execute_result"
    },
    {
     "data": {
      "image/png": "[encoded data removed]",
      "text/plain": [
       "<Figure size 1000x700 with 1 Axes>"
      ]
     },
     "metadata": {},
     "output_type": "display_data"
    }
   ],
   "source": [
    "plt.figure(figsize=(10, 7))\n",
    "# Plot training data in blue\n",
    "plt.scatter(X_train, y_train, c=\"b\", label=\"Training data\")\n",
    "# Plot the test data in green\n",
    "plt.scatter(X_test, y_test, c=\"g\", label=\"Testing data\")\n",
    "plt.legend()"
   ]
  },
  {
   "cell_type": "code",
   "execution_count": 26,
   "metadata": {},
   "outputs": [],
   "source": [
    "# Let's have a look at how to build a neural network for our data\n",
    "\n",
    "# 1. Create a model\n",
    "model = tf.keras.Sequential([\n",
    "    tf.keras.layers.Dense(100, activation=\"relu\"),\n",
    "    tf.keras.layers.Dense(1)\n",
    "])\n",
    "\n",
    "# 2. Compile the model\n",
    "model.compile(loss=tf.keras.losses.mae,\n",
    "              optimizer=tf.keras.optimizers.SGD(),\n",
    "              metrics=[\"mae\"])\n",
    "\n",
    "# 3. Fit the model\n",
    "# model.fit(X_train, y_train, epochs=100)"
   ]
  },
  {
   "cell_type": "markdown",
   "metadata": {},
   "source": [
    "### Visualizing the model"
   ]
  },
  {
   "cell_type": "code",
   "execution_count": 27,
   "metadata": {},
   "outputs": [
    {
     "ename": "ValueError",
     "evalue": "This model has not yet been built. Build the model first by calling `build()` or by calling the model on a batch of data.",
     "output_type": "error",
     "traceback": [
      "\u001b[1;31m---------------------------------------------------------------------------\u001b[0m",
      "\u001b[1;31mValueError\u001b[0m                                Traceback (most recent call last)",
      "\u001b[1;32mc:\\Users\\MohammadJavad\\OneDrive\\Desktop\\mjaliz\\tfztm\\03-Neural Network Regression with TensorFlow\\01_neural_network_regression_with_tensorflow.ipynb Cell 37\u001b[0m line \u001b[0;36m1\n\u001b[1;32m----> <a href='vscode-notebook-cell:/c%3A/Users/MohammadJavad/OneDrive/Desktop/mjaliz/tfztm/03-Neural%20Network%20Regression%20with%20TensorFlow/01_neural_network_regression_with_tensorflow.ipynb#X51sZmlsZQ%3D%3D?line=0'>1</a>\u001b[0m model\u001b[39m.\u001b[39;49msummary()\n",
      "File \u001b[1;32mc:\\Users\\MohammadJavad\\OneDrive\\Desktop\\mjaliz\\tfztm\\venv\\Lib\\site-packages\\keras\\src\\engine\\training.py:3403\u001b[0m, in \u001b[0;36mModel.summary\u001b[1;34m(self, line_length, positions, print_fn, expand_nested, show_trainable, layer_range)\u001b[0m\n\u001b[0;32m   3372\u001b[0m \u001b[39m\u001b[39m\u001b[39m\"\"\"Prints a string summary of the network.\u001b[39;00m\n\u001b[0;32m   3373\u001b[0m \n\u001b[0;32m   3374\u001b[0m \u001b[39mArgs:\u001b[39;00m\n\u001b[1;32m   (...)\u001b[0m\n\u001b[0;32m   3400\u001b[0m \u001b[39m    ValueError: if `summary()` is called before the model is built.\u001b[39;00m\n\u001b[0;32m   3401\u001b[0m \u001b[39m\"\"\"\u001b[39;00m\n\u001b[0;32m   3402\u001b[0m \u001b[39mif\u001b[39;00m \u001b[39mnot\u001b[39;00m \u001b[39mself\u001b[39m\u001b[39m.\u001b[39mbuilt:\n\u001b[1;32m-> 3403\u001b[0m     \u001b[39mraise\u001b[39;00m \u001b[39mValueError\u001b[39;00m(\n\u001b[0;32m   3404\u001b[0m         \u001b[39m\"\u001b[39m\u001b[39mThis model has not yet been built. \u001b[39m\u001b[39m\"\u001b[39m\n\u001b[0;32m   3405\u001b[0m         \u001b[39m\"\u001b[39m\u001b[39mBuild the model first by calling `build()` or by calling \u001b[39m\u001b[39m\"\u001b[39m\n\u001b[0;32m   3406\u001b[0m         \u001b[39m\"\u001b[39m\u001b[39mthe model on a batch of data.\u001b[39m\u001b[39m\"\u001b[39m\n\u001b[0;32m   3407\u001b[0m     )\n\u001b[0;32m   3408\u001b[0m layer_utils\u001b[39m.\u001b[39mprint_summary(\n\u001b[0;32m   3409\u001b[0m     \u001b[39mself\u001b[39m,\n\u001b[0;32m   3410\u001b[0m     line_length\u001b[39m=\u001b[39mline_length,\n\u001b[1;32m   (...)\u001b[0m\n\u001b[0;32m   3415\u001b[0m     layer_range\u001b[39m=\u001b[39mlayer_range,\n\u001b[0;32m   3416\u001b[0m )\n",
      "\u001b[1;31mValueError\u001b[0m: This model has not yet been built. Build the model first by calling `build()` or by calling the model on a batch of data."
     ]
    }
   ],
   "source": [
    "model.summary()"
   ]
  },
  {
   "cell_type": "code",
   "execution_count": 28,
   "metadata": {},
   "outputs": [],
   "source": [
    "# Let's create a model which builds automatically by defining the input_shape argument in the first layer\n",
    "tf.random.set_seed(42)\n",
    "\n",
    "# 1. Create the model (same as above)\n",
    "model = tf.keras.Sequential([\n",
    "    tf.keras.layers.Dense(10, input_shape=[1]),\n",
    "    tf.keras.layers.Dense(1)\n",
    "])\n",
    "\n",
    "# 2. Compile the model\n",
    "model.compile(loss=tf.keras.losses.mae,\n",
    "              optimizer=tf.keras.optimizers.SGD(),\n",
    "              metrics=[\"mae\"])"
   ]
  },
  {
   "cell_type": "code",
   "execution_count": 29,
   "metadata": {},
   "outputs": [
    {
     "name": "stdout",
     "output_type": "stream",
     "text": [
      "Model: \"sequential_4\"\n",
      "_________________________________________________________________\n",
      " Layer (type)                Output Shape              Param #   \n",
      "=================================================================\n",
      " dense_6 (Dense)             (None, 10)                20        \n",
      "                                                                 \n",
      " dense_7 (Dense)             (None, 1)                 11        \n",
      "                                                                 \n",
      "=================================================================\n",
      "Total params: 31 (124.00 Byte)\n",
      "Trainable params: 31 (124.00 Byte)\n",
      "Non-trainable params: 0 (0.00 Byte)\n",
      "_________________________________________________________________\n"
     ]
    }
   ],
   "source": [
    "model.summary()"
   ]
  },
  {
   "cell_type": "markdown",
   "metadata": {},
   "source": [
    "* Total params - total number of parameters in the model.\n",
    "* Trainable parameters - these are the parameters (patterns) the model can update as it trains.\n",
    "* Non-trainable params - these parameters aren't updated during training (this is typical when you bring in already learn patterns or parameters from other models during **transfer learning**)."
   ]
  },
  {
   "cell_type": "code",
   "execution_count": 30,
   "metadata": {},
   "outputs": [
    {
     "data": {
      "text/plain": [
       "<keras.src.callbacks.History at 0x213673cbbd0>"
      ]
     },
     "execution_count": 30,
     "metadata": {},
     "output_type": "execute_result"
    }
   ],
   "source": [
    "model.fit(X_train, y_train ,epochs=100, verbose=0)"
   ]
  },
  {
   "cell_type": "code",
   "execution_count": 31,
   "metadata": {},
   "outputs": [
    {
     "name": "stdout",
     "output_type": "stream",
     "text": [
      "Model: \"sequential_4\"\n",
      "_________________________________________________________________\n",
      " Layer (type)                Output Shape              Param #   \n",
      "=================================================================\n",
      " dense_6 (Dense)             (None, 10)                20        \n",
      "                                                                 \n",
      " dense_7 (Dense)             (None, 1)                 11        \n",
      "                                                                 \n",
      "=================================================================\n",
      "Total params: 31 (124.00 Byte)\n",
      "Trainable params: 31 (124.00 Byte)\n",
      "Non-trainable params: 0 (0.00 Byte)\n",
      "_________________________________________________________________\n"
     ]
    }
   ],
   "source": [
    "model.summary()"
   ]
  },
  {
   "cell_type": "code",
   "execution_count": 32,
   "metadata": {},
   "outputs": [
    {
     "name": "stdout",
     "output_type": "stream",
     "text": [
      "You must install pydot (`pip install pydot`) and install graphviz (see instructions at https://graphviz.gitlab.io/download/) for plot_model to work.\n"
     ]
    }
   ],
   "source": [
    "from  tensorflow.keras.utils import plot_model\n",
    "plot_model(model)"
   ]
  },
  {
   "cell_type": "markdown",
   "metadata": {},
   "source": [
    "### Visualize our model's predictions\n",
    "\n",
    "To visualize predictions, it's a good idea to plot them against ground truth labels.\n",
    "\n",
    "Often you'll see this in the form of `y_test` or `y_true` versus `y_pred` (ground truth versus your model predictions)"
   ]
  },
  {
   "cell_type": "code",
   "execution_count": 33,
   "metadata": {},
   "outputs": [
    {
     "name": "stdout",
     "output_type": "stream",
     "text": [
      "1/1 [==============================] - 0s 44ms/step\n"
     ]
    },
    {
     "data": {
      "text/plain": [
       "array([[ 76.491905],\n",
       "       [ 81.476654],\n",
       "       [ 86.4614  ],\n",
       "       [ 91.44615 ],\n",
       "       [ 96.4309  ],\n",
       "       [101.41566 ],\n",
       "       [106.400406],\n",
       "       [111.385155],\n",
       "       [116.3699  ],\n",
       "       [121.35467 ]], dtype=float32)"
      ]
     },
     "execution_count": 33,
     "metadata": {},
     "output_type": "execute_result"
    }
   ],
   "source": [
    "# Make some predictions\n",
    "y_pred = model.predict(X_test)\n",
    "y_pred"
   ]
  },
  {
   "cell_type": "code",
   "execution_count": 34,
   "metadata": {},
   "outputs": [],
   "source": [
    "# Let's create a plotting function\n",
    "def plot_predictions(train_data=X_train,\n",
    "                     train_labels=y_train,\n",
    "                     test_data=X_test,\n",
    "                     test_labels=y_test,\n",
    "                     predictions=y_pred):\n",
    "    \"\"\"\n",
    "    Plots training data, test data and compares predictions to ground truth labels.\n",
    "    \"\"\"\n",
    "\n",
    "    plt.figure(figsize=(10, 7))\n",
    "    # Plot training data in blue\n",
    "    plt.scatter(train_data, train_labels, c=\"b\", label=\"Training data\")\n",
    "    # Plot the test data in green\n",
    "    plt.scatter(test_data, test_labels, c=\"g\", label=\"Testing data\")\n",
    "    # Plot models predictions in red\n",
    "    plt.scatter(test_data, predictions, c=\"r\", label=\"Predictions\")\n",
    "    # Show the legend\n",
    "    plt.legend();"
   ]
  },
  {
   "cell_type": "code",
   "execution_count": 35,
   "metadata": {},
   "outputs": [],
   "source": [
    "# X_test = tf.expand_dims(X_test, axis=-1)"
   ]
  },
  {
   "cell_type": "code",
   "execution_count": 36,
   "metadata": {},
   "outputs": [
    {
     "data": {
      "text/plain": [
       "(TensorShape([10]), (10, 1))"
      ]
     },
     "execution_count": 36,
     "metadata": {},
     "output_type": "execute_result"
    }
   ],
   "source": [
    "X_test.shape, y_pred.shape"
   ]
  },
  {
   "cell_type": "code",
   "execution_count": 37,
   "metadata": {},
   "outputs": [
    {
     "data": {
      "image/png": "[encoded data removed]",
      "text/plain": [
       "<Figure size 1000x700 with 1 Axes>"
      ]
     },
     "metadata": {},
     "output_type": "display_data"
    }
   ],
   "source": [
    "plot_predictions()"
   ]
  },
  {
   "cell_type": "markdown",
   "metadata": {},
   "source": [
    "### Evaluating our model's predictions with regression evaluation metrics\n",
    "\n",
    "Depending on the problem you're working on, there will be different evaluation metrics to evaluate your model's performance.\n",
    "\n",
    "Since we're working on a regression problem, two of the main metrics:\n",
    "* MAE - mean absolute error, \"on average, how wrong is each of my model's predictions\"\n",
    "* MSE - mean square error, \"square the average errors\""
   ]
  },
  {
   "cell_type": "code",
   "execution_count": 39,
   "metadata": {},
   "outputs": [
    {
     "name": "stdout",
     "output_type": "stream",
     "text": [
      "1/1 [==============================] - 0s 106ms/step - loss: 10.9233 - mae: 10.9233\n"
     ]
    },
    {
     "data": {
      "text/plain": [
       "[10.923279762268066, 10.923279762268066]"
      ]
     },
     "execution_count": 39,
     "metadata": {},
     "output_type": "execute_result"
    }
   ],
   "source": [
    "# Evaluate the model on the test\n",
    "model.evaluate(X_test, y_test)"
   ]
  },
  {
   "cell_type": "code",
   "execution_count": 43,
   "metadata": {},
   "outputs": [
    {
     "data": {
      "text/plain": [
       "<tf.Tensor: shape=(10,), dtype=float32, numpy=\n",
       "array([13.304857, 11.009338, 10.      , 10.28923 , 11.77236 , 14.449394,\n",
       "       18.400406, 23.385155, 28.369904, 33.354668], dtype=float32)>"
      ]
     },
     "execution_count": 43,
     "metadata": {},
     "output_type": "execute_result"
    }
   ],
   "source": [
    "# Calculate the mean absolute error\n",
    "mae = tf.metrics.mean_absolute_error(y_test, y_pred)\n",
    "mae"
   ]
  },
  {
   "cell_type": "code",
   "execution_count": 40,
   "metadata": {},
   "outputs": [
    {
     "data": {
      "text/plain": [
       "array([[ 76.491905],\n",
       "       [ 81.476654],\n",
       "       [ 86.4614  ],\n",
       "       [ 91.44615 ],\n",
       "       [ 96.4309  ],\n",
       "       [101.41566 ],\n",
       "       [106.400406],\n",
       "       [111.385155],\n",
       "       [116.3699  ],\n",
       "       [121.35467 ]], dtype=float32)"
      ]
     },
     "execution_count": 40,
     "metadata": {},
     "output_type": "execute_result"
    }
   ],
   "source": [
    "y_pred"
   ]
  },
  {
   "cell_type": "code",
   "execution_count": 41,
   "metadata": {},
   "outputs": [
    {
     "data": {
      "text/plain": [
       "<tf.Tensor: shape=(10,), dtype=int32, numpy=array([ 70,  74,  78,  82,  86,  90,  94,  98, 102, 106])>"
      ]
     },
     "execution_count": 41,
     "metadata": {},
     "output_type": "execute_result"
    }
   ],
   "source": [
    "y_test"
   ]
  },
  {
   "cell_type": "code",
   "execution_count": 44,
   "metadata": {},
   "outputs": [
    {
     "data": {
      "text/plain": [
       "<tf.Tensor: shape=(10,), dtype=float32, numpy=\n",
       "array([ 76.491905,  81.476654,  86.4614  ,  91.44615 ,  96.4309  ,\n",
       "       101.41566 , 106.400406, 111.385155, 116.3699  , 121.35467 ],\n",
       "      dtype=float32)>"
      ]
     },
     "execution_count": 44,
     "metadata": {},
     "output_type": "execute_result"
    }
   ],
   "source": [
    "tf.squeeze(y_pred)"
   ]
  },
  {
   "cell_type": "code",
   "execution_count": 45,
   "metadata": {},
   "outputs": [
    {
     "data": {
      "text/plain": [
       "<tf.Tensor: shape=(), dtype=float32, numpy=10.923281>"
      ]
     },
     "execution_count": 45,
     "metadata": {},
     "output_type": "execute_result"
    }
   ],
   "source": [
    "# Calculate the mean absolute error\n",
    "mae = tf.metrics.mean_absolute_error(y_true=y_test,\n",
    "                                     y_pred=tf.squeeze(y_pred))\n",
    "mae"
   ]
  },
  {
   "cell_type": "code",
   "execution_count": 46,
   "metadata": {},
   "outputs": [
    {
     "data": {
      "text/plain": [
       "<tf.Tensor: shape=(), dtype=float32, numpy=127.31836>"
      ]
     },
     "execution_count": 46,
     "metadata": {},
     "output_type": "execute_result"
    }
   ],
   "source": [
    "# Calculate the mean square error\n",
    "mse = tf.metrics.mean_squared_error(y_test,\n",
    "                                    tf.squeeze(y_pred))\n",
    "mse"
   ]
  },
  {
   "cell_type": "code",
   "execution_count": 54,
   "metadata": {},
   "outputs": [],
   "source": [
    "# Make some function to use MAE and MSE\n",
    "def mae(y_true, y_pred):\n",
    "    return tf.metrics.mean_absolute_error(y_true, tf.squeeze(y_pred))\n",
    "\n",
    "def mse(y_true, y_pred):\n",
    "    return tf.metrics.mean_squared_error(y_true, tf.squeeze(y_pred))"
   ]
  },
  {
   "cell_type": "markdown",
   "metadata": {},
   "source": [
    "### Running experiment to improve our model\n",
    "\n",
    "```\n",
    "Build a model -> fit it -> evaluate it -> tweak it -> fit it -> evaluate it -> tweak it -> fit it -> evaluate it ...\n",
    "```\n",
    "1. Get more data - get more examples for your model to train on (more opportunities to learn patterns or relationships between features and labels).\n",
    "2. Make your model larger (using a more complex model) - this might come in the form of more layers or more hidden units in each layer.\n",
    "3. Train for longer - give your model more of a chance to find patterns in the data.\n",
    "\n",
    "Let's do 3 modelling experiments:\n",
    "1. `model_1` - same as the original model, 1 layer, trained for 100 epochs.\n",
    "2. `model_2` - 2 layers, trained for 100 epochs\n",
    "3. `model_3` - 2 layers, trained for 500 epochs\n",
    "\n",
    "**Build model_1**"
   ]
  },
  {
   "cell_type": "code",
   "execution_count": 50,
   "metadata": {},
   "outputs": [
    {
     "name": "stdout",
     "output_type": "stream",
     "text": [
      "Epoch 1/100\n",
      "2/2 [==============================] - 0s 6ms/step - loss: 64.9116 - mae: 64.9116\n",
      "Epoch 2/100\n",
      "2/2 [==============================] - 0s 4ms/step - loss: 29.9092 - mae: 29.9092\n",
      "Epoch 3/100\n",
      "2/2 [==============================] - 0s 4ms/step - loss: 10.3171 - mae: 10.3171\n",
      "Epoch 4/100\n",
      "2/2 [==============================] - 0s 4ms/step - loss: 12.7244 - mae: 12.7244\n",
      "Epoch 5/100\n",
      "2/2 [==============================] - 0s 3ms/step - loss: 11.7696 - mae: 11.7696\n",
      "Epoch 6/100\n",
      "2/2 [==============================] - 0s 4ms/step - loss: 10.8854 - mae: 10.8854\n",
      "Epoch 7/100\n",
      "2/2 [==============================] - 0s 3ms/step - loss: 8.7297 - mae: 8.7297\n",
      "Epoch 8/100\n",
      "2/2 [==============================] - 0s 5ms/step - loss: 7.7502 - mae: 7.7502\n",
      "Epoch 9/100\n",
      "2/2 [==============================] - 0s 3ms/step - loss: 20.0092 - mae: 20.0092\n",
      "Epoch 10/100\n",
      "2/2 [==============================] - 0s 4ms/step - loss: 13.7099 - mae: 13.7099\n",
      "Epoch 11/100\n",
      "2/2 [==============================] - 0s 3ms/step - loss: 11.7834 - mae: 11.7834\n",
      "Epoch 12/100\n",
      "2/2 [==============================] - 0s 4ms/step - loss: 16.4287 - mae: 16.4287\n",
      "Epoch 13/100\n",
      "2/2 [==============================] - 0s 9ms/step - loss: 11.9634 - mae: 11.9634\n",
      "Epoch 14/100\n",
      "2/2 [==============================] - 0s 4ms/step - loss: 13.8949 - mae: 13.8949\n",
      "Epoch 15/100\n",
      "2/2 [==============================] - 0s 4ms/step - loss: 11.2844 - mae: 11.2844\n",
      "Epoch 16/100\n",
      "2/2 [==============================] - 0s 8ms/step - loss: 8.5967 - mae: 8.5967\n",
      "Epoch 17/100\n",
      "2/2 [==============================] - 0s 4ms/step - loss: 13.7479 - mae: 13.7479\n",
      "Epoch 18/100\n",
      "2/2 [==============================] - 0s 4ms/step - loss: 11.5996 - mae: 11.5996\n",
      "Epoch 19/100\n",
      "2/2 [==============================] - 0s 5ms/step - loss: 17.7847 - mae: 17.7847\n",
      "Epoch 20/100\n",
      "2/2 [==============================] - 0s 4ms/step - loss: 14.9204 - mae: 14.9204\n",
      "Epoch 21/100\n",
      "2/2 [==============================] - 0s 4ms/step - loss: 10.8174 - mae: 10.8174\n",
      "Epoch 22/100\n",
      "2/2 [==============================] - 0s 5ms/step - loss: 8.5638 - mae: 8.5638\n",
      "Epoch 23/100\n",
      "2/2 [==============================] - 0s 5ms/step - loss: 9.7662 - mae: 9.7662\n",
      "Epoch 24/100\n",
      "2/2 [==============================] - 0s 4ms/step - loss: 10.9225 - mae: 10.9225\n",
      "Epoch 25/100\n",
      "2/2 [==============================] - 0s 4ms/step - loss: 9.1576 - mae: 9.1576\n",
      "Epoch 26/100\n",
      "2/2 [==============================] - 0s 3ms/step - loss: 13.1560 - mae: 13.1560\n",
      "Epoch 27/100\n",
      "2/2 [==============================] - 0s 3ms/step - loss: 10.4628 - mae: 10.4628\n",
      "Epoch 28/100\n",
      "2/2 [==============================] - 0s 3ms/step - loss: 13.5012 - mae: 13.5012\n",
      "Epoch 29/100\n",
      "2/2 [==============================] - 0s 4ms/step - loss: 10.0199 - mae: 10.0199\n",
      "Epoch 30/100\n",
      "2/2 [==============================] - 0s 3ms/step - loss: 16.0293 - mae: 16.0293\n",
      "Epoch 31/100\n",
      "2/2 [==============================] - 0s 2ms/step - loss: 23.9382 - mae: 23.9382\n",
      "Epoch 32/100\n",
      "2/2 [==============================] - 0s 3ms/step - loss: 8.0233 - mae: 8.0233\n",
      "Epoch 33/100\n",
      "2/2 [==============================] - 0s 3ms/step - loss: 9.7402 - mae: 9.7402\n",
      "Epoch 34/100\n",
      "2/2 [==============================] - 0s 4ms/step - loss: 12.0990 - mae: 12.0990\n",
      "Epoch 35/100\n",
      "2/2 [==============================] - 0s 3ms/step - loss: 11.5567 - mae: 11.5567\n",
      "Epoch 36/100\n",
      "2/2 [==============================] - 0s 4ms/step - loss: 12.7481 - mae: 12.7481\n",
      "Epoch 37/100\n",
      "2/2 [==============================] - 0s 3ms/step - loss: 9.4926 - mae: 9.4926\n",
      "Epoch 38/100\n",
      "2/2 [==============================] - 0s 3ms/step - loss: 10.1567 - mae: 10.1567\n",
      "Epoch 39/100\n",
      "2/2 [==============================] - 0s 5ms/step - loss: 10.1871 - mae: 10.1871\n",
      "Epoch 40/100\n",
      "2/2 [==============================] - 0s 10ms/step - loss: 10.9183 - mae: 10.9183\n",
      "Epoch 41/100\n",
      "2/2 [==============================] - 0s 4ms/step - loss: 7.9140 - mae: 7.9140\n",
      "Epoch 42/100\n",
      "2/2 [==============================] - 0s 6ms/step - loss: 10.1088 - mae: 10.1088\n",
      "Epoch 43/100\n",
      "2/2 [==============================] - 0s 3ms/step - loss: 8.7155 - mae: 8.7155\n",
      "Epoch 44/100\n",
      "2/2 [==============================] - 0s 4ms/step - loss: 12.2231 - mae: 12.2231\n",
      "Epoch 45/100\n",
      "2/2 [==============================] - 0s 4ms/step - loss: 13.7994 - mae: 13.7994\n",
      "Epoch 46/100\n",
      "2/2 [==============================] - 0s 3ms/step - loss: 8.4763 - mae: 8.4763\n",
      "Epoch 47/100\n",
      "2/2 [==============================] - 0s 4ms/step - loss: 9.1494 - mae: 9.1494\n",
      "Epoch 48/100\n",
      "2/2 [==============================] - 0s 3ms/step - loss: 10.6376 - mae: 10.6376\n",
      "Epoch 49/100\n",
      "2/2 [==============================] - 0s 3ms/step - loss: 7.7656 - mae: 7.7656\n",
      "Epoch 50/100\n",
      "2/2 [==============================] - 0s 3ms/step - loss: 9.5583 - mae: 9.5583\n",
      "Epoch 51/100\n",
      "2/2 [==============================] - 0s 4ms/step - loss: 9.1723 - mae: 9.1723\n",
      "Epoch 52/100\n",
      "2/2 [==============================] - 0s 3ms/step - loss: 16.3777 - mae: 16.3777\n",
      "Epoch 53/100\n",
      "2/2 [==============================] - 0s 3ms/step - loss: 14.1349 - mae: 14.1349\n",
      "Epoch 54/100\n",
      "2/2 [==============================] - 0s 3ms/step - loss: 21.1196 - mae: 21.1196\n",
      "Epoch 55/100\n",
      "2/2 [==============================] - 0s 2ms/step - loss: 16.4123 - mae: 16.4123\n",
      "Epoch 56/100\n",
      "2/2 [==============================] - 0s 3ms/step - loss: 9.9389 - mae: 9.9389\n",
      "Epoch 57/100\n",
      "2/2 [==============================] - 0s 3ms/step - loss: 9.6311 - mae: 9.6311\n",
      "Epoch 58/100\n",
      "2/2 [==============================] - 0s 3ms/step - loss: 8.9631 - mae: 8.9631\n",
      "Epoch 59/100\n",
      "2/2 [==============================] - 0s 2ms/step - loss: 10.1504 - mae: 10.1504\n",
      "Epoch 60/100\n",
      "2/2 [==============================] - 0s 3ms/step - loss: 8.4633 - mae: 8.4633\n",
      "Epoch 61/100\n",
      "2/2 [==============================] - 0s 2ms/step - loss: 9.3171 - mae: 9.3171\n",
      "Epoch 62/100\n",
      "2/2 [==============================] - 0s 3ms/step - loss: 7.0865 - mae: 7.0865\n",
      "Epoch 63/100\n",
      "2/2 [==============================] - 0s 2ms/step - loss: 8.6381 - mae: 8.6381\n",
      "Epoch 64/100\n",
      "2/2 [==============================] - 0s 3ms/step - loss: 9.2174 - mae: 9.2174\n",
      "Epoch 65/100\n",
      "2/2 [==============================] - 0s 3ms/step - loss: 10.4530 - mae: 10.4530\n",
      "Epoch 66/100\n",
      "2/2 [==============================] - 0s 3ms/step - loss: 15.7079 - mae: 15.7079\n",
      "Epoch 67/100\n",
      "2/2 [==============================] - 0s 3ms/step - loss: 10.0901 - mae: 10.0901\n",
      "Epoch 68/100\n",
      "2/2 [==============================] - 0s 4ms/step - loss: 9.0513 - mae: 9.0513\n",
      "Epoch 69/100\n",
      "2/2 [==============================] - 0s 4ms/step - loss: 12.5801 - mae: 12.5801\n",
      "Epoch 70/100\n",
      "2/2 [==============================] - 0s 5ms/step - loss: 8.9673 - mae: 8.9673\n",
      "Epoch 71/100\n",
      "2/2 [==============================] - 0s 4ms/step - loss: 9.9416 - mae: 9.9416\n",
      "Epoch 72/100\n",
      "2/2 [==============================] - 0s 5ms/step - loss: 9.9815 - mae: 9.9815\n",
      "Epoch 73/100\n",
      "2/2 [==============================] - 0s 3ms/step - loss: 12.4438 - mae: 12.4438\n",
      "Epoch 74/100\n",
      "2/2 [==============================] - 0s 5ms/step - loss: 10.5948 - mae: 10.5948\n",
      "Epoch 75/100\n",
      "2/2 [==============================] - 0s 4ms/step - loss: 9.6394 - mae: 9.6394\n",
      "Epoch 76/100\n",
      "2/2 [==============================] - 0s 4ms/step - loss: 11.1043 - mae: 11.1043\n",
      "Epoch 77/100\n",
      "2/2 [==============================] - 0s 3ms/step - loss: 8.2876 - mae: 8.2876\n",
      "Epoch 78/100\n",
      "2/2 [==============================] - 0s 3ms/step - loss: 8.9760 - mae: 8.9760\n",
      "Epoch 79/100\n",
      "2/2 [==============================] - 0s 3ms/step - loss: 19.8081 - mae: 19.8081\n",
      "Epoch 80/100\n",
      "2/2 [==============================] - 0s 3ms/step - loss: 17.8149 - mae: 17.8149\n",
      "Epoch 81/100\n",
      "2/2 [==============================] - 0s 3ms/step - loss: 7.0975 - mae: 7.0975\n",
      "Epoch 82/100\n",
      "2/2 [==============================] - 0s 3ms/step - loss: 10.4166 - mae: 10.4166\n",
      "Epoch 83/100\n",
      "2/2 [==============================] - 0s 4ms/step - loss: 9.8390 - mae: 9.8390\n",
      "Epoch 84/100\n",
      "2/2 [==============================] - 0s 3ms/step - loss: 7.9533 - mae: 7.9533\n",
      "Epoch 85/100\n",
      "2/2 [==============================] - 0s 4ms/step - loss: 9.4636 - mae: 9.4636\n",
      "Epoch 86/100\n",
      "2/2 [==============================] - 0s 3ms/step - loss: 9.5071 - mae: 9.5071\n",
      "Epoch 87/100\n",
      "2/2 [==============================] - 0s 3ms/step - loss: 11.4516 - mae: 11.4516\n",
      "Epoch 88/100\n",
      "2/2 [==============================] - 0s 3ms/step - loss: 9.9517 - mae: 9.9517\n",
      "Epoch 89/100\n",
      "2/2 [==============================] - 0s 3ms/step - loss: 7.2665 - mae: 7.2665\n",
      "Epoch 90/100\n",
      "2/2 [==============================] - 0s 3ms/step - loss: 12.7119 - mae: 12.7119\n",
      "Epoch 91/100\n",
      "2/2 [==============================] - 0s 2ms/step - loss: 7.3275 - mae: 7.3275\n",
      "Epoch 92/100\n",
      "2/2 [==============================] - 0s 3ms/step - loss: 7.6917 - mae: 7.6917\n",
      "Epoch 93/100\n",
      "2/2 [==============================] - 0s 3ms/step - loss: 7.1323 - mae: 7.1323\n",
      "Epoch 94/100\n",
      "2/2 [==============================] - 0s 3ms/step - loss: 12.5594 - mae: 12.5594\n",
      "Epoch 95/100\n",
      "2/2 [==============================] - 0s 3ms/step - loss: 9.9367 - mae: 9.9367\n",
      "Epoch 96/100\n",
      "2/2 [==============================] - 0s 3ms/step - loss: 9.1524 - mae: 9.1524\n",
      "Epoch 97/100\n",
      "2/2 [==============================] - 0s 3ms/step - loss: 12.0939 - mae: 12.0939\n",
      "Epoch 98/100\n",
      "2/2 [==============================] - 0s 3ms/step - loss: 9.0819 - mae: 9.0819\n",
      "Epoch 99/100\n",
      "2/2 [==============================] - 0s 3ms/step - loss: 8.5096 - mae: 8.5096\n",
      "Epoch 100/100\n",
      "2/2 [==============================] - 0s 5ms/step - loss: 14.4629 - mae: 14.4629\n"
     ]
    },
    {
     "data": {
      "text/plain": [
       "<keras.src.callbacks.History at 0x213673aa710>"
      ]
     },
     "execution_count": 50,
     "metadata": {},
     "output_type": "execute_result"
    }
   ],
   "source": [
    "# Set random seed\n",
    "tf.random.set_seed(42)\n",
    "\n",
    "# 1. Create the model\n",
    "model_1 = tf.keras.Sequential([\n",
    "    tf.keras.layers.Dense(1)\n",
    "])\n",
    "\n",
    "# 2. Compile the model\n",
    "model_1.compile(loss=tf.keras.losses.mae,\n",
    "                optimizer=tf.keras.optimizers.SGD(),\n",
    "                metrics=[\"mae\"])\n",
    "\n",
    "# 3. Fit the model\n",
    "model_1.fit(tf.expand_dims(X_train, axis=-1), y_train, epochs=100)"
   ]
  },
  {
   "cell_type": "code",
   "execution_count": 52,
   "metadata": {},
   "outputs": [
    {
     "name": "stdout",
     "output_type": "stream",
     "text": [
      "1/1 [==============================] - 0s 24ms/step\n"
     ]
    },
    {
     "data": {
      "image/png": "[encoded data removed]",
      "text/plain": [
       "<Figure size 1000x700 with 1 Axes>"
      ]
     },
     "metadata": {},
     "output_type": "display_data"
    }
   ],
   "source": [
    "# Make and plot prediction for model_1\n",
    "y_preds_1 = model_1.predict(X_test)\n",
    "plot_predictions(predictions=y_preds_1)"
   ]
  },
  {
   "cell_type": "code",
   "execution_count": 56,
   "metadata": {},
   "outputs": [
    {
     "data": {
      "text/plain": [
       "(<tf.Tensor: shape=(), dtype=float32, numpy=30.64619>,\n",
       " <tf.Tensor: shape=(), dtype=float32, numpy=949.6203>)"
      ]
     },
     "execution_count": 56,
     "metadata": {},
     "output_type": "execute_result"
    }
   ],
   "source": [
    "# Calculate model_1 evaluation metrics\n",
    "mae_1 = mae(y_test, y_preds_1)\n",
    "mse_1 = mse(y_test, y_preds_1)\n",
    "mae_1, mse_1"
   ]
  },
  {
   "cell_type": "markdown",
   "metadata": {},
   "source": [
    "**Build `model_2`**\n",
    "* 2 dense layers, trained for 100 epochs"
   ]
  },
  {
   "cell_type": "code",
   "execution_count": 64,
   "metadata": {},
   "outputs": [
    {
     "name": "stdout",
     "output_type": "stream",
     "text": [
      "Epoch 1/100\n",
      "2/2 [==============================] - 0s 5ms/step - loss: 40.4421 - mae: 40.4421\n",
      "Epoch 2/100\n",
      "2/2 [==============================] - 0s 3ms/step - loss: 31.0091 - mae: 31.0091\n",
      "Epoch 3/100\n",
      "2/2 [==============================] - 0s 7ms/step - loss: 35.1974 - mae: 35.1974\n",
      "Epoch 4/100\n",
      "2/2 [==============================] - 0s 4ms/step - loss: 31.4656 - mae: 31.4656\n",
      "Epoch 5/100\n",
      "2/2 [==============================] - 0s 4ms/step - loss: 15.9670 - mae: 15.9670\n",
      "Epoch 6/100\n",
      "2/2 [==============================] - 0s 3ms/step - loss: 12.6460 - mae: 12.6460\n",
      "Epoch 7/100\n",
      "2/2 [==============================] - 0s 5ms/step - loss: 11.8959 - mae: 11.8959\n",
      "Epoch 8/100\n",
      "2/2 [==============================] - 0s 5ms/step - loss: 12.9418 - mae: 12.9418\n",
      "Epoch 9/100\n",
      "2/2 [==============================] - 0s 6ms/step - loss: 34.0781 - mae: 34.0781\n",
      "Epoch 10/100\n",
      "2/2 [==============================] - 0s 4ms/step - loss: 23.5235 - mae: 23.5235\n",
      "Epoch 11/100\n",
      "2/2 [==============================] - 0s 4ms/step - loss: 11.8744 - mae: 11.8744\n",
      "Epoch 12/100\n",
      "2/2 [==============================] - 0s 5ms/step - loss: 23.9163 - mae: 23.9163\n",
      "Epoch 13/100\n",
      "2/2 [==============================] - 0s 4ms/step - loss: 20.5904 - mae: 20.5904\n",
      "Epoch 14/100\n",
      "2/2 [==============================] - 0s 3ms/step - loss: 22.9176 - mae: 22.9176\n",
      "Epoch 15/100\n",
      "2/2 [==============================] - 0s 4ms/step - loss: 14.5404 - mae: 14.5404\n",
      "Epoch 16/100\n",
      "2/2 [==============================] - 0s 3ms/step - loss: 12.3135 - mae: 12.3135\n",
      "Epoch 17/100\n",
      "2/2 [==============================] - 0s 2ms/step - loss: 21.0539 - mae: 21.0539\n",
      "Epoch 18/100\n",
      "2/2 [==============================] - 0s 3ms/step - loss: 11.8618 - mae: 11.8618\n",
      "Epoch 19/100\n",
      "2/2 [==============================] - 0s 3ms/step - loss: 16.6626 - mae: 16.6626\n",
      "Epoch 20/100\n",
      "2/2 [==============================] - 0s 3ms/step - loss: 7.8443 - mae: 7.8443\n",
      "Epoch 21/100\n",
      "2/2 [==============================] - 0s 2ms/step - loss: 15.5269 - mae: 15.5269\n",
      "Epoch 22/100\n",
      "2/2 [==============================] - 0s 3ms/step - loss: 13.7076 - mae: 13.7076\n",
      "Epoch 23/100\n",
      "2/2 [==============================] - 0s 4ms/step - loss: 13.2198 - mae: 13.2198\n",
      "Epoch 24/100\n",
      "2/2 [==============================] - 0s 3ms/step - loss: 14.2891 - mae: 14.2891\n",
      "Epoch 25/100\n",
      "2/2 [==============================] - 0s 2ms/step - loss: 17.7906 - mae: 17.7906\n",
      "Epoch 26/100\n",
      "2/2 [==============================] - 0s 3ms/step - loss: 24.5217 - mae: 24.5217\n",
      "Epoch 27/100\n",
      "2/2 [==============================] - 0s 2ms/step - loss: 17.4701 - mae: 17.4701\n",
      "Epoch 28/100\n",
      "2/2 [==============================] - 0s 3ms/step - loss: 16.0357 - mae: 16.0357\n",
      "Epoch 29/100\n",
      "2/2 [==============================] - 0s 4ms/step - loss: 9.2362 - mae: 9.2362\n",
      "Epoch 30/100\n",
      "2/2 [==============================] - 0s 3ms/step - loss: 28.6290 - mae: 28.6290\n",
      "Epoch 31/100\n",
      "2/2 [==============================] - 0s 2ms/step - loss: 51.8024 - mae: 51.8024\n",
      "Epoch 32/100\n",
      "2/2 [==============================] - 0s 3ms/step - loss: 11.4028 - mae: 11.4028\n",
      "Epoch 33/100\n",
      "2/2 [==============================] - 0s 2ms/step - loss: 12.1526 - mae: 12.1526\n",
      "Epoch 34/100\n",
      "2/2 [==============================] - 0s 3ms/step - loss: 23.8279 - mae: 23.8279\n",
      "Epoch 35/100\n",
      "2/2 [==============================] - 0s 3ms/step - loss: 12.6392 - mae: 12.6392\n",
      "Epoch 36/100\n",
      "2/2 [==============================] - 0s 2ms/step - loss: 21.5626 - mae: 21.5626\n",
      "Epoch 37/100\n",
      "2/2 [==============================] - 0s 3ms/step - loss: 11.3586 - mae: 11.3586\n",
      "Epoch 38/100\n",
      "2/2 [==============================] - 0s 2ms/step - loss: 13.4214 - mae: 13.4214\n",
      "Epoch 39/100\n",
      "2/2 [==============================] - 0s 3ms/step - loss: 10.7733 - mae: 10.7733\n",
      "Epoch 40/100\n",
      "2/2 [==============================] - 0s 3ms/step - loss: 16.5297 - mae: 16.5297\n",
      "Epoch 41/100\n",
      "2/2 [==============================] - 0s 3ms/step - loss: 10.9442 - mae: 10.9442\n",
      "Epoch 42/100\n",
      "2/2 [==============================] - 0s 6ms/step - loss: 9.2794 - mae: 9.2794\n",
      "Epoch 43/100\n",
      "2/2 [==============================] - 0s 4ms/step - loss: 9.5904 - mae: 9.5904\n",
      "Epoch 44/100\n",
      "2/2 [==============================] - 0s 7ms/step - loss: 27.8781 - mae: 27.8781\n",
      "Epoch 45/100\n",
      "2/2 [==============================] - 0s 5ms/step - loss: 11.2603 - mae: 11.2603\n",
      "Epoch 46/100\n",
      "2/2 [==============================] - 0s 4ms/step - loss: 13.8415 - mae: 13.8415\n",
      "Epoch 47/100\n",
      "2/2 [==============================] - 0s 5ms/step - loss: 11.9318 - mae: 11.9318\n",
      "Epoch 48/100\n",
      "2/2 [==============================] - 0s 5ms/step - loss: 16.9712 - mae: 16.9712\n",
      "Epoch 49/100\n",
      "2/2 [==============================] - 0s 3ms/step - loss: 9.7707 - mae: 9.7707\n",
      "Epoch 50/100\n",
      "2/2 [==============================] - 0s 3ms/step - loss: 14.1555 - mae: 14.1555\n",
      "Epoch 51/100\n",
      "2/2 [==============================] - 0s 3ms/step - loss: 11.7354 - mae: 11.7354\n",
      "Epoch 52/100\n",
      "2/2 [==============================] - 0s 2ms/step - loss: 31.3356 - mae: 31.3356\n",
      "Epoch 53/100\n",
      "2/2 [==============================] - 0s 4ms/step - loss: 14.7050 - mae: 14.7050\n",
      "Epoch 54/100\n",
      "2/2 [==============================] - 0s 2ms/step - loss: 24.5759 - mae: 24.5759\n",
      "Epoch 55/100\n",
      "2/2 [==============================] - 0s 3ms/step - loss: 23.8569 - mae: 23.8569\n",
      "Epoch 56/100\n",
      "2/2 [==============================] - 0s 4ms/step - loss: 11.1138 - mae: 11.1138\n",
      "Epoch 57/100\n",
      "2/2 [==============================] - 0s 2ms/step - loss: 13.0474 - mae: 13.0474\n",
      "Epoch 58/100\n",
      "2/2 [==============================] - 0s 3ms/step - loss: 9.7754 - mae: 9.7754\n",
      "Epoch 59/100\n",
      "2/2 [==============================] - 0s 3ms/step - loss: 13.2213 - mae: 13.2213\n",
      "Epoch 60/100\n",
      "2/2 [==============================] - 0s 2ms/step - loss: 10.8262 - mae: 10.8262\n",
      "Epoch 61/100\n",
      "2/2 [==============================] - 0s 3ms/step - loss: 13.4009 - mae: 13.4009\n",
      "Epoch 62/100\n",
      "2/2 [==============================] - 0s 2ms/step - loss: 17.3490 - mae: 17.3490\n",
      "Epoch 63/100\n",
      "2/2 [==============================] - 0s 3ms/step - loss: 9.1342 - mae: 9.1342\n",
      "Epoch 64/100\n",
      "2/2 [==============================] - 0s 3ms/step - loss: 17.9707 - mae: 17.9707\n",
      "Epoch 65/100\n",
      "2/2 [==============================] - 0s 3ms/step - loss: 10.6197 - mae: 10.6197\n",
      "Epoch 66/100\n",
      "2/2 [==============================] - 0s 2ms/step - loss: 21.4920 - mae: 21.4920\n",
      "Epoch 67/100\n",
      "2/2 [==============================] - 0s 3ms/step - loss: 10.6314 - mae: 10.6314\n",
      "Epoch 68/100\n",
      "2/2 [==============================] - 0s 2ms/step - loss: 14.8728 - mae: 14.8728\n",
      "Epoch 69/100\n",
      "2/2 [==============================] - 0s 3ms/step - loss: 10.7777 - mae: 10.7777\n",
      "Epoch 70/100\n",
      "2/2 [==============================] - 0s 4ms/step - loss: 12.8800 - mae: 12.8800\n",
      "Epoch 71/100\n",
      "2/2 [==============================] - 0s 2ms/step - loss: 13.3001 - mae: 13.3001\n",
      "Epoch 72/100\n",
      "2/2 [==============================] - 0s 3ms/step - loss: 20.1567 - mae: 20.1567\n",
      "Epoch 73/100\n",
      "2/2 [==============================] - 0s 3ms/step - loss: 9.7390 - mae: 9.7390\n",
      "Epoch 74/100\n",
      "2/2 [==============================] - 0s 6ms/step - loss: 27.4665 - mae: 27.4665\n",
      "Epoch 75/100\n",
      "2/2 [==============================] - 0s 4ms/step - loss: 10.0269 - mae: 10.0269\n",
      "Epoch 76/100\n",
      "2/2 [==============================] - 0s 5ms/step - loss: 12.9473 - mae: 12.9473\n",
      "Epoch 77/100\n",
      "2/2 [==============================] - 0s 4ms/step - loss: 17.9520 - mae: 17.9520\n",
      "Epoch 78/100\n",
      "2/2 [==============================] - 0s 4ms/step - loss: 8.9647 - mae: 8.9647\n",
      "Epoch 79/100\n",
      "2/2 [==============================] - 0s 4ms/step - loss: 28.8020 - mae: 28.8020\n",
      "Epoch 80/100\n",
      "2/2 [==============================] - 0s 3ms/step - loss: 31.1536 - mae: 31.1536\n",
      "Epoch 81/100\n",
      "2/2 [==============================] - 0s 3ms/step - loss: 13.5762 - mae: 13.5762\n",
      "Epoch 82/100\n",
      "2/2 [==============================] - 0s 2ms/step - loss: 15.8669 - mae: 15.8669\n",
      "Epoch 83/100\n",
      "2/2 [==============================] - 0s 4ms/step - loss: 9.1342 - mae: 9.1342\n",
      "Epoch 84/100\n",
      "2/2 [==============================] - 0s 3ms/step - loss: 8.2055 - mae: 8.2055\n",
      "Epoch 85/100\n",
      "2/2 [==============================] - 0s 2ms/step - loss: 18.8783 - mae: 18.8783\n",
      "Epoch 86/100\n",
      "2/2 [==============================] - 0s 3ms/step - loss: 21.9709 - mae: 21.9709\n",
      "Epoch 87/100\n",
      "2/2 [==============================] - 0s 3ms/step - loss: 11.2139 - mae: 11.2139\n",
      "Epoch 88/100\n",
      "2/2 [==============================] - 0s 3ms/step - loss: 25.9291 - mae: 25.9291\n",
      "Epoch 89/100\n",
      "2/2 [==============================] - 0s 2ms/step - loss: 9.5215 - mae: 9.5215\n",
      "Epoch 90/100\n",
      "2/2 [==============================] - 0s 3ms/step - loss: 18.2412 - mae: 18.2412\n",
      "Epoch 91/100\n",
      "2/2 [==============================] - 0s 3ms/step - loss: 10.3244 - mae: 10.3244\n",
      "Epoch 92/100\n",
      "2/2 [==============================] - 0s 2ms/step - loss: 17.4922 - mae: 17.4922\n",
      "Epoch 93/100\n",
      "2/2 [==============================] - 0s 2ms/step - loss: 6.8267 - mae: 6.8267\n",
      "Epoch 94/100\n",
      "2/2 [==============================] - 0s 4ms/step - loss: 17.6590 - mae: 17.6590\n",
      "Epoch 95/100\n",
      "2/2 [==============================] - 0s 3ms/step - loss: 17.3748 - mae: 17.3748\n",
      "Epoch 96/100\n",
      "2/2 [==============================] - 0s 3ms/step - loss: 11.5413 - mae: 11.5413\n",
      "Epoch 97/100\n",
      "2/2 [==============================] - 0s 3ms/step - loss: 18.3148 - mae: 18.3148\n",
      "Epoch 98/100\n",
      "2/2 [==============================] - 0s 2ms/step - loss: 9.7575 - mae: 9.7575\n",
      "Epoch 99/100\n",
      "2/2 [==============================] - 0s 3ms/step - loss: 16.9449 - mae: 16.9449\n",
      "Epoch 100/100\n",
      "2/2 [==============================] - 0s 2ms/step - loss: 17.8169 - mae: 17.8169\n"
     ]
    },
    {
     "data": {
      "text/plain": [
       "<keras.src.callbacks.History at 0x2136ce54710>"
      ]
     },
     "execution_count": 64,
     "metadata": {},
     "output_type": "execute_result"
    }
   ],
   "source": [
    "# 1. Create the model\n",
    "model_2 = tf.keras.Sequential([\n",
    "    tf.keras.layers.Dense(50),\n",
    "    tf.keras.layers.Dense(1)\n",
    "])\n",
    "\n",
    "# 2. Compile the model\n",
    "model_2.compile(loss=tf.keras.losses.mae,\n",
    "                optimizer=tf.keras.optimizers.SGD(),\n",
    "                metrics=[\"mae\"])\n",
    "\n",
    "# 3. Fit the model\n",
    "model_2.fit(tf.expand_dims(X_train, axis=-1), y_train, epochs=100)"
   ]
  },
  {
   "cell_type": "code",
   "execution_count": 65,
   "metadata": {},
   "outputs": [
    {
     "name": "stdout",
     "output_type": "stream",
     "text": [
      "1/1 [==============================] - 0s 39ms/step\n"
     ]
    },
    {
     "data": {
      "image/png": "[encoded data removed]",
      "text/plain": [
       "<Figure size 1000x700 with 1 Axes>"
      ]
     },
     "metadata": {},
     "output_type": "display_data"
    }
   ],
   "source": [
    "y_preds_2 = model_2.predict(X_test)\n",
    "plot_predictions(predictions=y_preds_2)"
   ]
  },
  {
   "cell_type": "code",
   "execution_count": 59,
   "metadata": {},
   "outputs": [
    {
     "data": {
      "text/plain": [
       "(<tf.Tensor: shape=(), dtype=float32, numpy=12.757291>,\n",
       " <tf.Tensor: shape=(), dtype=float32, numpy=163.00664>)"
      ]
     },
     "execution_count": 59,
     "metadata": {},
     "output_type": "execute_result"
    }
   ],
   "source": [
    "mae_2 = mae(y_test, y_preds_2)\n",
    "mse_2 = mse(y_test, y_preds_2)\n",
    "mae_2, mse_2"
   ]
  },
  {
   "cell_type": "markdown",
   "metadata": {},
   "source": [
    "**Build `model_3`**\n",
    "\n",
    "* 2 layers, trained for 500 epochs"
   ]
  },
  {
   "cell_type": "code",
   "execution_count": 62,
   "metadata": {},
   "outputs": [
    {
     "name": "stdout",
     "output_type": "stream",
     "text": [
      "Epoch 1/500\n"
     ]
    },
    {
     "name": "stdout",
     "output_type": "stream",
     "text": [
      "2/2 [==============================] - 0s 4ms/step - loss: 50.5294 - mae: 50.5294\n",
      "Epoch 2/500\n",
      "2/2 [==============================] - 0s 4ms/step - loss: 36.0777 - mae: 36.0777\n",
      "Epoch 3/500\n",
      "2/2 [==============================] - 0s 5ms/step - loss: 39.5842 - mae: 39.5842\n",
      "Epoch 4/500\n",
      "2/2 [==============================] - 0s 17ms/step - loss: 29.3512 - mae: 29.3512\n",
      "Epoch 5/500\n",
      "2/2 [==============================] - 0s 8ms/step - loss: 15.8914 - mae: 15.8914\n",
      "Epoch 6/500\n",
      "2/2 [==============================] - 0s 3ms/step - loss: 12.5986 - mae: 12.5986\n",
      "Epoch 7/500\n",
      "2/2 [==============================] - 0s 3ms/step - loss: 11.8677 - mae: 11.8677\n",
      "Epoch 8/500\n",
      "2/2 [==============================] - 0s 3ms/step - loss: 12.9432 - mae: 12.9432\n",
      "Epoch 9/500\n",
      "2/2 [==============================] - 0s 4ms/step - loss: 34.0827 - mae: 34.0827\n",
      "Epoch 10/500\n",
      "2/2 [==============================] - 0s 3ms/step - loss: 23.5280 - mae: 23.5280\n",
      "Epoch 11/500\n",
      "2/2 [==============================] - 0s 4ms/step - loss: 11.8796 - mae: 11.8796\n",
      "Epoch 12/500\n",
      "2/2 [==============================] - 0s 4ms/step - loss: 23.9309 - mae: 23.9309\n",
      "Epoch 13/500\n",
      "2/2 [==============================] - 0s 3ms/step - loss: 20.5998 - mae: 20.5998\n",
      "Epoch 14/500\n",
      "2/2 [==============================] - 0s 7ms/step - loss: 22.9292 - mae: 22.9292\n",
      "Epoch 15/500\n",
      "2/2 [==============================] - 0s 7ms/step - loss: 14.5470 - mae: 14.5470\n",
      "Epoch 16/500\n",
      "2/2 [==============================] - 0s 5ms/step - loss: 12.3181 - mae: 12.3181\n",
      "Epoch 17/500\n",
      "2/2 [==============================] - 0s 7ms/step - loss: 21.0636 - mae: 21.0636\n",
      "Epoch 18/500\n",
      "2/2 [==============================] - 0s 5ms/step - loss: 11.8668 - mae: 11.8668\n",
      "Epoch 19/500\n",
      "2/2 [==============================] - 0s 5ms/step - loss: 16.6723 - mae: 16.6723\n",
      "Epoch 20/500\n",
      "2/2 [==============================] - 0s 5ms/step - loss: 7.8450 - mae: 7.8450\n",
      "Epoch 21/500\n",
      "2/2 [==============================] - 0s 4ms/step - loss: 15.5242 - mae: 15.5242\n",
      "Epoch 22/500\n",
      "2/2 [==============================] - 0s 6ms/step - loss: 13.7040 - mae: 13.7040\n",
      "Epoch 23/500\n",
      "2/2 [==============================] - 0s 7ms/step - loss: 13.2172 - mae: 13.2172\n",
      "Epoch 24/500\n",
      "2/2 [==============================] - 0s 5ms/step - loss: 14.2869 - mae: 14.2869\n",
      "Epoch 25/500\n",
      "2/2 [==============================] - 0s 5ms/step - loss: 17.7892 - mae: 17.7892\n",
      "Epoch 26/500\n",
      "2/2 [==============================] - 0s 4ms/step - loss: 24.5181 - mae: 24.5181\n",
      "Epoch 27/500\n",
      "2/2 [==============================] - 0s 3ms/step - loss: 17.4773 - mae: 17.4773\n",
      "Epoch 28/500\n",
      "2/2 [==============================] - 0s 3ms/step - loss: 16.0433 - mae: 16.0433\n",
      "Epoch 29/500\n",
      "2/2 [==============================] - 0s 3ms/step - loss: 9.2370 - mae: 9.2370\n",
      "Epoch 30/500\n",
      "2/2 [==============================] - 0s 3ms/step - loss: 28.6377 - mae: 28.6377\n",
      "Epoch 31/500\n",
      "2/2 [==============================] - 0s 4ms/step - loss: 51.8193 - mae: 51.8193\n",
      "Epoch 32/500\n",
      "2/2 [==============================] - 0s 3ms/step - loss: 11.4065 - mae: 11.4065\n",
      "Epoch 33/500\n",
      "2/2 [==============================] - 0s 2ms/step - loss: 12.1558 - mae: 12.1558\n",
      "Epoch 34/500\n",
      "2/2 [==============================] - 0s 3ms/step - loss: 23.8378 - mae: 23.8378\n",
      "Epoch 35/500\n",
      "2/2 [==============================] - 0s 3ms/step - loss: 12.6384 - mae: 12.6384\n",
      "Epoch 36/500\n",
      "2/2 [==============================] - 0s 3ms/step - loss: 21.5596 - mae: 21.5596\n",
      "Epoch 37/500\n",
      "2/2 [==============================] - 0s 2ms/step - loss: 11.3620 - mae: 11.3620\n",
      "Epoch 38/500\n",
      "2/2 [==============================] - 0s 3ms/step - loss: 13.4263 - mae: 13.4263\n",
      "Epoch 39/500\n",
      "2/2 [==============================] - 0s 4ms/step - loss: 10.7762 - mae: 10.7762\n",
      "Epoch 40/500\n",
      "2/2 [==============================] - 0s 6ms/step - loss: 16.5360 - mae: 16.5360\n",
      "Epoch 41/500\n",
      "2/2 [==============================] - 0s 4ms/step - loss: 10.9480 - mae: 10.9480\n",
      "Epoch 42/500\n",
      "2/2 [==============================] - 0s 10ms/step - loss: 9.2823 - mae: 9.2823\n",
      "Epoch 43/500\n",
      "2/2 [==============================] - 0s 6ms/step - loss: 9.5918 - mae: 9.5918\n",
      "Epoch 44/500\n",
      "2/2 [==============================] - 0s 3ms/step - loss: 27.8860 - mae: 27.8860\n",
      "Epoch 45/500\n",
      "2/2 [==============================] - 0s 3ms/step - loss: 11.2632 - mae: 11.2632\n",
      "Epoch 46/500\n",
      "2/2 [==============================] - 0s 5ms/step - loss: 13.8465 - mae: 13.8465\n",
      "Epoch 47/500\n",
      "2/2 [==============================] - 0s 3ms/step - loss: 11.9306 - mae: 11.9306\n",
      "Epoch 48/500\n",
      "2/2 [==============================] - 0s 5ms/step - loss: 16.9690 - mae: 16.9690\n",
      "Epoch 49/500\n",
      "2/2 [==============================] - 0s 3ms/step - loss: 9.7730 - mae: 9.7730\n",
      "Epoch 50/500\n",
      "2/2 [==============================] - 0s 4ms/step - loss: 14.1591 - mae: 14.1591\n",
      "Epoch 51/500\n",
      "2/2 [==============================] - 0s 3ms/step - loss: 11.7372 - mae: 11.7372\n",
      "Epoch 52/500\n",
      "2/2 [==============================] - 0s 3ms/step - loss: 31.3419 - mae: 31.3419\n",
      "Epoch 53/500\n",
      "2/2 [==============================] - 0s 3ms/step - loss: 14.7081 - mae: 14.7081\n",
      "Epoch 54/500\n",
      "2/2 [==============================] - 0s 3ms/step - loss: 24.5808 - mae: 24.5808\n",
      "Epoch 55/500\n",
      "2/2 [==============================] - 0s 2ms/step - loss: 23.8624 - mae: 23.8624\n",
      "Epoch 56/500\n",
      "2/2 [==============================] - 0s 3ms/step - loss: 11.1162 - mae: 11.1162\n",
      "Epoch 57/500\n",
      "2/2 [==============================] - 0s 3ms/step - loss: 13.0503 - mae: 13.0503\n",
      "Epoch 58/500\n",
      "2/2 [==============================] - 0s 3ms/step - loss: 9.7773 - mae: 9.7773\n",
      "Epoch 59/500\n",
      "2/2 [==============================] - 0s 4ms/step - loss: 13.2241 - mae: 13.2241\n",
      "Epoch 60/500\n",
      "2/2 [==============================] - 0s 3ms/step - loss: 10.8282 - mae: 10.8282\n",
      "Epoch 61/500\n",
      "2/2 [==============================] - 0s 3ms/step - loss: 13.4032 - mae: 13.4032\n",
      "Epoch 62/500\n",
      "2/2 [==============================] - 0s 3ms/step - loss: 17.3522 - mae: 17.3522\n",
      "Epoch 63/500\n",
      "2/2 [==============================] - 0s 3ms/step - loss: 9.1355 - mae: 9.1355\n",
      "Epoch 64/500\n",
      "2/2 [==============================] - 0s 4ms/step - loss: 17.9735 - mae: 17.9735\n",
      "Epoch 65/500\n",
      "2/2 [==============================] - 0s 3ms/step - loss: 10.6212 - mae: 10.6212\n",
      "Epoch 66/500\n",
      "2/2 [==============================] - 0s 3ms/step - loss: 21.4949 - mae: 21.4949\n",
      "Epoch 67/500\n",
      "2/2 [==============================] - 0s 4ms/step - loss: 10.6329 - mae: 10.6329\n",
      "Epoch 68/500\n",
      "2/2 [==============================] - 0s 3ms/step - loss: 14.8748 - mae: 14.8748\n",
      "Epoch 69/500\n",
      "2/2 [==============================] - 0s 4ms/step - loss: 10.7793 - mae: 10.7793\n",
      "Epoch 70/500\n",
      "2/2 [==============================] - 0s 4ms/step - loss: 12.8817 - mae: 12.8817\n",
      "Epoch 71/500\n",
      "2/2 [==============================] - 0s 3ms/step - loss: 13.3015 - mae: 13.3015\n",
      "Epoch 72/500\n",
      "2/2 [==============================] - 0s 4ms/step - loss: 20.1586 - mae: 20.1586\n",
      "Epoch 73/500\n",
      "2/2 [==============================] - 0s 3ms/step - loss: 9.7399 - mae: 9.7399\n",
      "Epoch 74/500\n",
      "2/2 [==============================] - 0s 3ms/step - loss: 27.4681 - mae: 27.4681\n",
      "Epoch 75/500\n",
      "2/2 [==============================] - 0s 2ms/step - loss: 10.0280 - mae: 10.0280\n",
      "Epoch 76/500\n",
      "2/2 [==============================] - 0s 4ms/step - loss: 12.9484 - mae: 12.9484\n",
      "Epoch 77/500\n",
      "2/2 [==============================] - 0s 3ms/step - loss: 17.9529 - mae: 17.9529\n",
      "Epoch 78/500\n",
      "2/2 [==============================] - 0s 3ms/step - loss: 8.9655 - mae: 8.9655\n",
      "Epoch 79/500\n",
      "2/2 [==============================] - 0s 3ms/step - loss: 28.8024 - mae: 28.8024\n",
      "Epoch 80/500\n",
      "2/2 [==============================] - 0s 3ms/step - loss: 31.1542 - mae: 31.1542\n",
      "Epoch 81/500\n",
      "2/2 [==============================] - 0s 3ms/step - loss: 13.5771 - mae: 13.5771\n",
      "Epoch 82/500\n",
      "2/2 [==============================] - 0s 3ms/step - loss: 15.8671 - mae: 15.8671\n",
      "Epoch 83/500\n",
      "2/2 [==============================] - 0s 2ms/step - loss: 9.1350 - mae: 9.1350\n",
      "Epoch 84/500\n",
      "2/2 [==============================] - 0s 5ms/step - loss: 8.2061 - mae: 8.2061\n",
      "Epoch 85/500\n",
      "2/2 [==============================] - 0s 3ms/step - loss: 18.8787 - mae: 18.8787\n",
      "Epoch 86/500\n",
      "2/2 [==============================] - 0s 4ms/step - loss: 21.9703 - mae: 21.9703\n",
      "Epoch 87/500\n",
      "2/2 [==============================] - 0s 3ms/step - loss: 11.2145 - mae: 11.2145\n",
      "Epoch 88/500\n",
      "2/2 [==============================] - 0s 2ms/step - loss: 25.9282 - mae: 25.9282\n",
      "Epoch 89/500\n",
      "2/2 [==============================] - 0s 4ms/step - loss: 9.5220 - mae: 9.5220\n",
      "Epoch 90/500\n",
      "2/2 [==============================] - 0s 3ms/step - loss: 18.2403 - mae: 18.2403\n",
      "Epoch 91/500\n",
      "2/2 [==============================] - 0s 3ms/step - loss: 10.3248 - mae: 10.3248\n",
      "Epoch 92/500\n",
      "2/2 [==============================] - 0s 3ms/step - loss: 17.4912 - mae: 17.4912\n",
      "Epoch 93/500\n",
      "2/2 [==============================] - 0s 3ms/step - loss: 6.8274 - mae: 6.8274\n",
      "Epoch 94/500\n",
      "2/2 [==============================] - 0s 4ms/step - loss: 17.6598 - mae: 17.6598\n",
      "Epoch 95/500\n",
      "2/2 [==============================] - 0s 2ms/step - loss: 17.3758 - mae: 17.3758\n",
      "Epoch 96/500\n",
      "2/2 [==============================] - 0s 3ms/step - loss: 11.5420 - mae: 11.5420\n",
      "Epoch 97/500\n",
      "2/2 [==============================] - 0s 3ms/step - loss: 18.3159 - mae: 18.3159\n",
      "Epoch 98/500\n",
      "2/2 [==============================] - 0s 4ms/step - loss: 9.7583 - mae: 9.7583\n",
      "Epoch 99/500\n",
      "2/2 [==============================] - 0s 4ms/step - loss: 16.9458 - mae: 16.9458\n",
      "Epoch 100/500\n",
      "2/2 [==============================] - 0s 8ms/step - loss: 17.8179 - mae: 17.8179\n",
      "Epoch 101/500\n",
      "2/2 [==============================] - 0s 5ms/step - loss: 16.4891 - mae: 16.4891\n",
      "Epoch 102/500\n",
      "2/2 [==============================] - 0s 5ms/step - loss: 12.9298 - mae: 12.9298\n",
      "Epoch 103/500\n",
      "2/2 [==============================] - 0s 5ms/step - loss: 16.0833 - mae: 16.0833\n",
      "Epoch 104/500\n",
      "2/2 [==============================] - 0s 3ms/step - loss: 22.2667 - mae: 22.2667\n",
      "Epoch 105/500\n",
      "2/2 [==============================] - 0s 4ms/step - loss: 20.2954 - mae: 20.2954\n",
      "Epoch 106/500\n",
      "2/2 [==============================] - 0s 3ms/step - loss: 10.1082 - mae: 10.1082\n",
      "Epoch 107/500\n",
      "2/2 [==============================] - 0s 3ms/step - loss: 24.7887 - mae: 24.7887\n",
      "Epoch 108/500\n",
      "2/2 [==============================] - 0s 4ms/step - loss: 14.9058 - mae: 14.9058\n",
      "Epoch 109/500\n",
      "2/2 [==============================] - 0s 2ms/step - loss: 9.0475 - mae: 9.0475\n",
      "Epoch 110/500\n",
      "2/2 [==============================] - 0s 5ms/step - loss: 9.2903 - mae: 9.2903\n",
      "Epoch 111/500\n",
      "2/2 [==============================] - 0s 3ms/step - loss: 12.9110 - mae: 12.9110\n",
      "Epoch 112/500\n",
      "2/2 [==============================] - 0s 3ms/step - loss: 15.7373 - mae: 15.7373\n",
      "Epoch 113/500\n",
      "2/2 [==============================] - 0s 4ms/step - loss: 11.2511 - mae: 11.2511\n",
      "Epoch 114/500\n",
      "2/2 [==============================] - 0s 3ms/step - loss: 24.9769 - mae: 24.9769\n",
      "Epoch 115/500\n",
      "2/2 [==============================] - 0s 4ms/step - loss: 13.5634 - mae: 13.5634\n",
      "Epoch 116/500\n",
      "2/2 [==============================] - 0s 3ms/step - loss: 14.4522 - mae: 14.4522\n",
      "Epoch 117/500\n",
      "2/2 [==============================] - 0s 3ms/step - loss: 10.0150 - mae: 10.0150\n",
      "Epoch 118/500\n",
      "2/2 [==============================] - 0s 4ms/step - loss: 11.1308 - mae: 11.1308\n",
      "Epoch 119/500\n",
      "2/2 [==============================] - 0s 3ms/step - loss: 8.1661 - mae: 8.1661\n",
      "Epoch 120/500\n",
      "2/2 [==============================] - 0s 4ms/step - loss: 30.8348 - mae: 30.8348\n",
      "Epoch 121/500\n",
      "2/2 [==============================] - 0s 4ms/step - loss: 8.1845 - mae: 8.1845\n",
      "Epoch 122/500\n",
      "2/2 [==============================] - 0s 3ms/step - loss: 29.2120 - mae: 29.2120\n",
      "Epoch 123/500\n",
      "2/2 [==============================] - 0s 3ms/step - loss: 34.0116 - mae: 34.0116\n",
      "Epoch 124/500\n",
      "2/2 [==============================] - 0s 3ms/step - loss: 20.4843 - mae: 20.4843\n",
      "Epoch 125/500\n",
      "2/2 [==============================] - 0s 2ms/step - loss: 9.1374 - mae: 9.1374\n",
      "Epoch 126/500\n",
      "2/2 [==============================] - 0s 3ms/step - loss: 9.2808 - mae: 9.2808\n",
      "Epoch 127/500\n",
      "2/2 [==============================] - 0s 3ms/step - loss: 11.3205 - mae: 11.3205\n",
      "Epoch 128/500\n",
      "2/2 [==============================] - 0s 3ms/step - loss: 17.1026 - mae: 17.1026\n",
      "Epoch 129/500\n",
      "2/2 [==============================] - 0s 4ms/step - loss: 9.0181 - mae: 9.0181\n",
      "Epoch 130/500\n",
      "2/2 [==============================] - 0s 3ms/step - loss: 23.7699 - mae: 23.7699\n",
      "Epoch 131/500\n",
      "2/2 [==============================] - 0s 3ms/step - loss: 9.7393 - mae: 9.7393\n",
      "Epoch 132/500\n",
      "2/2 [==============================] - 0s 4ms/step - loss: 18.0502 - mae: 18.0502\n",
      "Epoch 133/500\n",
      "2/2 [==============================] - 0s 4ms/step - loss: 6.7755 - mae: 6.7755\n",
      "Epoch 134/500\n",
      "2/2 [==============================] - 0s 4ms/step - loss: 20.2361 - mae: 20.2361\n",
      "Epoch 135/500\n",
      "2/2 [==============================] - 0s 4ms/step - loss: 10.5346 - mae: 10.5346\n",
      "Epoch 136/500\n",
      "2/2 [==============================] - 0s 4ms/step - loss: 18.1431 - mae: 18.1431\n",
      "Epoch 137/500\n",
      "2/2 [==============================] - 0s 2ms/step - loss: 22.9722 - mae: 22.9722\n",
      "Epoch 138/500\n",
      "2/2 [==============================] - 0s 7ms/step - loss: 9.0966 - mae: 9.0966\n",
      "Epoch 139/500\n",
      "2/2 [==============================] - 0s 4ms/step - loss: 8.9046 - mae: 8.9046\n",
      "Epoch 140/500\n",
      "2/2 [==============================] - 0s 6ms/step - loss: 16.2986 - mae: 16.2986\n",
      "Epoch 141/500\n",
      "2/2 [==============================] - 0s 3ms/step - loss: 8.4599 - mae: 8.4599\n",
      "Epoch 142/500\n",
      "2/2 [==============================] - 0s 4ms/step - loss: 36.5243 - mae: 36.5243\n",
      "Epoch 143/500\n",
      "2/2 [==============================] - 0s 5ms/step - loss: 25.2642 - mae: 25.2642\n",
      "Epoch 144/500\n",
      "2/2 [==============================] - 0s 4ms/step - loss: 10.4853 - mae: 10.4853\n",
      "Epoch 145/500\n",
      "2/2 [==============================] - 0s 4ms/step - loss: 25.8135 - mae: 25.8135\n",
      "Epoch 146/500\n",
      "2/2 [==============================] - 0s 4ms/step - loss: 10.0008 - mae: 10.0008\n",
      "Epoch 147/500\n",
      "2/2 [==============================] - 0s 4ms/step - loss: 14.7193 - mae: 14.7193\n",
      "Epoch 148/500\n",
      "2/2 [==============================] - 0s 3ms/step - loss: 17.8227 - mae: 17.8227\n",
      "Epoch 149/500\n",
      "2/2 [==============================] - 0s 4ms/step - loss: 8.4862 - mae: 8.4862\n",
      "Epoch 150/500\n",
      "2/2 [==============================] - 0s 5ms/step - loss: 7.6410 - mae: 7.6410\n",
      "Epoch 151/500\n",
      "2/2 [==============================] - 0s 6ms/step - loss: 18.8980 - mae: 18.8980\n",
      "Epoch 152/500\n",
      "2/2 [==============================] - 0s 3ms/step - loss: 10.4890 - mae: 10.4890\n",
      "Epoch 153/500\n",
      "2/2 [==============================] - 0s 3ms/step - loss: 30.4478 - mae: 30.4478\n",
      "Epoch 154/500\n",
      "2/2 [==============================] - 0s 9ms/step - loss: 9.9865 - mae: 9.9865\n",
      "Epoch 155/500\n",
      "2/2 [==============================] - 0s 3ms/step - loss: 15.7355 - mae: 15.7355\n",
      "Epoch 156/500\n",
      "2/2 [==============================] - 0s 4ms/step - loss: 17.6365 - mae: 17.6365\n",
      "Epoch 157/500\n",
      "2/2 [==============================] - 0s 2ms/step - loss: 31.2050 - mae: 31.2050\n",
      "Epoch 158/500\n",
      "2/2 [==============================] - 0s 2ms/step - loss: 10.2548 - mae: 10.2548\n",
      "Epoch 159/500\n",
      "2/2 [==============================] - 0s 4ms/step - loss: 8.7140 - mae: 8.7140\n",
      "Epoch 160/500\n",
      "2/2 [==============================] - 0s 3ms/step - loss: 20.8075 - mae: 20.8075\n",
      "Epoch 161/500\n",
      "2/2 [==============================] - 0s 3ms/step - loss: 11.8481 - mae: 11.8481\n",
      "Epoch 162/500\n",
      "2/2 [==============================] - 0s 3ms/step - loss: 21.7847 - mae: 21.7847\n",
      "Epoch 163/500\n",
      "2/2 [==============================] - 0s 3ms/step - loss: 19.4563 - mae: 19.4563\n",
      "Epoch 164/500\n",
      "2/2 [==============================] - 0s 4ms/step - loss: 11.1804 - mae: 11.1804\n",
      "Epoch 165/500\n",
      "2/2 [==============================] - 0s 3ms/step - loss: 9.6111 - mae: 9.6111\n",
      "Epoch 166/500\n",
      "2/2 [==============================] - 0s 4ms/step - loss: 21.5166 - mae: 21.5166\n",
      "Epoch 167/500\n",
      "2/2 [==============================] - 0s 3ms/step - loss: 26.4905 - mae: 26.4905\n",
      "Epoch 168/500\n",
      "2/2 [==============================] - 0s 4ms/step - loss: 9.9452 - mae: 9.9452\n",
      "Epoch 169/500\n",
      "2/2 [==============================] - 0s 4ms/step - loss: 22.7275 - mae: 22.7275\n",
      "Epoch 170/500\n",
      "2/2 [==============================] - 0s 6ms/step - loss: 10.1514 - mae: 10.1514\n",
      "Epoch 171/500\n",
      "2/2 [==============================] - 0s 3ms/step - loss: 17.9917 - mae: 17.9917\n",
      "Epoch 172/500\n",
      "2/2 [==============================] - 0s 4ms/step - loss: 28.9762 - mae: 28.9762\n",
      "Epoch 173/500\n",
      "2/2 [==============================] - 0s 3ms/step - loss: 16.6543 - mae: 16.6543\n",
      "Epoch 174/500\n",
      "2/2 [==============================] - 0s 3ms/step - loss: 11.2244 - mae: 11.2244\n",
      "Epoch 175/500\n",
      "2/2 [==============================] - 0s 4ms/step - loss: 27.5536 - mae: 27.5536\n",
      "Epoch 176/500\n",
      "2/2 [==============================] - 0s 2ms/step - loss: 8.3520 - mae: 8.3520\n",
      "Epoch 177/500\n",
      "2/2 [==============================] - 0s 5ms/step - loss: 9.3351 - mae: 9.3351\n",
      "Epoch 178/500\n",
      "2/2 [==============================] - 0s 3ms/step - loss: 18.2289 - mae: 18.2289\n",
      "Epoch 179/500\n",
      "2/2 [==============================] - 0s 3ms/step - loss: 10.5770 - mae: 10.5770\n",
      "Epoch 180/500\n",
      "2/2 [==============================] - 0s 3ms/step - loss: 7.9600 - mae: 7.9600\n",
      "Epoch 181/500\n",
      "2/2 [==============================] - 0s 2ms/step - loss: 17.4476 - mae: 17.4476\n",
      "Epoch 182/500\n",
      "2/2 [==============================] - 0s 5ms/step - loss: 11.0763 - mae: 11.0763\n",
      "Epoch 183/500\n",
      "2/2 [==============================] - 0s 3ms/step - loss: 11.7322 - mae: 11.7322\n",
      "Epoch 184/500\n",
      "2/2 [==============================] - 0s 2ms/step - loss: 30.4170 - mae: 30.4170\n",
      "Epoch 185/500\n",
      "2/2 [==============================] - 0s 3ms/step - loss: 7.6015 - mae: 7.6015\n",
      "Epoch 186/500\n",
      "2/2 [==============================] - 0s 3ms/step - loss: 16.0159 - mae: 16.0159\n",
      "Epoch 187/500\n",
      "2/2 [==============================] - 0s 4ms/step - loss: 8.6045 - mae: 8.6045\n",
      "Epoch 188/500\n",
      "2/2 [==============================] - 0s 3ms/step - loss: 28.6706 - mae: 28.6706\n",
      "Epoch 189/500\n",
      "2/2 [==============================] - 0s 3ms/step - loss: 13.2013 - mae: 13.2013\n",
      "Epoch 190/500\n",
      "2/2 [==============================] - 0s 4ms/step - loss: 18.3484 - mae: 18.3484\n",
      "Epoch 191/500\n",
      "2/2 [==============================] - 0s 3ms/step - loss: 13.7836 - mae: 13.7836\n",
      "Epoch 192/500\n",
      "2/2 [==============================] - 0s 5ms/step - loss: 13.7471 - mae: 13.7471\n",
      "Epoch 193/500\n",
      "2/2 [==============================] - 0s 4ms/step - loss: 28.6190 - mae: 28.6190\n",
      "Epoch 194/500\n",
      "2/2 [==============================] - 0s 4ms/step - loss: 7.0749 - mae: 7.0749\n",
      "Epoch 195/500\n",
      "2/2 [==============================] - 0s 3ms/step - loss: 7.8123 - mae: 7.8123\n",
      "Epoch 196/500\n",
      "2/2 [==============================] - 0s 4ms/step - loss: 26.0517 - mae: 26.0517\n",
      "Epoch 197/500\n",
      "2/2 [==============================] - 0s 3ms/step - loss: 11.5886 - mae: 11.5886\n",
      "Epoch 198/500\n",
      "2/2 [==============================] - 0s 3ms/step - loss: 18.8759 - mae: 18.8759\n",
      "Epoch 199/500\n",
      "2/2 [==============================] - 0s 3ms/step - loss: 16.6784 - mae: 16.6784\n",
      "Epoch 200/500\n",
      "2/2 [==============================] - 0s 3ms/step - loss: 12.3739 - mae: 12.3739\n",
      "Epoch 201/500\n",
      "2/2 [==============================] - 0s 4ms/step - loss: 7.1312 - mae: 7.1312\n",
      "Epoch 202/500\n",
      "2/2 [==============================] - 0s 3ms/step - loss: 22.8853 - mae: 22.8853\n",
      "Epoch 203/500\n",
      "2/2 [==============================] - 0s 3ms/step - loss: 9.0105 - mae: 9.0105\n",
      "Epoch 204/500\n",
      "2/2 [==============================] - 0s 4ms/step - loss: 18.8365 - mae: 18.8365\n",
      "Epoch 205/500\n",
      "2/2 [==============================] - 0s 3ms/step - loss: 9.4058 - mae: 9.4058\n",
      "Epoch 206/500\n",
      "2/2 [==============================] - 0s 2ms/step - loss: 10.4683 - mae: 10.4683\n",
      "Epoch 207/500\n",
      "2/2 [==============================] - 0s 3ms/step - loss: 21.0519 - mae: 21.0519\n",
      "Epoch 208/500\n",
      "2/2 [==============================] - 0s 3ms/step - loss: 16.4595 - mae: 16.4595\n",
      "Epoch 209/500\n",
      "2/2 [==============================] - 0s 4ms/step - loss: 14.3361 - mae: 14.3361\n",
      "Epoch 210/500\n",
      "2/2 [==============================] - 0s 3ms/step - loss: 17.2973 - mae: 17.2973\n",
      "Epoch 211/500\n",
      "2/2 [==============================] - 0s 4ms/step - loss: 10.2801 - mae: 10.2801\n",
      "Epoch 212/500\n",
      "2/2 [==============================] - 0s 3ms/step - loss: 19.7785 - mae: 19.7785\n",
      "Epoch 213/500\n",
      "2/2 [==============================] - 0s 6ms/step - loss: 14.6724 - mae: 14.6724\n",
      "Epoch 214/500\n",
      "2/2 [==============================] - 0s 4ms/step - loss: 14.3570 - mae: 14.3570\n",
      "Epoch 215/500\n",
      "2/2 [==============================] - 0s 6ms/step - loss: 22.8147 - mae: 22.8147\n",
      "Epoch 216/500\n",
      "2/2 [==============================] - 0s 5ms/step - loss: 14.5023 - mae: 14.5023\n",
      "Epoch 217/500\n",
      "2/2 [==============================] - 0s 3ms/step - loss: 9.2481 - mae: 9.2481\n",
      "Epoch 218/500\n",
      "2/2 [==============================] - 0s 5ms/step - loss: 11.8628 - mae: 11.8628\n",
      "Epoch 219/500\n",
      "2/2 [==============================] - 0s 4ms/step - loss: 6.8281 - mae: 6.8281\n",
      "Epoch 220/500\n",
      "2/2 [==============================] - 0s 3ms/step - loss: 7.1375 - mae: 7.1375\n",
      "Epoch 221/500\n",
      "2/2 [==============================] - 0s 3ms/step - loss: 38.5768 - mae: 38.5768\n",
      "Epoch 222/500\n",
      "2/2 [==============================] - 0s 3ms/step - loss: 38.6168 - mae: 38.6168\n",
      "Epoch 223/500\n",
      "2/2 [==============================] - 0s 4ms/step - loss: 5.0900 - mae: 5.0900\n",
      "Epoch 224/500\n",
      "2/2 [==============================] - 0s 3ms/step - loss: 11.2570 - mae: 11.2570\n",
      "Epoch 225/500\n",
      "2/2 [==============================] - 0s 3ms/step - loss: 31.1039 - mae: 31.1039\n",
      "Epoch 226/500\n",
      "2/2 [==============================] - 0s 3ms/step - loss: 12.2893 - mae: 12.2893\n",
      "Epoch 227/500\n",
      "2/2 [==============================] - 0s 2ms/step - loss: 19.2564 - mae: 19.2564\n",
      "Epoch 228/500\n",
      "2/2 [==============================] - 0s 4ms/step - loss: 11.2913 - mae: 11.2913\n",
      "Epoch 229/500\n",
      "2/2 [==============================] - 0s 3ms/step - loss: 13.7049 - mae: 13.7049\n",
      "Epoch 230/500\n",
      "2/2 [==============================] - 0s 2ms/step - loss: 9.6176 - mae: 9.6176\n",
      "Epoch 231/500\n",
      "2/2 [==============================] - 0s 3ms/step - loss: 19.2665 - mae: 19.2665\n",
      "Epoch 232/500\n",
      "2/2 [==============================] - 0s 3ms/step - loss: 15.7859 - mae: 15.7859\n",
      "Epoch 233/500\n",
      "2/2 [==============================] - 0s 3ms/step - loss: 11.2966 - mae: 11.2966\n",
      "Epoch 234/500\n",
      "2/2 [==============================] - 0s 3ms/step - loss: 11.2217 - mae: 11.2217\n",
      "Epoch 235/500\n",
      "2/2 [==============================] - 0s 3ms/step - loss: 9.6290 - mae: 9.6290\n",
      "Epoch 236/500\n",
      "2/2 [==============================] - 0s 3ms/step - loss: 12.8911 - mae: 12.8911\n",
      "Epoch 237/500\n",
      "2/2 [==============================] - 0s 3ms/step - loss: 10.0493 - mae: 10.0493\n",
      "Epoch 238/500\n",
      "2/2 [==============================] - 0s 3ms/step - loss: 13.7129 - mae: 13.7129\n",
      "Epoch 239/500\n",
      "2/2 [==============================] - 0s 3ms/step - loss: 19.2786 - mae: 19.2786\n",
      "Epoch 240/500\n",
      "2/2 [==============================] - 0s 3ms/step - loss: 24.2134 - mae: 24.2134\n",
      "Epoch 241/500\n",
      "2/2 [==============================] - 0s 3ms/step - loss: 9.4376 - mae: 9.4376\n",
      "Epoch 242/500\n",
      "2/2 [==============================] - 0s 3ms/step - loss: 15.2111 - mae: 15.2111\n",
      "Epoch 243/500\n",
      "2/2 [==============================] - 0s 3ms/step - loss: 10.6198 - mae: 10.6198\n",
      "Epoch 244/500\n",
      "2/2 [==============================] - 0s 4ms/step - loss: 8.5044 - mae: 8.5044\n",
      "Epoch 245/500\n",
      "2/2 [==============================] - 0s 3ms/step - loss: 15.3772 - mae: 15.3772\n",
      "Epoch 246/500\n",
      "2/2 [==============================] - 0s 4ms/step - loss: 16.4586 - mae: 16.4586\n",
      "Epoch 247/500\n",
      "2/2 [==============================] - 0s 2ms/step - loss: 18.5437 - mae: 18.5437\n",
      "Epoch 248/500\n",
      "2/2 [==============================] - 0s 3ms/step - loss: 14.0525 - mae: 14.0525\n",
      "Epoch 249/500\n",
      "2/2 [==============================] - 0s 4ms/step - loss: 15.0811 - mae: 15.0811\n",
      "Epoch 250/500\n",
      "2/2 [==============================] - 0s 3ms/step - loss: 18.8315 - mae: 18.8315\n",
      "Epoch 251/500\n",
      "2/2 [==============================] - 0s 3ms/step - loss: 14.1247 - mae: 14.1247\n",
      "Epoch 252/500\n",
      "2/2 [==============================] - 0s 3ms/step - loss: 29.5247 - mae: 29.5247\n",
      "Epoch 253/500\n",
      "2/2 [==============================] - 0s 3ms/step - loss: 8.2266 - mae: 8.2266\n",
      "Epoch 254/500\n",
      "2/2 [==============================] - 0s 4ms/step - loss: 11.2105 - mae: 11.2105\n",
      "Epoch 255/500\n",
      "2/2 [==============================] - 0s 3ms/step - loss: 18.3941 - mae: 18.3941\n",
      "Epoch 256/500\n",
      "2/2 [==============================] - 0s 2ms/step - loss: 10.1199 - mae: 10.1199\n",
      "Epoch 257/500\n",
      "2/2 [==============================] - 0s 3ms/step - loss: 14.9759 - mae: 14.9759\n",
      "Epoch 258/500\n",
      "2/2 [==============================] - 0s 3ms/step - loss: 4.7979 - mae: 4.7979\n",
      "Epoch 259/500\n",
      "2/2 [==============================] - 0s 4ms/step - loss: 9.5456 - mae: 9.5456\n",
      "Epoch 260/500\n",
      "2/2 [==============================] - 0s 2ms/step - loss: 38.4578 - mae: 38.4578\n",
      "Epoch 261/500\n",
      "2/2 [==============================] - 0s 3ms/step - loss: 15.5456 - mae: 15.5456\n",
      "Epoch 262/500\n",
      "2/2 [==============================] - 0s 3ms/step - loss: 5.7946 - mae: 5.7946\n",
      "Epoch 263/500\n",
      "2/2 [==============================] - 0s 3ms/step - loss: 14.6143 - mae: 14.6143\n",
      "Epoch 264/500\n",
      "2/2 [==============================] - 0s 3ms/step - loss: 18.7763 - mae: 18.7763\n",
      "Epoch 265/500\n",
      "2/2 [==============================] - 0s 3ms/step - loss: 13.0811 - mae: 13.0811\n",
      "Epoch 266/500\n",
      "2/2 [==============================] - 0s 4ms/step - loss: 10.3440 - mae: 10.3440\n",
      "Epoch 267/500\n",
      "2/2 [==============================] - 0s 4ms/step - loss: 6.0646 - mae: 6.0646\n",
      "Epoch 268/500\n",
      "2/2 [==============================] - 0s 3ms/step - loss: 18.7264 - mae: 18.7264\n",
      "Epoch 269/500\n",
      "2/2 [==============================] - 0s 3ms/step - loss: 42.1759 - mae: 42.1759\n",
      "Epoch 270/500\n",
      "2/2 [==============================] - 0s 3ms/step - loss: 13.9252 - mae: 13.9252\n",
      "Epoch 271/500\n",
      "2/2 [==============================] - 0s 3ms/step - loss: 15.0891 - mae: 15.0891\n",
      "Epoch 272/500\n",
      "2/2 [==============================] - 0s 3ms/step - loss: 29.1220 - mae: 29.1220\n",
      "Epoch 273/500\n",
      "2/2 [==============================] - 0s 2ms/step - loss: 5.5639 - mae: 5.5639\n",
      "Epoch 274/500\n",
      "2/2 [==============================] - 0s 3ms/step - loss: 13.9502 - mae: 13.9502\n",
      "Epoch 275/500\n",
      "2/2 [==============================] - 0s 7ms/step - loss: 17.0155 - mae: 17.0155\n",
      "Epoch 276/500\n",
      "2/2 [==============================] - 0s 4ms/step - loss: 12.8335 - mae: 12.8335\n",
      "Epoch 277/500\n",
      "2/2 [==============================] - 0s 6ms/step - loss: 30.4162 - mae: 30.4162\n",
      "Epoch 278/500\n",
      "2/2 [==============================] - 0s 4ms/step - loss: 10.9543 - mae: 10.9543\n",
      "Epoch 279/500\n",
      "2/2 [==============================] - 0s 3ms/step - loss: 16.3254 - mae: 16.3254\n",
      "Epoch 280/500\n",
      "2/2 [==============================] - 0s 4ms/step - loss: 21.6940 - mae: 21.6940\n",
      "Epoch 281/500\n",
      "2/2 [==============================] - 0s 4ms/step - loss: 22.6545 - mae: 22.6545\n",
      "Epoch 282/500\n",
      "2/2 [==============================] - 0s 3ms/step - loss: 7.9699 - mae: 7.9699\n",
      "Epoch 283/500\n",
      "2/2 [==============================] - 0s 3ms/step - loss: 8.2951 - mae: 8.2951\n",
      "Epoch 284/500\n",
      "2/2 [==============================] - 0s 3ms/step - loss: 25.3875 - mae: 25.3875\n",
      "Epoch 285/500\n",
      "2/2 [==============================] - 0s 5ms/step - loss: 14.0386 - mae: 14.0386\n",
      "Epoch 286/500\n",
      "2/2 [==============================] - 0s 3ms/step - loss: 6.0520 - mae: 6.0520\n",
      "Epoch 287/500\n",
      "2/2 [==============================] - 0s 2ms/step - loss: 19.0808 - mae: 19.0808\n",
      "Epoch 288/500\n",
      "2/2 [==============================] - 0s 3ms/step - loss: 32.6404 - mae: 32.6404\n",
      "Epoch 289/500\n",
      "2/2 [==============================] - 0s 3ms/step - loss: 8.4409 - mae: 8.4409\n",
      "Epoch 290/500\n",
      "2/2 [==============================] - 0s 4ms/step - loss: 16.9333 - mae: 16.9333\n",
      "Epoch 291/500\n",
      "2/2 [==============================] - 0s 2ms/step - loss: 17.3226 - mae: 17.3226\n",
      "Epoch 292/500\n",
      "2/2 [==============================] - 0s 3ms/step - loss: 10.9677 - mae: 10.9677\n",
      "Epoch 293/500\n",
      "2/2 [==============================] - 0s 3ms/step - loss: 14.6313 - mae: 14.6313\n",
      "Epoch 294/500\n",
      "2/2 [==============================] - 0s 3ms/step - loss: 21.9009 - mae: 21.9009\n",
      "Epoch 295/500\n",
      "2/2 [==============================] - 0s 3ms/step - loss: 19.7727 - mae: 19.7727\n",
      "Epoch 296/500\n",
      "2/2 [==============================] - 0s 2ms/step - loss: 6.9641 - mae: 6.9641\n",
      "Epoch 297/500\n",
      "2/2 [==============================] - 0s 2ms/step - loss: 9.0578 - mae: 9.0578\n",
      "Epoch 298/500\n",
      "2/2 [==============================] - 0s 4ms/step - loss: 24.3529 - mae: 24.3529\n",
      "Epoch 299/500\n",
      "2/2 [==============================] - 0s 3ms/step - loss: 17.6562 - mae: 17.6562\n",
      "Epoch 300/500\n",
      "2/2 [==============================] - 0s 3ms/step - loss: 7.0199 - mae: 7.0199\n",
      "Epoch 301/500\n",
      "2/2 [==============================] - 0s 3ms/step - loss: 25.1002 - mae: 25.1002\n",
      "Epoch 302/500\n",
      "2/2 [==============================] - 0s 3ms/step - loss: 8.9076 - mae: 8.9076\n",
      "Epoch 303/500\n",
      "2/2 [==============================] - 0s 3ms/step - loss: 17.6737 - mae: 17.6737\n",
      "Epoch 304/500\n",
      "2/2 [==============================] - 0s 3ms/step - loss: 11.0021 - mae: 11.0021\n",
      "Epoch 305/500\n",
      "2/2 [==============================] - 0s 3ms/step - loss: 12.8376 - mae: 12.8376\n",
      "Epoch 306/500\n",
      "2/2 [==============================] - 0s 3ms/step - loss: 8.4023 - mae: 8.4023\n",
      "Epoch 307/500\n",
      "2/2 [==============================] - 0s 3ms/step - loss: 13.2654 - mae: 13.2654\n",
      "Epoch 308/500\n",
      "2/2 [==============================] - 0s 5ms/step - loss: 8.2551 - mae: 8.2551\n",
      "Epoch 309/500\n",
      "2/2 [==============================] - 0s 3ms/step - loss: 11.8908 - mae: 11.8908\n",
      "Epoch 310/500\n",
      "2/2 [==============================] - 0s 3ms/step - loss: 5.8901 - mae: 5.8901\n",
      "Epoch 311/500\n",
      "2/2 [==============================] - 0s 2ms/step - loss: 8.8115 - mae: 8.8115\n",
      "Epoch 312/500\n",
      "2/2 [==============================] - 0s 2ms/step - loss: 30.0146 - mae: 30.0146\n",
      "Epoch 313/500\n",
      "2/2 [==============================] - 0s 3ms/step - loss: 7.6852 - mae: 7.6852\n",
      "Epoch 314/500\n",
      "2/2 [==============================] - 0s 2ms/step - loss: 9.9300 - mae: 9.9300\n",
      "Epoch 315/500\n",
      "2/2 [==============================] - 0s 3ms/step - loss: 23.7790 - mae: 23.7790\n",
      "Epoch 316/500\n",
      "2/2 [==============================] - 0s 3ms/step - loss: 16.3925 - mae: 16.3925\n",
      "Epoch 317/500\n",
      "2/2 [==============================] - 0s 3ms/step - loss: 20.9535 - mae: 20.9535\n",
      "Epoch 318/500\n",
      "2/2 [==============================] - 0s 4ms/step - loss: 9.3077 - mae: 9.3077\n",
      "Epoch 319/500\n",
      "2/2 [==============================] - 0s 3ms/step - loss: 11.9084 - mae: 11.9084\n",
      "Epoch 320/500\n",
      "2/2 [==============================] - 0s 4ms/step - loss: 12.7719 - mae: 12.7719\n",
      "Epoch 321/500\n",
      "2/2 [==============================] - 0s 3ms/step - loss: 8.2189 - mae: 8.2189\n",
      "Epoch 322/500\n",
      "2/2 [==============================] - 0s 3ms/step - loss: 13.3590 - mae: 13.3590\n",
      "Epoch 323/500\n",
      "2/2 [==============================] - 0s 3ms/step - loss: 17.6031 - mae: 17.6031\n",
      "Epoch 324/500\n",
      "2/2 [==============================] - 0s 3ms/step - loss: 15.8588 - mae: 15.8588\n",
      "Epoch 325/500\n",
      "2/2 [==============================] - 0s 3ms/step - loss: 17.4784 - mae: 17.4784\n",
      "Epoch 326/500\n",
      "2/2 [==============================] - 0s 3ms/step - loss: 11.2305 - mae: 11.2305\n",
      "Epoch 327/500\n",
      "2/2 [==============================] - 0s 3ms/step - loss: 7.7784 - mae: 7.7784\n",
      "Epoch 328/500\n",
      "2/2 [==============================] - 0s 5ms/step - loss: 4.3971 - mae: 4.3971\n",
      "Epoch 329/500\n",
      "2/2 [==============================] - 0s 8ms/step - loss: 7.8317 - mae: 7.8317\n",
      "Epoch 330/500\n",
      "2/2 [==============================] - 0s 5ms/step - loss: 14.4646 - mae: 14.4646\n",
      "Epoch 331/500\n",
      "2/2 [==============================] - 0s 3ms/step - loss: 21.9551 - mae: 21.9551\n",
      "Epoch 332/500\n",
      "2/2 [==============================] - 0s 4ms/step - loss: 21.7583 - mae: 21.7583\n",
      "Epoch 333/500\n",
      "2/2 [==============================] - 0s 3ms/step - loss: 12.6398 - mae: 12.6398\n",
      "Epoch 334/500\n",
      "2/2 [==============================] - 0s 4ms/step - loss: 9.6030 - mae: 9.6030\n",
      "Epoch 335/500\n",
      "2/2 [==============================] - 0s 3ms/step - loss: 13.0427 - mae: 13.0427\n",
      "Epoch 336/500\n",
      "2/2 [==============================] - 0s 3ms/step - loss: 32.4343 - mae: 32.4343\n",
      "Epoch 337/500\n",
      "2/2 [==============================] - 0s 5ms/step - loss: 10.6862 - mae: 10.6862\n",
      "Epoch 338/500\n",
      "2/2 [==============================] - 0s 3ms/step - loss: 20.2302 - mae: 20.2302\n",
      "Epoch 339/500\n",
      "2/2 [==============================] - 0s 3ms/step - loss: 33.5429 - mae: 33.5429\n",
      "Epoch 340/500\n",
      "2/2 [==============================] - 0s 3ms/step - loss: 8.5981 - mae: 8.5981\n",
      "Epoch 341/500\n",
      "2/2 [==============================] - 0s 3ms/step - loss: 21.2808 - mae: 21.2808\n",
      "Epoch 342/500\n",
      "2/2 [==============================] - 0s 4ms/step - loss: 14.1451 - mae: 14.1451\n",
      "Epoch 343/500\n",
      "2/2 [==============================] - 0s 3ms/step - loss: 11.7048 - mae: 11.7048\n",
      "Epoch 344/500\n",
      "2/2 [==============================] - 0s 3ms/step - loss: 10.7209 - mae: 10.7209\n",
      "Epoch 345/500\n",
      "2/2 [==============================] - 0s 3ms/step - loss: 30.9124 - mae: 30.9124\n",
      "Epoch 346/500\n",
      "2/2 [==============================] - 0s 3ms/step - loss: 10.6584 - mae: 10.6584\n",
      "Epoch 347/500\n",
      "2/2 [==============================] - 0s 5ms/step - loss: 25.5833 - mae: 25.5833\n",
      "Epoch 348/500\n",
      "2/2 [==============================] - 0s 3ms/step - loss: 13.2524 - mae: 13.2524\n",
      "Epoch 349/500\n",
      "2/2 [==============================] - 0s 3ms/step - loss: 13.0663 - mae: 13.0663\n",
      "Epoch 350/500\n",
      "2/2 [==============================] - 0s 2ms/step - loss: 15.4198 - mae: 15.4198\n",
      "Epoch 351/500\n",
      "2/2 [==============================] - 0s 3ms/step - loss: 32.8865 - mae: 32.8865\n",
      "Epoch 352/500\n",
      "2/2 [==============================] - 0s 5ms/step - loss: 13.9997 - mae: 13.9997\n",
      "Epoch 353/500\n",
      "2/2 [==============================] - 0s 3ms/step - loss: 15.9834 - mae: 15.9834\n",
      "Epoch 354/500\n",
      "2/2 [==============================] - 0s 3ms/step - loss: 13.3470 - mae: 13.3470\n",
      "Epoch 355/500\n",
      "2/2 [==============================] - 0s 3ms/step - loss: 21.4794 - mae: 21.4794\n",
      "Epoch 356/500\n",
      "2/2 [==============================] - 0s 3ms/step - loss: 16.3147 - mae: 16.3147\n",
      "Epoch 357/500\n",
      "2/2 [==============================] - 0s 4ms/step - loss: 11.8573 - mae: 11.8573\n",
      "Epoch 358/500\n",
      "2/2 [==============================] - 0s 3ms/step - loss: 14.9708 - mae: 14.9708\n",
      "Epoch 359/500\n",
      "2/2 [==============================] - 0s 3ms/step - loss: 12.2632 - mae: 12.2632\n",
      "Epoch 360/500\n",
      "2/2 [==============================] - 0s 3ms/step - loss: 20.2069 - mae: 20.2069\n",
      "Epoch 361/500\n",
      "2/2 [==============================] - 0s 3ms/step - loss: 11.1470 - mae: 11.1470\n",
      "Epoch 362/500\n",
      "2/2 [==============================] - 0s 4ms/step - loss: 6.8857 - mae: 6.8857\n",
      "Epoch 363/500\n",
      "2/2 [==============================] - 0s 3ms/step - loss: 24.1331 - mae: 24.1331\n",
      "Epoch 364/500\n",
      "2/2 [==============================] - 0s 3ms/step - loss: 29.9525 - mae: 29.9525\n",
      "Epoch 365/500\n",
      "2/2 [==============================] - 0s 2ms/step - loss: 8.4588 - mae: 8.4588\n",
      "Epoch 366/500\n",
      "2/2 [==============================] - 0s 3ms/step - loss: 6.1430 - mae: 6.1430\n",
      "Epoch 367/500\n",
      "2/2 [==============================] - 0s 5ms/step - loss: 35.0537 - mae: 35.0537\n",
      "Epoch 368/500\n",
      "2/2 [==============================] - 0s 3ms/step - loss: 7.4918 - mae: 7.4918\n",
      "Epoch 369/500\n",
      "2/2 [==============================] - 0s 4ms/step - loss: 9.3051 - mae: 9.3051\n",
      "Epoch 370/500\n",
      "2/2 [==============================] - 0s 2ms/step - loss: 11.0044 - mae: 11.0044\n",
      "Epoch 371/500\n",
      "2/2 [==============================] - 0s 2ms/step - loss: 9.0649 - mae: 9.0649\n",
      "Epoch 372/500\n",
      "2/2 [==============================] - 0s 4ms/step - loss: 6.9779 - mae: 6.9779\n",
      "Epoch 373/500\n",
      "2/2 [==============================] - 0s 2ms/step - loss: 25.9449 - mae: 25.9449\n",
      "Epoch 374/500\n",
      "2/2 [==============================] - 0s 2ms/step - loss: 10.9866 - mae: 10.9866\n",
      "Epoch 375/500\n",
      "2/2 [==============================] - 0s 3ms/step - loss: 10.7984 - mae: 10.7984\n",
      "Epoch 376/500\n",
      "2/2 [==============================] - 0s 3ms/step - loss: 13.5821 - mae: 13.5821\n",
      "Epoch 377/500\n",
      "2/2 [==============================] - 0s 4ms/step - loss: 15.2873 - mae: 15.2873\n",
      "Epoch 378/500\n",
      "2/2 [==============================] - 0s 3ms/step - loss: 16.4259 - mae: 16.4259\n",
      "Epoch 379/500\n",
      "2/2 [==============================] - 0s 3ms/step - loss: 12.8733 - mae: 12.8733\n",
      "Epoch 380/500\n",
      "2/2 [==============================] - 0s 3ms/step - loss: 27.1292 - mae: 27.1292\n",
      "Epoch 381/500\n",
      "2/2 [==============================] - 0s 3ms/step - loss: 8.9906 - mae: 8.9906\n",
      "Epoch 382/500\n",
      "2/2 [==============================] - 0s 4ms/step - loss: 9.7874 - mae: 9.7874\n",
      "Epoch 383/500\n",
      "2/2 [==============================] - 0s 3ms/step - loss: 5.8855 - mae: 5.8855\n",
      "Epoch 384/500\n",
      "2/2 [==============================] - 0s 2ms/step - loss: 8.6008 - mae: 8.6008\n",
      "Epoch 385/500\n",
      "2/2 [==============================] - 0s 3ms/step - loss: 4.2386 - mae: 4.2386\n",
      "Epoch 386/500\n",
      "2/2 [==============================] - 0s 8ms/step - loss: 13.7556 - mae: 13.7556\n",
      "Epoch 387/500\n",
      "2/2 [==============================] - 0s 5ms/step - loss: 17.1911 - mae: 17.1911\n",
      "Epoch 388/500\n",
      "2/2 [==============================] - 0s 5ms/step - loss: 16.9372 - mae: 16.9372\n",
      "Epoch 389/500\n",
      "2/2 [==============================] - 0s 5ms/step - loss: 13.2633 - mae: 13.2633\n",
      "Epoch 390/500\n",
      "2/2 [==============================] - 0s 2ms/step - loss: 18.0447 - mae: 18.0447\n",
      "Epoch 391/500\n",
      "2/2 [==============================] - 0s 3ms/step - loss: 14.0568 - mae: 14.0568\n",
      "Epoch 392/500\n",
      "2/2 [==============================] - 0s 3ms/step - loss: 16.9190 - mae: 16.9190\n",
      "Epoch 393/500\n",
      "2/2 [==============================] - 0s 5ms/step - loss: 9.9797 - mae: 9.9797\n",
      "Epoch 394/500\n",
      "2/2 [==============================] - 0s 3ms/step - loss: 14.1179 - mae: 14.1179\n",
      "Epoch 395/500\n",
      "2/2 [==============================] - 0s 3ms/step - loss: 28.5162 - mae: 28.5162\n",
      "Epoch 396/500\n",
      "2/2 [==============================] - 0s 4ms/step - loss: 8.4363 - mae: 8.4363\n",
      "Epoch 397/500\n",
      "2/2 [==============================] - 0s 2ms/step - loss: 11.1774 - mae: 11.1774\n",
      "Epoch 398/500\n",
      "2/2 [==============================] - 0s 3ms/step - loss: 6.8571 - mae: 6.8571\n",
      "Epoch 399/500\n",
      "2/2 [==============================] - 0s 4ms/step - loss: 14.0174 - mae: 14.0174\n",
      "Epoch 400/500\n",
      "2/2 [==============================] - 0s 3ms/step - loss: 6.6481 - mae: 6.6481\n",
      "Epoch 401/500\n",
      "2/2 [==============================] - 0s 3ms/step - loss: 7.9266 - mae: 7.9266\n",
      "Epoch 402/500\n",
      "2/2 [==============================] - 0s 3ms/step - loss: 16.2889 - mae: 16.2889\n",
      "Epoch 403/500\n",
      "2/2 [==============================] - 0s 2ms/step - loss: 12.3762 - mae: 12.3762\n",
      "Epoch 404/500\n",
      "2/2 [==============================] - 0s 5ms/step - loss: 22.9913 - mae: 22.9913\n",
      "Epoch 405/500\n",
      "2/2 [==============================] - 0s 3ms/step - loss: 17.9705 - mae: 17.9705\n",
      "Epoch 406/500\n",
      "2/2 [==============================] - 0s 5ms/step - loss: 6.9917 - mae: 6.9917\n",
      "Epoch 407/500\n",
      "2/2 [==============================] - 0s 2ms/step - loss: 12.5469 - mae: 12.5469\n",
      "Epoch 408/500\n",
      "2/2 [==============================] - 0s 3ms/step - loss: 5.6379 - mae: 5.6379\n",
      "Epoch 409/500\n",
      "2/2 [==============================] - 0s 3ms/step - loss: 31.0539 - mae: 31.0539\n",
      "Epoch 410/500\n",
      "2/2 [==============================] - 0s 3ms/step - loss: 9.2805 - mae: 9.2805\n",
      "Epoch 411/500\n",
      "2/2 [==============================] - 0s 3ms/step - loss: 14.8936 - mae: 14.8936\n",
      "Epoch 412/500\n",
      "2/2 [==============================] - 0s 3ms/step - loss: 21.7928 - mae: 21.7928\n",
      "Epoch 413/500\n",
      "2/2 [==============================] - 0s 4ms/step - loss: 12.5101 - mae: 12.5101\n",
      "Epoch 414/500\n",
      "2/2 [==============================] - 0s 2ms/step - loss: 6.0667 - mae: 6.0667\n",
      "Epoch 415/500\n",
      "2/2 [==============================] - 0s 2ms/step - loss: 13.2462 - mae: 13.2462\n",
      "Epoch 416/500\n",
      "2/2 [==============================] - 0s 3ms/step - loss: 27.4775 - mae: 27.4775\n",
      "Epoch 417/500\n",
      "2/2 [==============================] - 0s 3ms/step - loss: 10.5090 - mae: 10.5090\n",
      "Epoch 418/500\n",
      "2/2 [==============================] - 0s 4ms/step - loss: 12.8574 - mae: 12.8574\n",
      "Epoch 419/500\n",
      "2/2 [==============================] - 0s 2ms/step - loss: 15.8942 - mae: 15.8942\n",
      "Epoch 420/500\n",
      "2/2 [==============================] - 0s 2ms/step - loss: 24.7962 - mae: 24.7962\n",
      "Epoch 421/500\n",
      "2/2 [==============================] - 0s 4ms/step - loss: 17.2579 - mae: 17.2579\n",
      "Epoch 422/500\n",
      "2/2 [==============================] - 0s 3ms/step - loss: 7.7927 - mae: 7.7927\n",
      "Epoch 423/500\n",
      "2/2 [==============================] - 0s 2ms/step - loss: 25.4105 - mae: 25.4105\n",
      "Epoch 424/500\n",
      "2/2 [==============================] - 0s 3ms/step - loss: 15.0331 - mae: 15.0331\n",
      "Epoch 425/500\n",
      "2/2 [==============================] - 0s 3ms/step - loss: 7.0963 - mae: 7.0963\n",
      "Epoch 426/500\n",
      "2/2 [==============================] - 0s 4ms/step - loss: 20.2559 - mae: 20.2559\n",
      "Epoch 427/500\n",
      "2/2 [==============================] - 0s 3ms/step - loss: 6.2674 - mae: 6.2674\n",
      "Epoch 428/500\n",
      "2/2 [==============================] - 0s 2ms/step - loss: 12.9626 - mae: 12.9626\n",
      "Epoch 429/500\n",
      "2/2 [==============================] - 0s 3ms/step - loss: 10.7566 - mae: 10.7566\n",
      "Epoch 430/500\n",
      "2/2 [==============================] - 0s 3ms/step - loss: 11.3682 - mae: 11.3682\n",
      "Epoch 431/500\n",
      "2/2 [==============================] - 0s 3ms/step - loss: 10.5825 - mae: 10.5825\n",
      "Epoch 432/500\n",
      "2/2 [==============================] - 0s 3ms/step - loss: 11.4206 - mae: 11.4206\n",
      "Epoch 433/500\n",
      "2/2 [==============================] - 0s 3ms/step - loss: 11.3608 - mae: 11.3608\n",
      "Epoch 434/500\n",
      "2/2 [==============================] - 0s 5ms/step - loss: 30.3994 - mae: 30.3994\n",
      "Epoch 435/500\n",
      "2/2 [==============================] - 0s 5ms/step - loss: 10.4729 - mae: 10.4729\n",
      "Epoch 436/500\n",
      "2/2 [==============================] - 0s 4ms/step - loss: 28.8758 - mae: 28.8758\n",
      "Epoch 437/500\n",
      "2/2 [==============================] - 0s 2ms/step - loss: 8.5529 - mae: 8.5529\n",
      "Epoch 438/500\n",
      "2/2 [==============================] - 0s 4ms/step - loss: 12.7172 - mae: 12.7172\n",
      "Epoch 439/500\n",
      "2/2 [==============================] - 0s 3ms/step - loss: 33.6709 - mae: 33.6709\n",
      "Epoch 440/500\n",
      "2/2 [==============================] - 0s 3ms/step - loss: 15.0621 - mae: 15.0621\n",
      "Epoch 441/500\n",
      "2/2 [==============================] - 0s 4ms/step - loss: 17.4526 - mae: 17.4526\n",
      "Epoch 442/500\n",
      "2/2 [==============================] - 0s 2ms/step - loss: 22.2661 - mae: 22.2661\n",
      "Epoch 443/500\n",
      "2/2 [==============================] - 0s 3ms/step - loss: 23.6733 - mae: 23.6733\n",
      "Epoch 444/500\n",
      "2/2 [==============================] - 0s 3ms/step - loss: 11.0591 - mae: 11.0591\n",
      "Epoch 445/500\n",
      "2/2 [==============================] - 0s 3ms/step - loss: 14.8807 - mae: 14.8807\n",
      "Epoch 446/500\n",
      "2/2 [==============================] - 0s 5ms/step - loss: 17.9457 - mae: 17.9457\n",
      "Epoch 447/500\n",
      "2/2 [==============================] - 0s 4ms/step - loss: 5.4506 - mae: 5.4506\n",
      "Epoch 448/500\n",
      "2/2 [==============================] - 0s 7ms/step - loss: 9.6482 - mae: 9.6482\n",
      "Epoch 449/500\n",
      "2/2 [==============================] - 0s 3ms/step - loss: 14.2889 - mae: 14.2889\n",
      "Epoch 450/500\n",
      "2/2 [==============================] - 0s 3ms/step - loss: 17.0455 - mae: 17.0455\n",
      "Epoch 451/500\n",
      "2/2 [==============================] - 0s 4ms/step - loss: 14.3928 - mae: 14.3928\n",
      "Epoch 452/500\n",
      "2/2 [==============================] - 0s 4ms/step - loss: 30.8642 - mae: 30.8642\n",
      "Epoch 453/500\n",
      "2/2 [==============================] - 0s 3ms/step - loss: 9.1111 - mae: 9.1111\n",
      "Epoch 454/500\n",
      "2/2 [==============================] - 0s 3ms/step - loss: 27.2220 - mae: 27.2220\n",
      "Epoch 455/500\n",
      "2/2 [==============================] - 0s 3ms/step - loss: 11.3213 - mae: 11.3213\n",
      "Epoch 456/500\n",
      "2/2 [==============================] - 0s 2ms/step - loss: 15.6566 - mae: 15.6566\n",
      "Epoch 457/500\n",
      "2/2 [==============================] - 0s 3ms/step - loss: 19.3253 - mae: 19.3253\n",
      "Epoch 458/500\n",
      "2/2 [==============================] - 0s 3ms/step - loss: 22.9276 - mae: 22.9276\n",
      "Epoch 459/500\n",
      "2/2 [==============================] - 0s 2ms/step - loss: 16.2767 - mae: 16.2767\n",
      "Epoch 460/500\n",
      "2/2 [==============================] - 0s 5ms/step - loss: 4.0494 - mae: 4.0494\n",
      "Epoch 461/500\n",
      "2/2 [==============================] - 0s 3ms/step - loss: 16.1128 - mae: 16.1128\n",
      "Epoch 462/500\n",
      "2/2 [==============================] - 0s 3ms/step - loss: 15.5390 - mae: 15.5390\n",
      "Epoch 463/500\n",
      "2/2 [==============================] - 0s 3ms/step - loss: 17.3132 - mae: 17.3132\n",
      "Epoch 464/500\n",
      "2/2 [==============================] - 0s 2ms/step - loss: 11.5449 - mae: 11.5449\n",
      "Epoch 465/500\n",
      "2/2 [==============================] - 0s 5ms/step - loss: 22.2018 - mae: 22.2018\n",
      "Epoch 466/500\n",
      "2/2 [==============================] - 0s 3ms/step - loss: 23.4955 - mae: 23.4955\n",
      "Epoch 467/500\n",
      "2/2 [==============================] - 0s 4ms/step - loss: 13.5817 - mae: 13.5817\n",
      "Epoch 468/500\n",
      "2/2 [==============================] - 0s 3ms/step - loss: 10.9747 - mae: 10.9747\n",
      "Epoch 469/500\n",
      "2/2 [==============================] - 0s 2ms/step - loss: 27.4790 - mae: 27.4790\n",
      "Epoch 470/500\n",
      "2/2 [==============================] - 0s 4ms/step - loss: 12.2032 - mae: 12.2032\n",
      "Epoch 471/500\n",
      "2/2 [==============================] - 0s 2ms/step - loss: 11.7482 - mae: 11.7482\n",
      "Epoch 472/500\n",
      "2/2 [==============================] - 0s 3ms/step - loss: 15.5983 - mae: 15.5983\n",
      "Epoch 473/500\n",
      "2/2 [==============================] - 0s 3ms/step - loss: 15.6687 - mae: 15.6687\n",
      "Epoch 474/500\n",
      "2/2 [==============================] - 0s 2ms/step - loss: 19.8866 - mae: 19.8866\n",
      "Epoch 475/500\n",
      "2/2 [==============================] - 0s 4ms/step - loss: 5.6135 - mae: 5.6135\n",
      "Epoch 476/500\n",
      "2/2 [==============================] - 0s 3ms/step - loss: 13.0664 - mae: 13.0664\n",
      "Epoch 477/500\n",
      "2/2 [==============================] - 0s 3ms/step - loss: 29.0091 - mae: 29.0091\n",
      "Epoch 478/500\n",
      "2/2 [==============================] - 0s 3ms/step - loss: 6.1284 - mae: 6.1284\n",
      "Epoch 479/500\n",
      "2/2 [==============================] - 0s 2ms/step - loss: 4.2383 - mae: 4.2383\n",
      "Epoch 480/500\n",
      "2/2 [==============================] - 0s 5ms/step - loss: 21.4505 - mae: 21.4505\n",
      "Epoch 481/500\n",
      "2/2 [==============================] - 0s 2ms/step - loss: 21.9822 - mae: 21.9822\n",
      "Epoch 482/500\n",
      "2/2 [==============================] - 0s 2ms/step - loss: 11.1139 - mae: 11.1139\n",
      "Epoch 483/500\n",
      "2/2 [==============================] - 0s 3ms/step - loss: 6.2647 - mae: 6.2647\n",
      "Epoch 484/500\n",
      "2/2 [==============================] - 0s 3ms/step - loss: 29.4821 - mae: 29.4821\n",
      "Epoch 485/500\n",
      "2/2 [==============================] - 0s 4ms/step - loss: 5.2970 - mae: 5.2970\n",
      "Epoch 486/500\n",
      "2/2 [==============================] - 0s 3ms/step - loss: 17.4212 - mae: 17.4212\n",
      "Epoch 487/500\n",
      "2/2 [==============================] - 0s 3ms/step - loss: 14.2053 - mae: 14.2053\n",
      "Epoch 488/500\n",
      "2/2 [==============================] - 0s 3ms/step - loss: 30.9255 - mae: 30.9255\n",
      "Epoch 489/500\n",
      "2/2 [==============================] - 0s 3ms/step - loss: 12.3978 - mae: 12.3978\n",
      "Epoch 490/500\n",
      "2/2 [==============================] - 0s 5ms/step - loss: 12.9677 - mae: 12.9677\n",
      "Epoch 491/500\n",
      "2/2 [==============================] - 0s 3ms/step - loss: 24.0944 - mae: 24.0944\n",
      "Epoch 492/500\n",
      "2/2 [==============================] - 0s 3ms/step - loss: 19.3493 - mae: 19.3493\n",
      "Epoch 493/500\n",
      "2/2 [==============================] - 0s 3ms/step - loss: 4.7026 - mae: 4.7026\n",
      "Epoch 494/500\n",
      "2/2 [==============================] - 0s 3ms/step - loss: 11.7979 - mae: 11.7979\n",
      "Epoch 495/500\n",
      "2/2 [==============================] - 0s 5ms/step - loss: 13.7780 - mae: 13.7780\n",
      "Epoch 496/500\n",
      "2/2 [==============================] - 0s 4ms/step - loss: 12.9527 - mae: 12.9527\n",
      "Epoch 497/500\n",
      "2/2 [==============================] - 0s 15ms/step - loss: 18.1175 - mae: 18.1175\n",
      "Epoch 498/500\n",
      "2/2 [==============================] - 0s 5ms/step - loss: 22.4245 - mae: 22.4245\n",
      "Epoch 499/500\n",
      "2/2 [==============================] - 0s 4ms/step - loss: 8.2520 - mae: 8.2520\n",
      "Epoch 500/500\n",
      "2/2 [==============================] - 0s 4ms/step - loss: 14.1546 - mae: 14.1546\n"
     ]
    },
    {
     "data": {
      "text/plain": [
       "<keras.src.callbacks.History at 0x2136bdb28d0>"
      ]
     },
     "execution_count": 62,
     "metadata": {},
     "output_type": "execute_result"
    }
   ],
   "source": [
    "# 1. Create the model\n",
    "model_3 = tf.keras.Sequential([\n",
    "    tf.keras.layers.Dense(50),\n",
    "    tf.keras.layers.Dense(1)\n",
    "])\n",
    "\n",
    "# 2. Compile the model\n",
    "model_3.compile(loss=tf.keras.losses.mae,\n",
    "                optimizer=tf.keras.optimizers.SGD(),\n",
    "                metrics=[\"mae\"])\n",
    "\n",
    "# 3. Fit the model\n",
    "model_3.fit(tf.expand_dims(X_train, axis=-1), y_train, epochs=500)"
   ]
  },
  {
   "cell_type": "code",
   "execution_count": 63,
   "metadata": {},
   "outputs": [
    {
     "name": "stdout",
     "output_type": "stream",
     "text": [
      "1/1 [==============================] - 0s 39ms/step\n"
     ]
    },
    {
     "data": {
      "image/png": "[encoded data removed]",
      "text/plain": [
       "<Figure size 1000x700 with 1 Axes>"
      ]
     },
     "metadata": {},
     "output_type": "display_data"
    }
   ],
   "source": [
    "y_preds_3 = model_3.predict(X_test)\n",
    "plot_predictions(predictions=y_preds_3)"
   ]
  },
  {
   "cell_type": "code",
   "execution_count": 66,
   "metadata": {},
   "outputs": [
    {
     "data": {
      "text/plain": [
       "(<tf.Tensor: shape=(), dtype=float32, numpy=67.15615>,\n",
       " <tf.Tensor: shape=(), dtype=float32, numpy=4592.518>)"
      ]
     },
     "execution_count": 66,
     "metadata": {},
     "output_type": "execute_result"
    }
   ],
   "source": [
    "# Calculate model_3 evaluation metrics\n",
    "mae_3 = mae(y_test, y_preds_3)\n",
    "mse_3 = mse(y_test, y_preds_3)\n",
    "mae_3, mse_3"
   ]
  },
  {
   "cell_type": "markdown",
   "metadata": {},
   "source": [
    "### Comparing the results of our experiments\n",
    "\n",
    "We've run a few experiments, let's compare the results."
   ]
  },
  {
   "cell_type": "code",
   "execution_count": 68,
   "metadata": {},
   "outputs": [
    {
     "data": {
      "text/html": [
       "<div>\n",
       "<style scoped>\n",
       "    .dataframe tbody tr th:only-of-type {\n",
       "        vertical-align: middle;\n",
       "    }\n",
       "\n",
       "    .dataframe tbody tr th {\n",
       "        vertical-align: top;\n",
       "    }\n",
       "\n",
       "    .dataframe thead th {\n",
       "        text-align: right;\n",
       "    }\n",
       "</style>\n",
       "<table border=\"1\" class=\"dataframe\">\n",
       "  <thead>\n",
       "    <tr style=\"text-align: right;\">\n",
       "      <th></th>\n",
       "      <th>model</th>\n",
       "      <th>mae</th>\n",
       "      <th>mse</th>\n",
       "    </tr>\n",
       "  </thead>\n",
       "  <tbody>\n",
       "    <tr>\n",
       "      <th>0</th>\n",
       "      <td>model_1</td>\n",
       "      <td>30.646191</td>\n",
       "      <td>949.620300</td>\n",
       "    </tr>\n",
       "    <tr>\n",
       "      <th>1</th>\n",
       "      <td>model_2</td>\n",
       "      <td>12.757291</td>\n",
       "      <td>163.006638</td>\n",
       "    </tr>\n",
       "    <tr>\n",
       "      <th>2</th>\n",
       "      <td>model_3</td>\n",
       "      <td>67.156151</td>\n",
       "      <td>4592.518066</td>\n",
       "    </tr>\n",
       "  </tbody>\n",
       "</table>\n",
       "</div>"
      ],
      "text/plain": [
       "     model        mae          mse\n",
       "0  model_1  30.646191   949.620300\n",
       "1  model_2  12.757291   163.006638\n",
       "2  model_3  67.156151  4592.518066"
      ]
     },
     "execution_count": 68,
     "metadata": {},
     "output_type": "execute_result"
    }
   ],
   "source": [
    "# Let's compare our model's results using a pandas DataFrame\n",
    "import pandas as pd\n",
    "\n",
    "model_results = [[\"model_1\", mae_1.numpy(), mse_1.numpy()],\n",
    "                 [\"model_2\", mae_2.numpy(), mse_2.numpy()],\n",
    "                 [\"model_3\", mae_3.numpy(), mse_3.numpy()]]\n",
    "\n",
    "all_results = pd.DataFrame(model_results, columns=[\"model\", \"mae\", \"mse\"])\n",
    "all_results"
   ]
  },
  {
   "cell_type": "markdown",
   "metadata": {},
   "source": [
    "## Tracking your experiments\n",
    "\n",
    "One really good habit in machine learning modelling is to track the results of your experiments.\n",
    "\n",
    "And when doing so, it can be tedious if you're running lots of experiments.\n",
    "\n",
    "Luckily, there are tools to help us!\n",
    "\n",
    "**Resource:** As you build neural model, you'll want to look into using:\n",
    "* TensorBoard - a component of the TensorFlow library to help  track modeling experiments (we'll see this one later).\n",
    "* Weights & Biases - a tool for tracking all of kinds of machine learning experiments (plugs straight into TensorBoard)"
   ]
  }
 ],
 "metadata": {
  "kernelspec": {
   "display_name": "Python 3 (ipykernel)",
   "language": "python",
   "name": "python3"
  },
  "language_info": {
   "codemirror_mode": {
    "name": "ipython",
    "version": 3
   },
   "file_extension": ".py",
   "mimetype": "text/x-python",
   "name": "python",
   "nbconvert_exporter": "python",
   "pygments_lexer": "ipython3",
   "version": "3.11.5"
  }
 },
 "nbformat": 4,
 "nbformat_minor": 2
}
