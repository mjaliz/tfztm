{
 "cells": [
  {
   "cell_type": "markdown",
   "metadata": {},
   "source": [
    "# Introduction to Regression with Neural Networks in TensorFlow\n",
    "\n",
    "There are many definitions for a regression problem but in our case, we're going to simplify it: predicting a numerical variable based on some other combination of variables, even shorter... predicting a number."
   ]
  },
  {
   "cell_type": "code",
   "execution_count": 2,
   "metadata": {},
   "outputs": [
    {
     "name": "stdout",
     "output_type": "stream",
     "text": [
      "2.13.0\n"
     ]
    }
   ],
   "source": [
    "import tensorflow as tf\n",
    "print(tf.__version__)"
   ]
  },
  {
   "cell_type": "code",
   "execution_count": 3,
   "metadata": {},
   "outputs": [
    {
     "data": {
      "text/plain": [
       "[PhysicalDevice(name='/physical_device:CPU:0', device_type='CPU')]"
      ]
     },
     "execution_count": 3,
     "metadata": {},
     "output_type": "execute_result"
    }
   ],
   "source": [
    "tf.config.list_physical_devices()"
   ]
  },
  {
   "cell_type": "markdown",
   "metadata": {},
   "source": [
    "## Creating data to view and fit"
   ]
  },
  {
   "cell_type": "code",
   "execution_count": 4,
   "metadata": {},
   "outputs": [
    {
     "data": {
      "text/plain": [
       "<matplotlib.collections.PathCollection at 0x1afab2ba8d0>"
      ]
     },
     "execution_count": 4,
     "metadata": {},
     "output_type": "execute_result"
    },
    {
     "data": {
      "image/png": "[encoded data removed]",
      "text/plain": [
       "<Figure size 640x480 with 1 Axes>"
      ]
     },
     "metadata": {},
     "output_type": "display_data"
    }
   ],
   "source": [
    "import numpy as np\n",
    "import matplotlib.pyplot as plt\n",
    "\n",
    "# Create features\n",
    "X = np.array([-7.0, -4.0, -1.0, 2.0, 5.0, 8.0, 11.0, 14.0])\n",
    "\n",
    "# Create labels\n",
    "y = np.array([3.0, 6.0, 9.0, 12.0, 15.0, 18.0, 21.0, 24.0])\n",
    "\n",
    "# Visualize it\n",
    "plt.scatter(X, y)"
   ]
  },
  {
   "cell_type": "code",
   "execution_count": 5,
   "metadata": {},
   "outputs": [
    {
     "data": {
      "text/plain": [
       "array([ True,  True,  True,  True,  True,  True,  True,  True])"
      ]
     },
     "execution_count": 5,
     "metadata": {},
     "output_type": "execute_result"
    }
   ],
   "source": [
    "y == X + 10"
   ]
  },
  {
   "cell_type": "markdown",
   "metadata": {},
   "source": [
    "## Input and output shapes"
   ]
  },
  {
   "cell_type": "code",
   "execution_count": 6,
   "metadata": {},
   "outputs": [
    {
     "data": {
      "text/plain": [
       "(<tf.Tensor: shape=(3,), dtype=string, numpy=array([b'bedroom', b'bathroom', b'garage'], dtype=object)>,\n",
       " <tf.Tensor: shape=(1,), dtype=int32, numpy=array([939700])>)"
      ]
     },
     "execution_count": 6,
     "metadata": {},
     "output_type": "execute_result"
    }
   ],
   "source": [
    "# Create a demo tensor for our housing price prediction problem\n",
    "house_info = tf.constant([\"bedroom\", \"bathroom\", \"garage\"])\n",
    "house_price = tf.constant([939700])\n",
    "house_info, house_price"
   ]
  },
  {
   "cell_type": "code",
   "execution_count": 7,
   "metadata": {},
   "outputs": [
    {
     "data": {
      "text/plain": [
       "((8,), (8,))"
      ]
     },
     "execution_count": 7,
     "metadata": {},
     "output_type": "execute_result"
    }
   ],
   "source": [
    "input_shape = X.shape\n",
    "output_shape = y.shape\n",
    "input_shape, output_shape"
   ]
  },
  {
   "cell_type": "code",
   "execution_count": 8,
   "metadata": {},
   "outputs": [
    {
     "data": {
      "text/plain": [
       "(<tf.Tensor: shape=(8,), dtype=float32, numpy=array([-7., -4., -1.,  2.,  5.,  8., 11., 14.], dtype=float32)>,\n",
       " <tf.Tensor: shape=(8,), dtype=float32, numpy=array([ 3.,  6.,  9., 12., 15., 18., 21., 24.], dtype=float32)>)"
      ]
     },
     "execution_count": 8,
     "metadata": {},
     "output_type": "execute_result"
    }
   ],
   "source": [
    "# Turn our numpy array to tensors\n",
    "X = tf.constant(X, dtype=tf.float32)\n",
    "y = tf.constant(y, dtype=tf.float32)\n",
    "X, y"
   ]
  },
  {
   "cell_type": "code",
   "execution_count": 9,
   "metadata": {},
   "outputs": [
    {
     "data": {
      "text/plain": [
       "<matplotlib.collections.PathCollection at 0x1afab3f28d0>"
      ]
     },
     "execution_count": 9,
     "metadata": {},
     "output_type": "execute_result"
    },
    {
     "data": {
      "image/png": "[encoded data removed]",
      "text/plain": [
       "<Figure size 640x480 with 1 Axes>"
      ]
     },
     "metadata": {},
     "output_type": "display_data"
    }
   ],
   "source": [
    "plt.scatter(X, y)"
   ]
  },
  {
   "cell_type": "markdown",
   "metadata": {},
   "source": [
    "## Steps in modelling with TensorFlow\n",
    "1. Creating a model - define the input and output layers, as well as the hidden layers of a deep learning model.\n",
    "2. Compiling a model - define the loss function (in other words, the function with tells our model how wrong it is) and the optimizer (tell our model to improve the patterns its learning) and evaluation metrics (what we can use to interpret the performance of our model).\n",
    "3. Fitting a model - letting the model try to find patterns between X & y (features and labels)."
   ]
  },
  {
   "cell_type": "code",
   "execution_count": 10,
   "metadata": {},
   "outputs": [
    {
     "data": {
      "text/plain": [
       "(TensorShape([8]), 1)"
      ]
     },
     "execution_count": 10,
     "metadata": {},
     "output_type": "execute_result"
    }
   ],
   "source": [
    "X.shape, X.ndim"
   ]
  },
  {
   "cell_type": "code",
   "execution_count": 11,
   "metadata": {},
   "outputs": [],
   "source": [
    "X = tf.expand_dims(X, axis=-1)"
   ]
  },
  {
   "cell_type": "code",
   "execution_count": 12,
   "metadata": {},
   "outputs": [
    {
     "data": {
      "text/plain": [
       "(2, TensorShape([8, 1]))"
      ]
     },
     "execution_count": 12,
     "metadata": {},
     "output_type": "execute_result"
    }
   ],
   "source": [
    "X.ndim, X.shape"
   ]
  },
  {
   "cell_type": "code",
   "execution_count": 13,
   "metadata": {},
   "outputs": [
    {
     "name": "stdout",
     "output_type": "stream",
     "text": [
      "Epoch 1/5\n",
      "1/1 [==============================] - 0s 440ms/step - loss: 10.8612 - mae: 10.8612\n",
      "Epoch 2/5\n",
      "1/1 [==============================] - 0s 3ms/step - loss: 10.7287 - mae: 10.7287\n",
      "Epoch 3/5\n",
      "1/1 [==============================] - 0s 3ms/step - loss: 10.5962 - mae: 10.5962\n",
      "Epoch 4/5\n",
      "1/1 [==============================] - 0s 5ms/step - loss: 10.4637 - mae: 10.4637\n",
      "Epoch 5/5\n",
      "1/1 [==============================] - 0s 4ms/step - loss: 10.3312 - mae: 10.3312\n"
     ]
    },
    {
     "data": {
      "text/plain": [
       "<keras.src.callbacks.History at 0x1afab389450>"
      ]
     },
     "execution_count": 13,
     "metadata": {},
     "output_type": "execute_result"
    }
   ],
   "source": [
    "# Set random seed\n",
    "tf.random.set_seed(42)\n",
    "\n",
    "# 1. Create a model using the Sequential API \n",
    "model = tf.keras.Sequential([\n",
    "    tf.keras.layers.Dense(1)\n",
    "])\n",
    "\n",
    "# 2. Compile the model\n",
    "model.compile(loss=tf.keras.losses.mae,\n",
    "               optimizer=tf.keras.optimizers.SGD(),\n",
    "               metrics=[\"mae\"])\n",
    "\n",
    "# 3. Fit the model\n",
    "model.fit(X, y, epochs=5)"
   ]
  },
  {
   "cell_type": "code",
   "execution_count": 14,
   "metadata": {},
   "outputs": [
    {
     "data": {
      "text/plain": [
       "(<tf.Tensor: shape=(8, 1), dtype=float32, numpy=\n",
       " array([[-7.],\n",
       "        [-4.],\n",
       "        [-1.],\n",
       "        [ 2.],\n",
       "        [ 5.],\n",
       "        [ 8.],\n",
       "        [11.],\n",
       "        [14.]], dtype=float32)>,\n",
       " <tf.Tensor: shape=(8,), dtype=float32, numpy=array([ 3.,  6.,  9., 12., 15., 18., 21., 24.], dtype=float32)>)"
      ]
     },
     "execution_count": 14,
     "metadata": {},
     "output_type": "execute_result"
    }
   ],
   "source": [
    "# Check out X and y\n",
    "X, y"
   ]
  },
  {
   "cell_type": "code",
   "execution_count": 15,
   "metadata": {},
   "outputs": [
    {
     "name": "stdout",
     "output_type": "stream",
     "text": [
      "1/1 [==============================] - 0s 125ms/step\n"
     ]
    },
    {
     "data": {
      "text/plain": [
       "array([[15.841933]], dtype=float32)"
      ]
     },
     "execution_count": 15,
     "metadata": {},
     "output_type": "execute_result"
    }
   ],
   "source": [
    "# Try and make a prediction using our model\n",
    "model.predict([17.0])"
   ]
  },
  {
   "cell_type": "markdown",
   "metadata": {},
   "source": [
    "## Improving our model\n",
    "\n",
    "We can improve our model, by altering the steps we took to create a model.\n",
    "\n",
    "1. **Creating a model** - here we might add more layers, increase the number of units (all called neurons) within each of the hidden layers, change the activation function of each layer.\n",
    "2.  **Compiling a model** - here we might change the optimization function or perhaps the **learning rate** of the optimization of the optimization function.\n",
    "3.  **Fitting a model** - here we might fit a model for more **epochs** (leave it training for longer) or on more data (give the model more example to learn from)."
   ]
  },
  {
   "cell_type": "code",
   "execution_count": 16,
   "metadata": {},
   "outputs": [
    {
     "name": "stdout",
     "output_type": "stream",
     "text": [
      "Epoch 1/100\n"
     ]
    },
    {
     "name": "stdout",
     "output_type": "stream",
     "text": [
      "1/1 [==============================] - 0s 224ms/step - loss: 21.4671 - mae: 21.4671\n",
      "Epoch 2/100\n",
      "1/1 [==============================] - 0s 43ms/step - loss: 21.0740 - mae: 21.0740\n",
      "Epoch 3/100\n",
      "1/1 [==============================] - 0s 4ms/step - loss: 20.6809 - mae: 20.6809\n",
      "Epoch 4/100\n",
      "1/1 [==============================] - 0s 4ms/step - loss: 20.3368 - mae: 20.3368\n",
      "Epoch 5/100\n",
      "1/1 [==============================] - 0s 4ms/step - loss: 20.0555 - mae: 20.0555\n",
      "Epoch 6/100\n",
      "1/1 [==============================] - 0s 3ms/step - loss: 19.7743 - mae: 19.7743\n",
      "Epoch 7/100\n",
      "1/1 [==============================] - 0s 4ms/step - loss: 19.4930 - mae: 19.4930\n",
      "Epoch 8/100\n",
      "1/1 [==============================] - 0s 4ms/step - loss: 19.2118 - mae: 19.2118\n",
      "Epoch 9/100\n",
      "1/1 [==============================] - 0s 3ms/step - loss: 18.9305 - mae: 18.9305\n",
      "Epoch 10/100\n",
      "1/1 [==============================] - 0s 3ms/step - loss: 18.6493 - mae: 18.6493\n",
      "Epoch 11/100\n",
      "1/1 [==============================] - 0s 4ms/step - loss: 18.3680 - mae: 18.3680\n",
      "Epoch 12/100\n",
      "1/1 [==============================] - 0s 4ms/step - loss: 18.0868 - mae: 18.0868\n",
      "Epoch 13/100\n",
      "1/1 [==============================] - 0s 3ms/step - loss: 17.8055 - mae: 17.8055\n",
      "Epoch 14/100\n",
      "1/1 [==============================] - 0s 5ms/step - loss: 17.5243 - mae: 17.5243\n",
      "Epoch 15/100\n",
      "1/1 [==============================] - 0s 3ms/step - loss: 17.2430 - mae: 17.2430\n",
      "Epoch 16/100\n",
      "1/1 [==============================] - 0s 3ms/step - loss: 16.9618 - mae: 16.9618\n",
      "Epoch 17/100\n",
      "1/1 [==============================] - 0s 4ms/step - loss: 16.6805 - mae: 16.6805\n",
      "Epoch 18/100\n",
      "1/1 [==============================] - 0s 4ms/step - loss: 16.3993 - mae: 16.3993\n",
      "Epoch 19/100\n",
      "1/1 [==============================] - 0s 3ms/step - loss: 16.1180 - mae: 16.1180\n",
      "Epoch 20/100\n",
      "1/1 [==============================] - 0s 3ms/step - loss: 15.8368 - mae: 15.8368\n",
      "Epoch 21/100\n",
      "1/1 [==============================] - 0s 4ms/step - loss: 15.5555 - mae: 15.5555\n",
      "Epoch 22/100\n",
      "1/1 [==============================] - 0s 3ms/step - loss: 15.2743 - mae: 15.2743\n",
      "Epoch 23/100\n",
      "1/1 [==============================] - 0s 3ms/step - loss: 14.9930 - mae: 14.9930\n",
      "Epoch 24/100\n",
      "1/1 [==============================] - 0s 5ms/step - loss: 14.7253 - mae: 14.7253\n",
      "Epoch 25/100\n",
      "1/1 [==============================] - 0s 4ms/step - loss: 14.5928 - mae: 14.5928\n",
      "Epoch 26/100\n",
      "1/1 [==============================] - 0s 3ms/step - loss: 14.4603 - mae: 14.4603\n",
      "Epoch 27/100\n",
      "1/1 [==============================] - 0s 4ms/step - loss: 14.3278 - mae: 14.3278\n",
      "Epoch 28/100\n",
      "1/1 [==============================] - 0s 4ms/step - loss: 14.1953 - mae: 14.1953\n",
      "Epoch 29/100\n",
      "1/1 [==============================] - 0s 3ms/step - loss: 14.0628 - mae: 14.0628\n",
      "Epoch 30/100\n",
      "1/1 [==============================] - 0s 4ms/step - loss: 13.9303 - mae: 13.9303\n",
      "Epoch 31/100\n",
      "1/1 [==============================] - 0s 4ms/step - loss: 13.7978 - mae: 13.7978\n",
      "Epoch 32/100\n",
      "1/1 [==============================] - 0s 4ms/step - loss: 13.6653 - mae: 13.6653\n",
      "Epoch 33/100\n",
      "1/1 [==============================] - 0s 4ms/step - loss: 13.5328 - mae: 13.5328\n",
      "Epoch 34/100\n",
      "1/1 [==============================] - 0s 3ms/step - loss: 13.4003 - mae: 13.4003\n",
      "Epoch 35/100\n",
      "1/1 [==============================] - 0s 3ms/step - loss: 13.2678 - mae: 13.2678\n",
      "Epoch 36/100\n",
      "1/1 [==============================] - 0s 3ms/step - loss: 13.1353 - mae: 13.1353\n",
      "Epoch 37/100\n",
      "1/1 [==============================] - 0s 4ms/step - loss: 13.0028 - mae: 13.0028\n",
      "Epoch 38/100\n",
      "1/1 [==============================] - 0s 3ms/step - loss: 12.8703 - mae: 12.8703\n",
      "Epoch 39/100\n",
      "1/1 [==============================] - 0s 3ms/step - loss: 12.7378 - mae: 12.7378\n",
      "Epoch 40/100\n",
      "1/1 [==============================] - 0s 4ms/step - loss: 12.6053 - mae: 12.6053\n",
      "Epoch 41/100\n",
      "1/1 [==============================] - 0s 4ms/step - loss: 12.4728 - mae: 12.4728\n",
      "Epoch 42/100\n",
      "1/1 [==============================] - 0s 3ms/step - loss: 12.3403 - mae: 12.3403\n",
      "Epoch 43/100\n",
      "1/1 [==============================] - 0s 4ms/step - loss: 12.2078 - mae: 12.2078\n",
      "Epoch 44/100\n",
      "1/1 [==============================] - 0s 4ms/step - loss: 12.0753 - mae: 12.0753\n",
      "Epoch 45/100\n",
      "1/1 [==============================] - 0s 3ms/step - loss: 11.9428 - mae: 11.9428\n",
      "Epoch 46/100\n",
      "1/1 [==============================] - 0s 3ms/step - loss: 11.8103 - mae: 11.8103\n",
      "Epoch 47/100\n",
      "1/1 [==============================] - 0s 4ms/step - loss: 11.6778 - mae: 11.6778\n",
      "Epoch 48/100\n",
      "1/1 [==============================] - 0s 3ms/step - loss: 11.5453 - mae: 11.5453\n",
      "Epoch 49/100\n",
      "1/1 [==============================] - 0s 3ms/step - loss: 11.4128 - mae: 11.4128\n",
      "Epoch 50/100\n",
      "1/1 [==============================] - 0s 4ms/step - loss: 11.2803 - mae: 11.2803\n",
      "Epoch 51/100\n",
      "1/1 [==============================] - 0s 4ms/step - loss: 11.1478 - mae: 11.1478\n",
      "Epoch 52/100\n",
      "1/1 [==============================] - 0s 3ms/step - loss: 11.0153 - mae: 11.0153\n",
      "Epoch 53/100\n",
      "1/1 [==============================] - 0s 3ms/step - loss: 10.8828 - mae: 10.8828\n",
      "Epoch 54/100\n",
      "1/1 [==============================] - 0s 3ms/step - loss: 10.7503 - mae: 10.7503\n",
      "Epoch 55/100\n",
      "1/1 [==============================] - 0s 4ms/step - loss: 10.6178 - mae: 10.6178\n",
      "Epoch 56/100\n",
      "1/1 [==============================] - 0s 3ms/step - loss: 10.4853 - mae: 10.4853\n",
      "Epoch 57/100\n",
      "1/1 [==============================] - 0s 4ms/step - loss: 10.3528 - mae: 10.3528\n",
      "Epoch 58/100\n",
      "1/1 [==============================] - 0s 3ms/step - loss: 10.2203 - mae: 10.2203\n",
      "Epoch 59/100\n",
      "1/1 [==============================] - 0s 3ms/step - loss: 10.0878 - mae: 10.0878\n",
      "Epoch 60/100\n",
      "1/1 [==============================] - 0s 4ms/step - loss: 9.9553 - mae: 9.9553\n",
      "Epoch 61/100\n",
      "1/1 [==============================] - 0s 4ms/step - loss: 9.8228 - mae: 9.8228\n",
      "Epoch 62/100\n",
      "1/1 [==============================] - 0s 3ms/step - loss: 9.6903 - mae: 9.6903\n",
      "Epoch 63/100\n",
      "1/1 [==============================] - 0s 4ms/step - loss: 9.5578 - mae: 9.5578\n",
      "Epoch 64/100\n",
      "1/1 [==============================] - 0s 4ms/step - loss: 9.4253 - mae: 9.4253\n",
      "Epoch 65/100\n",
      "1/1 [==============================] - 0s 4ms/step - loss: 9.2928 - mae: 9.2928\n",
      "Epoch 66/100\n",
      "1/1 [==============================] - 0s 3ms/step - loss: 9.1603 - mae: 9.1603\n",
      "Epoch 67/100\n",
      "1/1 [==============================] - 0s 3ms/step - loss: 9.0278 - mae: 9.0278\n",
      "Epoch 68/100\n",
      "1/1 [==============================] - 0s 3ms/step - loss: 8.8953 - mae: 8.8953\n",
      "Epoch 69/100\n",
      "1/1 [==============================] - 0s 4ms/step - loss: 8.7628 - mae: 8.7628\n",
      "Epoch 70/100\n",
      "1/1 [==============================] - 0s 5ms/step - loss: 8.6303 - mae: 8.6303\n",
      "Epoch 71/100\n",
      "1/1 [==============================] - 0s 4ms/step - loss: 8.4978 - mae: 8.4978\n",
      "Epoch 72/100\n",
      "1/1 [==============================] - 0s 3ms/step - loss: 8.3653 - mae: 8.3653\n",
      "Epoch 73/100\n",
      "1/1 [==============================] - 0s 4ms/step - loss: 8.2328 - mae: 8.2328\n",
      "Epoch 74/100\n",
      "1/1 [==============================] - 0s 3ms/step - loss: 8.1003 - mae: 8.1003\n",
      "Epoch 75/100\n",
      "1/1 [==============================] - 0s 3ms/step - loss: 7.9678 - mae: 7.9678\n",
      "Epoch 76/100\n",
      "1/1 [==============================] - 0s 4ms/step - loss: 7.8353 - mae: 7.8353\n",
      "Epoch 77/100\n",
      "1/1 [==============================] - 0s 4ms/step - loss: 7.7028 - mae: 7.7028\n",
      "Epoch 78/100\n",
      "1/1 [==============================] - 0s 4ms/step - loss: 7.5703 - mae: 7.5703\n",
      "Epoch 79/100\n",
      "1/1 [==============================] - 0s 4ms/step - loss: 7.4378 - mae: 7.4378\n",
      "Epoch 80/100\n",
      "1/1 [==============================] - 0s 4ms/step - loss: 7.3053 - mae: 7.3053\n",
      "Epoch 81/100\n",
      "1/1 [==============================] - 0s 3ms/step - loss: 7.1728 - mae: 7.1728\n",
      "Epoch 82/100\n",
      "1/1 [==============================] - 0s 4ms/step - loss: 7.0403 - mae: 7.0403\n",
      "Epoch 83/100\n",
      "1/1 [==============================] - 0s 4ms/step - loss: 6.9338 - mae: 6.9338\n",
      "Epoch 84/100\n",
      "1/1 [==============================] - 0s 3ms/step - loss: 6.9281 - mae: 6.9281\n",
      "Epoch 85/100\n",
      "1/1 [==============================] - 0s 4ms/step - loss: 6.9225 - mae: 6.9225\n",
      "Epoch 86/100\n",
      "1/1 [==============================] - 0s 4ms/step - loss: 6.9169 - mae: 6.9169\n",
      "Epoch 87/100\n",
      "1/1 [==============================] - 0s 4ms/step - loss: 6.9113 - mae: 6.9113\n",
      "Epoch 88/100\n",
      "1/1 [==============================] - 0s 3ms/step - loss: 6.9056 - mae: 6.9056\n",
      "Epoch 89/100\n",
      "1/1 [==============================] - 0s 4ms/step - loss: 6.9000 - mae: 6.9000\n",
      "Epoch 90/100\n",
      "1/1 [==============================] - 0s 4ms/step - loss: 6.8944 - mae: 6.8944\n",
      "Epoch 91/100\n",
      "1/1 [==============================] - 0s 4ms/step - loss: 6.8888 - mae: 6.8888\n",
      "Epoch 92/100\n",
      "1/1 [==============================] - 0s 4ms/step - loss: 6.8831 - mae: 6.8831\n",
      "Epoch 93/100\n",
      "1/1 [==============================] - 0s 3ms/step - loss: 6.8775 - mae: 6.8775\n",
      "Epoch 94/100\n",
      "1/1 [==============================] - 0s 3ms/step - loss: 6.8719 - mae: 6.8719\n",
      "Epoch 95/100\n",
      "1/1 [==============================] - 0s 4ms/step - loss: 6.8663 - mae: 6.8663\n",
      "Epoch 96/100\n",
      "1/1 [==============================] - 0s 4ms/step - loss: 6.8606 - mae: 6.8606\n",
      "Epoch 97/100\n",
      "1/1 [==============================] - 0s 4ms/step - loss: 6.8550 - mae: 6.8550\n",
      "Epoch 98/100\n",
      "1/1 [==============================] - 0s 4ms/step - loss: 6.8494 - mae: 6.8494\n",
      "Epoch 99/100\n",
      "1/1 [==============================] - 0s 4ms/step - loss: 6.8438 - mae: 6.8438\n",
      "Epoch 100/100\n",
      "1/1 [==============================] - 0s 3ms/step - loss: 6.8381 - mae: 6.8381\n"
     ]
    },
    {
     "data": {
      "text/plain": [
       "<keras.src.callbacks.History at 0x1afae5e6dd0>"
      ]
     },
     "execution_count": 16,
     "metadata": {},
     "output_type": "execute_result"
    }
   ],
   "source": [
    "# Let's rebuild our model\n",
    "\n",
    "# 1. Create the model\n",
    "model = tf.keras.Sequential([\n",
    "    tf.keras.layers.Dense(1)\n",
    "])\n",
    "\n",
    "# 2. Compile the model\n",
    "model.compile(loss=tf.keras.losses.mae,\n",
    "              optimizer=tf.keras.optimizers.SGD(),\n",
    "              metrics=[\"mae\"])\n",
    "\n",
    "# 3. Fit the model\n",
    "model.fit(X, y, epochs=100)"
   ]
  },
  {
   "cell_type": "code",
   "execution_count": 17,
   "metadata": {},
   "outputs": [
    {
     "data": {
      "text/plain": [
       "(<tf.Tensor: shape=(8, 1), dtype=float32, numpy=\n",
       " array([[-7.],\n",
       "        [-4.],\n",
       "        [-1.],\n",
       "        [ 2.],\n",
       "        [ 5.],\n",
       "        [ 8.],\n",
       "        [11.],\n",
       "        [14.]], dtype=float32)>,\n",
       " <tf.Tensor: shape=(8,), dtype=float32, numpy=array([ 3.,  6.,  9., 12., 15., 18., 21., 24.], dtype=float32)>)"
      ]
     },
     "execution_count": 17,
     "metadata": {},
     "output_type": "execute_result"
    }
   ],
   "source": [
    "# Remind ourselves of the data\n",
    "X, y"
   ]
  },
  {
   "cell_type": "code",
   "execution_count": 18,
   "metadata": {},
   "outputs": [
    {
     "name": "stdout",
     "output_type": "stream",
     "text": [
      "1/1 [==============================] - 0s 51ms/step\n"
     ]
    },
    {
     "data": {
      "text/plain": [
       "array([[29.241917]], dtype=float32)"
      ]
     },
     "execution_count": 18,
     "metadata": {},
     "output_type": "execute_result"
    }
   ],
   "source": [
    "# Let's see if our model's prediction has improved...\n",
    "model.predict([17.0])"
   ]
  },
  {
   "cell_type": "code",
   "execution_count": 19,
   "metadata": {},
   "outputs": [
    {
     "name": "stdout",
     "output_type": "stream",
     "text": [
      "Epoch 1/100\n"
     ]
    },
    {
     "name": "stdout",
     "output_type": "stream",
     "text": [
      "1/1 [==============================] - 0s 454ms/step - loss: 13.9104 - mae: 13.9104\n",
      "Epoch 2/100\n",
      "1/1 [==============================] - 0s 4ms/step - loss: 13.1802 - mae: 13.1802\n",
      "Epoch 3/100\n",
      "1/1 [==============================] - 0s 4ms/step - loss: 12.4558 - mae: 12.4558\n",
      "Epoch 4/100\n",
      "1/1 [==============================] - 0s 4ms/step - loss: 11.7369 - mae: 11.7369\n",
      "Epoch 5/100\n",
      "1/1 [==============================] - 0s 3ms/step - loss: 11.0222 - mae: 11.0222\n",
      "Epoch 6/100\n",
      "1/1 [==============================] - 0s 4ms/step - loss: 10.3097 - mae: 10.3097\n",
      "Epoch 7/100\n",
      "1/1 [==============================] - 0s 4ms/step - loss: 9.5972 - mae: 9.5972\n",
      "Epoch 8/100\n",
      "1/1 [==============================] - 0s 4ms/step - loss: 8.8825 - mae: 8.8825\n",
      "Epoch 9/100\n",
      "1/1 [==============================] - 0s 3ms/step - loss: 8.1635 - mae: 8.1635\n",
      "Epoch 10/100\n",
      "1/1 [==============================] - 0s 4ms/step - loss: 7.4375 - mae: 7.4375\n",
      "Epoch 11/100\n",
      "1/1 [==============================] - 0s 3ms/step - loss: 6.7828 - mae: 6.7828\n",
      "Epoch 12/100\n",
      "1/1 [==============================] - 0s 3ms/step - loss: 6.7629 - mae: 6.7629\n",
      "Epoch 13/100\n",
      "1/1 [==============================] - 0s 4ms/step - loss: 7.0434 - mae: 7.0434\n",
      "Epoch 14/100\n",
      "1/1 [==============================] - 0s 3ms/step - loss: 7.2195 - mae: 7.2195\n",
      "Epoch 15/100\n",
      "1/1 [==============================] - 0s 4ms/step - loss: 7.3089 - mae: 7.3089\n",
      "Epoch 16/100\n",
      "1/1 [==============================] - 0s 4ms/step - loss: 7.3027 - mae: 7.3027\n",
      "Epoch 17/100\n",
      "1/1 [==============================] - 0s 4ms/step - loss: 7.1534 - mae: 7.1534\n",
      "Epoch 18/100\n",
      "1/1 [==============================] - 0s 3ms/step - loss: 6.9940 - mae: 6.9940\n",
      "Epoch 19/100\n",
      "1/1 [==============================] - 0s 3ms/step - loss: 6.8028 - mae: 6.8028\n",
      "Epoch 20/100\n",
      "1/1 [==============================] - 0s 4ms/step - loss: 6.5856 - mae: 6.5856\n",
      "Epoch 21/100\n",
      "1/1 [==============================] - 0s 3ms/step - loss: 6.3473 - mae: 6.3473\n",
      "Epoch 22/100\n",
      "1/1 [==============================] - 0s 3ms/step - loss: 6.1399 - mae: 6.1399\n",
      "Epoch 23/100\n",
      "1/1 [==============================] - 0s 5ms/step - loss: 6.0919 - mae: 6.0919\n",
      "Epoch 24/100\n",
      "1/1 [==============================] - 0s 3ms/step - loss: 6.0400 - mae: 6.0400\n",
      "Epoch 25/100\n",
      "1/1 [==============================] - 0s 4ms/step - loss: 6.1085 - mae: 6.1085\n",
      "Epoch 26/100\n",
      "1/1 [==============================] - 0s 5ms/step - loss: 6.1203 - mae: 6.1203\n",
      "Epoch 27/100\n",
      "1/1 [==============================] - 0s 4ms/step - loss: 6.0369 - mae: 6.0369\n",
      "Epoch 28/100\n",
      "1/1 [==============================] - 0s 3ms/step - loss: 5.8694 - mae: 5.8694\n",
      "Epoch 29/100\n",
      "1/1 [==============================] - 0s 4ms/step - loss: 5.6631 - mae: 5.6631\n",
      "Epoch 30/100\n",
      "1/1 [==============================] - 0s 4ms/step - loss: 5.5663 - mae: 5.5663\n",
      "Epoch 31/100\n",
      "1/1 [==============================] - 0s 3ms/step - loss: 5.4663 - mae: 5.4663\n",
      "Epoch 32/100\n",
      "1/1 [==============================] - 0s 4ms/step - loss: 5.3631 - mae: 5.3631\n",
      "Epoch 33/100\n",
      "1/1 [==============================] - 0s 4ms/step - loss: 5.3515 - mae: 5.3515\n",
      "Epoch 34/100\n",
      "1/1 [==============================] - 0s 4ms/step - loss: 5.3119 - mae: 5.3119\n",
      "Epoch 35/100\n",
      "1/1 [==============================] - 0s 4ms/step - loss: 5.2280 - mae: 5.2280\n",
      "Epoch 36/100\n",
      "1/1 [==============================] - 0s 3ms/step - loss: 5.1033 - mae: 5.1033\n",
      "Epoch 37/100\n",
      "1/1 [==============================] - 0s 3ms/step - loss: 4.9410 - mae: 4.9410\n",
      "Epoch 38/100\n",
      "1/1 [==============================] - 0s 4ms/step - loss: 4.7748 - mae: 4.7748\n",
      "Epoch 39/100\n",
      "1/1 [==============================] - 0s 4ms/step - loss: 4.6772 - mae: 4.6772\n",
      "Epoch 40/100\n",
      "1/1 [==============================] - 0s 4ms/step - loss: 4.5725 - mae: 4.5725\n",
      "Epoch 41/100\n",
      "1/1 [==============================] - 0s 5ms/step - loss: 4.4606 - mae: 4.4606\n",
      "Epoch 42/100\n",
      "1/1 [==============================] - 0s 4ms/step - loss: 4.3412 - mae: 4.3412\n",
      "Epoch 43/100\n",
      "1/1 [==============================] - 0s 3ms/step - loss: 4.2545 - mae: 4.2545\n",
      "Epoch 44/100\n",
      "1/1 [==============================] - 0s 4ms/step - loss: 4.0703 - mae: 4.0703\n",
      "Epoch 45/100\n",
      "1/1 [==============================] - 0s 3ms/step - loss: 3.9189 - mae: 3.9189\n",
      "Epoch 46/100\n",
      "1/1 [==============================] - 0s 3ms/step - loss: 3.7600 - mae: 3.7600\n",
      "Epoch 47/100\n",
      "1/1 [==============================] - 0s 3ms/step - loss: 3.5932 - mae: 3.5932\n",
      "Epoch 48/100\n",
      "1/1 [==============================] - 0s 4ms/step - loss: 3.4181 - mae: 3.4181\n",
      "Epoch 49/100\n",
      "1/1 [==============================] - 0s 3ms/step - loss: 3.3005 - mae: 3.3005\n",
      "Epoch 50/100\n",
      "1/1 [==============================] - 0s 3ms/step - loss: 3.1309 - mae: 3.1309\n",
      "Epoch 51/100\n",
      "1/1 [==============================] - 0s 4ms/step - loss: 2.8988 - mae: 2.8988\n",
      "Epoch 52/100\n",
      "1/1 [==============================] - 0s 4ms/step - loss: 2.6963 - mae: 2.6963\n",
      "Epoch 53/100\n",
      "1/1 [==============================] - 0s 5ms/step - loss: 2.5125 - mae: 2.5125\n",
      "Epoch 54/100\n",
      "1/1 [==============================] - 0s 4ms/step - loss: 2.2931 - mae: 2.2931\n",
      "Epoch 55/100\n",
      "1/1 [==============================] - 0s 4ms/step - loss: 2.0688 - mae: 2.0688\n",
      "Epoch 56/100\n",
      "1/1 [==============================] - 0s 4ms/step - loss: 1.8331 - mae: 1.8331\n",
      "Epoch 57/100\n",
      "1/1 [==============================] - 0s 3ms/step - loss: 1.5858 - mae: 1.5858\n",
      "Epoch 58/100\n",
      "1/1 [==============================] - 0s 4ms/step - loss: 1.3641 - mae: 1.3641\n",
      "Epoch 59/100\n",
      "1/1 [==============================] - 0s 4ms/step - loss: 1.0790 - mae: 1.0790\n",
      "Epoch 60/100\n",
      "1/1 [==============================] - 0s 4ms/step - loss: 0.8614 - mae: 0.8614\n",
      "Epoch 61/100\n",
      "1/1 [==============================] - 0s 3ms/step - loss: 0.5505 - mae: 0.5505\n",
      "Epoch 62/100\n",
      "1/1 [==============================] - 0s 4ms/step - loss: 0.4133 - mae: 0.4133\n",
      "Epoch 63/100\n",
      "1/1 [==============================] - 0s 4ms/step - loss: 0.1763 - mae: 0.1763\n",
      "Epoch 64/100\n",
      "1/1 [==============================] - 0s 3ms/step - loss: 0.4825 - mae: 0.4825\n",
      "Epoch 65/100\n",
      "1/1 [==============================] - 0s 4ms/step - loss: 0.6460 - mae: 0.6460\n",
      "Epoch 66/100\n",
      "1/1 [==============================] - 0s 4ms/step - loss: 0.6315 - mae: 0.6315\n",
      "Epoch 67/100\n",
      "1/1 [==============================] - 0s 3ms/step - loss: 0.8209 - mae: 0.8209\n",
      "Epoch 68/100\n",
      "1/1 [==============================] - 0s 3ms/step - loss: 0.8169 - mae: 0.8169\n",
      "Epoch 69/100\n",
      "1/1 [==============================] - 0s 4ms/step - loss: 0.7830 - mae: 0.7830\n",
      "Epoch 70/100\n",
      "1/1 [==============================] - 0s 4ms/step - loss: 0.8036 - mae: 0.8036\n",
      "Epoch 71/100\n",
      "1/1 [==============================] - 0s 3ms/step - loss: 0.6518 - mae: 0.6518\n",
      "Epoch 72/100\n",
      "1/1 [==============================] - 0s 4ms/step - loss: 0.6177 - mae: 0.6177\n",
      "Epoch 73/100\n",
      "1/1 [==============================] - 0s 4ms/step - loss: 0.5083 - mae: 0.5083\n",
      "Epoch 74/100\n",
      "1/1 [==============================] - 0s 4ms/step - loss: 0.2551 - mae: 0.2551\n",
      "Epoch 75/100\n",
      "1/1 [==============================] - 0s 3ms/step - loss: 0.1415 - mae: 0.1415\n",
      "Epoch 76/100\n",
      "1/1 [==============================] - 0s 4ms/step - loss: 0.2120 - mae: 0.2120\n",
      "Epoch 77/100\n",
      "1/1 [==============================] - 0s 3ms/step - loss: 0.2361 - mae: 0.2361\n",
      "Epoch 78/100\n",
      "1/1 [==============================] - 0s 3ms/step - loss: 0.4123 - mae: 0.4123\n",
      "Epoch 79/100\n",
      "1/1 [==============================] - 0s 5ms/step - loss: 0.4962 - mae: 0.4962\n",
      "Epoch 80/100\n",
      "1/1 [==============================] - 0s 3ms/step - loss: 0.4104 - mae: 0.4104\n",
      "Epoch 81/100\n",
      "1/1 [==============================] - 0s 3ms/step - loss: 0.4218 - mae: 0.4218\n",
      "Epoch 82/100\n",
      "1/1 [==============================] - 0s 8ms/step - loss: 0.4492 - mae: 0.4492\n",
      "Epoch 83/100\n",
      "1/1 [==============================] - 0s 4ms/step - loss: 0.2408 - mae: 0.2408\n",
      "Epoch 84/100\n",
      "1/1 [==============================] - 0s 7ms/step - loss: 0.2794 - mae: 0.2794\n",
      "Epoch 85/100\n",
      "1/1 [==============================] - 0s 5ms/step - loss: 0.3115 - mae: 0.3115\n",
      "Epoch 86/100\n",
      "1/1 [==============================] - 0s 4ms/step - loss: 0.0991 - mae: 0.0991\n",
      "Epoch 87/100\n",
      "1/1 [==============================] - 0s 6ms/step - loss: 0.4483 - mae: 0.4483\n",
      "Epoch 88/100\n",
      "1/1 [==============================] - 0s 5ms/step - loss: 0.6254 - mae: 0.6254\n",
      "Epoch 89/100\n",
      "1/1 [==============================] - 0s 6ms/step - loss: 0.5083 - mae: 0.5083\n",
      "Epoch 90/100\n",
      "1/1 [==============================] - 0s 3ms/step - loss: 0.2660 - mae: 0.2660\n",
      "Epoch 91/100\n",
      "1/1 [==============================] - 0s 4ms/step - loss: 0.5802 - mae: 0.5802\n",
      "Epoch 92/100\n",
      "1/1 [==============================] - 0s 4ms/step - loss: 0.7801 - mae: 0.7801\n",
      "Epoch 93/100\n",
      "1/1 [==============================] - 0s 3ms/step - loss: 0.6654 - mae: 0.6654\n",
      "Epoch 94/100\n",
      "1/1 [==============================] - 0s 3ms/step - loss: 0.2704 - mae: 0.2704\n",
      "Epoch 95/100\n",
      "1/1 [==============================] - 0s 4ms/step - loss: 0.3744 - mae: 0.3744\n",
      "Epoch 96/100\n",
      "1/1 [==============================] - 0s 3ms/step - loss: 0.6528 - mae: 0.6528\n",
      "Epoch 97/100\n",
      "1/1 [==============================] - 0s 4ms/step - loss: 0.6253 - mae: 0.6253\n",
      "Epoch 98/100\n",
      "1/1 [==============================] - 0s 4ms/step - loss: 0.3263 - mae: 0.3263\n",
      "Epoch 99/100\n",
      "1/1 [==============================] - 0s 3ms/step - loss: 0.2549 - mae: 0.2549\n",
      "Epoch 100/100\n",
      "1/1 [==============================] - 0s 4ms/step - loss: 0.4884 - mae: 0.4884\n"
     ]
    },
    {
     "data": {
      "text/plain": [
       "<keras.src.callbacks.History at 0x1afae7e59d0>"
      ]
     },
     "execution_count": 19,
     "metadata": {},
     "output_type": "execute_result"
    }
   ],
   "source": [
    "model = tf.keras.Sequential([\n",
    "    tf.keras.layers.Dense(50, activation=None),\n",
    "    tf.keras.layers.Dense(1)\n",
    "])\n",
    "\n",
    "model.compile(loss=tf.keras.losses.mae,\n",
    "              optimizer=tf.keras.optimizers.Adam(learning_rate=0.01),\n",
    "              metrics=[\"mae\"])\n",
    "\n",
    "model.fit(X, y, epochs=100)"
   ]
  },
  {
   "cell_type": "code",
   "execution_count": 20,
   "metadata": {},
   "outputs": [
    {
     "name": "stdout",
     "output_type": "stream",
     "text": [
      "1/1 [==============================] - 0s 55ms/step\n"
     ]
    },
    {
     "data": {
      "text/plain": [
       "array([[25.826742]], dtype=float32)"
      ]
     },
     "execution_count": 20,
     "metadata": {},
     "output_type": "execute_result"
    }
   ],
   "source": [
    "model.predict([17.0])"
   ]
  },
  {
   "cell_type": "markdown",
   "metadata": {},
   "source": [
    "## Evaluating a model\n",
    "\n",
    "In practice, a typical workflow you'll go through when building neural networks is:\n",
    "```\n",
    "Build a model -> fit it -> evaluate it -> tweak a model -> fit it -> evaluate it -> tweak a model -> fit it -> evaluate it...\n",
    "```"
   ]
  },
  {
   "cell_type": "markdown",
   "metadata": {},
   "source": [
    "When it comes to evaluation... there are 3 words you should memorize:\n",
    "> \"Visualize, visualize, visualize\"\n",
    "It's a good idea to visualize:\n",
    "* The data - what data are we working with? What does it look like?\n",
    "* The model itself - what does our model look like?\n",
    "* The training of a model - how does a model perform while it learns?\n",
    "* The predictions of the model - how do the predictions of model line up against the ground truth (the original labels)?"
   ]
  },
  {
   "cell_type": "code",
   "execution_count": 21,
   "metadata": {},
   "outputs": [
    {
     "data": {
      "text/plain": [
       "<tf.Tensor: shape=(50,), dtype=int32, numpy=\n",
       "array([-100,  -96,  -92,  -88,  -84,  -80,  -76,  -72,  -68,  -64,  -60,\n",
       "        -56,  -52,  -48,  -44,  -40,  -36,  -32,  -28,  -24,  -20,  -16,\n",
       "        -12,   -8,   -4,    0,    4,    8,   12,   16,   20,   24,   28,\n",
       "         32,   36,   40,   44,   48,   52,   56,   60,   64,   68,   72,\n",
       "         76,   80,   84,   88,   92,   96])>"
      ]
     },
     "execution_count": 21,
     "metadata": {},
     "output_type": "execute_result"
    }
   ],
   "source": [
    "# Make a bigger dataset\n",
    "X = tf.range(-100, 100, 4)\n",
    "X"
   ]
  },
  {
   "cell_type": "code",
   "execution_count": 22,
   "metadata": {},
   "outputs": [
    {
     "data": {
      "text/plain": [
       "<tf.Tensor: shape=(50,), dtype=int32, numpy=\n",
       "array([-90, -86, -82, -78, -74, -70, -66, -62, -58, -54, -50, -46, -42,\n",
       "       -38, -34, -30, -26, -22, -18, -14, -10,  -6,  -2,   2,   6,  10,\n",
       "        14,  18,  22,  26,  30,  34,  38,  42,  46,  50,  54,  58,  62,\n",
       "        66,  70,  74,  78,  82,  86,  90,  94,  98, 102, 106])>"
      ]
     },
     "execution_count": 22,
     "metadata": {},
     "output_type": "execute_result"
    }
   ],
   "source": [
    "# Make labels for dataset\n",
    "y = X + 10\n",
    "y"
   ]
  },
  {
   "cell_type": "code",
   "execution_count": 23,
   "metadata": {},
   "outputs": [
    {
     "data": {
      "text/plain": [
       "<matplotlib.collections.PathCollection at 0x1afae6875d0>"
      ]
     },
     "execution_count": 23,
     "metadata": {},
     "output_type": "execute_result"
    },
    {
     "data": {
      "image/png": "[encoded data removed]",
      "text/plain": [
       "<Figure size 640x480 with 1 Axes>"
      ]
     },
     "metadata": {},
     "output_type": "display_data"
    }
   ],
   "source": [
    "# Visualize the data\n",
    "import matplotlib.pyplot as plt\n",
    "\n",
    "plt.scatter(X, y)"
   ]
  },
  {
   "cell_type": "markdown",
   "metadata": {},
   "source": [
    "### The 3 sets...\n",
    "\n",
    "  * Training set - the model learns from this data, which is typically 70-80% of the total data you have available.\n",
    "  * Validation set - the model get tuned on this data, which is typically 10-15% of the data available.\n",
    "  * Test set - the model gets evaluated on this data to test what is has learned, this set is typically 10-15% of the total data available."
   ]
  },
  {
   "cell_type": "code",
   "execution_count": 24,
   "metadata": {},
   "outputs": [
    {
     "data": {
      "text/plain": [
       "50"
      ]
     },
     "execution_count": 24,
     "metadata": {},
     "output_type": "execute_result"
    }
   ],
   "source": [
    "# Check teh length of how many sample we have\n",
    "len(X)"
   ]
  },
  {
   "cell_type": "code",
   "execution_count": 25,
   "metadata": {},
   "outputs": [
    {
     "data": {
      "text/plain": [
       "(40, 10, 40, 10)"
      ]
     },
     "execution_count": 25,
     "metadata": {},
     "output_type": "execute_result"
    }
   ],
   "source": [
    "# Split the data into train and test sets\n",
    "X_train = X[:40] # first 40 are training samples (80& of the data)\n",
    "y_train = y[:40]\n",
    "\n",
    "X_test = X[40:]\n",
    "y_test = y[40:]\n",
    "\n",
    "len(X_train), len(X_test), len(y_train), len(y_test)"
   ]
  },
  {
   "cell_type": "markdown",
   "metadata": {},
   "source": [
    "### Visualizing the data\n",
    "\n",
    "Now we've got our data in training test sets... let's visualize it again!"
   ]
  },
  {
   "cell_type": "code",
   "execution_count": 26,
   "metadata": {},
   "outputs": [
    {
     "data": {
      "text/plain": [
       "<matplotlib.legend.Legend at 0x1afb096b3d0>"
      ]
     },
     "execution_count": 26,
     "metadata": {},
     "output_type": "execute_result"
    },
    {
     "data": {
      "image/png": "[encoded data removed]",
      "text/plain": [
       "<Figure size 1000x700 with 1 Axes>"
      ]
     },
     "metadata": {},
     "output_type": "display_data"
    }
   ],
   "source": [
    "plt.figure(figsize=(10, 7))\n",
    "# Plot training data in blue\n",
    "plt.scatter(X_train, y_train, c=\"b\", label=\"Training data\")\n",
    "# Plot the test data in green\n",
    "plt.scatter(X_test, y_test, c=\"g\", label=\"Testing data\")\n",
    "plt.legend()"
   ]
  },
  {
   "cell_type": "code",
   "execution_count": 27,
   "metadata": {},
   "outputs": [],
   "source": [
    "# Let's have a look at how to build a neural network for our data\n",
    "\n",
    "# 1. Create a model\n",
    "model = tf.keras.Sequential([\n",
    "    tf.keras.layers.Dense(100, activation=\"relu\"),\n",
    "    tf.keras.layers.Dense(1)\n",
    "])\n",
    "\n",
    "# 2. Compile the model\n",
    "model.compile(loss=tf.keras.losses.mae,\n",
    "              optimizer=tf.keras.optimizers.SGD(),\n",
    "              metrics=[\"mae\"])\n",
    "\n",
    "# 3. Fit the model\n",
    "# model.fit(X_train, y_train, epochs=100)"
   ]
  },
  {
   "cell_type": "markdown",
   "metadata": {},
   "source": [
    "### Visualizing the model"
   ]
  },
  {
   "cell_type": "code",
   "execution_count": 28,
   "metadata": {},
   "outputs": [
    {
     "ename": "ValueError",
     "evalue": "This model has not yet been built. Build the model first by calling `build()` or by calling the model on a batch of data.",
     "output_type": "error",
     "traceback": [
      "\u001b[1;31m---------------------------------------------------------------------------\u001b[0m",
      "\u001b[1;31mValueError\u001b[0m                                Traceback (most recent call last)",
      "\u001b[1;32mc:\\Users\\MohammadJavad\\OneDrive\\Desktop\\mjaliz\\tfztm\\03-Neural Network Regression with TensorFlow\\01_neural_network_regression_with_tensorflow.ipynb Cell 37\u001b[0m line \u001b[0;36m1\n\u001b[1;32m----> <a href='vscode-notebook-cell:/c%3A/Users/MohammadJavad/OneDrive/Desktop/mjaliz/tfztm/03-Neural%20Network%20Regression%20with%20TensorFlow/01_neural_network_regression_with_tensorflow.ipynb#X51sZmlsZQ%3D%3D?line=0'>1</a>\u001b[0m model\u001b[39m.\u001b[39;49msummary()\n",
      "File \u001b[1;32mc:\\Users\\MohammadJavad\\OneDrive\\Desktop\\mjaliz\\tfztm\\venv\\Lib\\site-packages\\keras\\src\\engine\\training.py:3403\u001b[0m, in \u001b[0;36mModel.summary\u001b[1;34m(self, line_length, positions, print_fn, expand_nested, show_trainable, layer_range)\u001b[0m\n\u001b[0;32m   3372\u001b[0m \u001b[39m\u001b[39m\u001b[39m\"\"\"Prints a string summary of the network.\u001b[39;00m\n\u001b[0;32m   3373\u001b[0m \n\u001b[0;32m   3374\u001b[0m \u001b[39mArgs:\u001b[39;00m\n\u001b[1;32m   (...)\u001b[0m\n\u001b[0;32m   3400\u001b[0m \u001b[39m    ValueError: if `summary()` is called before the model is built.\u001b[39;00m\n\u001b[0;32m   3401\u001b[0m \u001b[39m\"\"\"\u001b[39;00m\n\u001b[0;32m   3402\u001b[0m \u001b[39mif\u001b[39;00m \u001b[39mnot\u001b[39;00m \u001b[39mself\u001b[39m\u001b[39m.\u001b[39mbuilt:\n\u001b[1;32m-> 3403\u001b[0m     \u001b[39mraise\u001b[39;00m \u001b[39mValueError\u001b[39;00m(\n\u001b[0;32m   3404\u001b[0m         \u001b[39m\"\u001b[39m\u001b[39mThis model has not yet been built. \u001b[39m\u001b[39m\"\u001b[39m\n\u001b[0;32m   3405\u001b[0m         \u001b[39m\"\u001b[39m\u001b[39mBuild the model first by calling `build()` or by calling \u001b[39m\u001b[39m\"\u001b[39m\n\u001b[0;32m   3406\u001b[0m         \u001b[39m\"\u001b[39m\u001b[39mthe model on a batch of data.\u001b[39m\u001b[39m\"\u001b[39m\n\u001b[0;32m   3407\u001b[0m     )\n\u001b[0;32m   3408\u001b[0m layer_utils\u001b[39m.\u001b[39mprint_summary(\n\u001b[0;32m   3409\u001b[0m     \u001b[39mself\u001b[39m,\n\u001b[0;32m   3410\u001b[0m     line_length\u001b[39m=\u001b[39mline_length,\n\u001b[1;32m   (...)\u001b[0m\n\u001b[0;32m   3415\u001b[0m     layer_range\u001b[39m=\u001b[39mlayer_range,\n\u001b[0;32m   3416\u001b[0m )\n",
      "\u001b[1;31mValueError\u001b[0m: This model has not yet been built. Build the model first by calling `build()` or by calling the model on a batch of data."
     ]
    }
   ],
   "source": [
    "model.summary()"
   ]
  },
  {
   "cell_type": "code",
   "execution_count": null,
   "metadata": {},
   "outputs": [],
   "source": [
    "# Let's create a model which builds automatically by defining the input_shape argument in the first layer\n",
    "tf.random.set_seed(42)\n",
    "\n",
    "# 1. Create the model (same as above)\n",
    "model = tf.keras.Sequential([\n",
    "    tf.keras.layers.Dense(10, input_shape=[1]),\n",
    "    tf.keras.layers.Dense(1)\n",
    "])\n",
    "\n",
    "# 2. Compile the model\n",
    "model.compile(loss=tf.keras.losses.mae,\n",
    "              optimizer=tf.keras.optimizers.SGD(),\n",
    "              metrics=[\"mae\"])"
   ]
  },
  {
   "cell_type": "code",
   "execution_count": null,
   "metadata": {},
   "outputs": [
    {
     "name": "stdout",
     "output_type": "stream",
     "text": [
      "Model: \"sequential_4\"\n",
      "_________________________________________________________________\n",
      " Layer (type)                Output Shape              Param #   \n",
      "=================================================================\n",
      " dense_6 (Dense)             (None, 10)                20        \n",
      "                                                                 \n",
      " dense_7 (Dense)             (None, 1)                 11        \n",
      "                                                                 \n",
      "=================================================================\n",
      "Total params: 31 (124.00 Byte)\n",
      "Trainable params: 31 (124.00 Byte)\n",
      "Non-trainable params: 0 (0.00 Byte)\n",
      "_________________________________________________________________\n"
     ]
    }
   ],
   "source": [
    "model.summary()"
   ]
  },
  {
   "cell_type": "markdown",
   "metadata": {},
   "source": [
    "* Total params - total number of parameters in the model.\n",
    "* Trainable parameters - these are the parameters (patterns) the model can update as it trains.\n",
    "* Non-trainable params - these parameters aren't updated during training (this is typical when you bring in already learn patterns or parameters from other models during **transfer learning**)."
   ]
  },
  {
   "cell_type": "code",
   "execution_count": null,
   "metadata": {},
   "outputs": [
    {
     "data": {
      "text/plain": [
       "<keras.src.callbacks.History at 0x213673cbbd0>"
      ]
     },
     "execution_count": 30,
     "metadata": {},
     "output_type": "execute_result"
    }
   ],
   "source": [
    "model.fit(X_train, y_train ,epochs=100, verbose=0)"
   ]
  },
  {
   "cell_type": "code",
   "execution_count": null,
   "metadata": {},
   "outputs": [
    {
     "name": "stdout",
     "output_type": "stream",
     "text": [
      "Model: \"sequential_4\"\n",
      "_________________________________________________________________\n",
      " Layer (type)                Output Shape              Param #   \n",
      "=================================================================\n",
      " dense_6 (Dense)             (None, 10)                20        \n",
      "                                                                 \n",
      " dense_7 (Dense)             (None, 1)                 11        \n",
      "                                                                 \n",
      "=================================================================\n",
      "Total params: 31 (124.00 Byte)\n",
      "Trainable params: 31 (124.00 Byte)\n",
      "Non-trainable params: 0 (0.00 Byte)\n",
      "_________________________________________________________________\n"
     ]
    }
   ],
   "source": [
    "model.summary()"
   ]
  },
  {
   "cell_type": "code",
   "execution_count": null,
   "metadata": {},
   "outputs": [
    {
     "name": "stdout",
     "output_type": "stream",
     "text": [
      "You must install pydot (`pip install pydot`) and install graphviz (see instructions at https://graphviz.gitlab.io/download/) for plot_model to work.\n"
     ]
    }
   ],
   "source": [
    "from  tensorflow.keras.utils import plot_model\n",
    "plot_model(model)"
   ]
  },
  {
   "cell_type": "markdown",
   "metadata": {},
   "source": [
    "### Visualize our model's predictions\n",
    "\n",
    "To visualize predictions, it's a good idea to plot them against ground truth labels.\n",
    "\n",
    "Often you'll see this in the form of `y_test` or `y_true` versus `y_pred` (ground truth versus your model predictions)"
   ]
  },
  {
   "cell_type": "code",
   "execution_count": null,
   "metadata": {},
   "outputs": [
    {
     "name": "stdout",
     "output_type": "stream",
     "text": [
      "1/1 [==============================] - 0s 44ms/step\n"
     ]
    },
    {
     "data": {
      "text/plain": [
       "array([[ 76.491905],\n",
       "       [ 81.476654],\n",
       "       [ 86.4614  ],\n",
       "       [ 91.44615 ],\n",
       "       [ 96.4309  ],\n",
       "       [101.41566 ],\n",
       "       [106.400406],\n",
       "       [111.385155],\n",
       "       [116.3699  ],\n",
       "       [121.35467 ]], dtype=float32)"
      ]
     },
     "execution_count": 33,
     "metadata": {},
     "output_type": "execute_result"
    }
   ],
   "source": [
    "# Make some predictions\n",
    "y_pred = model.predict(X_test)\n",
    "y_pred"
   ]
  },
  {
   "cell_type": "code",
   "execution_count": null,
   "metadata": {},
   "outputs": [],
   "source": [
    "# Let's create a plotting function\n",
    "def plot_predictions(train_data=X_train,\n",
    "                     train_labels=y_train,\n",
    "                     test_data=X_test,\n",
    "                     test_labels=y_test,\n",
    "                     predictions=y_pred):\n",
    "    \"\"\"\n",
    "    Plots training data, test data and compares predictions to ground truth labels.\n",
    "    \"\"\"\n",
    "\n",
    "    plt.figure(figsize=(10, 7))\n",
    "    # Plot training data in blue\n",
    "    plt.scatter(train_data, train_labels, c=\"b\", label=\"Training data\")\n",
    "    # Plot the test data in green\n",
    "    plt.scatter(test_data, test_labels, c=\"g\", label=\"Testing data\")\n",
    "    # Plot models predictions in red\n",
    "    plt.scatter(test_data, predictions, c=\"r\", label=\"Predictions\")\n",
    "    # Show the legend\n",
    "    plt.legend();"
   ]
  },
  {
   "cell_type": "code",
   "execution_count": null,
   "metadata": {},
   "outputs": [],
   "source": [
    "# X_test = tf.expand_dims(X_test, axis=-1)"
   ]
  },
  {
   "cell_type": "code",
   "execution_count": null,
   "metadata": {},
   "outputs": [
    {
     "data": {
      "text/plain": [
       "(TensorShape([10]), (10, 1))"
      ]
     },
     "execution_count": 36,
     "metadata": {},
     "output_type": "execute_result"
    }
   ],
   "source": [
    "X_test.shape, y_pred.shape"
   ]
  },
  {
   "cell_type": "code",
   "execution_count": null,
   "metadata": {},
   "outputs": [
    {
     "data": {
      "image/png": "[encoded data removed]",
      "text/plain": [
       "<Figure size 1000x700 with 1 Axes>"
      ]
     },
     "metadata": {},
     "output_type": "display_data"
    }
   ],
   "source": [
    "plot_predictions()"
   ]
  },
  {
   "cell_type": "markdown",
   "metadata": {},
   "source": [
    "### Evaluating our model's predictions with regression evaluation metrics\n",
    "\n",
    "Depending on the problem you're working on, there will be different evaluation metrics to evaluate your model's performance.\n",
    "\n",
    "Since we're working on a regression problem, two of the main metrics:\n",
    "* MAE - mean absolute error, \"on average, how wrong is each of my model's predictions\"\n",
    "* MSE - mean square error, \"square the average errors\""
   ]
  },
  {
   "cell_type": "code",
   "execution_count": null,
   "metadata": {},
   "outputs": [
    {
     "name": "stdout",
     "output_type": "stream",
     "text": [
      "1/1 [==============================] - 0s 106ms/step - loss: 10.9233 - mae: 10.9233\n"
     ]
    },
    {
     "data": {
      "text/plain": [
       "[10.923279762268066, 10.923279762268066]"
      ]
     },
     "execution_count": 39,
     "metadata": {},
     "output_type": "execute_result"
    }
   ],
   "source": [
    "# Evaluate the model on the test\n",
    "model.evaluate(X_test, y_test)"
   ]
  },
  {
   "cell_type": "code",
   "execution_count": null,
   "metadata": {},
   "outputs": [
    {
     "data": {
      "text/plain": [
       "<tf.Tensor: shape=(10,), dtype=float32, numpy=\n",
       "array([13.304857, 11.009338, 10.      , 10.28923 , 11.77236 , 14.449394,\n",
       "       18.400406, 23.385155, 28.369904, 33.354668], dtype=float32)>"
      ]
     },
     "execution_count": 43,
     "metadata": {},
     "output_type": "execute_result"
    }
   ],
   "source": [
    "# Calculate the mean absolute error\n",
    "mae = tf.metrics.mean_absolute_error(y_test, y_pred)\n",
    "mae"
   ]
  },
  {
   "cell_type": "code",
   "execution_count": null,
   "metadata": {},
   "outputs": [
    {
     "data": {
      "text/plain": [
       "array([[ 76.491905],\n",
       "       [ 81.476654],\n",
       "       [ 86.4614  ],\n",
       "       [ 91.44615 ],\n",
       "       [ 96.4309  ],\n",
       "       [101.41566 ],\n",
       "       [106.400406],\n",
       "       [111.385155],\n",
       "       [116.3699  ],\n",
       "       [121.35467 ]], dtype=float32)"
      ]
     },
     "execution_count": 40,
     "metadata": {},
     "output_type": "execute_result"
    }
   ],
   "source": [
    "y_pred"
   ]
  },
  {
   "cell_type": "code",
   "execution_count": null,
   "metadata": {},
   "outputs": [
    {
     "data": {
      "text/plain": [
       "<tf.Tensor: shape=(10,), dtype=int32, numpy=array([ 70,  74,  78,  82,  86,  90,  94,  98, 102, 106])>"
      ]
     },
     "execution_count": 41,
     "metadata": {},
     "output_type": "execute_result"
    }
   ],
   "source": [
    "y_test"
   ]
  },
  {
   "cell_type": "code",
   "execution_count": null,
   "metadata": {},
   "outputs": [
    {
     "data": {
      "text/plain": [
       "<tf.Tensor: shape=(10,), dtype=float32, numpy=\n",
       "array([ 76.491905,  81.476654,  86.4614  ,  91.44615 ,  96.4309  ,\n",
       "       101.41566 , 106.400406, 111.385155, 116.3699  , 121.35467 ],\n",
       "      dtype=float32)>"
      ]
     },
     "execution_count": 44,
     "metadata": {},
     "output_type": "execute_result"
    }
   ],
   "source": [
    "tf.squeeze(y_pred)"
   ]
  },
  {
   "cell_type": "code",
   "execution_count": null,
   "metadata": {},
   "outputs": [
    {
     "data": {
      "text/plain": [
       "<tf.Tensor: shape=(), dtype=float32, numpy=10.923281>"
      ]
     },
     "execution_count": 45,
     "metadata": {},
     "output_type": "execute_result"
    }
   ],
   "source": [
    "# Calculate the mean absolute error\n",
    "mae = tf.metrics.mean_absolute_error(y_true=y_test,\n",
    "                                     y_pred=tf.squeeze(y_pred))\n",
    "mae"
   ]
  },
  {
   "cell_type": "code",
   "execution_count": null,
   "metadata": {},
   "outputs": [
    {
     "data": {
      "text/plain": [
       "<tf.Tensor: shape=(), dtype=float32, numpy=127.31836>"
      ]
     },
     "execution_count": 46,
     "metadata": {},
     "output_type": "execute_result"
    }
   ],
   "source": [
    "# Calculate the mean square error\n",
    "mse = tf.metrics.mean_squared_error(y_test,\n",
    "                                    tf.squeeze(y_pred))\n",
    "mse"
   ]
  },
  {
   "cell_type": "code",
   "execution_count": null,
   "metadata": {},
   "outputs": [],
   "source": [
    "# Make some function to use MAE and MSE\n",
    "def mae(y_true, y_pred):\n",
    "    return tf.metrics.mean_absolute_error(y_true, tf.squeeze(y_pred))\n",
    "\n",
    "def mse(y_true, y_pred):\n",
    "    return tf.metrics.mean_squared_error(y_true, tf.squeeze(y_pred))"
   ]
  },
  {
   "cell_type": "markdown",
   "metadata": {},
   "source": [
    "### Running experiment to improve our model\n",
    "\n",
    "```\n",
    "Build a model -> fit it -> evaluate it -> tweak it -> fit it -> evaluate it -> tweak it -> fit it -> evaluate it ...\n",
    "```\n",
    "1. Get more data - get more examples for your model to train on (more opportunities to learn patterns or relationships between features and labels).\n",
    "2. Make your model larger (using a more complex model) - this might come in the form of more layers or more hidden units in each layer.\n",
    "3. Train for longer - give your model more of a chance to find patterns in the data.\n",
    "\n",
    "Let's do 3 modelling experiments:\n",
    "1. `model_1` - same as the original model, 1 layer, trained for 100 epochs.\n",
    "2. `model_2` - 2 layers, trained for 100 epochs\n",
    "3. `model_3` - 2 layers, trained for 500 epochs\n",
    "\n",
    "**Build model_1**"
   ]
  },
  {
   "cell_type": "code",
   "execution_count": null,
   "metadata": {},
   "outputs": [
    {
     "name": "stdout",
     "output_type": "stream",
     "text": [
      "Epoch 1/100\n",
      "2/2 [==============================] - 0s 6ms/step - loss: 64.9116 - mae: 64.9116\n",
      "Epoch 2/100\n",
      "2/2 [==============================] - 0s 4ms/step - loss: 29.9092 - mae: 29.9092\n",
      "Epoch 3/100\n",
      "2/2 [==============================] - 0s 4ms/step - loss: 10.3171 - mae: 10.3171\n",
      "Epoch 4/100\n",
      "2/2 [==============================] - 0s 4ms/step - loss: 12.7244 - mae: 12.7244\n",
      "Epoch 5/100\n",
      "2/2 [==============================] - 0s 3ms/step - loss: 11.7696 - mae: 11.7696\n",
      "Epoch 6/100\n",
      "2/2 [==============================] - 0s 4ms/step - loss: 10.8854 - mae: 10.8854\n",
      "Epoch 7/100\n",
      "2/2 [==============================] - 0s 3ms/step - loss: 8.7297 - mae: 8.7297\n",
      "Epoch 8/100\n",
      "2/2 [==============================] - 0s 5ms/step - loss: 7.7502 - mae: 7.7502\n",
      "Epoch 9/100\n",
      "2/2 [==============================] - 0s 3ms/step - loss: 20.0092 - mae: 20.0092\n",
      "Epoch 10/100\n",
      "2/2 [==============================] - 0s 4ms/step - loss: 13.7099 - mae: 13.7099\n",
      "Epoch 11/100\n",
      "2/2 [==============================] - 0s 3ms/step - loss: 11.7834 - mae: 11.7834\n",
      "Epoch 12/100\n",
      "2/2 [==============================] - 0s 4ms/step - loss: 16.4287 - mae: 16.4287\n",
      "Epoch 13/100\n",
      "2/2 [==============================] - 0s 9ms/step - loss: 11.9634 - mae: 11.9634\n",
      "Epoch 14/100\n",
      "2/2 [==============================] - 0s 4ms/step - loss: 13.8949 - mae: 13.8949\n",
      "Epoch 15/100\n",
      "2/2 [==============================] - 0s 4ms/step - loss: 11.2844 - mae: 11.2844\n",
      "Epoch 16/100\n",
      "2/2 [==============================] - 0s 8ms/step - loss: 8.5967 - mae: 8.5967\n",
      "Epoch 17/100\n",
      "2/2 [==============================] - 0s 4ms/step - loss: 13.7479 - mae: 13.7479\n",
      "Epoch 18/100\n",
      "2/2 [==============================] - 0s 4ms/step - loss: 11.5996 - mae: 11.5996\n",
      "Epoch 19/100\n",
      "2/2 [==============================] - 0s 5ms/step - loss: 17.7847 - mae: 17.7847\n",
      "Epoch 20/100\n",
      "2/2 [==============================] - 0s 4ms/step - loss: 14.9204 - mae: 14.9204\n",
      "Epoch 21/100\n",
      "2/2 [==============================] - 0s 4ms/step - loss: 10.8174 - mae: 10.8174\n",
      "Epoch 22/100\n",
      "2/2 [==============================] - 0s 5ms/step - loss: 8.5638 - mae: 8.5638\n",
      "Epoch 23/100\n",
      "2/2 [==============================] - 0s 5ms/step - loss: 9.7662 - mae: 9.7662\n",
      "Epoch 24/100\n",
      "2/2 [==============================] - 0s 4ms/step - loss: 10.9225 - mae: 10.9225\n",
      "Epoch 25/100\n",
      "2/2 [==============================] - 0s 4ms/step - loss: 9.1576 - mae: 9.1576\n",
      "Epoch 26/100\n",
      "2/2 [==============================] - 0s 3ms/step - loss: 13.1560 - mae: 13.1560\n",
      "Epoch 27/100\n",
      "2/2 [==============================] - 0s 3ms/step - loss: 10.4628 - mae: 10.4628\n",
      "Epoch 28/100\n",
      "2/2 [==============================] - 0s 3ms/step - loss: 13.5012 - mae: 13.5012\n",
      "Epoch 29/100\n",
      "2/2 [==============================] - 0s 4ms/step - loss: 10.0199 - mae: 10.0199\n",
      "Epoch 30/100\n",
      "2/2 [==============================] - 0s 3ms/step - loss: 16.0293 - mae: 16.0293\n",
      "Epoch 31/100\n",
      "2/2 [==============================] - 0s 2ms/step - loss: 23.9382 - mae: 23.9382\n",
      "Epoch 32/100\n",
      "2/2 [==============================] - 0s 3ms/step - loss: 8.0233 - mae: 8.0233\n",
      "Epoch 33/100\n",
      "2/2 [==============================] - 0s 3ms/step - loss: 9.7402 - mae: 9.7402\n",
      "Epoch 34/100\n",
      "2/2 [==============================] - 0s 4ms/step - loss: 12.0990 - mae: 12.0990\n",
      "Epoch 35/100\n",
      "2/2 [==============================] - 0s 3ms/step - loss: 11.5567 - mae: 11.5567\n",
      "Epoch 36/100\n",
      "2/2 [==============================] - 0s 4ms/step - loss: 12.7481 - mae: 12.7481\n",
      "Epoch 37/100\n",
      "2/2 [==============================] - 0s 3ms/step - loss: 9.4926 - mae: 9.4926\n",
      "Epoch 38/100\n",
      "2/2 [==============================] - 0s 3ms/step - loss: 10.1567 - mae: 10.1567\n",
      "Epoch 39/100\n",
      "2/2 [==============================] - 0s 5ms/step - loss: 10.1871 - mae: 10.1871\n",
      "Epoch 40/100\n",
      "2/2 [==============================] - 0s 10ms/step - loss: 10.9183 - mae: 10.9183\n",
      "Epoch 41/100\n",
      "2/2 [==============================] - 0s 4ms/step - loss: 7.9140 - mae: 7.9140\n",
      "Epoch 42/100\n",
      "2/2 [==============================] - 0s 6ms/step - loss: 10.1088 - mae: 10.1088\n",
      "Epoch 43/100\n",
      "2/2 [==============================] - 0s 3ms/step - loss: 8.7155 - mae: 8.7155\n",
      "Epoch 44/100\n",
      "2/2 [==============================] - 0s 4ms/step - loss: 12.2231 - mae: 12.2231\n",
      "Epoch 45/100\n",
      "2/2 [==============================] - 0s 4ms/step - loss: 13.7994 - mae: 13.7994\n",
      "Epoch 46/100\n",
      "2/2 [==============================] - 0s 3ms/step - loss: 8.4763 - mae: 8.4763\n",
      "Epoch 47/100\n",
      "2/2 [==============================] - 0s 4ms/step - loss: 9.1494 - mae: 9.1494\n",
      "Epoch 48/100\n",
      "2/2 [==============================] - 0s 3ms/step - loss: 10.6376 - mae: 10.6376\n",
      "Epoch 49/100\n",
      "2/2 [==============================] - 0s 3ms/step - loss: 7.7656 - mae: 7.7656\n",
      "Epoch 50/100\n",
      "2/2 [==============================] - 0s 3ms/step - loss: 9.5583 - mae: 9.5583\n",
      "Epoch 51/100\n",
      "2/2 [==============================] - 0s 4ms/step - loss: 9.1723 - mae: 9.1723\n",
      "Epoch 52/100\n",
      "2/2 [==============================] - 0s 3ms/step - loss: 16.3777 - mae: 16.3777\n",
      "Epoch 53/100\n",
      "2/2 [==============================] - 0s 3ms/step - loss: 14.1349 - mae: 14.1349\n",
      "Epoch 54/100\n",
      "2/2 [==============================] - 0s 3ms/step - loss: 21.1196 - mae: 21.1196\n",
      "Epoch 55/100\n",
      "2/2 [==============================] - 0s 2ms/step - loss: 16.4123 - mae: 16.4123\n",
      "Epoch 56/100\n",
      "2/2 [==============================] - 0s 3ms/step - loss: 9.9389 - mae: 9.9389\n",
      "Epoch 57/100\n",
      "2/2 [==============================] - 0s 3ms/step - loss: 9.6311 - mae: 9.6311\n",
      "Epoch 58/100\n",
      "2/2 [==============================] - 0s 3ms/step - loss: 8.9631 - mae: 8.9631\n",
      "Epoch 59/100\n",
      "2/2 [==============================] - 0s 2ms/step - loss: 10.1504 - mae: 10.1504\n",
      "Epoch 60/100\n",
      "2/2 [==============================] - 0s 3ms/step - loss: 8.4633 - mae: 8.4633\n",
      "Epoch 61/100\n",
      "2/2 [==============================] - 0s 2ms/step - loss: 9.3171 - mae: 9.3171\n",
      "Epoch 62/100\n",
      "2/2 [==============================] - 0s 3ms/step - loss: 7.0865 - mae: 7.0865\n",
      "Epoch 63/100\n",
      "2/2 [==============================] - 0s 2ms/step - loss: 8.6381 - mae: 8.6381\n",
      "Epoch 64/100\n",
      "2/2 [==============================] - 0s 3ms/step - loss: 9.2174 - mae: 9.2174\n",
      "Epoch 65/100\n",
      "2/2 [==============================] - 0s 3ms/step - loss: 10.4530 - mae: 10.4530\n",
      "Epoch 66/100\n",
      "2/2 [==============================] - 0s 3ms/step - loss: 15.7079 - mae: 15.7079\n",
      "Epoch 67/100\n",
      "2/2 [==============================] - 0s 3ms/step - loss: 10.0901 - mae: 10.0901\n",
      "Epoch 68/100\n",
      "2/2 [==============================] - 0s 4ms/step - loss: 9.0513 - mae: 9.0513\n",
      "Epoch 69/100\n",
      "2/2 [==============================] - 0s 4ms/step - loss: 12.5801 - mae: 12.5801\n",
      "Epoch 70/100\n",
      "2/2 [==============================] - 0s 5ms/step - loss: 8.9673 - mae: 8.9673\n",
      "Epoch 71/100\n",
      "2/2 [==============================] - 0s 4ms/step - loss: 9.9416 - mae: 9.9416\n",
      "Epoch 72/100\n",
      "2/2 [==============================] - 0s 5ms/step - loss: 9.9815 - mae: 9.9815\n",
      "Epoch 73/100\n",
      "2/2 [==============================] - 0s 3ms/step - loss: 12.4438 - mae: 12.4438\n",
      "Epoch 74/100\n",
      "2/2 [==============================] - 0s 5ms/step - loss: 10.5948 - mae: 10.5948\n",
      "Epoch 75/100\n",
      "2/2 [==============================] - 0s 4ms/step - loss: 9.6394 - mae: 9.6394\n",
      "Epoch 76/100\n",
      "2/2 [==============================] - 0s 4ms/step - loss: 11.1043 - mae: 11.1043\n",
      "Epoch 77/100\n",
      "2/2 [==============================] - 0s 3ms/step - loss: 8.2876 - mae: 8.2876\n",
      "Epoch 78/100\n",
      "2/2 [==============================] - 0s 3ms/step - loss: 8.9760 - mae: 8.9760\n",
      "Epoch 79/100\n",
      "2/2 [==============================] - 0s 3ms/step - loss: 19.8081 - mae: 19.8081\n",
      "Epoch 80/100\n",
      "2/2 [==============================] - 0s 3ms/step - loss: 17.8149 - mae: 17.8149\n",
      "Epoch 81/100\n",
      "2/2 [==============================] - 0s 3ms/step - loss: 7.0975 - mae: 7.0975\n",
      "Epoch 82/100\n",
      "2/2 [==============================] - 0s 3ms/step - loss: 10.4166 - mae: 10.4166\n",
      "Epoch 83/100\n",
      "2/2 [==============================] - 0s 4ms/step - loss: 9.8390 - mae: 9.8390\n",
      "Epoch 84/100\n",
      "2/2 [==============================] - 0s 3ms/step - loss: 7.9533 - mae: 7.9533\n",
      "Epoch 85/100\n",
      "2/2 [==============================] - 0s 4ms/step - loss: 9.4636 - mae: 9.4636\n",
      "Epoch 86/100\n",
      "2/2 [==============================] - 0s 3ms/step - loss: 9.5071 - mae: 9.5071\n",
      "Epoch 87/100\n",
      "2/2 [==============================] - 0s 3ms/step - loss: 11.4516 - mae: 11.4516\n",
      "Epoch 88/100\n",
      "2/2 [==============================] - 0s 3ms/step - loss: 9.9517 - mae: 9.9517\n",
      "Epoch 89/100\n",
      "2/2 [==============================] - 0s 3ms/step - loss: 7.2665 - mae: 7.2665\n",
      "Epoch 90/100\n",
      "2/2 [==============================] - 0s 3ms/step - loss: 12.7119 - mae: 12.7119\n",
      "Epoch 91/100\n",
      "2/2 [==============================] - 0s 2ms/step - loss: 7.3275 - mae: 7.3275\n",
      "Epoch 92/100\n",
      "2/2 [==============================] - 0s 3ms/step - loss: 7.6917 - mae: 7.6917\n",
      "Epoch 93/100\n",
      "2/2 [==============================] - 0s 3ms/step - loss: 7.1323 - mae: 7.1323\n",
      "Epoch 94/100\n",
      "2/2 [==============================] - 0s 3ms/step - loss: 12.5594 - mae: 12.5594\n",
      "Epoch 95/100\n",
      "2/2 [==============================] - 0s 3ms/step - loss: 9.9367 - mae: 9.9367\n",
      "Epoch 96/100\n",
      "2/2 [==============================] - 0s 3ms/step - loss: 9.1524 - mae: 9.1524\n",
      "Epoch 97/100\n",
      "2/2 [==============================] - 0s 3ms/step - loss: 12.0939 - mae: 12.0939\n",
      "Epoch 98/100\n",
      "2/2 [==============================] - 0s 3ms/step - loss: 9.0819 - mae: 9.0819\n",
      "Epoch 99/100\n",
      "2/2 [==============================] - 0s 3ms/step - loss: 8.5096 - mae: 8.5096\n",
      "Epoch 100/100\n",
      "2/2 [==============================] - 0s 5ms/step - loss: 14.4629 - mae: 14.4629\n"
     ]
    },
    {
     "data": {
      "text/plain": [
       "<keras.src.callbacks.History at 0x213673aa710>"
      ]
     },
     "execution_count": 50,
     "metadata": {},
     "output_type": "execute_result"
    }
   ],
   "source": [
    "# Set random seed\n",
    "tf.random.set_seed(42)\n",
    "\n",
    "# 1. Create the model\n",
    "model_1 = tf.keras.Sequential([\n",
    "    tf.keras.layers.Dense(1)\n",
    "])\n",
    "\n",
    "# 2. Compile the model\n",
    "model_1.compile(loss=tf.keras.losses.mae,\n",
    "                optimizer=tf.keras.optimizers.SGD(),\n",
    "                metrics=[\"mae\"])\n",
    "\n",
    "# 3. Fit the model\n",
    "model_1.fit(tf.expand_dims(X_train, axis=-1), y_train, epochs=100)"
   ]
  },
  {
   "cell_type": "code",
   "execution_count": null,
   "metadata": {},
   "outputs": [
    {
     "name": "stdout",
     "output_type": "stream",
     "text": [
      "1/1 [==============================] - 0s 24ms/step\n"
     ]
    },
    {
     "data": {
      "image/png": "[encoded data removed]",
      "text/plain": [
       "<Figure size 1000x700 with 1 Axes>"
      ]
     },
     "metadata": {},
     "output_type": "display_data"
    }
   ],
   "source": [
    "# Make and plot prediction for model_1\n",
    "y_preds_1 = model_1.predict(X_test)\n",
    "plot_predictions(predictions=y_preds_1)"
   ]
  },
  {
   "cell_type": "code",
   "execution_count": null,
   "metadata": {},
   "outputs": [
    {
     "data": {
      "text/plain": [
       "(<tf.Tensor: shape=(), dtype=float32, numpy=30.64619>,\n",
       " <tf.Tensor: shape=(), dtype=float32, numpy=949.6203>)"
      ]
     },
     "execution_count": 56,
     "metadata": {},
     "output_type": "execute_result"
    }
   ],
   "source": [
    "# Calculate model_1 evaluation metrics\n",
    "mae_1 = mae(y_test, y_preds_1)\n",
    "mse_1 = mse(y_test, y_preds_1)\n",
    "mae_1, mse_1"
   ]
  },
  {
   "cell_type": "markdown",
   "metadata": {},
   "source": [
    "**Build `model_2`**\n",
    "* 2 dense layers, trained for 100 epochs"
   ]
  },
  {
   "cell_type": "code",
   "execution_count": null,
   "metadata": {},
   "outputs": [
    {
     "name": "stdout",
     "output_type": "stream",
     "text": [
      "Epoch 1/100\n",
      "2/2 [==============================] - 0s 5ms/step - loss: 40.4421 - mae: 40.4421\n",
      "Epoch 2/100\n",
      "2/2 [==============================] - 0s 3ms/step - loss: 31.0091 - mae: 31.0091\n",
      "Epoch 3/100\n",
      "2/2 [==============================] - 0s 7ms/step - loss: 35.1974 - mae: 35.1974\n",
      "Epoch 4/100\n",
      "2/2 [==============================] - 0s 4ms/step - loss: 31.4656 - mae: 31.4656\n",
      "Epoch 5/100\n",
      "2/2 [==============================] - 0s 4ms/step - loss: 15.9670 - mae: 15.9670\n",
      "Epoch 6/100\n",
      "2/2 [==============================] - 0s 3ms/step - loss: 12.6460 - mae: 12.6460\n",
      "Epoch 7/100\n",
      "2/2 [==============================] - 0s 5ms/step - loss: 11.8959 - mae: 11.8959\n",
      "Epoch 8/100\n",
      "2/2 [==============================] - 0s 5ms/step - loss: 12.9418 - mae: 12.9418\n",
      "Epoch 9/100\n",
      "2/2 [==============================] - 0s 6ms/step - loss: 34.0781 - mae: 34.0781\n",
      "Epoch 10/100\n",
      "2/2 [==============================] - 0s 4ms/step - loss: 23.5235 - mae: 23.5235\n",
      "Epoch 11/100\n",
      "2/2 [==============================] - 0s 4ms/step - loss: 11.8744 - mae: 11.8744\n",
      "Epoch 12/100\n",
      "2/2 [==============================] - 0s 5ms/step - loss: 23.9163 - mae: 23.9163\n",
      "Epoch 13/100\n",
      "2/2 [==============================] - 0s 4ms/step - loss: 20.5904 - mae: 20.5904\n",
      "Epoch 14/100\n",
      "2/2 [==============================] - 0s 3ms/step - loss: 22.9176 - mae: 22.9176\n",
      "Epoch 15/100\n",
      "2/2 [==============================] - 0s 4ms/step - loss: 14.5404 - mae: 14.5404\n",
      "Epoch 16/100\n",
      "2/2 [==============================] - 0s 3ms/step - loss: 12.3135 - mae: 12.3135\n",
      "Epoch 17/100\n",
      "2/2 [==============================] - 0s 2ms/step - loss: 21.0539 - mae: 21.0539\n",
      "Epoch 18/100\n",
      "2/2 [==============================] - 0s 3ms/step - loss: 11.8618 - mae: 11.8618\n",
      "Epoch 19/100\n",
      "2/2 [==============================] - 0s 3ms/step - loss: 16.6626 - mae: 16.6626\n",
      "Epoch 20/100\n",
      "2/2 [==============================] - 0s 3ms/step - loss: 7.8443 - mae: 7.8443\n",
      "Epoch 21/100\n",
      "2/2 [==============================] - 0s 2ms/step - loss: 15.5269 - mae: 15.5269\n",
      "Epoch 22/100\n",
      "2/2 [==============================] - 0s 3ms/step - loss: 13.7076 - mae: 13.7076\n",
      "Epoch 23/100\n",
      "2/2 [==============================] - 0s 4ms/step - loss: 13.2198 - mae: 13.2198\n",
      "Epoch 24/100\n",
      "2/2 [==============================] - 0s 3ms/step - loss: 14.2891 - mae: 14.2891\n",
      "Epoch 25/100\n",
      "2/2 [==============================] - 0s 2ms/step - loss: 17.7906 - mae: 17.7906\n",
      "Epoch 26/100\n",
      "2/2 [==============================] - 0s 3ms/step - loss: 24.5217 - mae: 24.5217\n",
      "Epoch 27/100\n",
      "2/2 [==============================] - 0s 2ms/step - loss: 17.4701 - mae: 17.4701\n",
      "Epoch 28/100\n",
      "2/2 [==============================] - 0s 3ms/step - loss: 16.0357 - mae: 16.0357\n",
      "Epoch 29/100\n",
      "2/2 [==============================] - 0s 4ms/step - loss: 9.2362 - mae: 9.2362\n",
      "Epoch 30/100\n",
      "2/2 [==============================] - 0s 3ms/step - loss: 28.6290 - mae: 28.6290\n",
      "Epoch 31/100\n",
      "2/2 [==============================] - 0s 2ms/step - loss: 51.8024 - mae: 51.8024\n",
      "Epoch 32/100\n",
      "2/2 [==============================] - 0s 3ms/step - loss: 11.4028 - mae: 11.4028\n",
      "Epoch 33/100\n",
      "2/2 [==============================] - 0s 2ms/step - loss: 12.1526 - mae: 12.1526\n",
      "Epoch 34/100\n",
      "2/2 [==============================] - 0s 3ms/step - loss: 23.8279 - mae: 23.8279\n",
      "Epoch 35/100\n",
      "2/2 [==============================] - 0s 3ms/step - loss: 12.6392 - mae: 12.6392\n",
      "Epoch 36/100\n",
      "2/2 [==============================] - 0s 2ms/step - loss: 21.5626 - mae: 21.5626\n",
      "Epoch 37/100\n",
      "2/2 [==============================] - 0s 3ms/step - loss: 11.3586 - mae: 11.3586\n",
      "Epoch 38/100\n",
      "2/2 [==============================] - 0s 2ms/step - loss: 13.4214 - mae: 13.4214\n",
      "Epoch 39/100\n",
      "2/2 [==============================] - 0s 3ms/step - loss: 10.7733 - mae: 10.7733\n",
      "Epoch 40/100\n",
      "2/2 [==============================] - 0s 3ms/step - loss: 16.5297 - mae: 16.5297\n",
      "Epoch 41/100\n",
      "2/2 [==============================] - 0s 3ms/step - loss: 10.9442 - mae: 10.9442\n",
      "Epoch 42/100\n",
      "2/2 [==============================] - 0s 6ms/step - loss: 9.2794 - mae: 9.2794\n",
      "Epoch 43/100\n",
      "2/2 [==============================] - 0s 4ms/step - loss: 9.5904 - mae: 9.5904\n",
      "Epoch 44/100\n",
      "2/2 [==============================] - 0s 7ms/step - loss: 27.8781 - mae: 27.8781\n",
      "Epoch 45/100\n",
      "2/2 [==============================] - 0s 5ms/step - loss: 11.2603 - mae: 11.2603\n",
      "Epoch 46/100\n",
      "2/2 [==============================] - 0s 4ms/step - loss: 13.8415 - mae: 13.8415\n",
      "Epoch 47/100\n",
      "2/2 [==============================] - 0s 5ms/step - loss: 11.9318 - mae: 11.9318\n",
      "Epoch 48/100\n",
      "2/2 [==============================] - 0s 5ms/step - loss: 16.9712 - mae: 16.9712\n",
      "Epoch 49/100\n",
      "2/2 [==============================] - 0s 3ms/step - loss: 9.7707 - mae: 9.7707\n",
      "Epoch 50/100\n",
      "2/2 [==============================] - 0s 3ms/step - loss: 14.1555 - mae: 14.1555\n",
      "Epoch 51/100\n",
      "2/2 [==============================] - 0s 3ms/step - loss: 11.7354 - mae: 11.7354\n",
      "Epoch 52/100\n",
      "2/2 [==============================] - 0s 2ms/step - loss: 31.3356 - mae: 31.3356\n",
      "Epoch 53/100\n",
      "2/2 [==============================] - 0s 4ms/step - loss: 14.7050 - mae: 14.7050\n",
      "Epoch 54/100\n",
      "2/2 [==============================] - 0s 2ms/step - loss: 24.5759 - mae: 24.5759\n",
      "Epoch 55/100\n",
      "2/2 [==============================] - 0s 3ms/step - loss: 23.8569 - mae: 23.8569\n",
      "Epoch 56/100\n",
      "2/2 [==============================] - 0s 4ms/step - loss: 11.1138 - mae: 11.1138\n",
      "Epoch 57/100\n",
      "2/2 [==============================] - 0s 2ms/step - loss: 13.0474 - mae: 13.0474\n",
      "Epoch 58/100\n",
      "2/2 [==============================] - 0s 3ms/step - loss: 9.7754 - mae: 9.7754\n",
      "Epoch 59/100\n",
      "2/2 [==============================] - 0s 3ms/step - loss: 13.2213 - mae: 13.2213\n",
      "Epoch 60/100\n",
      "2/2 [==============================] - 0s 2ms/step - loss: 10.8262 - mae: 10.8262\n",
      "Epoch 61/100\n",
      "2/2 [==============================] - 0s 3ms/step - loss: 13.4009 - mae: 13.4009\n",
      "Epoch 62/100\n",
      "2/2 [==============================] - 0s 2ms/step - loss: 17.3490 - mae: 17.3490\n",
      "Epoch 63/100\n",
      "2/2 [==============================] - 0s 3ms/step - loss: 9.1342 - mae: 9.1342\n",
      "Epoch 64/100\n",
      "2/2 [==============================] - 0s 3ms/step - loss: 17.9707 - mae: 17.9707\n",
      "Epoch 65/100\n",
      "2/2 [==============================] - 0s 3ms/step - loss: 10.6197 - mae: 10.6197\n",
      "Epoch 66/100\n",
      "2/2 [==============================] - 0s 2ms/step - loss: 21.4920 - mae: 21.4920\n",
      "Epoch 67/100\n",
      "2/2 [==============================] - 0s 3ms/step - loss: 10.6314 - mae: 10.6314\n",
      "Epoch 68/100\n",
      "2/2 [==============================] - 0s 2ms/step - loss: 14.8728 - mae: 14.8728\n",
      "Epoch 69/100\n",
      "2/2 [==============================] - 0s 3ms/step - loss: 10.7777 - mae: 10.7777\n",
      "Epoch 70/100\n",
      "2/2 [==============================] - 0s 4ms/step - loss: 12.8800 - mae: 12.8800\n",
      "Epoch 71/100\n",
      "2/2 [==============================] - 0s 2ms/step - loss: 13.3001 - mae: 13.3001\n",
      "Epoch 72/100\n",
      "2/2 [==============================] - 0s 3ms/step - loss: 20.1567 - mae: 20.1567\n",
      "Epoch 73/100\n",
      "2/2 [==============================] - 0s 3ms/step - loss: 9.7390 - mae: 9.7390\n",
      "Epoch 74/100\n",
      "2/2 [==============================] - 0s 6ms/step - loss: 27.4665 - mae: 27.4665\n",
      "Epoch 75/100\n",
      "2/2 [==============================] - 0s 4ms/step - loss: 10.0269 - mae: 10.0269\n",
      "Epoch 76/100\n",
      "2/2 [==============================] - 0s 5ms/step - loss: 12.9473 - mae: 12.9473\n",
      "Epoch 77/100\n",
      "2/2 [==============================] - 0s 4ms/step - loss: 17.9520 - mae: 17.9520\n",
      "Epoch 78/100\n",
      "2/2 [==============================] - 0s 4ms/step - loss: 8.9647 - mae: 8.9647\n",
      "Epoch 79/100\n",
      "2/2 [==============================] - 0s 4ms/step - loss: 28.8020 - mae: 28.8020\n",
      "Epoch 80/100\n",
      "2/2 [==============================] - 0s 3ms/step - loss: 31.1536 - mae: 31.1536\n",
      "Epoch 81/100\n",
      "2/2 [==============================] - 0s 3ms/step - loss: 13.5762 - mae: 13.5762\n",
      "Epoch 82/100\n",
      "2/2 [==============================] - 0s 2ms/step - loss: 15.8669 - mae: 15.8669\n",
      "Epoch 83/100\n",
      "2/2 [==============================] - 0s 4ms/step - loss: 9.1342 - mae: 9.1342\n",
      "Epoch 84/100\n",
      "2/2 [==============================] - 0s 3ms/step - loss: 8.2055 - mae: 8.2055\n",
      "Epoch 85/100\n",
      "2/2 [==============================] - 0s 2ms/step - loss: 18.8783 - mae: 18.8783\n",
      "Epoch 86/100\n",
      "2/2 [==============================] - 0s 3ms/step - loss: 21.9709 - mae: 21.9709\n",
      "Epoch 87/100\n",
      "2/2 [==============================] - 0s 3ms/step - loss: 11.2139 - mae: 11.2139\n",
      "Epoch 88/100\n",
      "2/2 [==============================] - 0s 3ms/step - loss: 25.9291 - mae: 25.9291\n",
      "Epoch 89/100\n",
      "2/2 [==============================] - 0s 2ms/step - loss: 9.5215 - mae: 9.5215\n",
      "Epoch 90/100\n",
      "2/2 [==============================] - 0s 3ms/step - loss: 18.2412 - mae: 18.2412\n",
      "Epoch 91/100\n",
      "2/2 [==============================] - 0s 3ms/step - loss: 10.3244 - mae: 10.3244\n",
      "Epoch 92/100\n",
      "2/2 [==============================] - 0s 2ms/step - loss: 17.4922 - mae: 17.4922\n",
      "Epoch 93/100\n",
      "2/2 [==============================] - 0s 2ms/step - loss: 6.8267 - mae: 6.8267\n",
      "Epoch 94/100\n",
      "2/2 [==============================] - 0s 4ms/step - loss: 17.6590 - mae: 17.6590\n",
      "Epoch 95/100\n",
      "2/2 [==============================] - 0s 3ms/step - loss: 17.3748 - mae: 17.3748\n",
      "Epoch 96/100\n",
      "2/2 [==============================] - 0s 3ms/step - loss: 11.5413 - mae: 11.5413\n",
      "Epoch 97/100\n",
      "2/2 [==============================] - 0s 3ms/step - loss: 18.3148 - mae: 18.3148\n",
      "Epoch 98/100\n",
      "2/2 [==============================] - 0s 2ms/step - loss: 9.7575 - mae: 9.7575\n",
      "Epoch 99/100\n",
      "2/2 [==============================] - 0s 3ms/step - loss: 16.9449 - mae: 16.9449\n",
      "Epoch 100/100\n",
      "2/2 [==============================] - 0s 2ms/step - loss: 17.8169 - mae: 17.8169\n"
     ]
    },
    {
     "data": {
      "text/plain": [
       "<keras.src.callbacks.History at 0x2136ce54710>"
      ]
     },
     "execution_count": 64,
     "metadata": {},
     "output_type": "execute_result"
    }
   ],
   "source": [
    "# 1. Create the model\n",
    "model_2 = tf.keras.Sequential([\n",
    "    tf.keras.layers.Dense(50),\n",
    "    tf.keras.layers.Dense(1)\n",
    "])\n",
    "\n",
    "# 2. Compile the model\n",
    "model_2.compile(loss=tf.keras.losses.mae,\n",
    "                optimizer=tf.keras.optimizers.SGD(),\n",
    "                metrics=[\"mae\"])\n",
    "\n",
    "# 3. Fit the model\n",
    "model_2.fit(tf.expand_dims(X_train, axis=-1), y_train, epochs=100)"
   ]
  },
  {
   "cell_type": "code",
   "execution_count": null,
   "metadata": {},
   "outputs": [
    {
     "name": "stdout",
     "output_type": "stream",
     "text": [
      "1/1 [==============================] - 0s 39ms/step\n"
     ]
    },
    {
     "data": {
      "image/png": "[encoded data removed]",
      "text/plain": [
       "<Figure size 1000x700 with 1 Axes>"
      ]
     },
     "metadata": {},
     "output_type": "display_data"
    }
   ],
   "source": [
    "y_preds_2 = model_2.predict(X_test)\n",
    "plot_predictions(predictions=y_preds_2)"
   ]
  },
  {
   "cell_type": "code",
   "execution_count": null,
   "metadata": {},
   "outputs": [
    {
     "data": {
      "text/plain": [
       "(<tf.Tensor: shape=(), dtype=float32, numpy=12.757291>,\n",
       " <tf.Tensor: shape=(), dtype=float32, numpy=163.00664>)"
      ]
     },
     "execution_count": 59,
     "metadata": {},
     "output_type": "execute_result"
    }
   ],
   "source": [
    "mae_2 = mae(y_test, y_preds_2)\n",
    "mse_2 = mse(y_test, y_preds_2)\n",
    "mae_2, mse_2"
   ]
  },
  {
   "cell_type": "markdown",
   "metadata": {},
   "source": [
    "**Build `model_3`**\n",
    "\n",
    "* 2 layers, trained for 500 epochs"
   ]
  },
  {
   "cell_type": "code",
   "execution_count": null,
   "metadata": {},
   "outputs": [
    {
     "name": "stdout",
     "output_type": "stream",
     "text": [
      "Epoch 1/500\n"
     ]
    },
    {
     "name": "stdout",
     "output_type": "stream",
     "text": [
      "2/2 [==============================] - 0s 4ms/step - loss: 50.5294 - mae: 50.5294\n",
      "Epoch 2/500\n",
      "2/2 [==============================] - 0s 4ms/step - loss: 36.0777 - mae: 36.0777\n",
      "Epoch 3/500\n",
      "2/2 [==============================] - 0s 5ms/step - loss: 39.5842 - mae: 39.5842\n",
      "Epoch 4/500\n",
      "2/2 [==============================] - 0s 17ms/step - loss: 29.3512 - mae: 29.3512\n",
      "Epoch 5/500\n",
      "2/2 [==============================] - 0s 8ms/step - loss: 15.8914 - mae: 15.8914\n",
      "Epoch 6/500\n",
      "2/2 [==============================] - 0s 3ms/step - loss: 12.5986 - mae: 12.5986\n",
      "Epoch 7/500\n",
      "2/2 [==============================] - 0s 3ms/step - loss: 11.8677 - mae: 11.8677\n",
      "Epoch 8/500\n",
      "2/2 [==============================] - 0s 3ms/step - loss: 12.9432 - mae: 12.9432\n",
      "Epoch 9/500\n",
      "2/2 [==============================] - 0s 4ms/step - loss: 34.0827 - mae: 34.0827\n",
      "Epoch 10/500\n",
      "2/2 [==============================] - 0s 3ms/step - loss: 23.5280 - mae: 23.5280\n",
      "Epoch 11/500\n",
      "2/2 [==============================] - 0s 4ms/step - loss: 11.8796 - mae: 11.8796\n",
      "Epoch 12/500\n",
      "2/2 [==============================] - 0s 4ms/step - loss: 23.9309 - mae: 23.9309\n",
      "Epoch 13/500\n",
      "2/2 [==============================] - 0s 3ms/step - loss: 20.5998 - mae: 20.5998\n",
      "Epoch 14/500\n",
      "2/2 [==============================] - 0s 7ms/step - loss: 22.9292 - mae: 22.9292\n",
      "Epoch 15/500\n",
      "2/2 [==============================] - 0s 7ms/step - loss: 14.5470 - mae: 14.5470\n",
      "Epoch 16/500\n",
      "2/2 [==============================] - 0s 5ms/step - loss: 12.3181 - mae: 12.3181\n",
      "Epoch 17/500\n",
      "2/2 [==============================] - 0s 7ms/step - loss: 21.0636 - mae: 21.0636\n",
      "Epoch 18/500\n",
      "2/2 [==============================] - 0s 5ms/step - loss: 11.8668 - mae: 11.8668\n",
      "Epoch 19/500\n",
      "2/2 [==============================] - 0s 5ms/step - loss: 16.6723 - mae: 16.6723\n",
      "Epoch 20/500\n",
      "2/2 [==============================] - 0s 5ms/step - loss: 7.8450 - mae: 7.8450\n",
      "Epoch 21/500\n",
      "2/2 [==============================] - 0s 4ms/step - loss: 15.5242 - mae: 15.5242\n",
      "Epoch 22/500\n",
      "2/2 [==============================] - 0s 6ms/step - loss: 13.7040 - mae: 13.7040\n",
      "Epoch 23/500\n",
      "2/2 [==============================] - 0s 7ms/step - loss: 13.2172 - mae: 13.2172\n",
      "Epoch 24/500\n",
      "2/2 [==============================] - 0s 5ms/step - loss: 14.2869 - mae: 14.2869\n",
      "Epoch 25/500\n",
      "2/2 [==============================] - 0s 5ms/step - loss: 17.7892 - mae: 17.7892\n",
      "Epoch 26/500\n",
      "2/2 [==============================] - 0s 4ms/step - loss: 24.5181 - mae: 24.5181\n",
      "Epoch 27/500\n",
      "2/2 [==============================] - 0s 3ms/step - loss: 17.4773 - mae: 17.4773\n",
      "Epoch 28/500\n",
      "2/2 [==============================] - 0s 3ms/step - loss: 16.0433 - mae: 16.0433\n",
      "Epoch 29/500\n",
      "2/2 [==============================] - 0s 3ms/step - loss: 9.2370 - mae: 9.2370\n",
      "Epoch 30/500\n",
      "2/2 [==============================] - 0s 3ms/step - loss: 28.6377 - mae: 28.6377\n",
      "Epoch 31/500\n",
      "2/2 [==============================] - 0s 4ms/step - loss: 51.8193 - mae: 51.8193\n",
      "Epoch 32/500\n",
      "2/2 [==============================] - 0s 3ms/step - loss: 11.4065 - mae: 11.4065\n",
      "Epoch 33/500\n",
      "2/2 [==============================] - 0s 2ms/step - loss: 12.1558 - mae: 12.1558\n",
      "Epoch 34/500\n",
      "2/2 [==============================] - 0s 3ms/step - loss: 23.8378 - mae: 23.8378\n",
      "Epoch 35/500\n",
      "2/2 [==============================] - 0s 3ms/step - loss: 12.6384 - mae: 12.6384\n",
      "Epoch 36/500\n",
      "2/2 [==============================] - 0s 3ms/step - loss: 21.5596 - mae: 21.5596\n",
      "Epoch 37/500\n",
      "2/2 [==============================] - 0s 2ms/step - loss: 11.3620 - mae: 11.3620\n",
      "Epoch 38/500\n",
      "2/2 [==============================] - 0s 3ms/step - loss: 13.4263 - mae: 13.4263\n",
      "Epoch 39/500\n",
      "2/2 [==============================] - 0s 4ms/step - loss: 10.7762 - mae: 10.7762\n",
      "Epoch 40/500\n",
      "2/2 [==============================] - 0s 6ms/step - loss: 16.5360 - mae: 16.5360\n",
      "Epoch 41/500\n",
      "2/2 [==============================] - 0s 4ms/step - loss: 10.9480 - mae: 10.9480\n",
      "Epoch 42/500\n",
      "2/2 [==============================] - 0s 10ms/step - loss: 9.2823 - mae: 9.2823\n",
      "Epoch 43/500\n",
      "2/2 [==============================] - 0s 6ms/step - loss: 9.5918 - mae: 9.5918\n",
      "Epoch 44/500\n",
      "2/2 [==============================] - 0s 3ms/step - loss: 27.8860 - mae: 27.8860\n",
      "Epoch 45/500\n",
      "2/2 [==============================] - 0s 3ms/step - loss: 11.2632 - mae: 11.2632\n",
      "Epoch 46/500\n",
      "2/2 [==============================] - 0s 5ms/step - loss: 13.8465 - mae: 13.8465\n",
      "Epoch 47/500\n",
      "2/2 [==============================] - 0s 3ms/step - loss: 11.9306 - mae: 11.9306\n",
      "Epoch 48/500\n",
      "2/2 [==============================] - 0s 5ms/step - loss: 16.9690 - mae: 16.9690\n",
      "Epoch 49/500\n",
      "2/2 [==============================] - 0s 3ms/step - loss: 9.7730 - mae: 9.7730\n",
      "Epoch 50/500\n",
      "2/2 [==============================] - 0s 4ms/step - loss: 14.1591 - mae: 14.1591\n",
      "Epoch 51/500\n",
      "2/2 [==============================] - 0s 3ms/step - loss: 11.7372 - mae: 11.7372\n",
      "Epoch 52/500\n",
      "2/2 [==============================] - 0s 3ms/step - loss: 31.3419 - mae: 31.3419\n",
      "Epoch 53/500\n",
      "2/2 [==============================] - 0s 3ms/step - loss: 14.7081 - mae: 14.7081\n",
      "Epoch 54/500\n",
      "2/2 [==============================] - 0s 3ms/step - loss: 24.5808 - mae: 24.5808\n",
      "Epoch 55/500\n",
      "2/2 [==============================] - 0s 2ms/step - loss: 23.8624 - mae: 23.8624\n",
      "Epoch 56/500\n",
      "2/2 [==============================] - 0s 3ms/step - loss: 11.1162 - mae: 11.1162\n",
      "Epoch 57/500\n",
      "2/2 [==============================] - 0s 3ms/step - loss: 13.0503 - mae: 13.0503\n",
      "Epoch 58/500\n",
      "2/2 [==============================] - 0s 3ms/step - loss: 9.7773 - mae: 9.7773\n",
      "Epoch 59/500\n",
      "2/2 [==============================] - 0s 4ms/step - loss: 13.2241 - mae: 13.2241\n",
      "Epoch 60/500\n",
      "2/2 [==============================] - 0s 3ms/step - loss: 10.8282 - mae: 10.8282\n",
      "Epoch 61/500\n",
      "2/2 [==============================] - 0s 3ms/step - loss: 13.4032 - mae: 13.4032\n",
      "Epoch 62/500\n",
      "2/2 [==============================] - 0s 3ms/step - loss: 17.3522 - mae: 17.3522\n",
      "Epoch 63/500\n",
      "2/2 [==============================] - 0s 3ms/step - loss: 9.1355 - mae: 9.1355\n",
      "Epoch 64/500\n",
      "2/2 [==============================] - 0s 4ms/step - loss: 17.9735 - mae: 17.9735\n",
      "Epoch 65/500\n",
      "2/2 [==============================] - 0s 3ms/step - loss: 10.6212 - mae: 10.6212\n",
      "Epoch 66/500\n",
      "2/2 [==============================] - 0s 3ms/step - loss: 21.4949 - mae: 21.4949\n",
      "Epoch 67/500\n",
      "2/2 [==============================] - 0s 4ms/step - loss: 10.6329 - mae: 10.6329\n",
      "Epoch 68/500\n",
      "2/2 [==============================] - 0s 3ms/step - loss: 14.8748 - mae: 14.8748\n",
      "Epoch 69/500\n",
      "2/2 [==============================] - 0s 4ms/step - loss: 10.7793 - mae: 10.7793\n",
      "Epoch 70/500\n",
      "2/2 [==============================] - 0s 4ms/step - loss: 12.8817 - mae: 12.8817\n",
      "Epoch 71/500\n",
      "2/2 [==============================] - 0s 3ms/step - loss: 13.3015 - mae: 13.3015\n",
      "Epoch 72/500\n",
      "2/2 [==============================] - 0s 4ms/step - loss: 20.1586 - mae: 20.1586\n",
      "Epoch 73/500\n",
      "2/2 [==============================] - 0s 3ms/step - loss: 9.7399 - mae: 9.7399\n",
      "Epoch 74/500\n",
      "2/2 [==============================] - 0s 3ms/step - loss: 27.4681 - mae: 27.4681\n",
      "Epoch 75/500\n",
      "2/2 [==============================] - 0s 2ms/step - loss: 10.0280 - mae: 10.0280\n",
      "Epoch 76/500\n",
      "2/2 [==============================] - 0s 4ms/step - loss: 12.9484 - mae: 12.9484\n",
      "Epoch 77/500\n",
      "2/2 [==============================] - 0s 3ms/step - loss: 17.9529 - mae: 17.9529\n",
      "Epoch 78/500\n",
      "2/2 [==============================] - 0s 3ms/step - loss: 8.9655 - mae: 8.9655\n",
      "Epoch 79/500\n",
      "2/2 [==============================] - 0s 3ms/step - loss: 28.8024 - mae: 28.8024\n",
      "Epoch 80/500\n",
      "2/2 [==============================] - 0s 3ms/step - loss: 31.1542 - mae: 31.1542\n",
      "Epoch 81/500\n",
      "2/2 [==============================] - 0s 3ms/step - loss: 13.5771 - mae: 13.5771\n",
      "Epoch 82/500\n",
      "2/2 [==============================] - 0s 3ms/step - loss: 15.8671 - mae: 15.8671\n",
      "Epoch 83/500\n",
      "2/2 [==============================] - 0s 2ms/step - loss: 9.1350 - mae: 9.1350\n",
      "Epoch 84/500\n",
      "2/2 [==============================] - 0s 5ms/step - loss: 8.2061 - mae: 8.2061\n",
      "Epoch 85/500\n",
      "2/2 [==============================] - 0s 3ms/step - loss: 18.8787 - mae: 18.8787\n",
      "Epoch 86/500\n",
      "2/2 [==============================] - 0s 4ms/step - loss: 21.9703 - mae: 21.9703\n",
      "Epoch 87/500\n",
      "2/2 [==============================] - 0s 3ms/step - loss: 11.2145 - mae: 11.2145\n",
      "Epoch 88/500\n",
      "2/2 [==============================] - 0s 2ms/step - loss: 25.9282 - mae: 25.9282\n",
      "Epoch 89/500\n",
      "2/2 [==============================] - 0s 4ms/step - loss: 9.5220 - mae: 9.5220\n",
      "Epoch 90/500\n",
      "2/2 [==============================] - 0s 3ms/step - loss: 18.2403 - mae: 18.2403\n",
      "Epoch 91/500\n",
      "2/2 [==============================] - 0s 3ms/step - loss: 10.3248 - mae: 10.3248\n",
      "Epoch 92/500\n",
      "2/2 [==============================] - 0s 3ms/step - loss: 17.4912 - mae: 17.4912\n",
      "Epoch 93/500\n",
      "2/2 [==============================] - 0s 3ms/step - loss: 6.8274 - mae: 6.8274\n",
      "Epoch 94/500\n",
      "2/2 [==============================] - 0s 4ms/step - loss: 17.6598 - mae: 17.6598\n",
      "Epoch 95/500\n",
      "2/2 [==============================] - 0s 2ms/step - loss: 17.3758 - mae: 17.3758\n",
      "Epoch 96/500\n",
      "2/2 [==============================] - 0s 3ms/step - loss: 11.5420 - mae: 11.5420\n",
      "Epoch 97/500\n",
      "2/2 [==============================] - 0s 3ms/step - loss: 18.3159 - mae: 18.3159\n",
      "Epoch 98/500\n",
      "2/2 [==============================] - 0s 4ms/step - loss: 9.7583 - mae: 9.7583\n",
      "Epoch 99/500\n",
      "2/2 [==============================] - 0s 4ms/step - loss: 16.9458 - mae: 16.9458\n",
      "Epoch 100/500\n",
      "2/2 [==============================] - 0s 8ms/step - loss: 17.8179 - mae: 17.8179\n",
      "Epoch 101/500\n",
      "2/2 [==============================] - 0s 5ms/step - loss: 16.4891 - mae: 16.4891\n",
      "Epoch 102/500\n",
      "2/2 [==============================] - 0s 5ms/step - loss: 12.9298 - mae: 12.9298\n",
      "Epoch 103/500\n",
      "2/2 [==============================] - 0s 5ms/step - loss: 16.0833 - mae: 16.0833\n",
      "Epoch 104/500\n",
      "2/2 [==============================] - 0s 3ms/step - loss: 22.2667 - mae: 22.2667\n",
      "Epoch 105/500\n",
      "2/2 [==============================] - 0s 4ms/step - loss: 20.2954 - mae: 20.2954\n",
      "Epoch 106/500\n",
      "2/2 [==============================] - 0s 3ms/step - loss: 10.1082 - mae: 10.1082\n",
      "Epoch 107/500\n",
      "2/2 [==============================] - 0s 3ms/step - loss: 24.7887 - mae: 24.7887\n",
      "Epoch 108/500\n",
      "2/2 [==============================] - 0s 4ms/step - loss: 14.9058 - mae: 14.9058\n",
      "Epoch 109/500\n",
      "2/2 [==============================] - 0s 2ms/step - loss: 9.0475 - mae: 9.0475\n",
      "Epoch 110/500\n",
      "2/2 [==============================] - 0s 5ms/step - loss: 9.2903 - mae: 9.2903\n",
      "Epoch 111/500\n",
      "2/2 [==============================] - 0s 3ms/step - loss: 12.9110 - mae: 12.9110\n",
      "Epoch 112/500\n",
      "2/2 [==============================] - 0s 3ms/step - loss: 15.7373 - mae: 15.7373\n",
      "Epoch 113/500\n",
      "2/2 [==============================] - 0s 4ms/step - loss: 11.2511 - mae: 11.2511\n",
      "Epoch 114/500\n",
      "2/2 [==============================] - 0s 3ms/step - loss: 24.9769 - mae: 24.9769\n",
      "Epoch 115/500\n",
      "2/2 [==============================] - 0s 4ms/step - loss: 13.5634 - mae: 13.5634\n",
      "Epoch 116/500\n",
      "2/2 [==============================] - 0s 3ms/step - loss: 14.4522 - mae: 14.4522\n",
      "Epoch 117/500\n",
      "2/2 [==============================] - 0s 3ms/step - loss: 10.0150 - mae: 10.0150\n",
      "Epoch 118/500\n",
      "2/2 [==============================] - 0s 4ms/step - loss: 11.1308 - mae: 11.1308\n",
      "Epoch 119/500\n",
      "2/2 [==============================] - 0s 3ms/step - loss: 8.1661 - mae: 8.1661\n",
      "Epoch 120/500\n",
      "2/2 [==============================] - 0s 4ms/step - loss: 30.8348 - mae: 30.8348\n",
      "Epoch 121/500\n",
      "2/2 [==============================] - 0s 4ms/step - loss: 8.1845 - mae: 8.1845\n",
      "Epoch 122/500\n",
      "2/2 [==============================] - 0s 3ms/step - loss: 29.2120 - mae: 29.2120\n",
      "Epoch 123/500\n",
      "2/2 [==============================] - 0s 3ms/step - loss: 34.0116 - mae: 34.0116\n",
      "Epoch 124/500\n",
      "2/2 [==============================] - 0s 3ms/step - loss: 20.4843 - mae: 20.4843\n",
      "Epoch 125/500\n",
      "2/2 [==============================] - 0s 2ms/step - loss: 9.1374 - mae: 9.1374\n",
      "Epoch 126/500\n",
      "2/2 [==============================] - 0s 3ms/step - loss: 9.2808 - mae: 9.2808\n",
      "Epoch 127/500\n",
      "2/2 [==============================] - 0s 3ms/step - loss: 11.3205 - mae: 11.3205\n",
      "Epoch 128/500\n",
      "2/2 [==============================] - 0s 3ms/step - loss: 17.1026 - mae: 17.1026\n",
      "Epoch 129/500\n",
      "2/2 [==============================] - 0s 4ms/step - loss: 9.0181 - mae: 9.0181\n",
      "Epoch 130/500\n",
      "2/2 [==============================] - 0s 3ms/step - loss: 23.7699 - mae: 23.7699\n",
      "Epoch 131/500\n",
      "2/2 [==============================] - 0s 3ms/step - loss: 9.7393 - mae: 9.7393\n",
      "Epoch 132/500\n",
      "2/2 [==============================] - 0s 4ms/step - loss: 18.0502 - mae: 18.0502\n",
      "Epoch 133/500\n",
      "2/2 [==============================] - 0s 4ms/step - loss: 6.7755 - mae: 6.7755\n",
      "Epoch 134/500\n",
      "2/2 [==============================] - 0s 4ms/step - loss: 20.2361 - mae: 20.2361\n",
      "Epoch 135/500\n",
      "2/2 [==============================] - 0s 4ms/step - loss: 10.5346 - mae: 10.5346\n",
      "Epoch 136/500\n",
      "2/2 [==============================] - 0s 4ms/step - loss: 18.1431 - mae: 18.1431\n",
      "Epoch 137/500\n",
      "2/2 [==============================] - 0s 2ms/step - loss: 22.9722 - mae: 22.9722\n",
      "Epoch 138/500\n",
      "2/2 [==============================] - 0s 7ms/step - loss: 9.0966 - mae: 9.0966\n",
      "Epoch 139/500\n",
      "2/2 [==============================] - 0s 4ms/step - loss: 8.9046 - mae: 8.9046\n",
      "Epoch 140/500\n",
      "2/2 [==============================] - 0s 6ms/step - loss: 16.2986 - mae: 16.2986\n",
      "Epoch 141/500\n",
      "2/2 [==============================] - 0s 3ms/step - loss: 8.4599 - mae: 8.4599\n",
      "Epoch 142/500\n",
      "2/2 [==============================] - 0s 4ms/step - loss: 36.5243 - mae: 36.5243\n",
      "Epoch 143/500\n",
      "2/2 [==============================] - 0s 5ms/step - loss: 25.2642 - mae: 25.2642\n",
      "Epoch 144/500\n",
      "2/2 [==============================] - 0s 4ms/step - loss: 10.4853 - mae: 10.4853\n",
      "Epoch 145/500\n",
      "2/2 [==============================] - 0s 4ms/step - loss: 25.8135 - mae: 25.8135\n",
      "Epoch 146/500\n",
      "2/2 [==============================] - 0s 4ms/step - loss: 10.0008 - mae: 10.0008\n",
      "Epoch 147/500\n",
      "2/2 [==============================] - 0s 4ms/step - loss: 14.7193 - mae: 14.7193\n",
      "Epoch 148/500\n",
      "2/2 [==============================] - 0s 3ms/step - loss: 17.8227 - mae: 17.8227\n",
      "Epoch 149/500\n",
      "2/2 [==============================] - 0s 4ms/step - loss: 8.4862 - mae: 8.4862\n",
      "Epoch 150/500\n",
      "2/2 [==============================] - 0s 5ms/step - loss: 7.6410 - mae: 7.6410\n",
      "Epoch 151/500\n",
      "2/2 [==============================] - 0s 6ms/step - loss: 18.8980 - mae: 18.8980\n",
      "Epoch 152/500\n",
      "2/2 [==============================] - 0s 3ms/step - loss: 10.4890 - mae: 10.4890\n",
      "Epoch 153/500\n",
      "2/2 [==============================] - 0s 3ms/step - loss: 30.4478 - mae: 30.4478\n",
      "Epoch 154/500\n",
      "2/2 [==============================] - 0s 9ms/step - loss: 9.9865 - mae: 9.9865\n",
      "Epoch 155/500\n",
      "2/2 [==============================] - 0s 3ms/step - loss: 15.7355 - mae: 15.7355\n",
      "Epoch 156/500\n",
      "2/2 [==============================] - 0s 4ms/step - loss: 17.6365 - mae: 17.6365\n",
      "Epoch 157/500\n",
      "2/2 [==============================] - 0s 2ms/step - loss: 31.2050 - mae: 31.2050\n",
      "Epoch 158/500\n",
      "2/2 [==============================] - 0s 2ms/step - loss: 10.2548 - mae: 10.2548\n",
      "Epoch 159/500\n",
      "2/2 [==============================] - 0s 4ms/step - loss: 8.7140 - mae: 8.7140\n",
      "Epoch 160/500\n",
      "2/2 [==============================] - 0s 3ms/step - loss: 20.8075 - mae: 20.8075\n",
      "Epoch 161/500\n",
      "2/2 [==============================] - 0s 3ms/step - loss: 11.8481 - mae: 11.8481\n",
      "Epoch 162/500\n",
      "2/2 [==============================] - 0s 3ms/step - loss: 21.7847 - mae: 21.7847\n",
      "Epoch 163/500\n",
      "2/2 [==============================] - 0s 3ms/step - loss: 19.4563 - mae: 19.4563\n",
      "Epoch 164/500\n",
      "2/2 [==============================] - 0s 4ms/step - loss: 11.1804 - mae: 11.1804\n",
      "Epoch 165/500\n",
      "2/2 [==============================] - 0s 3ms/step - loss: 9.6111 - mae: 9.6111\n",
      "Epoch 166/500\n",
      "2/2 [==============================] - 0s 4ms/step - loss: 21.5166 - mae: 21.5166\n",
      "Epoch 167/500\n",
      "2/2 [==============================] - 0s 3ms/step - loss: 26.4905 - mae: 26.4905\n",
      "Epoch 168/500\n",
      "2/2 [==============================] - 0s 4ms/step - loss: 9.9452 - mae: 9.9452\n",
      "Epoch 169/500\n",
      "2/2 [==============================] - 0s 4ms/step - loss: 22.7275 - mae: 22.7275\n",
      "Epoch 170/500\n",
      "2/2 [==============================] - 0s 6ms/step - loss: 10.1514 - mae: 10.1514\n",
      "Epoch 171/500\n",
      "2/2 [==============================] - 0s 3ms/step - loss: 17.9917 - mae: 17.9917\n",
      "Epoch 172/500\n",
      "2/2 [==============================] - 0s 4ms/step - loss: 28.9762 - mae: 28.9762\n",
      "Epoch 173/500\n",
      "2/2 [==============================] - 0s 3ms/step - loss: 16.6543 - mae: 16.6543\n",
      "Epoch 174/500\n",
      "2/2 [==============================] - 0s 3ms/step - loss: 11.2244 - mae: 11.2244\n",
      "Epoch 175/500\n",
      "2/2 [==============================] - 0s 4ms/step - loss: 27.5536 - mae: 27.5536\n",
      "Epoch 176/500\n",
      "2/2 [==============================] - 0s 2ms/step - loss: 8.3520 - mae: 8.3520\n",
      "Epoch 177/500\n",
      "2/2 [==============================] - 0s 5ms/step - loss: 9.3351 - mae: 9.3351\n",
      "Epoch 178/500\n",
      "2/2 [==============================] - 0s 3ms/step - loss: 18.2289 - mae: 18.2289\n",
      "Epoch 179/500\n",
      "2/2 [==============================] - 0s 3ms/step - loss: 10.5770 - mae: 10.5770\n",
      "Epoch 180/500\n",
      "2/2 [==============================] - 0s 3ms/step - loss: 7.9600 - mae: 7.9600\n",
      "Epoch 181/500\n",
      "2/2 [==============================] - 0s 2ms/step - loss: 17.4476 - mae: 17.4476\n",
      "Epoch 182/500\n",
      "2/2 [==============================] - 0s 5ms/step - loss: 11.0763 - mae: 11.0763\n",
      "Epoch 183/500\n",
      "2/2 [==============================] - 0s 3ms/step - loss: 11.7322 - mae: 11.7322\n",
      "Epoch 184/500\n",
      "2/2 [==============================] - 0s 2ms/step - loss: 30.4170 - mae: 30.4170\n",
      "Epoch 185/500\n",
      "2/2 [==============================] - 0s 3ms/step - loss: 7.6015 - mae: 7.6015\n",
      "Epoch 186/500\n",
      "2/2 [==============================] - 0s 3ms/step - loss: 16.0159 - mae: 16.0159\n",
      "Epoch 187/500\n",
      "2/2 [==============================] - 0s 4ms/step - loss: 8.6045 - mae: 8.6045\n",
      "Epoch 188/500\n",
      "2/2 [==============================] - 0s 3ms/step - loss: 28.6706 - mae: 28.6706\n",
      "Epoch 189/500\n",
      "2/2 [==============================] - 0s 3ms/step - loss: 13.2013 - mae: 13.2013\n",
      "Epoch 190/500\n",
      "2/2 [==============================] - 0s 4ms/step - loss: 18.3484 - mae: 18.3484\n",
      "Epoch 191/500\n",
      "2/2 [==============================] - 0s 3ms/step - loss: 13.7836 - mae: 13.7836\n",
      "Epoch 192/500\n",
      "2/2 [==============================] - 0s 5ms/step - loss: 13.7471 - mae: 13.7471\n",
      "Epoch 193/500\n",
      "2/2 [==============================] - 0s 4ms/step - loss: 28.6190 - mae: 28.6190\n",
      "Epoch 194/500\n",
      "2/2 [==============================] - 0s 4ms/step - loss: 7.0749 - mae: 7.0749\n",
      "Epoch 195/500\n",
      "2/2 [==============================] - 0s 3ms/step - loss: 7.8123 - mae: 7.8123\n",
      "Epoch 196/500\n",
      "2/2 [==============================] - 0s 4ms/step - loss: 26.0517 - mae: 26.0517\n",
      "Epoch 197/500\n",
      "2/2 [==============================] - 0s 3ms/step - loss: 11.5886 - mae: 11.5886\n",
      "Epoch 198/500\n",
      "2/2 [==============================] - 0s 3ms/step - loss: 18.8759 - mae: 18.8759\n",
      "Epoch 199/500\n",
      "2/2 [==============================] - 0s 3ms/step - loss: 16.6784 - mae: 16.6784\n",
      "Epoch 200/500\n",
      "2/2 [==============================] - 0s 3ms/step - loss: 12.3739 - mae: 12.3739\n",
      "Epoch 201/500\n",
      "2/2 [==============================] - 0s 4ms/step - loss: 7.1312 - mae: 7.1312\n",
      "Epoch 202/500\n",
      "2/2 [==============================] - 0s 3ms/step - loss: 22.8853 - mae: 22.8853\n",
      "Epoch 203/500\n",
      "2/2 [==============================] - 0s 3ms/step - loss: 9.0105 - mae: 9.0105\n",
      "Epoch 204/500\n",
      "2/2 [==============================] - 0s 4ms/step - loss: 18.8365 - mae: 18.8365\n",
      "Epoch 205/500\n",
      "2/2 [==============================] - 0s 3ms/step - loss: 9.4058 - mae: 9.4058\n",
      "Epoch 206/500\n",
      "2/2 [==============================] - 0s 2ms/step - loss: 10.4683 - mae: 10.4683\n",
      "Epoch 207/500\n",
      "2/2 [==============================] - 0s 3ms/step - loss: 21.0519 - mae: 21.0519\n",
      "Epoch 208/500\n",
      "2/2 [==============================] - 0s 3ms/step - loss: 16.4595 - mae: 16.4595\n",
      "Epoch 209/500\n",
      "2/2 [==============================] - 0s 4ms/step - loss: 14.3361 - mae: 14.3361\n",
      "Epoch 210/500\n",
      "2/2 [==============================] - 0s 3ms/step - loss: 17.2973 - mae: 17.2973\n",
      "Epoch 211/500\n",
      "2/2 [==============================] - 0s 4ms/step - loss: 10.2801 - mae: 10.2801\n",
      "Epoch 212/500\n",
      "2/2 [==============================] - 0s 3ms/step - loss: 19.7785 - mae: 19.7785\n",
      "Epoch 213/500\n",
      "2/2 [==============================] - 0s 6ms/step - loss: 14.6724 - mae: 14.6724\n",
      "Epoch 214/500\n",
      "2/2 [==============================] - 0s 4ms/step - loss: 14.3570 - mae: 14.3570\n",
      "Epoch 215/500\n",
      "2/2 [==============================] - 0s 6ms/step - loss: 22.8147 - mae: 22.8147\n",
      "Epoch 216/500\n",
      "2/2 [==============================] - 0s 5ms/step - loss: 14.5023 - mae: 14.5023\n",
      "Epoch 217/500\n",
      "2/2 [==============================] - 0s 3ms/step - loss: 9.2481 - mae: 9.2481\n",
      "Epoch 218/500\n",
      "2/2 [==============================] - 0s 5ms/step - loss: 11.8628 - mae: 11.8628\n",
      "Epoch 219/500\n",
      "2/2 [==============================] - 0s 4ms/step - loss: 6.8281 - mae: 6.8281\n",
      "Epoch 220/500\n",
      "2/2 [==============================] - 0s 3ms/step - loss: 7.1375 - mae: 7.1375\n",
      "Epoch 221/500\n",
      "2/2 [==============================] - 0s 3ms/step - loss: 38.5768 - mae: 38.5768\n",
      "Epoch 222/500\n",
      "2/2 [==============================] - 0s 3ms/step - loss: 38.6168 - mae: 38.6168\n",
      "Epoch 223/500\n",
      "2/2 [==============================] - 0s 4ms/step - loss: 5.0900 - mae: 5.0900\n",
      "Epoch 224/500\n",
      "2/2 [==============================] - 0s 3ms/step - loss: 11.2570 - mae: 11.2570\n",
      "Epoch 225/500\n",
      "2/2 [==============================] - 0s 3ms/step - loss: 31.1039 - mae: 31.1039\n",
      "Epoch 226/500\n",
      "2/2 [==============================] - 0s 3ms/step - loss: 12.2893 - mae: 12.2893\n",
      "Epoch 227/500\n",
      "2/2 [==============================] - 0s 2ms/step - loss: 19.2564 - mae: 19.2564\n",
      "Epoch 228/500\n",
      "2/2 [==============================] - 0s 4ms/step - loss: 11.2913 - mae: 11.2913\n",
      "Epoch 229/500\n",
      "2/2 [==============================] - 0s 3ms/step - loss: 13.7049 - mae: 13.7049\n",
      "Epoch 230/500\n",
      "2/2 [==============================] - 0s 2ms/step - loss: 9.6176 - mae: 9.6176\n",
      "Epoch 231/500\n",
      "2/2 [==============================] - 0s 3ms/step - loss: 19.2665 - mae: 19.2665\n",
      "Epoch 232/500\n",
      "2/2 [==============================] - 0s 3ms/step - loss: 15.7859 - mae: 15.7859\n",
      "Epoch 233/500\n",
      "2/2 [==============================] - 0s 3ms/step - loss: 11.2966 - mae: 11.2966\n",
      "Epoch 234/500\n",
      "2/2 [==============================] - 0s 3ms/step - loss: 11.2217 - mae: 11.2217\n",
      "Epoch 235/500\n",
      "2/2 [==============================] - 0s 3ms/step - loss: 9.6290 - mae: 9.6290\n",
      "Epoch 236/500\n",
      "2/2 [==============================] - 0s 3ms/step - loss: 12.8911 - mae: 12.8911\n",
      "Epoch 237/500\n",
      "2/2 [==============================] - 0s 3ms/step - loss: 10.0493 - mae: 10.0493\n",
      "Epoch 238/500\n",
      "2/2 [==============================] - 0s 3ms/step - loss: 13.7129 - mae: 13.7129\n",
      "Epoch 239/500\n",
      "2/2 [==============================] - 0s 3ms/step - loss: 19.2786 - mae: 19.2786\n",
      "Epoch 240/500\n",
      "2/2 [==============================] - 0s 3ms/step - loss: 24.2134 - mae: 24.2134\n",
      "Epoch 241/500\n",
      "2/2 [==============================] - 0s 3ms/step - loss: 9.4376 - mae: 9.4376\n",
      "Epoch 242/500\n",
      "2/2 [==============================] - 0s 3ms/step - loss: 15.2111 - mae: 15.2111\n",
      "Epoch 243/500\n",
      "2/2 [==============================] - 0s 3ms/step - loss: 10.6198 - mae: 10.6198\n",
      "Epoch 244/500\n",
      "2/2 [==============================] - 0s 4ms/step - loss: 8.5044 - mae: 8.5044\n",
      "Epoch 245/500\n",
      "2/2 [==============================] - 0s 3ms/step - loss: 15.3772 - mae: 15.3772\n",
      "Epoch 246/500\n",
      "2/2 [==============================] - 0s 4ms/step - loss: 16.4586 - mae: 16.4586\n",
      "Epoch 247/500\n",
      "2/2 [==============================] - 0s 2ms/step - loss: 18.5437 - mae: 18.5437\n",
      "Epoch 248/500\n",
      "2/2 [==============================] - 0s 3ms/step - loss: 14.0525 - mae: 14.0525\n",
      "Epoch 249/500\n",
      "2/2 [==============================] - 0s 4ms/step - loss: 15.0811 - mae: 15.0811\n",
      "Epoch 250/500\n",
      "2/2 [==============================] - 0s 3ms/step - loss: 18.8315 - mae: 18.8315\n",
      "Epoch 251/500\n",
      "2/2 [==============================] - 0s 3ms/step - loss: 14.1247 - mae: 14.1247\n",
      "Epoch 252/500\n",
      "2/2 [==============================] - 0s 3ms/step - loss: 29.5247 - mae: 29.5247\n",
      "Epoch 253/500\n",
      "2/2 [==============================] - 0s 3ms/step - loss: 8.2266 - mae: 8.2266\n",
      "Epoch 254/500\n",
      "2/2 [==============================] - 0s 4ms/step - loss: 11.2105 - mae: 11.2105\n",
      "Epoch 255/500\n",
      "2/2 [==============================] - 0s 3ms/step - loss: 18.3941 - mae: 18.3941\n",
      "Epoch 256/500\n",
      "2/2 [==============================] - 0s 2ms/step - loss: 10.1199 - mae: 10.1199\n",
      "Epoch 257/500\n",
      "2/2 [==============================] - 0s 3ms/step - loss: 14.9759 - mae: 14.9759\n",
      "Epoch 258/500\n",
      "2/2 [==============================] - 0s 3ms/step - loss: 4.7979 - mae: 4.7979\n",
      "Epoch 259/500\n",
      "2/2 [==============================] - 0s 4ms/step - loss: 9.5456 - mae: 9.5456\n",
      "Epoch 260/500\n",
      "2/2 [==============================] - 0s 2ms/step - loss: 38.4578 - mae: 38.4578\n",
      "Epoch 261/500\n",
      "2/2 [==============================] - 0s 3ms/step - loss: 15.5456 - mae: 15.5456\n",
      "Epoch 262/500\n",
      "2/2 [==============================] - 0s 3ms/step - loss: 5.7946 - mae: 5.7946\n",
      "Epoch 263/500\n",
      "2/2 [==============================] - 0s 3ms/step - loss: 14.6143 - mae: 14.6143\n",
      "Epoch 264/500\n",
      "2/2 [==============================] - 0s 3ms/step - loss: 18.7763 - mae: 18.7763\n",
      "Epoch 265/500\n",
      "2/2 [==============================] - 0s 3ms/step - loss: 13.0811 - mae: 13.0811\n",
      "Epoch 266/500\n",
      "2/2 [==============================] - 0s 4ms/step - loss: 10.3440 - mae: 10.3440\n",
      "Epoch 267/500\n",
      "2/2 [==============================] - 0s 4ms/step - loss: 6.0646 - mae: 6.0646\n",
      "Epoch 268/500\n",
      "2/2 [==============================] - 0s 3ms/step - loss: 18.7264 - mae: 18.7264\n",
      "Epoch 269/500\n",
      "2/2 [==============================] - 0s 3ms/step - loss: 42.1759 - mae: 42.1759\n",
      "Epoch 270/500\n",
      "2/2 [==============================] - 0s 3ms/step - loss: 13.9252 - mae: 13.9252\n",
      "Epoch 271/500\n",
      "2/2 [==============================] - 0s 3ms/step - loss: 15.0891 - mae: 15.0891\n",
      "Epoch 272/500\n",
      "2/2 [==============================] - 0s 3ms/step - loss: 29.1220 - mae: 29.1220\n",
      "Epoch 273/500\n",
      "2/2 [==============================] - 0s 2ms/step - loss: 5.5639 - mae: 5.5639\n",
      "Epoch 274/500\n",
      "2/2 [==============================] - 0s 3ms/step - loss: 13.9502 - mae: 13.9502\n",
      "Epoch 275/500\n",
      "2/2 [==============================] - 0s 7ms/step - loss: 17.0155 - mae: 17.0155\n",
      "Epoch 276/500\n",
      "2/2 [==============================] - 0s 4ms/step - loss: 12.8335 - mae: 12.8335\n",
      "Epoch 277/500\n",
      "2/2 [==============================] - 0s 6ms/step - loss: 30.4162 - mae: 30.4162\n",
      "Epoch 278/500\n",
      "2/2 [==============================] - 0s 4ms/step - loss: 10.9543 - mae: 10.9543\n",
      "Epoch 279/500\n",
      "2/2 [==============================] - 0s 3ms/step - loss: 16.3254 - mae: 16.3254\n",
      "Epoch 280/500\n",
      "2/2 [==============================] - 0s 4ms/step - loss: 21.6940 - mae: 21.6940\n",
      "Epoch 281/500\n",
      "2/2 [==============================] - 0s 4ms/step - loss: 22.6545 - mae: 22.6545\n",
      "Epoch 282/500\n",
      "2/2 [==============================] - 0s 3ms/step - loss: 7.9699 - mae: 7.9699\n",
      "Epoch 283/500\n",
      "2/2 [==============================] - 0s 3ms/step - loss: 8.2951 - mae: 8.2951\n",
      "Epoch 284/500\n",
      "2/2 [==============================] - 0s 3ms/step - loss: 25.3875 - mae: 25.3875\n",
      "Epoch 285/500\n",
      "2/2 [==============================] - 0s 5ms/step - loss: 14.0386 - mae: 14.0386\n",
      "Epoch 286/500\n",
      "2/2 [==============================] - 0s 3ms/step - loss: 6.0520 - mae: 6.0520\n",
      "Epoch 287/500\n",
      "2/2 [==============================] - 0s 2ms/step - loss: 19.0808 - mae: 19.0808\n",
      "Epoch 288/500\n",
      "2/2 [==============================] - 0s 3ms/step - loss: 32.6404 - mae: 32.6404\n",
      "Epoch 289/500\n",
      "2/2 [==============================] - 0s 3ms/step - loss: 8.4409 - mae: 8.4409\n",
      "Epoch 290/500\n",
      "2/2 [==============================] - 0s 4ms/step - loss: 16.9333 - mae: 16.9333\n",
      "Epoch 291/500\n",
      "2/2 [==============================] - 0s 2ms/step - loss: 17.3226 - mae: 17.3226\n",
      "Epoch 292/500\n",
      "2/2 [==============================] - 0s 3ms/step - loss: 10.9677 - mae: 10.9677\n",
      "Epoch 293/500\n",
      "2/2 [==============================] - 0s 3ms/step - loss: 14.6313 - mae: 14.6313\n",
      "Epoch 294/500\n",
      "2/2 [==============================] - 0s 3ms/step - loss: 21.9009 - mae: 21.9009\n",
      "Epoch 295/500\n",
      "2/2 [==============================] - 0s 3ms/step - loss: 19.7727 - mae: 19.7727\n",
      "Epoch 296/500\n",
      "2/2 [==============================] - 0s 2ms/step - loss: 6.9641 - mae: 6.9641\n",
      "Epoch 297/500\n",
      "2/2 [==============================] - 0s 2ms/step - loss: 9.0578 - mae: 9.0578\n",
      "Epoch 298/500\n",
      "2/2 [==============================] - 0s 4ms/step - loss: 24.3529 - mae: 24.3529\n",
      "Epoch 299/500\n",
      "2/2 [==============================] - 0s 3ms/step - loss: 17.6562 - mae: 17.6562\n",
      "Epoch 300/500\n",
      "2/2 [==============================] - 0s 3ms/step - loss: 7.0199 - mae: 7.0199\n",
      "Epoch 301/500\n",
      "2/2 [==============================] - 0s 3ms/step - loss: 25.1002 - mae: 25.1002\n",
      "Epoch 302/500\n",
      "2/2 [==============================] - 0s 3ms/step - loss: 8.9076 - mae: 8.9076\n",
      "Epoch 303/500\n",
      "2/2 [==============================] - 0s 3ms/step - loss: 17.6737 - mae: 17.6737\n",
      "Epoch 304/500\n",
      "2/2 [==============================] - 0s 3ms/step - loss: 11.0021 - mae: 11.0021\n",
      "Epoch 305/500\n",
      "2/2 [==============================] - 0s 3ms/step - loss: 12.8376 - mae: 12.8376\n",
      "Epoch 306/500\n",
      "2/2 [==============================] - 0s 3ms/step - loss: 8.4023 - mae: 8.4023\n",
      "Epoch 307/500\n",
      "2/2 [==============================] - 0s 3ms/step - loss: 13.2654 - mae: 13.2654\n",
      "Epoch 308/500\n",
      "2/2 [==============================] - 0s 5ms/step - loss: 8.2551 - mae: 8.2551\n",
      "Epoch 309/500\n",
      "2/2 [==============================] - 0s 3ms/step - loss: 11.8908 - mae: 11.8908\n",
      "Epoch 310/500\n",
      "2/2 [==============================] - 0s 3ms/step - loss: 5.8901 - mae: 5.8901\n",
      "Epoch 311/500\n",
      "2/2 [==============================] - 0s 2ms/step - loss: 8.8115 - mae: 8.8115\n",
      "Epoch 312/500\n",
      "2/2 [==============================] - 0s 2ms/step - loss: 30.0146 - mae: 30.0146\n",
      "Epoch 313/500\n",
      "2/2 [==============================] - 0s 3ms/step - loss: 7.6852 - mae: 7.6852\n",
      "Epoch 314/500\n",
      "2/2 [==============================] - 0s 2ms/step - loss: 9.9300 - mae: 9.9300\n",
      "Epoch 315/500\n",
      "2/2 [==============================] - 0s 3ms/step - loss: 23.7790 - mae: 23.7790\n",
      "Epoch 316/500\n",
      "2/2 [==============================] - 0s 3ms/step - loss: 16.3925 - mae: 16.3925\n",
      "Epoch 317/500\n",
      "2/2 [==============================] - 0s 3ms/step - loss: 20.9535 - mae: 20.9535\n",
      "Epoch 318/500\n",
      "2/2 [==============================] - 0s 4ms/step - loss: 9.3077 - mae: 9.3077\n",
      "Epoch 319/500\n",
      "2/2 [==============================] - 0s 3ms/step - loss: 11.9084 - mae: 11.9084\n",
      "Epoch 320/500\n",
      "2/2 [==============================] - 0s 4ms/step - loss: 12.7719 - mae: 12.7719\n",
      "Epoch 321/500\n",
      "2/2 [==============================] - 0s 3ms/step - loss: 8.2189 - mae: 8.2189\n",
      "Epoch 322/500\n",
      "2/2 [==============================] - 0s 3ms/step - loss: 13.3590 - mae: 13.3590\n",
      "Epoch 323/500\n",
      "2/2 [==============================] - 0s 3ms/step - loss: 17.6031 - mae: 17.6031\n",
      "Epoch 324/500\n",
      "2/2 [==============================] - 0s 3ms/step - loss: 15.8588 - mae: 15.8588\n",
      "Epoch 325/500\n",
      "2/2 [==============================] - 0s 3ms/step - loss: 17.4784 - mae: 17.4784\n",
      "Epoch 326/500\n",
      "2/2 [==============================] - 0s 3ms/step - loss: 11.2305 - mae: 11.2305\n",
      "Epoch 327/500\n",
      "2/2 [==============================] - 0s 3ms/step - loss: 7.7784 - mae: 7.7784\n",
      "Epoch 328/500\n",
      "2/2 [==============================] - 0s 5ms/step - loss: 4.3971 - mae: 4.3971\n",
      "Epoch 329/500\n",
      "2/2 [==============================] - 0s 8ms/step - loss: 7.8317 - mae: 7.8317\n",
      "Epoch 330/500\n",
      "2/2 [==============================] - 0s 5ms/step - loss: 14.4646 - mae: 14.4646\n",
      "Epoch 331/500\n",
      "2/2 [==============================] - 0s 3ms/step - loss: 21.9551 - mae: 21.9551\n",
      "Epoch 332/500\n",
      "2/2 [==============================] - 0s 4ms/step - loss: 21.7583 - mae: 21.7583\n",
      "Epoch 333/500\n",
      "2/2 [==============================] - 0s 3ms/step - loss: 12.6398 - mae: 12.6398\n",
      "Epoch 334/500\n",
      "2/2 [==============================] - 0s 4ms/step - loss: 9.6030 - mae: 9.6030\n",
      "Epoch 335/500\n",
      "2/2 [==============================] - 0s 3ms/step - loss: 13.0427 - mae: 13.0427\n",
      "Epoch 336/500\n",
      "2/2 [==============================] - 0s 3ms/step - loss: 32.4343 - mae: 32.4343\n",
      "Epoch 337/500\n",
      "2/2 [==============================] - 0s 5ms/step - loss: 10.6862 - mae: 10.6862\n",
      "Epoch 338/500\n",
      "2/2 [==============================] - 0s 3ms/step - loss: 20.2302 - mae: 20.2302\n",
      "Epoch 339/500\n",
      "2/2 [==============================] - 0s 3ms/step - loss: 33.5429 - mae: 33.5429\n",
      "Epoch 340/500\n",
      "2/2 [==============================] - 0s 3ms/step - loss: 8.5981 - mae: 8.5981\n",
      "Epoch 341/500\n",
      "2/2 [==============================] - 0s 3ms/step - loss: 21.2808 - mae: 21.2808\n",
      "Epoch 342/500\n",
      "2/2 [==============================] - 0s 4ms/step - loss: 14.1451 - mae: 14.1451\n",
      "Epoch 343/500\n",
      "2/2 [==============================] - 0s 3ms/step - loss: 11.7048 - mae: 11.7048\n",
      "Epoch 344/500\n",
      "2/2 [==============================] - 0s 3ms/step - loss: 10.7209 - mae: 10.7209\n",
      "Epoch 345/500\n",
      "2/2 [==============================] - 0s 3ms/step - loss: 30.9124 - mae: 30.9124\n",
      "Epoch 346/500\n",
      "2/2 [==============================] - 0s 3ms/step - loss: 10.6584 - mae: 10.6584\n",
      "Epoch 347/500\n",
      "2/2 [==============================] - 0s 5ms/step - loss: 25.5833 - mae: 25.5833\n",
      "Epoch 348/500\n",
      "2/2 [==============================] - 0s 3ms/step - loss: 13.2524 - mae: 13.2524\n",
      "Epoch 349/500\n",
      "2/2 [==============================] - 0s 3ms/step - loss: 13.0663 - mae: 13.0663\n",
      "Epoch 350/500\n",
      "2/2 [==============================] - 0s 2ms/step - loss: 15.4198 - mae: 15.4198\n",
      "Epoch 351/500\n",
      "2/2 [==============================] - 0s 3ms/step - loss: 32.8865 - mae: 32.8865\n",
      "Epoch 352/500\n",
      "2/2 [==============================] - 0s 5ms/step - loss: 13.9997 - mae: 13.9997\n",
      "Epoch 353/500\n",
      "2/2 [==============================] - 0s 3ms/step - loss: 15.9834 - mae: 15.9834\n",
      "Epoch 354/500\n",
      "2/2 [==============================] - 0s 3ms/step - loss: 13.3470 - mae: 13.3470\n",
      "Epoch 355/500\n",
      "2/2 [==============================] - 0s 3ms/step - loss: 21.4794 - mae: 21.4794\n",
      "Epoch 356/500\n",
      "2/2 [==============================] - 0s 3ms/step - loss: 16.3147 - mae: 16.3147\n",
      "Epoch 357/500\n",
      "2/2 [==============================] - 0s 4ms/step - loss: 11.8573 - mae: 11.8573\n",
      "Epoch 358/500\n",
      "2/2 [==============================] - 0s 3ms/step - loss: 14.9708 - mae: 14.9708\n",
      "Epoch 359/500\n",
      "2/2 [==============================] - 0s 3ms/step - loss: 12.2632 - mae: 12.2632\n",
      "Epoch 360/500\n",
      "2/2 [==============================] - 0s 3ms/step - loss: 20.2069 - mae: 20.2069\n",
      "Epoch 361/500\n",
      "2/2 [==============================] - 0s 3ms/step - loss: 11.1470 - mae: 11.1470\n",
      "Epoch 362/500\n",
      "2/2 [==============================] - 0s 4ms/step - loss: 6.8857 - mae: 6.8857\n",
      "Epoch 363/500\n",
      "2/2 [==============================] - 0s 3ms/step - loss: 24.1331 - mae: 24.1331\n",
      "Epoch 364/500\n",
      "2/2 [==============================] - 0s 3ms/step - loss: 29.9525 - mae: 29.9525\n",
      "Epoch 365/500\n",
      "2/2 [==============================] - 0s 2ms/step - loss: 8.4588 - mae: 8.4588\n",
      "Epoch 366/500\n",
      "2/2 [==============================] - 0s 3ms/step - loss: 6.1430 - mae: 6.1430\n",
      "Epoch 367/500\n",
      "2/2 [==============================] - 0s 5ms/step - loss: 35.0537 - mae: 35.0537\n",
      "Epoch 368/500\n",
      "2/2 [==============================] - 0s 3ms/step - loss: 7.4918 - mae: 7.4918\n",
      "Epoch 369/500\n",
      "2/2 [==============================] - 0s 4ms/step - loss: 9.3051 - mae: 9.3051\n",
      "Epoch 370/500\n",
      "2/2 [==============================] - 0s 2ms/step - loss: 11.0044 - mae: 11.0044\n",
      "Epoch 371/500\n",
      "2/2 [==============================] - 0s 2ms/step - loss: 9.0649 - mae: 9.0649\n",
      "Epoch 372/500\n",
      "2/2 [==============================] - 0s 4ms/step - loss: 6.9779 - mae: 6.9779\n",
      "Epoch 373/500\n",
      "2/2 [==============================] - 0s 2ms/step - loss: 25.9449 - mae: 25.9449\n",
      "Epoch 374/500\n",
      "2/2 [==============================] - 0s 2ms/step - loss: 10.9866 - mae: 10.9866\n",
      "Epoch 375/500\n",
      "2/2 [==============================] - 0s 3ms/step - loss: 10.7984 - mae: 10.7984\n",
      "Epoch 376/500\n",
      "2/2 [==============================] - 0s 3ms/step - loss: 13.5821 - mae: 13.5821\n",
      "Epoch 377/500\n",
      "2/2 [==============================] - 0s 4ms/step - loss: 15.2873 - mae: 15.2873\n",
      "Epoch 378/500\n",
      "2/2 [==============================] - 0s 3ms/step - loss: 16.4259 - mae: 16.4259\n",
      "Epoch 379/500\n",
      "2/2 [==============================] - 0s 3ms/step - loss: 12.8733 - mae: 12.8733\n",
      "Epoch 380/500\n",
      "2/2 [==============================] - 0s 3ms/step - loss: 27.1292 - mae: 27.1292\n",
      "Epoch 381/500\n",
      "2/2 [==============================] - 0s 3ms/step - loss: 8.9906 - mae: 8.9906\n",
      "Epoch 382/500\n",
      "2/2 [==============================] - 0s 4ms/step - loss: 9.7874 - mae: 9.7874\n",
      "Epoch 383/500\n",
      "2/2 [==============================] - 0s 3ms/step - loss: 5.8855 - mae: 5.8855\n",
      "Epoch 384/500\n",
      "2/2 [==============================] - 0s 2ms/step - loss: 8.6008 - mae: 8.6008\n",
      "Epoch 385/500\n",
      "2/2 [==============================] - 0s 3ms/step - loss: 4.2386 - mae: 4.2386\n",
      "Epoch 386/500\n",
      "2/2 [==============================] - 0s 8ms/step - loss: 13.7556 - mae: 13.7556\n",
      "Epoch 387/500\n",
      "2/2 [==============================] - 0s 5ms/step - loss: 17.1911 - mae: 17.1911\n",
      "Epoch 388/500\n",
      "2/2 [==============================] - 0s 5ms/step - loss: 16.9372 - mae: 16.9372\n",
      "Epoch 389/500\n",
      "2/2 [==============================] - 0s 5ms/step - loss: 13.2633 - mae: 13.2633\n",
      "Epoch 390/500\n",
      "2/2 [==============================] - 0s 2ms/step - loss: 18.0447 - mae: 18.0447\n",
      "Epoch 391/500\n",
      "2/2 [==============================] - 0s 3ms/step - loss: 14.0568 - mae: 14.0568\n",
      "Epoch 392/500\n",
      "2/2 [==============================] - 0s 3ms/step - loss: 16.9190 - mae: 16.9190\n",
      "Epoch 393/500\n",
      "2/2 [==============================] - 0s 5ms/step - loss: 9.9797 - mae: 9.9797\n",
      "Epoch 394/500\n",
      "2/2 [==============================] - 0s 3ms/step - loss: 14.1179 - mae: 14.1179\n",
      "Epoch 395/500\n",
      "2/2 [==============================] - 0s 3ms/step - loss: 28.5162 - mae: 28.5162\n",
      "Epoch 396/500\n",
      "2/2 [==============================] - 0s 4ms/step - loss: 8.4363 - mae: 8.4363\n",
      "Epoch 397/500\n",
      "2/2 [==============================] - 0s 2ms/step - loss: 11.1774 - mae: 11.1774\n",
      "Epoch 398/500\n",
      "2/2 [==============================] - 0s 3ms/step - loss: 6.8571 - mae: 6.8571\n",
      "Epoch 399/500\n",
      "2/2 [==============================] - 0s 4ms/step - loss: 14.0174 - mae: 14.0174\n",
      "Epoch 400/500\n",
      "2/2 [==============================] - 0s 3ms/step - loss: 6.6481 - mae: 6.6481\n",
      "Epoch 401/500\n",
      "2/2 [==============================] - 0s 3ms/step - loss: 7.9266 - mae: 7.9266\n",
      "Epoch 402/500\n",
      "2/2 [==============================] - 0s 3ms/step - loss: 16.2889 - mae: 16.2889\n",
      "Epoch 403/500\n",
      "2/2 [==============================] - 0s 2ms/step - loss: 12.3762 - mae: 12.3762\n",
      "Epoch 404/500\n",
      "2/2 [==============================] - 0s 5ms/step - loss: 22.9913 - mae: 22.9913\n",
      "Epoch 405/500\n",
      "2/2 [==============================] - 0s 3ms/step - loss: 17.9705 - mae: 17.9705\n",
      "Epoch 406/500\n",
      "2/2 [==============================] - 0s 5ms/step - loss: 6.9917 - mae: 6.9917\n",
      "Epoch 407/500\n",
      "2/2 [==============================] - 0s 2ms/step - loss: 12.5469 - mae: 12.5469\n",
      "Epoch 408/500\n",
      "2/2 [==============================] - 0s 3ms/step - loss: 5.6379 - mae: 5.6379\n",
      "Epoch 409/500\n",
      "2/2 [==============================] - 0s 3ms/step - loss: 31.0539 - mae: 31.0539\n",
      "Epoch 410/500\n",
      "2/2 [==============================] - 0s 3ms/step - loss: 9.2805 - mae: 9.2805\n",
      "Epoch 411/500\n",
      "2/2 [==============================] - 0s 3ms/step - loss: 14.8936 - mae: 14.8936\n",
      "Epoch 412/500\n",
      "2/2 [==============================] - 0s 3ms/step - loss: 21.7928 - mae: 21.7928\n",
      "Epoch 413/500\n",
      "2/2 [==============================] - 0s 4ms/step - loss: 12.5101 - mae: 12.5101\n",
      "Epoch 414/500\n",
      "2/2 [==============================] - 0s 2ms/step - loss: 6.0667 - mae: 6.0667\n",
      "Epoch 415/500\n",
      "2/2 [==============================] - 0s 2ms/step - loss: 13.2462 - mae: 13.2462\n",
      "Epoch 416/500\n",
      "2/2 [==============================] - 0s 3ms/step - loss: 27.4775 - mae: 27.4775\n",
      "Epoch 417/500\n",
      "2/2 [==============================] - 0s 3ms/step - loss: 10.5090 - mae: 10.5090\n",
      "Epoch 418/500\n",
      "2/2 [==============================] - 0s 4ms/step - loss: 12.8574 - mae: 12.8574\n",
      "Epoch 419/500\n",
      "2/2 [==============================] - 0s 2ms/step - loss: 15.8942 - mae: 15.8942\n",
      "Epoch 420/500\n",
      "2/2 [==============================] - 0s 2ms/step - loss: 24.7962 - mae: 24.7962\n",
      "Epoch 421/500\n",
      "2/2 [==============================] - 0s 4ms/step - loss: 17.2579 - mae: 17.2579\n",
      "Epoch 422/500\n",
      "2/2 [==============================] - 0s 3ms/step - loss: 7.7927 - mae: 7.7927\n",
      "Epoch 423/500\n",
      "2/2 [==============================] - 0s 2ms/step - loss: 25.4105 - mae: 25.4105\n",
      "Epoch 424/500\n",
      "2/2 [==============================] - 0s 3ms/step - loss: 15.0331 - mae: 15.0331\n",
      "Epoch 425/500\n",
      "2/2 [==============================] - 0s 3ms/step - loss: 7.0963 - mae: 7.0963\n",
      "Epoch 426/500\n",
      "2/2 [==============================] - 0s 4ms/step - loss: 20.2559 - mae: 20.2559\n",
      "Epoch 427/500\n",
      "2/2 [==============================] - 0s 3ms/step - loss: 6.2674 - mae: 6.2674\n",
      "Epoch 428/500\n",
      "2/2 [==============================] - 0s 2ms/step - loss: 12.9626 - mae: 12.9626\n",
      "Epoch 429/500\n",
      "2/2 [==============================] - 0s 3ms/step - loss: 10.7566 - mae: 10.7566\n",
      "Epoch 430/500\n",
      "2/2 [==============================] - 0s 3ms/step - loss: 11.3682 - mae: 11.3682\n",
      "Epoch 431/500\n",
      "2/2 [==============================] - 0s 3ms/step - loss: 10.5825 - mae: 10.5825\n",
      "Epoch 432/500\n",
      "2/2 [==============================] - 0s 3ms/step - loss: 11.4206 - mae: 11.4206\n",
      "Epoch 433/500\n",
      "2/2 [==============================] - 0s 3ms/step - loss: 11.3608 - mae: 11.3608\n",
      "Epoch 434/500\n",
      "2/2 [==============================] - 0s 5ms/step - loss: 30.3994 - mae: 30.3994\n",
      "Epoch 435/500\n",
      "2/2 [==============================] - 0s 5ms/step - loss: 10.4729 - mae: 10.4729\n",
      "Epoch 436/500\n",
      "2/2 [==============================] - 0s 4ms/step - loss: 28.8758 - mae: 28.8758\n",
      "Epoch 437/500\n",
      "2/2 [==============================] - 0s 2ms/step - loss: 8.5529 - mae: 8.5529\n",
      "Epoch 438/500\n",
      "2/2 [==============================] - 0s 4ms/step - loss: 12.7172 - mae: 12.7172\n",
      "Epoch 439/500\n",
      "2/2 [==============================] - 0s 3ms/step - loss: 33.6709 - mae: 33.6709\n",
      "Epoch 440/500\n",
      "2/2 [==============================] - 0s 3ms/step - loss: 15.0621 - mae: 15.0621\n",
      "Epoch 441/500\n",
      "2/2 [==============================] - 0s 4ms/step - loss: 17.4526 - mae: 17.4526\n",
      "Epoch 442/500\n",
      "2/2 [==============================] - 0s 2ms/step - loss: 22.2661 - mae: 22.2661\n",
      "Epoch 443/500\n",
      "2/2 [==============================] - 0s 3ms/step - loss: 23.6733 - mae: 23.6733\n",
      "Epoch 444/500\n",
      "2/2 [==============================] - 0s 3ms/step - loss: 11.0591 - mae: 11.0591\n",
      "Epoch 445/500\n",
      "2/2 [==============================] - 0s 3ms/step - loss: 14.8807 - mae: 14.8807\n",
      "Epoch 446/500\n",
      "2/2 [==============================] - 0s 5ms/step - loss: 17.9457 - mae: 17.9457\n",
      "Epoch 447/500\n",
      "2/2 [==============================] - 0s 4ms/step - loss: 5.4506 - mae: 5.4506\n",
      "Epoch 448/500\n",
      "2/2 [==============================] - 0s 7ms/step - loss: 9.6482 - mae: 9.6482\n",
      "Epoch 449/500\n",
      "2/2 [==============================] - 0s 3ms/step - loss: 14.2889 - mae: 14.2889\n",
      "Epoch 450/500\n",
      "2/2 [==============================] - 0s 3ms/step - loss: 17.0455 - mae: 17.0455\n",
      "Epoch 451/500\n",
      "2/2 [==============================] - 0s 4ms/step - loss: 14.3928 - mae: 14.3928\n",
      "Epoch 452/500\n",
      "2/2 [==============================] - 0s 4ms/step - loss: 30.8642 - mae: 30.8642\n",
      "Epoch 453/500\n",
      "2/2 [==============================] - 0s 3ms/step - loss: 9.1111 - mae: 9.1111\n",
      "Epoch 454/500\n",
      "2/2 [==============================] - 0s 3ms/step - loss: 27.2220 - mae: 27.2220\n",
      "Epoch 455/500\n",
      "2/2 [==============================] - 0s 3ms/step - loss: 11.3213 - mae: 11.3213\n",
      "Epoch 456/500\n",
      "2/2 [==============================] - 0s 2ms/step - loss: 15.6566 - mae: 15.6566\n",
      "Epoch 457/500\n",
      "2/2 [==============================] - 0s 3ms/step - loss: 19.3253 - mae: 19.3253\n",
      "Epoch 458/500\n",
      "2/2 [==============================] - 0s 3ms/step - loss: 22.9276 - mae: 22.9276\n",
      "Epoch 459/500\n",
      "2/2 [==============================] - 0s 2ms/step - loss: 16.2767 - mae: 16.2767\n",
      "Epoch 460/500\n",
      "2/2 [==============================] - 0s 5ms/step - loss: 4.0494 - mae: 4.0494\n",
      "Epoch 461/500\n",
      "2/2 [==============================] - 0s 3ms/step - loss: 16.1128 - mae: 16.1128\n",
      "Epoch 462/500\n",
      "2/2 [==============================] - 0s 3ms/step - loss: 15.5390 - mae: 15.5390\n",
      "Epoch 463/500\n",
      "2/2 [==============================] - 0s 3ms/step - loss: 17.3132 - mae: 17.3132\n",
      "Epoch 464/500\n",
      "2/2 [==============================] - 0s 2ms/step - loss: 11.5449 - mae: 11.5449\n",
      "Epoch 465/500\n",
      "2/2 [==============================] - 0s 5ms/step - loss: 22.2018 - mae: 22.2018\n",
      "Epoch 466/500\n",
      "2/2 [==============================] - 0s 3ms/step - loss: 23.4955 - mae: 23.4955\n",
      "Epoch 467/500\n",
      "2/2 [==============================] - 0s 4ms/step - loss: 13.5817 - mae: 13.5817\n",
      "Epoch 468/500\n",
      "2/2 [==============================] - 0s 3ms/step - loss: 10.9747 - mae: 10.9747\n",
      "Epoch 469/500\n",
      "2/2 [==============================] - 0s 2ms/step - loss: 27.4790 - mae: 27.4790\n",
      "Epoch 470/500\n",
      "2/2 [==============================] - 0s 4ms/step - loss: 12.2032 - mae: 12.2032\n",
      "Epoch 471/500\n",
      "2/2 [==============================] - 0s 2ms/step - loss: 11.7482 - mae: 11.7482\n",
      "Epoch 472/500\n",
      "2/2 [==============================] - 0s 3ms/step - loss: 15.5983 - mae: 15.5983\n",
      "Epoch 473/500\n",
      "2/2 [==============================] - 0s 3ms/step - loss: 15.6687 - mae: 15.6687\n",
      "Epoch 474/500\n",
      "2/2 [==============================] - 0s 2ms/step - loss: 19.8866 - mae: 19.8866\n",
      "Epoch 475/500\n",
      "2/2 [==============================] - 0s 4ms/step - loss: 5.6135 - mae: 5.6135\n",
      "Epoch 476/500\n",
      "2/2 [==============================] - 0s 3ms/step - loss: 13.0664 - mae: 13.0664\n",
      "Epoch 477/500\n",
      "2/2 [==============================] - 0s 3ms/step - loss: 29.0091 - mae: 29.0091\n",
      "Epoch 478/500\n",
      "2/2 [==============================] - 0s 3ms/step - loss: 6.1284 - mae: 6.1284\n",
      "Epoch 479/500\n",
      "2/2 [==============================] - 0s 2ms/step - loss: 4.2383 - mae: 4.2383\n",
      "Epoch 480/500\n",
      "2/2 [==============================] - 0s 5ms/step - loss: 21.4505 - mae: 21.4505\n",
      "Epoch 481/500\n",
      "2/2 [==============================] - 0s 2ms/step - loss: 21.9822 - mae: 21.9822\n",
      "Epoch 482/500\n",
      "2/2 [==============================] - 0s 2ms/step - loss: 11.1139 - mae: 11.1139\n",
      "Epoch 483/500\n",
      "2/2 [==============================] - 0s 3ms/step - loss: 6.2647 - mae: 6.2647\n",
      "Epoch 484/500\n",
      "2/2 [==============================] - 0s 3ms/step - loss: 29.4821 - mae: 29.4821\n",
      "Epoch 485/500\n",
      "2/2 [==============================] - 0s 4ms/step - loss: 5.2970 - mae: 5.2970\n",
      "Epoch 486/500\n",
      "2/2 [==============================] - 0s 3ms/step - loss: 17.4212 - mae: 17.4212\n",
      "Epoch 487/500\n",
      "2/2 [==============================] - 0s 3ms/step - loss: 14.2053 - mae: 14.2053\n",
      "Epoch 488/500\n",
      "2/2 [==============================] - 0s 3ms/step - loss: 30.9255 - mae: 30.9255\n",
      "Epoch 489/500\n",
      "2/2 [==============================] - 0s 3ms/step - loss: 12.3978 - mae: 12.3978\n",
      "Epoch 490/500\n",
      "2/2 [==============================] - 0s 5ms/step - loss: 12.9677 - mae: 12.9677\n",
      "Epoch 491/500\n",
      "2/2 [==============================] - 0s 3ms/step - loss: 24.0944 - mae: 24.0944\n",
      "Epoch 492/500\n",
      "2/2 [==============================] - 0s 3ms/step - loss: 19.3493 - mae: 19.3493\n",
      "Epoch 493/500\n",
      "2/2 [==============================] - 0s 3ms/step - loss: 4.7026 - mae: 4.7026\n",
      "Epoch 494/500\n",
      "2/2 [==============================] - 0s 3ms/step - loss: 11.7979 - mae: 11.7979\n",
      "Epoch 495/500\n",
      "2/2 [==============================] - 0s 5ms/step - loss: 13.7780 - mae: 13.7780\n",
      "Epoch 496/500\n",
      "2/2 [==============================] - 0s 4ms/step - loss: 12.9527 - mae: 12.9527\n",
      "Epoch 497/500\n",
      "2/2 [==============================] - 0s 15ms/step - loss: 18.1175 - mae: 18.1175\n",
      "Epoch 498/500\n",
      "2/2 [==============================] - 0s 5ms/step - loss: 22.4245 - mae: 22.4245\n",
      "Epoch 499/500\n",
      "2/2 [==============================] - 0s 4ms/step - loss: 8.2520 - mae: 8.2520\n",
      "Epoch 500/500\n",
      "2/2 [==============================] - 0s 4ms/step - loss: 14.1546 - mae: 14.1546\n"
     ]
    },
    {
     "data": {
      "text/plain": [
       "<keras.src.callbacks.History at 0x2136bdb28d0>"
      ]
     },
     "execution_count": 62,
     "metadata": {},
     "output_type": "execute_result"
    }
   ],
   "source": [
    "# 1. Create the model\n",
    "model_3 = tf.keras.Sequential([\n",
    "    tf.keras.layers.Dense(50),\n",
    "    tf.keras.layers.Dense(1)\n",
    "])\n",
    "\n",
    "# 2. Compile the model\n",
    "model_3.compile(loss=tf.keras.losses.mae,\n",
    "                optimizer=tf.keras.optimizers.SGD(),\n",
    "                metrics=[\"mae\"])\n",
    "\n",
    "# 3. Fit the model\n",
    "model_3.fit(tf.expand_dims(X_train, axis=-1), y_train, epochs=500)"
   ]
  },
  {
   "cell_type": "code",
   "execution_count": null,
   "metadata": {},
   "outputs": [
    {
     "name": "stdout",
     "output_type": "stream",
     "text": [
      "1/1 [==============================] - 0s 39ms/step\n"
     ]
    },
    {
     "data": {
      "image/png": "[encoded data removed]",
      "text/plain": [
       "<Figure size 1000x700 with 1 Axes>"
      ]
     },
     "metadata": {},
     "output_type": "display_data"
    }
   ],
   "source": [
    "y_preds_3 = model_3.predict(X_test)\n",
    "plot_predictions(predictions=y_preds_3)"
   ]
  },
  {
   "cell_type": "code",
   "execution_count": null,
   "metadata": {},
   "outputs": [
    {
     "data": {
      "text/plain": [
       "(<tf.Tensor: shape=(), dtype=float32, numpy=67.15615>,\n",
       " <tf.Tensor: shape=(), dtype=float32, numpy=4592.518>)"
      ]
     },
     "execution_count": 66,
     "metadata": {},
     "output_type": "execute_result"
    }
   ],
   "source": [
    "# Calculate model_3 evaluation metrics\n",
    "mae_3 = mae(y_test, y_preds_3)\n",
    "mse_3 = mse(y_test, y_preds_3)\n",
    "mae_3, mse_3"
   ]
  },
  {
   "cell_type": "markdown",
   "metadata": {},
   "source": [
    "### Comparing the results of our experiments\n",
    "\n",
    "We've run a few experiments, let's compare the results."
   ]
  },
  {
   "cell_type": "code",
   "execution_count": null,
   "metadata": {},
   "outputs": [
    {
     "data": {
      "text/html": [
       "<div>\n",
       "<style scoped>\n",
       "    .dataframe tbody tr th:only-of-type {\n",
       "        vertical-align: middle;\n",
       "    }\n",
       "\n",
       "    .dataframe tbody tr th {\n",
       "        vertical-align: top;\n",
       "    }\n",
       "\n",
       "    .dataframe thead th {\n",
       "        text-align: right;\n",
       "    }\n",
       "</style>\n",
       "<table border=\"1\" class=\"dataframe\">\n",
       "  <thead>\n",
       "    <tr style=\"text-align: right;\">\n",
       "      <th></th>\n",
       "      <th>model</th>\n",
       "      <th>mae</th>\n",
       "      <th>mse</th>\n",
       "    </tr>\n",
       "  </thead>\n",
       "  <tbody>\n",
       "    <tr>\n",
       "      <th>0</th>\n",
       "      <td>model_1</td>\n",
       "      <td>30.646191</td>\n",
       "      <td>949.620300</td>\n",
       "    </tr>\n",
       "    <tr>\n",
       "      <th>1</th>\n",
       "      <td>model_2</td>\n",
       "      <td>12.757291</td>\n",
       "      <td>163.006638</td>\n",
       "    </tr>\n",
       "    <tr>\n",
       "      <th>2</th>\n",
       "      <td>model_3</td>\n",
       "      <td>67.156151</td>\n",
       "      <td>4592.518066</td>\n",
       "    </tr>\n",
       "  </tbody>\n",
       "</table>\n",
       "</div>"
      ],
      "text/plain": [
       "     model        mae          mse\n",
       "0  model_1  30.646191   949.620300\n",
       "1  model_2  12.757291   163.006638\n",
       "2  model_3  67.156151  4592.518066"
      ]
     },
     "execution_count": 68,
     "metadata": {},
     "output_type": "execute_result"
    }
   ],
   "source": [
    "# Let's compare our model's results using a pandas DataFrame\n",
    "import pandas as pd\n",
    "\n",
    "model_results = [[\"model_1\", mae_1.numpy(), mse_1.numpy()],\n",
    "                 [\"model_2\", mae_2.numpy(), mse_2.numpy()],\n",
    "                 [\"model_3\", mae_3.numpy(), mse_3.numpy()]]\n",
    "\n",
    "all_results = pd.DataFrame(model_results, columns=[\"model\", \"mae\", \"mse\"])\n",
    "all_results"
   ]
  },
  {
   "cell_type": "markdown",
   "metadata": {},
   "source": [
    "## Tracking your experiments\n",
    "\n",
    "One really good habit in machine learning modelling is to track the results of your experiments.\n",
    "\n",
    "And when doing so, it can be tedious if you're running lots of experiments.\n",
    "\n",
    "Luckily, there are tools to help us!\n",
    "\n",
    "**Resource:** As you build neural model, you'll want to look into using:\n",
    "* TensorBoard - a component of the TensorFlow library to help  track modeling experiments (we'll see this one later).\n",
    "* Weights & Biases - a tool for tracking all of kinds of machine learning experiments (plugs straight into TensorBoard)"
   ]
  },
  {
   "cell_type": "markdown",
   "metadata": {},
   "source": [
    "## Saving our models\n",
    "\n",
    "Saving our models allows us to use them outside of Google Colab (or wherever the were trained) such as in a web application or a mobile app.\n",
    "\n",
    "There are two formats we can save our model's too:\n",
    "1. The SavedModel format.\n",
    "2. The HDF5 format."
   ]
  },
  {
   "cell_type": "code",
   "execution_count": null,
   "metadata": {},
   "outputs": [
    {
     "name": "stdout",
     "output_type": "stream",
     "text": [
      "INFO:tensorflow:Assets written to: best_model_SavedModel_format\\assets\n"
     ]
    },
    {
     "name": "stderr",
     "output_type": "stream",
     "text": [
      "INFO:tensorflow:Assets written to: best_model_SavedModel_format\\assets\n"
     ]
    }
   ],
   "source": [
    "# Save model using the SavedModel format\n",
    "model_2.save(\"best_model_SavedModel_format\")"
   ]
  },
  {
   "cell_type": "code",
   "execution_count": null,
   "metadata": {},
   "outputs": [
    {
     "name": "stderr",
     "output_type": "stream",
     "text": [
      "c:\\Users\\MohammadJavad\\OneDrive\\Desktop\\mjaliz\\tfztm\\venv\\Lib\\site-packages\\keras\\src\\engine\\training.py:3000: UserWarning: You are saving your model as an HDF5 file via `model.save()`. This file format is considered legacy. We recommend using instead the native Keras format, e.g. `model.save('my_model.keras')`.\n",
      "  saving_api.save_model(\n"
     ]
    }
   ],
   "source": [
    "# Save model using the HDF5 format\n",
    "model_2.save(\"best_model_HDF5_format.h5\")"
   ]
  },
  {
   "cell_type": "code",
   "execution_count": null,
   "metadata": {},
   "outputs": [],
   "source": [
    "# Save model using the keras format\n",
    "model_2.save(\"best_model_HDF5_format.keras\")"
   ]
  },
  {
   "cell_type": "markdown",
   "metadata": {},
   "source": [
    "## Loading a saved model"
   ]
  },
  {
   "cell_type": "code",
   "execution_count": null,
   "metadata": {},
   "outputs": [
    {
     "name": "stdout",
     "output_type": "stream",
     "text": [
      "Model: \"sequential_10\"\n",
      "_________________________________________________________________\n",
      " Layer (type)                Output Shape              Param #   \n",
      "=================================================================\n",
      " dense_16 (Dense)            (None, 50)                100       \n",
      "                                                                 \n",
      " dense_17 (Dense)            (None, 1)                 51        \n",
      "                                                                 \n",
      "=================================================================\n",
      "Total params: 151 (604.00 Byte)\n",
      "Trainable params: 151 (604.00 Byte)\n",
      "Non-trainable params: 0 (0.00 Byte)\n",
      "_________________________________________________________________\n"
     ]
    }
   ],
   "source": [
    "# Load in the SavedModel format model\n",
    "loaded_SavedModel_format = tf.keras.models.load_model(\"best_model_SavedModel_format\")\n",
    "loaded_SavedModel_format.summary()"
   ]
  },
  {
   "cell_type": "code",
   "execution_count": null,
   "metadata": {},
   "outputs": [
    {
     "name": "stdout",
     "output_type": "stream",
     "text": [
      "1/1 [==============================] - 0s 16ms/step\n",
      "1/1 [==============================] - 0s 38ms/step\n"
     ]
    },
    {
     "data": {
      "text/plain": [
       "array([[ True],\n",
       "       [ True],\n",
       "       [ True],\n",
       "       [ True],\n",
       "       [ True],\n",
       "       [ True],\n",
       "       [ True],\n",
       "       [ True],\n",
       "       [ True],\n",
       "       [ True]])"
      ]
     },
     "execution_count": 74,
     "metadata": {},
     "output_type": "execute_result"
    }
   ],
   "source": [
    "# Compare model_2 predictions with SavedModel format model predictions\n",
    "model_2_preds = model_2.predict(X_test)\n",
    "loaded_SavedModel_format_preds = loaded_SavedModel_format.predict(X_test)\n",
    "model_2_preds == loaded_SavedModel_format_preds"
   ]
  },
  {
   "cell_type": "code",
   "execution_count": null,
   "metadata": {},
   "outputs": [
    {
     "name": "stdout",
     "output_type": "stream",
     "text": [
      "Model: \"sequential_10\"\n",
      "_________________________________________________________________\n",
      " Layer (type)                Output Shape              Param #   \n",
      "=================================================================\n",
      " dense_16 (Dense)            (None, 50)                100       \n",
      "                                                                 \n",
      " dense_17 (Dense)            (None, 1)                 51        \n",
      "                                                                 \n",
      "=================================================================\n",
      "Total params: 151 (604.00 Byte)\n",
      "Trainable params: 151 (604.00 Byte)\n",
      "Non-trainable params: 0 (0.00 Byte)\n",
      "_________________________________________________________________\n"
     ]
    }
   ],
   "source": [
    "# Load in model using the .h5 format\n",
    "loaded_h5_model = tf.keras.models.load_model(\"best_model_HDF5_format.h5\")\n",
    "loaded_h5_model.summary()"
   ]
  },
  {
   "cell_type": "code",
   "execution_count": null,
   "metadata": {},
   "outputs": [
    {
     "name": "stdout",
     "output_type": "stream",
     "text": [
      "1/1 [==============================] - 0s 22ms/step\n",
      "1/1 [==============================] - 0s 55ms/step\n"
     ]
    },
    {
     "data": {
      "text/plain": [
       "array([[ True],\n",
       "       [ True],\n",
       "       [ True],\n",
       "       [ True],\n",
       "       [ True],\n",
       "       [ True],\n",
       "       [ True],\n",
       "       [ True],\n",
       "       [ True],\n",
       "       [ True]])"
      ]
     },
     "execution_count": 76,
     "metadata": {},
     "output_type": "execute_result"
    }
   ],
   "source": [
    "# Check to see if loaded .h5 model predictions match model_2\n",
    "model_2_preds = model_2.predict(X_test)\n",
    "loaded_h5_model_preds = loaded_h5_model.predict(X_test)\n",
    "model_2_preds == loaded_h5_model_preds"
   ]
  },
  {
   "cell_type": "markdown",
   "metadata": {},
   "source": [
    "## A larger example"
   ]
  },
  {
   "cell_type": "code",
   "execution_count": 29,
   "metadata": {},
   "outputs": [],
   "source": [
    "#  Import required libraries\n",
    "import tensorflow as tf\n",
    "import pandas as pd\n",
    "import matplotlib.pyplot as plt"
   ]
  },
  {
   "cell_type": "code",
   "execution_count": 30,
   "metadata": {},
   "outputs": [
    {
     "data": {
      "text/html": [
       "<div>\n",
       "<style scoped>\n",
       "    .dataframe tbody tr th:only-of-type {\n",
       "        vertical-align: middle;\n",
       "    }\n",
       "\n",
       "    .dataframe tbody tr th {\n",
       "        vertical-align: top;\n",
       "    }\n",
       "\n",
       "    .dataframe thead th {\n",
       "        text-align: right;\n",
       "    }\n",
       "</style>\n",
       "<table border=\"1\" class=\"dataframe\">\n",
       "  <thead>\n",
       "    <tr style=\"text-align: right;\">\n",
       "      <th></th>\n",
       "      <th>age</th>\n",
       "      <th>sex</th>\n",
       "      <th>bmi</th>\n",
       "      <th>children</th>\n",
       "      <th>smoker</th>\n",
       "      <th>region</th>\n",
       "      <th>charges</th>\n",
       "    </tr>\n",
       "  </thead>\n",
       "  <tbody>\n",
       "    <tr>\n",
       "      <th>0</th>\n",
       "      <td>19</td>\n",
       "      <td>female</td>\n",
       "      <td>27.900</td>\n",
       "      <td>0</td>\n",
       "      <td>yes</td>\n",
       "      <td>southwest</td>\n",
       "      <td>16884.92400</td>\n",
       "    </tr>\n",
       "    <tr>\n",
       "      <th>1</th>\n",
       "      <td>18</td>\n",
       "      <td>male</td>\n",
       "      <td>33.770</td>\n",
       "      <td>1</td>\n",
       "      <td>no</td>\n",
       "      <td>southeast</td>\n",
       "      <td>1725.55230</td>\n",
       "    </tr>\n",
       "    <tr>\n",
       "      <th>2</th>\n",
       "      <td>28</td>\n",
       "      <td>male</td>\n",
       "      <td>33.000</td>\n",
       "      <td>3</td>\n",
       "      <td>no</td>\n",
       "      <td>southeast</td>\n",
       "      <td>4449.46200</td>\n",
       "    </tr>\n",
       "    <tr>\n",
       "      <th>3</th>\n",
       "      <td>33</td>\n",
       "      <td>male</td>\n",
       "      <td>22.705</td>\n",
       "      <td>0</td>\n",
       "      <td>no</td>\n",
       "      <td>northwest</td>\n",
       "      <td>21984.47061</td>\n",
       "    </tr>\n",
       "    <tr>\n",
       "      <th>4</th>\n",
       "      <td>32</td>\n",
       "      <td>male</td>\n",
       "      <td>28.880</td>\n",
       "      <td>0</td>\n",
       "      <td>no</td>\n",
       "      <td>northwest</td>\n",
       "      <td>3866.85520</td>\n",
       "    </tr>\n",
       "    <tr>\n",
       "      <th>...</th>\n",
       "      <td>...</td>\n",
       "      <td>...</td>\n",
       "      <td>...</td>\n",
       "      <td>...</td>\n",
       "      <td>...</td>\n",
       "      <td>...</td>\n",
       "      <td>...</td>\n",
       "    </tr>\n",
       "    <tr>\n",
       "      <th>1333</th>\n",
       "      <td>50</td>\n",
       "      <td>male</td>\n",
       "      <td>30.970</td>\n",
       "      <td>3</td>\n",
       "      <td>no</td>\n",
       "      <td>northwest</td>\n",
       "      <td>10600.54830</td>\n",
       "    </tr>\n",
       "    <tr>\n",
       "      <th>1334</th>\n",
       "      <td>18</td>\n",
       "      <td>female</td>\n",
       "      <td>31.920</td>\n",
       "      <td>0</td>\n",
       "      <td>no</td>\n",
       "      <td>northeast</td>\n",
       "      <td>2205.98080</td>\n",
       "    </tr>\n",
       "    <tr>\n",
       "      <th>1335</th>\n",
       "      <td>18</td>\n",
       "      <td>female</td>\n",
       "      <td>36.850</td>\n",
       "      <td>0</td>\n",
       "      <td>no</td>\n",
       "      <td>southeast</td>\n",
       "      <td>1629.83350</td>\n",
       "    </tr>\n",
       "    <tr>\n",
       "      <th>1336</th>\n",
       "      <td>21</td>\n",
       "      <td>female</td>\n",
       "      <td>25.800</td>\n",
       "      <td>0</td>\n",
       "      <td>no</td>\n",
       "      <td>southwest</td>\n",
       "      <td>2007.94500</td>\n",
       "    </tr>\n",
       "    <tr>\n",
       "      <th>1337</th>\n",
       "      <td>61</td>\n",
       "      <td>female</td>\n",
       "      <td>29.070</td>\n",
       "      <td>0</td>\n",
       "      <td>yes</td>\n",
       "      <td>northwest</td>\n",
       "      <td>29141.36030</td>\n",
       "    </tr>\n",
       "  </tbody>\n",
       "</table>\n",
       "<p>1338 rows × 7 columns</p>\n",
       "</div>"
      ],
      "text/plain": [
       "      age     sex     bmi  children smoker     region      charges\n",
       "0      19  female  27.900         0    yes  southwest  16884.92400\n",
       "1      18    male  33.770         1     no  southeast   1725.55230\n",
       "2      28    male  33.000         3     no  southeast   4449.46200\n",
       "3      33    male  22.705         0     no  northwest  21984.47061\n",
       "4      32    male  28.880         0     no  northwest   3866.85520\n",
       "...   ...     ...     ...       ...    ...        ...          ...\n",
       "1333   50    male  30.970         3     no  northwest  10600.54830\n",
       "1334   18  female  31.920         0     no  northeast   2205.98080\n",
       "1335   18  female  36.850         0     no  southeast   1629.83350\n",
       "1336   21  female  25.800         0     no  southwest   2007.94500\n",
       "1337   61  female  29.070         0    yes  northwest  29141.36030\n",
       "\n",
       "[1338 rows x 7 columns]"
      ]
     },
     "execution_count": 30,
     "metadata": {},
     "output_type": "execute_result"
    }
   ],
   "source": [
    "# Read in the insurance dataset\n",
    "insurance = pd.read_csv(\"https://raw.githubusercontent.com/stedy/Machine-Learning-with-R-datasets/master/insurance.csv\")\n",
    "insurance"
   ]
  },
  {
   "cell_type": "code",
   "execution_count": 48,
   "metadata": {},
   "outputs": [
    {
     "data": {
      "text/html": [
       "<div>\n",
       "<style scoped>\n",
       "    .dataframe tbody tr th:only-of-type {\n",
       "        vertical-align: middle;\n",
       "    }\n",
       "\n",
       "    .dataframe tbody tr th {\n",
       "        vertical-align: top;\n",
       "    }\n",
       "\n",
       "    .dataframe thead th {\n",
       "        text-align: right;\n",
       "    }\n",
       "</style>\n",
       "<table border=\"1\" class=\"dataframe\">\n",
       "  <thead>\n",
       "    <tr style=\"text-align: right;\">\n",
       "      <th></th>\n",
       "      <th>age</th>\n",
       "      <th>bmi</th>\n",
       "      <th>children</th>\n",
       "      <th>charges</th>\n",
       "      <th>sex_male</th>\n",
       "      <th>smoker_yes</th>\n",
       "      <th>region_northwest</th>\n",
       "      <th>region_southeast</th>\n",
       "      <th>region_southwest</th>\n",
       "    </tr>\n",
       "  </thead>\n",
       "  <tbody>\n",
       "    <tr>\n",
       "      <th>0</th>\n",
       "      <td>19</td>\n",
       "      <td>27.900</td>\n",
       "      <td>0</td>\n",
       "      <td>16884.92400</td>\n",
       "      <td>0.0</td>\n",
       "      <td>1.0</td>\n",
       "      <td>0.0</td>\n",
       "      <td>0.0</td>\n",
       "      <td>1.0</td>\n",
       "    </tr>\n",
       "    <tr>\n",
       "      <th>1</th>\n",
       "      <td>18</td>\n",
       "      <td>33.770</td>\n",
       "      <td>1</td>\n",
       "      <td>1725.55230</td>\n",
       "      <td>1.0</td>\n",
       "      <td>0.0</td>\n",
       "      <td>0.0</td>\n",
       "      <td>1.0</td>\n",
       "      <td>0.0</td>\n",
       "    </tr>\n",
       "    <tr>\n",
       "      <th>2</th>\n",
       "      <td>28</td>\n",
       "      <td>33.000</td>\n",
       "      <td>3</td>\n",
       "      <td>4449.46200</td>\n",
       "      <td>1.0</td>\n",
       "      <td>0.0</td>\n",
       "      <td>0.0</td>\n",
       "      <td>1.0</td>\n",
       "      <td>0.0</td>\n",
       "    </tr>\n",
       "    <tr>\n",
       "      <th>3</th>\n",
       "      <td>33</td>\n",
       "      <td>22.705</td>\n",
       "      <td>0</td>\n",
       "      <td>21984.47061</td>\n",
       "      <td>1.0</td>\n",
       "      <td>0.0</td>\n",
       "      <td>1.0</td>\n",
       "      <td>0.0</td>\n",
       "      <td>0.0</td>\n",
       "    </tr>\n",
       "    <tr>\n",
       "      <th>4</th>\n",
       "      <td>32</td>\n",
       "      <td>28.880</td>\n",
       "      <td>0</td>\n",
       "      <td>3866.85520</td>\n",
       "      <td>1.0</td>\n",
       "      <td>0.0</td>\n",
       "      <td>1.0</td>\n",
       "      <td>0.0</td>\n",
       "      <td>0.0</td>\n",
       "    </tr>\n",
       "  </tbody>\n",
       "</table>\n",
       "</div>"
      ],
      "text/plain": [
       "   age     bmi  children      charges  sex_male  smoker_yes  region_northwest  \\\n",
       "0   19  27.900         0  16884.92400       0.0         1.0               0.0   \n",
       "1   18  33.770         1   1725.55230       1.0         0.0               0.0   \n",
       "2   28  33.000         3   4449.46200       1.0         0.0               0.0   \n",
       "3   33  22.705         0  21984.47061       1.0         0.0               1.0   \n",
       "4   32  28.880         0   3866.85520       1.0         0.0               1.0   \n",
       "\n",
       "   region_southeast  region_southwest  \n",
       "0               0.0               1.0  \n",
       "1               1.0               0.0  \n",
       "2               1.0               0.0  \n",
       "3               0.0               0.0  \n",
       "4               0.0               0.0  "
      ]
     },
     "execution_count": 48,
     "metadata": {},
     "output_type": "execute_result"
    }
   ],
   "source": [
    "# Let's try one-hot encode our DataFrame so it's all numbers\n",
    "insurance_one_hot = pd.get_dummies(insurance , drop_first=True, dtype=float)\n",
    "insurance_one_hot.head()"
   ]
  },
  {
   "cell_type": "code",
   "execution_count": 49,
   "metadata": {},
   "outputs": [],
   "source": [
    "# Create X & y values (features and labels)\n",
    "X = insurance_one_hot.drop(\"charges\", axis=1)\n",
    "y = insurance_one_hot[\"charges\"]\n",
    "\n",
    "X_values = X.values\n",
    "y_values = y.values"
   ]
  },
  {
   "cell_type": "code",
   "execution_count": 33,
   "metadata": {},
   "outputs": [],
   "source": [
    "# X.head()"
   ]
  },
  {
   "cell_type": "code",
   "execution_count": 34,
   "metadata": {},
   "outputs": [],
   "source": [
    "# y.head()"
   ]
  },
  {
   "cell_type": "code",
   "execution_count": 50,
   "metadata": {},
   "outputs": [
    {
     "data": {
      "text/plain": [
       "(1338, 1070, 268)"
      ]
     },
     "execution_count": 50,
     "metadata": {},
     "output_type": "execute_result"
    }
   ],
   "source": [
    "# Create training and test sets\n",
    "from sklearn.model_selection import train_test_split\n",
    "\n",
    "X_train, X_test, y_train, y_test = train_test_split(X_values, y_values, test_size=0.2, random_state=42)\n",
    "len(X), len(X_train), len(X_test)"
   ]
  },
  {
   "cell_type": "code",
   "execution_count": 36,
   "metadata": {},
   "outputs": [
    {
     "data": {
      "text/plain": [
       "(1070, 8)"
      ]
     },
     "execution_count": 36,
     "metadata": {},
     "output_type": "execute_result"
    }
   ],
   "source": [
    "X_train.shape"
   ]
  },
  {
   "cell_type": "code",
   "execution_count": 37,
   "metadata": {},
   "outputs": [
    {
     "name": "stdout",
     "output_type": "stream",
     "text": [
      "Epoch 1/100\n",
      "34/34 [==============================] - 0s 938us/step - loss: 8546.6787 - mae: 8546.6787\n",
      "Epoch 2/100\n",
      "34/34 [==============================] - 0s 818us/step - loss: 7896.0215 - mae: 7896.0215\n",
      "Epoch 3/100\n",
      "34/34 [==============================] - 0s 848us/step - loss: 7591.8115 - mae: 7591.8115\n",
      "Epoch 4/100\n",
      "34/34 [==============================] - 0s 758us/step - loss: 7551.3521 - mae: 7551.3521\n",
      "Epoch 5/100\n",
      "34/34 [==============================] - 0s 818us/step - loss: 7728.0371 - mae: 7728.0371\n",
      "Epoch 6/100\n",
      "34/34 [==============================] - 0s 848us/step - loss: 7594.9023 - mae: 7594.9023\n",
      "Epoch 7/100\n",
      "34/34 [==============================] - 0s 879us/step - loss: 7592.2593 - mae: 7592.2593\n",
      "Epoch 8/100\n",
      "34/34 [==============================] - 0s 1ms/step - loss: 7837.0449 - mae: 7837.0449\n",
      "Epoch 9/100\n",
      "34/34 [==============================] - 0s 1ms/step - loss: 7573.7920 - mae: 7573.7920\n",
      "Epoch 10/100\n",
      "34/34 [==============================] - 0s 879us/step - loss: 7772.4106 - mae: 7772.4106\n",
      "Epoch 11/100\n",
      "34/34 [==============================] - 0s 822us/step - loss: 7688.6816 - mae: 7688.6816\n",
      "Epoch 12/100\n",
      "34/34 [==============================] - 0s 848us/step - loss: 7713.4639 - mae: 7713.4639\n",
      "Epoch 13/100\n",
      "34/34 [==============================] - 0s 909us/step - loss: 7654.5923 - mae: 7654.5923\n",
      "Epoch 14/100\n",
      "34/34 [==============================] - 0s 823us/step - loss: 7660.3896 - mae: 7660.3896\n",
      "Epoch 15/100\n",
      "34/34 [==============================] - 0s 818us/step - loss: 7432.9824 - mae: 7432.9824\n",
      "Epoch 16/100\n",
      "34/34 [==============================] - 0s 818us/step - loss: 7851.5879 - mae: 7851.5879\n",
      "Epoch 17/100\n",
      "34/34 [==============================] - 0s 818us/step - loss: 7774.5386 - mae: 7774.5386\n",
      "Epoch 18/100\n",
      "34/34 [==============================] - 0s 822us/step - loss: 7865.2998 - mae: 7865.2998\n",
      "Epoch 19/100\n",
      "34/34 [==============================] - 0s 848us/step - loss: 7714.8726 - mae: 7714.8726\n",
      "Epoch 20/100\n",
      "34/34 [==============================] - 0s 788us/step - loss: 7970.3506 - mae: 7970.3506\n",
      "Epoch 21/100\n",
      "34/34 [==============================] - 0s 788us/step - loss: 7562.0483 - mae: 7562.0483\n",
      "Epoch 22/100\n",
      "34/34 [==============================] - 0s 788us/step - loss: 7780.5894 - mae: 7780.5894\n",
      "Epoch 23/100\n",
      "34/34 [==============================] - 0s 879us/step - loss: 7752.0708 - mae: 7752.0708\n",
      "Epoch 24/100\n",
      "34/34 [==============================] - 0s 879us/step - loss: 7615.7158 - mae: 7615.7158\n",
      "Epoch 25/100\n",
      "34/34 [==============================] - 0s 848us/step - loss: 7693.4409 - mae: 7693.4409\n",
      "Epoch 26/100\n",
      "34/34 [==============================] - 0s 818us/step - loss: 7764.5225 - mae: 7764.5225\n",
      "Epoch 27/100\n",
      "34/34 [==============================] - 0s 1ms/step - loss: 7382.0186 - mae: 7382.0186\n",
      "Epoch 28/100\n",
      "34/34 [==============================] - 0s 970us/step - loss: 7427.5996 - mae: 7427.5996\n",
      "Epoch 29/100\n",
      "34/34 [==============================] - 0s 788us/step - loss: 7733.4800 - mae: 7733.4800\n",
      "Epoch 30/100\n",
      "34/34 [==============================] - 0s 818us/step - loss: 7612.4946 - mae: 7612.4946\n",
      "Epoch 31/100\n",
      "34/34 [==============================] - 0s 788us/step - loss: 7743.1460 - mae: 7743.1460\n",
      "Epoch 32/100\n",
      "34/34 [==============================] - 0s 788us/step - loss: 7554.6177 - mae: 7554.6177\n",
      "Epoch 33/100\n",
      "34/34 [==============================] - 0s 788us/step - loss: 7586.0664 - mae: 7586.0664\n",
      "Epoch 34/100\n",
      "34/34 [==============================] - 0s 818us/step - loss: 7574.0303 - mae: 7574.0303\n",
      "Epoch 35/100\n",
      "34/34 [==============================] - 0s 1ms/step - loss: 7593.9873 - mae: 7593.9873\n",
      "Epoch 36/100\n",
      "34/34 [==============================] - 0s 1ms/step - loss: 7655.0166 - mae: 7655.0166\n",
      "Epoch 37/100\n",
      "34/34 [==============================] - 0s 909us/step - loss: 7477.9897 - mae: 7477.9897\n",
      "Epoch 38/100\n",
      "34/34 [==============================] - 0s 879us/step - loss: 7616.0615 - mae: 7616.0615\n",
      "Epoch 39/100\n",
      "34/34 [==============================] - 0s 939us/step - loss: 7715.8398 - mae: 7715.8398\n",
      "Epoch 40/100\n",
      "34/34 [==============================] - 0s 909us/step - loss: 7433.4395 - mae: 7433.4395\n",
      "Epoch 41/100\n",
      "34/34 [==============================] - 0s 849us/step - loss: 7790.1450 - mae: 7790.1450\n",
      "Epoch 42/100\n",
      "34/34 [==============================] - 0s 845us/step - loss: 7493.9805 - mae: 7493.9805\n",
      "Epoch 43/100\n",
      "34/34 [==============================] - 0s 818us/step - loss: 7872.0493 - mae: 7872.0493\n",
      "Epoch 44/100\n",
      "34/34 [==============================] - 0s 818us/step - loss: 7587.1309 - mae: 7587.1309\n",
      "Epoch 45/100\n",
      "34/34 [==============================] - 0s 848us/step - loss: 7578.5127 - mae: 7578.5127\n",
      "Epoch 46/100\n",
      "34/34 [==============================] - 0s 851us/step - loss: 7487.8872 - mae: 7487.8872\n",
      "Epoch 47/100\n",
      "34/34 [==============================] - 0s 848us/step - loss: 7655.9399 - mae: 7655.9399\n",
      "Epoch 48/100\n",
      "34/34 [==============================] - 0s 788us/step - loss: 7722.5264 - mae: 7722.5264\n",
      "Epoch 49/100\n",
      "34/34 [==============================] - 0s 788us/step - loss: 7607.5225 - mae: 7607.5225\n",
      "Epoch 50/100\n",
      "34/34 [==============================] - 0s 818us/step - loss: 7568.9004 - mae: 7568.9004\n",
      "Epoch 51/100\n",
      "34/34 [==============================] - 0s 848us/step - loss: 7445.7710 - mae: 7445.7710\n",
      "Epoch 52/100\n",
      "34/34 [==============================] - 0s 1ms/step - loss: 7690.0952 - mae: 7690.0952\n",
      "Epoch 53/100\n",
      "34/34 [==============================] - 0s 2ms/step - loss: 7706.0542 - mae: 7706.0542\n",
      "Epoch 54/100\n",
      "34/34 [==============================] - 0s 1ms/step - loss: 7317.1836 - mae: 7317.1836\n",
      "Epoch 55/100\n",
      "34/34 [==============================] - 0s 1000us/step - loss: 7619.0273 - mae: 7619.0273\n",
      "Epoch 56/100\n",
      "34/34 [==============================] - 0s 909us/step - loss: 7452.1816 - mae: 7452.1816\n",
      "Epoch 57/100\n",
      "34/34 [==============================] - 0s 848us/step - loss: 7485.1509 - mae: 7485.1509\n",
      "Epoch 58/100\n",
      "34/34 [==============================] - 0s 818us/step - loss: 7600.3936 - mae: 7600.3936\n",
      "Epoch 59/100\n",
      "34/34 [==============================] - 0s 788us/step - loss: 7562.0400 - mae: 7562.0400\n",
      "Epoch 60/100\n",
      "34/34 [==============================] - 0s 788us/step - loss: 7715.2876 - mae: 7715.2876\n",
      "Epoch 61/100\n",
      "34/34 [==============================] - 0s 818us/step - loss: 7640.0923 - mae: 7640.0923\n",
      "Epoch 62/100\n",
      "34/34 [==============================] - 0s 818us/step - loss: 7308.4565 - mae: 7308.4565\n",
      "Epoch 63/100\n",
      "34/34 [==============================] - 0s 818us/step - loss: 7565.4487 - mae: 7565.4487\n",
      "Epoch 64/100\n",
      "34/34 [==============================] - 0s 818us/step - loss: 7500.5034 - mae: 7500.5034\n",
      "Epoch 65/100\n",
      "34/34 [==============================] - 0s 818us/step - loss: 7666.9751 - mae: 7666.9751\n",
      "Epoch 66/100\n",
      "34/34 [==============================] - 0s 848us/step - loss: 7544.2246 - mae: 7544.2246\n",
      "Epoch 67/100\n",
      "34/34 [==============================] - 0s 818us/step - loss: 7527.3022 - mae: 7527.3022\n",
      "Epoch 68/100\n",
      "34/34 [==============================] - 0s 788us/step - loss: 7659.6646 - mae: 7659.6646\n",
      "Epoch 69/100\n",
      "34/34 [==============================] - 0s 758us/step - loss: 7691.7520 - mae: 7691.7520\n",
      "Epoch 70/100\n",
      "34/34 [==============================] - 0s 817us/step - loss: 7770.4517 - mae: 7770.4517\n",
      "Epoch 71/100\n",
      "34/34 [==============================] - 0s 879us/step - loss: 7537.4722 - mae: 7537.4722\n",
      "Epoch 72/100\n",
      "34/34 [==============================] - 0s 848us/step - loss: 7545.2881 - mae: 7545.2881\n",
      "Epoch 73/100\n",
      "34/34 [==============================] - 0s 853us/step - loss: 7539.0249 - mae: 7539.0249\n",
      "Epoch 74/100\n",
      "34/34 [==============================] - 0s 848us/step - loss: 7309.5684 - mae: 7309.5684\n",
      "Epoch 75/100\n",
      "34/34 [==============================] - 0s 848us/step - loss: 7500.4854 - mae: 7500.4854\n",
      "Epoch 76/100\n",
      "34/34 [==============================] - 0s 813us/step - loss: 7408.6475 - mae: 7408.6475\n",
      "Epoch 77/100\n",
      "34/34 [==============================] - 0s 788us/step - loss: 7418.0742 - mae: 7418.0742\n",
      "Epoch 78/100\n",
      "34/34 [==============================] - 0s 788us/step - loss: 7220.2769 - mae: 7220.2769\n",
      "Epoch 79/100\n",
      "34/34 [==============================] - 0s 848us/step - loss: 7580.5088 - mae: 7580.5088\n",
      "Epoch 80/100\n",
      "34/34 [==============================] - 0s 818us/step - loss: 7536.9263 - mae: 7536.9263\n",
      "Epoch 81/100\n",
      "34/34 [==============================] - 0s 1ms/step - loss: 7302.9077 - mae: 7302.9077\n",
      "Epoch 82/100\n",
      "34/34 [==============================] - 0s 1ms/step - loss: 7538.0293 - mae: 7538.0293\n",
      "Epoch 83/100\n",
      "34/34 [==============================] - 0s 818us/step - loss: 7387.0176 - mae: 7387.0176\n",
      "Epoch 84/100\n",
      "34/34 [==============================] - 0s 788us/step - loss: 7574.5586 - mae: 7574.5586\n",
      "Epoch 85/100\n",
      "34/34 [==============================] - 0s 818us/step - loss: 7574.6182 - mae: 7574.6182\n",
      "Epoch 86/100\n",
      "34/34 [==============================] - 0s 888us/step - loss: 7465.7773 - mae: 7465.7773\n",
      "Epoch 87/100\n",
      "34/34 [==============================] - 0s 848us/step - loss: 7378.0698 - mae: 7378.0703\n",
      "Epoch 88/100\n",
      "34/34 [==============================] - 0s 818us/step - loss: 7321.1533 - mae: 7321.1533\n",
      "Epoch 89/100\n",
      "34/34 [==============================] - 0s 818us/step - loss: 7486.8643 - mae: 7486.8643\n",
      "Epoch 90/100\n",
      "34/34 [==============================] - 0s 788us/step - loss: 7325.0610 - mae: 7325.0610\n",
      "Epoch 91/100\n",
      "34/34 [==============================] - 0s 818us/step - loss: 7368.2656 - mae: 7368.2656\n",
      "Epoch 92/100\n",
      "34/34 [==============================] - 0s 848us/step - loss: 7679.0034 - mae: 7679.0034\n",
      "Epoch 93/100\n",
      "34/34 [==============================] - 0s 818us/step - loss: 7629.0923 - mae: 7629.0923\n",
      "Epoch 94/100\n",
      "34/34 [==============================] - 0s 818us/step - loss: 7319.7495 - mae: 7319.7495\n",
      "Epoch 95/100\n",
      "34/34 [==============================] - 0s 788us/step - loss: 7548.1147 - mae: 7548.1147\n",
      "Epoch 96/100\n",
      "34/34 [==============================] - 0s 818us/step - loss: 7303.2739 - mae: 7303.2739\n",
      "Epoch 97/100\n",
      "34/34 [==============================] - 0s 848us/step - loss: 7485.1484 - mae: 7485.1484\n",
      "Epoch 98/100\n",
      "34/34 [==============================] - 0s 788us/step - loss: 7501.1060 - mae: 7501.1060\n",
      "Epoch 99/100\n",
      "34/34 [==============================] - 0s 788us/step - loss: 7485.8687 - mae: 7485.8687\n",
      "Epoch 100/100\n",
      "34/34 [==============================] - 0s 848us/step - loss: 7101.4336 - mae: 7101.4336\n"
     ]
    },
    {
     "data": {
      "text/plain": [
       "<keras.src.callbacks.History at 0x1afb217f750>"
      ]
     },
     "execution_count": 37,
     "metadata": {},
     "output_type": "execute_result"
    }
   ],
   "source": [
    "# Build a neural network (sort of like model_2 above)\n",
    "tf.random.set_seed(42)\n",
    "\n",
    "# 1. Create a model\n",
    "insurance_model = tf.keras.Sequential([\n",
    "    tf.keras.layers.Dense(10),\n",
    "    tf.keras.layers.Dense(1)\n",
    "])\n",
    "\n",
    "# 2. Compile the model\n",
    "insurance_model.compile(loss=tf.keras.losses.mae,\n",
    "                        optimizer=tf.keras.optimizers.SGD(),\n",
    "                        metrics=[\"mae\"])\n",
    "\n",
    "# 3. Fit the model\n",
    "insurance_model.fit(X_train, y_train, epochs=100)"
   ]
  },
  {
   "cell_type": "code",
   "execution_count": 38,
   "metadata": {},
   "outputs": [
    {
     "name": "stdout",
     "output_type": "stream",
     "text": [
      "9/9 [==============================] - 0s 1ms/step - loss: 6325.5107 - mae: 6325.5107\n"
     ]
    },
    {
     "data": {
      "text/plain": [
       "[6325.5107421875, 6325.5107421875]"
      ]
     },
     "execution_count": 38,
     "metadata": {},
     "output_type": "execute_result"
    }
   ],
   "source": [
    "# Check the results of insurance model on the test data\n",
    "insurance_model.evaluate(X_test, y_test)"
   ]
  },
  {
   "cell_type": "code",
   "execution_count": 39,
   "metadata": {},
   "outputs": [
    {
     "data": {
      "text/plain": [
       "13346.089736364485"
      ]
     },
     "execution_count": 39,
     "metadata": {},
     "output_type": "execute_result"
    }
   ],
   "source": [
    "y_train.mean()"
   ]
  },
  {
   "cell_type": "markdown",
   "metadata": {},
   "source": [
    "Right now it looks like our model isn't performing too well... let's try and improve it!\n",
    "\n",
    "To (try) improve our model, we'll run 2 experiments:\n",
    "1. Add an extra layer with more hidden units\n",
    "2. Train for longer\n",
    "3. (insert your own experiment here)"
   ]
  },
  {
   "cell_type": "code",
   "execution_count": 40,
   "metadata": {},
   "outputs": [
    {
     "name": "stdout",
     "output_type": "stream",
     "text": [
      "Epoch 1/100\n",
      "34/34 [==============================] - 1s 1000us/step - loss: 13275.1357 - mae: 13275.1357\n",
      "Epoch 2/100\n",
      "34/34 [==============================] - 0s 909us/step - loss: 13055.1396 - mae: 13055.1396\n",
      "Epoch 3/100\n",
      "34/34 [==============================] - 0s 879us/step - loss: 12609.1592 - mae: 12609.1592\n",
      "Epoch 4/100\n",
      "34/34 [==============================] - 0s 879us/step - loss: 11771.1465 - mae: 11771.1465\n",
      "Epoch 5/100\n",
      "34/34 [==============================] - 0s 848us/step - loss: 10482.0312 - mae: 10482.0312\n",
      "Epoch 6/100\n",
      "34/34 [==============================] - 0s 848us/step - loss: 9006.9189 - mae: 9006.9189\n",
      "Epoch 7/100\n",
      "34/34 [==============================] - 0s 848us/step - loss: 7845.2217 - mae: 7845.2217\n",
      "Epoch 8/100\n",
      "34/34 [==============================] - 0s 909us/step - loss: 7470.0659 - mae: 7470.0659\n",
      "Epoch 9/100\n",
      "34/34 [==============================] - 0s 848us/step - loss: 7421.8945 - mae: 7421.8945\n",
      "Epoch 10/100\n",
      "34/34 [==============================] - 0s 848us/step - loss: 7404.5449 - mae: 7404.5449\n",
      "Epoch 11/100\n",
      "34/34 [==============================] - 0s 879us/step - loss: 7387.7632 - mae: 7387.7632\n",
      "Epoch 12/100\n",
      "34/34 [==============================] - 0s 879us/step - loss: 7368.2261 - mae: 7368.2261\n",
      "Epoch 13/100\n",
      "34/34 [==============================] - 0s 848us/step - loss: 7349.1138 - mae: 7349.1138\n",
      "Epoch 14/100\n",
      "34/34 [==============================] - 0s 848us/step - loss: 7329.2832 - mae: 7329.2832\n",
      "Epoch 15/100\n",
      "34/34 [==============================] - 0s 879us/step - loss: 7312.1011 - mae: 7312.1011\n",
      "Epoch 16/100\n",
      "34/34 [==============================] - 0s 818us/step - loss: 7291.2959 - mae: 7291.2959\n",
      "Epoch 17/100\n",
      "34/34 [==============================] - 0s 849us/step - loss: 7272.2412 - mae: 7272.2412\n",
      "Epoch 18/100\n",
      "34/34 [==============================] - 0s 848us/step - loss: 7251.1797 - mae: 7251.1797\n",
      "Epoch 19/100\n",
      "34/34 [==============================] - 0s 879us/step - loss: 7230.8169 - mae: 7230.8169\n",
      "Epoch 20/100\n",
      "34/34 [==============================] - 0s 879us/step - loss: 7209.5205 - mae: 7209.5210\n",
      "Epoch 21/100\n",
      "34/34 [==============================] - 0s 879us/step - loss: 7192.0166 - mae: 7192.0166\n",
      "Epoch 22/100\n",
      "34/34 [==============================] - 0s 848us/step - loss: 7167.3613 - mae: 7167.3613\n",
      "Epoch 23/100\n",
      "34/34 [==============================] - 0s 879us/step - loss: 7145.1050 - mae: 7145.1050\n",
      "Epoch 24/100\n",
      "34/34 [==============================] - 0s 879us/step - loss: 7121.7036 - mae: 7121.7036\n",
      "Epoch 25/100\n",
      "34/34 [==============================] - 0s 848us/step - loss: 7106.0918 - mae: 7106.0918\n",
      "Epoch 26/100\n",
      "34/34 [==============================] - 0s 909us/step - loss: 7076.3472 - mae: 7076.3472\n",
      "Epoch 27/100\n",
      "34/34 [==============================] - 0s 879us/step - loss: 7051.5791 - mae: 7051.5791\n",
      "Epoch 28/100\n",
      "34/34 [==============================] - 0s 849us/step - loss: 7025.9492 - mae: 7025.9492\n",
      "Epoch 29/100\n",
      "34/34 [==============================] - 0s 848us/step - loss: 7000.3740 - mae: 7000.3740\n",
      "Epoch 30/100\n",
      "34/34 [==============================] - 0s 1ms/step - loss: 6977.0547 - mae: 6977.0547\n",
      "Epoch 31/100\n",
      "34/34 [==============================] - 0s 909us/step - loss: 6949.3291 - mae: 6949.3291\n",
      "Epoch 32/100\n",
      "34/34 [==============================] - 0s 909us/step - loss: 6925.1953 - mae: 6925.1953\n",
      "Epoch 33/100\n",
      "34/34 [==============================] - 0s 879us/step - loss: 6897.3760 - mae: 6897.3760\n",
      "Epoch 34/100\n",
      "34/34 [==============================] - 0s 879us/step - loss: 6869.1997 - mae: 6869.1997\n",
      "Epoch 35/100\n",
      "34/34 [==============================] - 0s 879us/step - loss: 6840.5811 - mae: 6840.5811\n",
      "Epoch 36/100\n",
      "34/34 [==============================] - 0s 849us/step - loss: 6810.7178 - mae: 6810.7178\n",
      "Epoch 37/100\n",
      "34/34 [==============================] - 0s 848us/step - loss: 6779.6777 - mae: 6779.6777\n",
      "Epoch 38/100\n",
      "34/34 [==============================] - 0s 879us/step - loss: 6754.8550 - mae: 6754.8550\n",
      "Epoch 39/100\n",
      "34/34 [==============================] - 0s 879us/step - loss: 6722.5732 - mae: 6722.5732\n",
      "Epoch 40/100\n",
      "34/34 [==============================] - 0s 848us/step - loss: 6693.7354 - mae: 6693.7354\n",
      "Epoch 41/100\n",
      "34/34 [==============================] - 0s 848us/step - loss: 6668.8359 - mae: 6668.8359\n",
      "Epoch 42/100\n",
      "34/34 [==============================] - 0s 879us/step - loss: 6647.6162 - mae: 6647.6162\n",
      "Epoch 43/100\n",
      "34/34 [==============================] - 0s 879us/step - loss: 6624.8311 - mae: 6624.8311\n",
      "Epoch 44/100\n",
      "34/34 [==============================] - 0s 879us/step - loss: 6607.2109 - mae: 6607.2109\n",
      "Epoch 45/100\n",
      "34/34 [==============================] - 0s 879us/step - loss: 6600.1919 - mae: 6600.1919\n",
      "Epoch 46/100\n",
      "34/34 [==============================] - 0s 879us/step - loss: 6587.1626 - mae: 6587.1626\n",
      "Epoch 47/100\n",
      "34/34 [==============================] - 0s 848us/step - loss: 6577.5601 - mae: 6577.5601\n",
      "Epoch 48/100\n",
      "34/34 [==============================] - 0s 909us/step - loss: 6568.1426 - mae: 6568.1426\n",
      "Epoch 49/100\n",
      "34/34 [==============================] - 0s 849us/step - loss: 6561.0933 - mae: 6561.0933\n",
      "Epoch 50/100\n",
      "34/34 [==============================] - 0s 848us/step - loss: 6551.4780 - mae: 6551.4780\n",
      "Epoch 51/100\n",
      "34/34 [==============================] - 0s 849us/step - loss: 6542.5947 - mae: 6542.5947\n",
      "Epoch 52/100\n",
      "34/34 [==============================] - 0s 818us/step - loss: 6537.4346 - mae: 6537.4346\n",
      "Epoch 53/100\n",
      "34/34 [==============================] - 0s 879us/step - loss: 6527.9375 - mae: 6527.9375\n",
      "Epoch 54/100\n",
      "34/34 [==============================] - 0s 879us/step - loss: 6519.8408 - mae: 6519.8408\n",
      "Epoch 55/100\n",
      "34/34 [==============================] - 0s 879us/step - loss: 6512.3867 - mae: 6512.3867\n",
      "Epoch 56/100\n",
      "34/34 [==============================] - 0s 879us/step - loss: 6504.9102 - mae: 6504.9102\n",
      "Epoch 57/100\n",
      "34/34 [==============================] - 0s 879us/step - loss: 6498.2305 - mae: 6498.2305\n",
      "Epoch 58/100\n",
      "34/34 [==============================] - 0s 909us/step - loss: 6490.0923 - mae: 6490.0923\n",
      "Epoch 59/100\n",
      "34/34 [==============================] - 0s 848us/step - loss: 6482.9404 - mae: 6482.9404\n",
      "Epoch 60/100\n",
      "34/34 [==============================] - 0s 848us/step - loss: 6480.1646 - mae: 6480.1646\n",
      "Epoch 61/100\n",
      "34/34 [==============================] - 0s 848us/step - loss: 6470.0215 - mae: 6470.0215\n",
      "Epoch 62/100\n",
      "34/34 [==============================] - 0s 1ms/step - loss: 6462.8677 - mae: 6462.8677\n",
      "Epoch 63/100\n",
      "34/34 [==============================] - 0s 879us/step - loss: 6451.7905 - mae: 6451.7905\n",
      "Epoch 64/100\n",
      "34/34 [==============================] - 0s 818us/step - loss: 6444.1382 - mae: 6444.1382\n",
      "Epoch 65/100\n",
      "34/34 [==============================] - 0s 848us/step - loss: 6434.9873 - mae: 6434.9873\n",
      "Epoch 66/100\n",
      "34/34 [==============================] - 0s 879us/step - loss: 6427.4502 - mae: 6427.4502\n",
      "Epoch 67/100\n",
      "34/34 [==============================] - 0s 879us/step - loss: 6423.0327 - mae: 6423.0327\n",
      "Epoch 68/100\n",
      "34/34 [==============================] - 0s 848us/step - loss: 6411.5435 - mae: 6411.5435\n",
      "Epoch 69/100\n",
      "34/34 [==============================] - 0s 879us/step - loss: 6403.9146 - mae: 6403.9146\n",
      "Epoch 70/100\n",
      "34/34 [==============================] - 0s 879us/step - loss: 6394.8872 - mae: 6394.8872\n",
      "Epoch 71/100\n",
      "34/34 [==============================] - 0s 879us/step - loss: 6384.5200 - mae: 6384.5200\n",
      "Epoch 72/100\n",
      "34/34 [==============================] - 0s 848us/step - loss: 6380.3325 - mae: 6380.3325\n",
      "Epoch 73/100\n",
      "34/34 [==============================] - 0s 849us/step - loss: 6372.6514 - mae: 6372.6514\n",
      "Epoch 74/100\n",
      "34/34 [==============================] - 0s 848us/step - loss: 6358.5381 - mae: 6358.5381\n",
      "Epoch 75/100\n",
      "34/34 [==============================] - 0s 879us/step - loss: 6351.3491 - mae: 6351.3491\n",
      "Epoch 76/100\n",
      "34/34 [==============================] - 0s 818us/step - loss: 6348.7666 - mae: 6348.7666\n",
      "Epoch 77/100\n",
      "34/34 [==============================] - 0s 848us/step - loss: 6326.4990 - mae: 6326.4990\n",
      "Epoch 78/100\n",
      "34/34 [==============================] - 0s 879us/step - loss: 6319.0933 - mae: 6319.0933\n",
      "Epoch 79/100\n",
      "34/34 [==============================] - 0s 879us/step - loss: 6307.7334 - mae: 6307.7334\n",
      "Epoch 80/100\n",
      "34/34 [==============================] - 0s 848us/step - loss: 6297.4067 - mae: 6297.4067\n",
      "Epoch 81/100\n",
      "34/34 [==============================] - 0s 879us/step - loss: 6287.0200 - mae: 6287.0200\n",
      "Epoch 82/100\n",
      "34/34 [==============================] - 0s 848us/step - loss: 6279.7817 - mae: 6279.7817\n",
      "Epoch 83/100\n",
      "34/34 [==============================] - 0s 848us/step - loss: 6266.1348 - mae: 6266.1348\n",
      "Epoch 84/100\n",
      "34/34 [==============================] - 0s 848us/step - loss: 6253.4297 - mae: 6253.4297\n",
      "Epoch 85/100\n",
      "34/34 [==============================] - 0s 879us/step - loss: 6246.2036 - mae: 6246.2036\n",
      "Epoch 86/100\n",
      "34/34 [==============================] - 0s 879us/step - loss: 6229.8423 - mae: 6229.8423\n",
      "Epoch 87/100\n",
      "34/34 [==============================] - 0s 879us/step - loss: 6219.2393 - mae: 6219.2393\n",
      "Epoch 88/100\n",
      "34/34 [==============================] - 0s 879us/step - loss: 6207.7603 - mae: 6207.7603\n",
      "Epoch 89/100\n",
      "34/34 [==============================] - 0s 909us/step - loss: 6195.9165 - mae: 6195.9165\n",
      "Epoch 90/100\n",
      "34/34 [==============================] - 0s 848us/step - loss: 6180.5415 - mae: 6180.5415\n",
      "Epoch 91/100\n",
      "34/34 [==============================] - 0s 879us/step - loss: 6167.8145 - mae: 6167.8145\n",
      "Epoch 92/100\n",
      "34/34 [==============================] - 0s 879us/step - loss: 6152.7046 - mae: 6152.7046\n",
      "Epoch 93/100\n",
      "34/34 [==============================] - 0s 1ms/step - loss: 6139.9102 - mae: 6139.9102\n",
      "Epoch 94/100\n",
      "34/34 [==============================] - 0s 1ms/step - loss: 6129.2153 - mae: 6129.2153\n",
      "Epoch 95/100\n",
      "34/34 [==============================] - 0s 848us/step - loss: 6110.0698 - mae: 6110.0698\n",
      "Epoch 96/100\n",
      "34/34 [==============================] - 0s 879us/step - loss: 6094.0889 - mae: 6094.0889\n",
      "Epoch 97/100\n",
      "34/34 [==============================] - 0s 848us/step - loss: 6076.9551 - mae: 6076.9551\n",
      "Epoch 98/100\n",
      "34/34 [==============================] - 0s 848us/step - loss: 6058.9907 - mae: 6058.9907\n",
      "Epoch 99/100\n",
      "34/34 [==============================] - 0s 848us/step - loss: 6046.1313 - mae: 6046.1313\n",
      "Epoch 100/100\n",
      "34/34 [==============================] - 0s 848us/step - loss: 6024.7061 - mae: 6024.7061\n"
     ]
    },
    {
     "data": {
      "text/plain": [
       "<keras.src.callbacks.History at 0x1afb334b990>"
      ]
     },
     "execution_count": 40,
     "metadata": {},
     "output_type": "execute_result"
    }
   ],
   "source": [
    "# Set random seed \n",
    "tf.random.set_seed(42)\n",
    "\n",
    "# 1. Crete the model\n",
    "insurance_model_2 = tf.keras.Sequential([\n",
    "    tf.keras.layers.Dense(100),\n",
    "    tf.keras.layers.Dense(10),\n",
    "    tf.keras.layers.Dense(1)\n",
    "])\n",
    "\n",
    "# 2. Compile the model\n",
    "insurance_model_2.compile(loss=tf.keras.losses.mae,\n",
    "                          optimizer=tf.keras.optimizers.Adam(),\n",
    "                          metrics=[\"mae\"])\n",
    "\n",
    "# 3. Fit the model\n",
    "insurance_model_2.fit(X_train, y_train, epochs=100, verbose=1)"
   ]
  },
  {
   "cell_type": "code",
   "execution_count": 41,
   "metadata": {},
   "outputs": [
    {
     "name": "stdout",
     "output_type": "stream",
     "text": [
      "9/9 [==============================] - 0s 1ms/step - loss: 5903.7510 - mae: 5903.7510\n"
     ]
    },
    {
     "data": {
      "text/plain": [
       "[5903.7509765625, 5903.7509765625]"
      ]
     },
     "execution_count": 41,
     "metadata": {},
     "output_type": "execute_result"
    }
   ],
   "source": [
    "insurance_model_2.evaluate(X_test, y_test)"
   ]
  },
  {
   "cell_type": "code",
   "execution_count": 42,
   "metadata": {},
   "outputs": [
    {
     "name": "stdout",
     "output_type": "stream",
     "text": [
      "9/9 [==============================] - 0s 1ms/step - loss: 6325.5107 - mae: 6325.5107\n"
     ]
    },
    {
     "data": {
      "text/plain": [
       "[6325.5107421875, 6325.5107421875]"
      ]
     },
     "execution_count": 42,
     "metadata": {},
     "output_type": "execute_result"
    }
   ],
   "source": [
    "insurance_model.evaluate(X_test, y_test)"
   ]
  },
  {
   "cell_type": "code",
   "execution_count": 43,
   "metadata": {},
   "outputs": [
    {
     "name": "stdout",
     "output_type": "stream",
     "text": [
      "Epoch 1/200\n",
      "34/34 [==============================] - 1s 939us/step - loss: 13300.6299 - mae: 13300.6299\n",
      "Epoch 2/200\n",
      "34/34 [==============================] - 0s 879us/step - loss: 13120.8486 - mae: 13120.8486\n",
      "Epoch 3/200\n",
      "34/34 [==============================] - 0s 849us/step - loss: 12754.2881 - mae: 12754.2881\n",
      "Epoch 4/200\n",
      "34/34 [==============================] - 0s 848us/step - loss: 12049.4912 - mae: 12049.4912\n",
      "Epoch 5/200\n",
      "34/34 [==============================] - 0s 818us/step - loss: 10891.0264 - mae: 10891.0264\n",
      "Epoch 6/200\n",
      "34/34 [==============================] - 0s 848us/step - loss: 9438.2725 - mae: 9438.2725\n",
      "Epoch 7/200\n",
      "34/34 [==============================] - 0s 848us/step - loss: 8130.0981 - mae: 8130.0981\n",
      "Epoch 8/200\n",
      "34/34 [==============================] - 0s 848us/step - loss: 7517.7212 - mae: 7517.7212\n",
      "Epoch 9/200\n",
      "34/34 [==============================] - 0s 879us/step - loss: 7420.0269 - mae: 7420.0269\n",
      "Epoch 10/200\n",
      "34/34 [==============================] - 0s 879us/step - loss: 7401.4019 - mae: 7401.4019\n",
      "Epoch 11/200\n",
      "34/34 [==============================] - 0s 909us/step - loss: 7385.1064 - mae: 7385.1064\n",
      "Epoch 12/200\n",
      "34/34 [==============================] - 0s 879us/step - loss: 7366.3340 - mae: 7366.3340\n",
      "Epoch 13/200\n",
      "34/34 [==============================] - 0s 879us/step - loss: 7347.9033 - mae: 7347.9033\n",
      "Epoch 14/200\n",
      "34/34 [==============================] - 0s 1ms/step - loss: 7328.6934 - mae: 7328.6934\n",
      "Epoch 15/200\n",
      "34/34 [==============================] - 0s 1ms/step - loss: 7312.3652 - mae: 7312.3652\n",
      "Epoch 16/200\n",
      "34/34 [==============================] - 0s 848us/step - loss: 7292.1836 - mae: 7292.1836\n",
      "Epoch 17/200\n",
      "34/34 [==============================] - 0s 848us/step - loss: 7274.0615 - mae: 7274.0615\n",
      "Epoch 18/200\n",
      "34/34 [==============================] - 0s 849us/step - loss: 7253.4595 - mae: 7253.4595\n",
      "Epoch 19/200\n",
      "34/34 [==============================] - 0s 818us/step - loss: 7233.8701 - mae: 7233.8701\n",
      "Epoch 20/200\n",
      "34/34 [==============================] - 0s 879us/step - loss: 7213.4189 - mae: 7213.4189\n",
      "Epoch 21/200\n",
      "34/34 [==============================] - 0s 879us/step - loss: 7196.0903 - mae: 7196.0903\n",
      "Epoch 22/200\n",
      "34/34 [==============================] - 0s 879us/step - loss: 7172.7261 - mae: 7172.7261\n",
      "Epoch 23/200\n",
      "34/34 [==============================] - 0s 879us/step - loss: 7151.2441 - mae: 7151.2441\n",
      "Epoch 24/200\n",
      "34/34 [==============================] - 0s 879us/step - loss: 7128.4038 - mae: 7128.4038\n",
      "Epoch 25/200\n",
      "34/34 [==============================] - 0s 879us/step - loss: 7113.3130 - mae: 7113.3130\n",
      "Epoch 26/200\n",
      "34/34 [==============================] - 0s 848us/step - loss: 7084.3169 - mae: 7084.3169\n",
      "Epoch 27/200\n",
      "34/34 [==============================] - 0s 879us/step - loss: 7059.7881 - mae: 7059.7881\n",
      "Epoch 28/200\n",
      "34/34 [==============================] - 0s 848us/step - loss: 7034.5122 - mae: 7034.5122\n",
      "Epoch 29/200\n",
      "34/34 [==============================] - 0s 848us/step - loss: 7009.4829 - mae: 7009.4829\n",
      "Epoch 30/200\n",
      "34/34 [==============================] - 0s 879us/step - loss: 6986.3525 - mae: 6986.3525\n",
      "Epoch 31/200\n",
      "34/34 [==============================] - 0s 879us/step - loss: 6958.1631 - mae: 6958.1631\n",
      "Epoch 32/200\n",
      "34/34 [==============================] - 0s 848us/step - loss: 6933.1304 - mae: 6933.1304\n",
      "Epoch 33/200\n",
      "34/34 [==============================] - 0s 879us/step - loss: 6905.4077 - mae: 6905.4077\n",
      "Epoch 34/200\n",
      "34/34 [==============================] - 0s 879us/step - loss: 6877.7368 - mae: 6877.7368\n",
      "Epoch 35/200\n",
      "34/34 [==============================] - 0s 879us/step - loss: 6848.3994 - mae: 6848.3994\n",
      "Epoch 36/200\n",
      "34/34 [==============================] - 0s 909us/step - loss: 6818.3818 - mae: 6818.3818\n",
      "Epoch 37/200\n",
      "34/34 [==============================] - 0s 848us/step - loss: 6787.1763 - mae: 6787.1763\n",
      "Epoch 38/200\n",
      "34/34 [==============================] - 0s 848us/step - loss: 6761.4639 - mae: 6761.4639\n",
      "Epoch 39/200\n",
      "34/34 [==============================] - 0s 848us/step - loss: 6729.3335 - mae: 6729.3335\n",
      "Epoch 40/200\n",
      "34/34 [==============================] - 0s 879us/step - loss: 6699.9512 - mae: 6699.9512\n",
      "Epoch 41/200\n",
      "34/34 [==============================] - 0s 818us/step - loss: 6674.1719 - mae: 6674.1719\n",
      "Epoch 42/200\n",
      "34/34 [==============================] - 0s 818us/step - loss: 6651.1626 - mae: 6651.1626\n",
      "Epoch 43/200\n",
      "34/34 [==============================] - 0s 848us/step - loss: 6629.5308 - mae: 6629.5308\n",
      "Epoch 44/200\n",
      "34/34 [==============================] - 0s 848us/step - loss: 6612.1367 - mae: 6612.1367\n",
      "Epoch 45/200\n",
      "34/34 [==============================] - 0s 848us/step - loss: 6603.6152 - mae: 6603.6152\n",
      "Epoch 46/200\n",
      "34/34 [==============================] - 0s 848us/step - loss: 6590.5732 - mae: 6590.5732\n",
      "Epoch 47/200\n",
      "34/34 [==============================] - 0s 849us/step - loss: 6581.5918 - mae: 6581.5918\n",
      "Epoch 48/200\n",
      "34/34 [==============================] - 0s 1ms/step - loss: 6572.1348 - mae: 6572.1348\n",
      "Epoch 49/200\n",
      "34/34 [==============================] - 0s 1ms/step - loss: 6565.7778 - mae: 6565.7778\n",
      "Epoch 50/200\n",
      "34/34 [==============================] - 0s 848us/step - loss: 6555.8530 - mae: 6555.8530\n",
      "Epoch 51/200\n",
      "34/34 [==============================] - 0s 849us/step - loss: 6547.7983 - mae: 6547.7983\n",
      "Epoch 52/200\n",
      "34/34 [==============================] - 0s 848us/step - loss: 6542.1509 - mae: 6542.1509\n",
      "Epoch 53/200\n",
      "34/34 [==============================] - 0s 818us/step - loss: 6533.6963 - mae: 6533.6963\n",
      "Epoch 54/200\n",
      "34/34 [==============================] - 0s 848us/step - loss: 6525.8423 - mae: 6525.8423\n",
      "Epoch 55/200\n",
      "34/34 [==============================] - 0s 879us/step - loss: 6518.6416 - mae: 6518.6416\n",
      "Epoch 56/200\n",
      "34/34 [==============================] - 0s 1ms/step - loss: 6511.6895 - mae: 6511.6895\n",
      "Epoch 57/200\n",
      "34/34 [==============================] - 0s 818us/step - loss: 6504.9561 - mae: 6504.9561\n",
      "Epoch 58/200\n",
      "34/34 [==============================] - 0s 818us/step - loss: 6497.3052 - mae: 6497.3052\n",
      "Epoch 59/200\n",
      "34/34 [==============================] - 0s 879us/step - loss: 6491.0049 - mae: 6491.0049\n",
      "Epoch 60/200\n",
      "34/34 [==============================] - 0s 848us/step - loss: 6487.4434 - mae: 6487.4434\n",
      "Epoch 61/200\n",
      "34/34 [==============================] - 0s 848us/step - loss: 6478.2246 - mae: 6478.2246\n",
      "Epoch 62/200\n",
      "34/34 [==============================] - 0s 1ms/step - loss: 6470.9385 - mae: 6470.9385\n",
      "Epoch 63/200\n",
      "34/34 [==============================] - 0s 939us/step - loss: 6460.9272 - mae: 6460.9272\n",
      "Epoch 64/200\n",
      "34/34 [==============================] - 0s 879us/step - loss: 6454.6157 - mae: 6454.6157\n",
      "Epoch 65/200\n",
      "34/34 [==============================] - 0s 848us/step - loss: 6445.5015 - mae: 6445.5015\n",
      "Epoch 66/200\n",
      "34/34 [==============================] - 0s 818us/step - loss: 6438.3809 - mae: 6438.3809\n",
      "Epoch 67/200\n",
      "34/34 [==============================] - 0s 848us/step - loss: 6434.5239 - mae: 6434.5239\n",
      "Epoch 68/200\n",
      "34/34 [==============================] - 0s 848us/step - loss: 6424.2705 - mae: 6424.2705\n",
      "Epoch 69/200\n",
      "34/34 [==============================] - 0s 939us/step - loss: 6416.9248 - mae: 6416.9248\n",
      "Epoch 70/200\n",
      "34/34 [==============================] - 0s 939us/step - loss: 6408.4678 - mae: 6408.4678\n",
      "Epoch 71/200\n",
      "34/34 [==============================] - 0s 909us/step - loss: 6398.4966 - mae: 6398.4966\n",
      "Epoch 72/200\n",
      "34/34 [==============================] - 0s 939us/step - loss: 6393.5098 - mae: 6393.5098\n",
      "Epoch 73/200\n",
      "34/34 [==============================] - 0s 909us/step - loss: 6387.6650 - mae: 6387.6650\n",
      "Epoch 74/200\n",
      "34/34 [==============================] - 0s 970us/step - loss: 6374.6138 - mae: 6374.6138\n",
      "Epoch 75/200\n",
      "34/34 [==============================] - 0s 1ms/step - loss: 6367.4258 - mae: 6367.4258\n",
      "Epoch 76/200\n",
      "34/34 [==============================] - 0s 1ms/step - loss: 6366.6191 - mae: 6366.6191\n",
      "Epoch 77/200\n",
      "34/34 [==============================] - 0s 879us/step - loss: 6345.9268 - mae: 6345.9268\n",
      "Epoch 78/200\n",
      "34/34 [==============================] - 0s 848us/step - loss: 6339.4102 - mae: 6339.4102\n",
      "Epoch 79/200\n",
      "34/34 [==============================] - 0s 848us/step - loss: 6329.3994 - mae: 6329.3994\n",
      "Epoch 80/200\n",
      "34/34 [==============================] - 0s 909us/step - loss: 6321.1177 - mae: 6321.1177\n",
      "Epoch 81/200\n",
      "34/34 [==============================] - 0s 879us/step - loss: 6310.8203 - mae: 6310.8203\n",
      "Epoch 82/200\n",
      "34/34 [==============================] - 0s 848us/step - loss: 6301.7163 - mae: 6301.7163\n",
      "Epoch 83/200\n",
      "34/34 [==============================] - 0s 848us/step - loss: 6291.7988 - mae: 6291.7988\n",
      "Epoch 84/200\n",
      "34/34 [==============================] - 0s 848us/step - loss: 6280.0820 - mae: 6280.0820\n",
      "Epoch 85/200\n",
      "34/34 [==============================] - 0s 849us/step - loss: 6274.7505 - mae: 6274.7505\n",
      "Epoch 86/200\n",
      "34/34 [==============================] - 0s 848us/step - loss: 6259.0273 - mae: 6259.0273\n",
      "Epoch 87/200\n",
      "34/34 [==============================] - 0s 848us/step - loss: 6249.1484 - mae: 6249.1484\n",
      "Epoch 88/200\n",
      "34/34 [==============================] - 0s 879us/step - loss: 6239.6670 - mae: 6239.6670\n",
      "Epoch 89/200\n",
      "34/34 [==============================] - 0s 848us/step - loss: 6230.5688 - mae: 6230.5688\n",
      "Epoch 90/200\n",
      "34/34 [==============================] - 0s 879us/step - loss: 6216.6094 - mae: 6216.6094\n",
      "Epoch 91/200\n",
      "34/34 [==============================] - 0s 879us/step - loss: 6205.6797 - mae: 6205.6797\n",
      "Epoch 92/200\n",
      "34/34 [==============================] - 0s 848us/step - loss: 6192.6826 - mae: 6192.6826\n",
      "Epoch 93/200\n",
      "34/34 [==============================] - 0s 879us/step - loss: 6180.5264 - mae: 6180.5264\n",
      "Epoch 94/200\n",
      "34/34 [==============================] - 0s 849us/step - loss: 6171.0752 - mae: 6171.0752\n",
      "Epoch 95/200\n",
      "34/34 [==============================] - 0s 818us/step - loss: 6155.2690 - mae: 6155.2690\n",
      "Epoch 96/200\n",
      "34/34 [==============================] - 0s 848us/step - loss: 6141.3291 - mae: 6141.3291\n",
      "Epoch 97/200\n",
      "34/34 [==============================] - 0s 848us/step - loss: 6126.7588 - mae: 6126.7588\n",
      "Epoch 98/200\n",
      "34/34 [==============================] - 0s 879us/step - loss: 6111.0215 - mae: 6111.0215\n",
      "Epoch 99/200\n",
      "34/34 [==============================] - 0s 848us/step - loss: 6100.6914 - mae: 6100.6914\n",
      "Epoch 100/200\n",
      "34/34 [==============================] - 0s 1ms/step - loss: 6082.1719 - mae: 6082.1719\n",
      "Epoch 101/200\n",
      "34/34 [==============================] - 0s 1ms/step - loss: 6068.2803 - mae: 6068.2803\n",
      "Epoch 102/200\n",
      "34/34 [==============================] - 0s 879us/step - loss: 6052.2295 - mae: 6052.2295\n",
      "Epoch 103/200\n",
      "34/34 [==============================] - 0s 848us/step - loss: 6037.2808 - mae: 6037.2808\n",
      "Epoch 104/200\n",
      "34/34 [==============================] - 0s 848us/step - loss: 6014.0713 - mae: 6014.0713\n",
      "Epoch 105/200\n",
      "34/34 [==============================] - 0s 848us/step - loss: 5998.8535 - mae: 5998.8535\n",
      "Epoch 106/200\n",
      "34/34 [==============================] - 0s 848us/step - loss: 5982.3325 - mae: 5982.3325\n",
      "Epoch 107/200\n",
      "34/34 [==============================] - 0s 848us/step - loss: 5958.4976 - mae: 5958.4976\n",
      "Epoch 108/200\n",
      "34/34 [==============================] - 0s 849us/step - loss: 5950.9434 - mae: 5950.9434\n",
      "Epoch 109/200\n",
      "34/34 [==============================] - 0s 818us/step - loss: 5926.0029 - mae: 5926.0029\n",
      "Epoch 110/200\n",
      "34/34 [==============================] - 0s 818us/step - loss: 5897.3784 - mae: 5897.3784\n",
      "Epoch 111/200\n",
      "34/34 [==============================] - 0s 879us/step - loss: 5880.6396 - mae: 5880.6396\n",
      "Epoch 112/200\n",
      "34/34 [==============================] - 0s 909us/step - loss: 5857.3076 - mae: 5857.3076\n",
      "Epoch 113/200\n",
      "34/34 [==============================] - 0s 879us/step - loss: 5827.8154 - mae: 5827.8154\n",
      "Epoch 114/200\n",
      "34/34 [==============================] - 0s 879us/step - loss: 5803.3096 - mae: 5803.3096\n",
      "Epoch 115/200\n",
      "34/34 [==============================] - 0s 879us/step - loss: 5777.3325 - mae: 5777.3325\n",
      "Epoch 116/200\n",
      "34/34 [==============================] - 0s 818us/step - loss: 5752.4985 - mae: 5752.4985\n",
      "Epoch 117/200\n",
      "34/34 [==============================] - 0s 879us/step - loss: 5722.1470 - mae: 5722.1470\n",
      "Epoch 118/200\n",
      "34/34 [==============================] - 0s 848us/step - loss: 5692.7241 - mae: 5692.7241\n",
      "Epoch 119/200\n",
      "34/34 [==============================] - 0s 848us/step - loss: 5665.3188 - mae: 5665.3188\n",
      "Epoch 120/200\n",
      "34/34 [==============================] - 0s 848us/step - loss: 5628.6733 - mae: 5628.6733\n",
      "Epoch 121/200\n",
      "34/34 [==============================] - 0s 879us/step - loss: 5597.9932 - mae: 5597.9932\n",
      "Epoch 122/200\n",
      "34/34 [==============================] - 0s 879us/step - loss: 5563.0889 - mae: 5563.0889\n",
      "Epoch 123/200\n",
      "34/34 [==============================] - 0s 879us/step - loss: 5523.0293 - mae: 5523.0293\n",
      "Epoch 124/200\n",
      "34/34 [==============================] - 0s 848us/step - loss: 5486.2153 - mae: 5486.2153\n",
      "Epoch 125/200\n",
      "34/34 [==============================] - 0s 848us/step - loss: 5449.6582 - mae: 5449.6582\n",
      "Epoch 126/200\n",
      "34/34 [==============================] - 0s 848us/step - loss: 5405.7881 - mae: 5405.7881\n",
      "Epoch 127/200\n",
      "34/34 [==============================] - 0s 879us/step - loss: 5363.8911 - mae: 5363.8911\n",
      "Epoch 128/200\n",
      "34/34 [==============================] - 0s 848us/step - loss: 5310.7754 - mae: 5310.7754\n",
      "Epoch 129/200\n",
      "34/34 [==============================] - 0s 818us/step - loss: 5273.2944 - mae: 5273.2944\n",
      "Epoch 130/200\n",
      "34/34 [==============================] - 0s 1ms/step - loss: 5217.3774 - mae: 5217.3774\n",
      "Epoch 131/200\n",
      "34/34 [==============================] - 0s 1ms/step - loss: 5157.9473 - mae: 5157.9473\n",
      "Epoch 132/200\n",
      "34/34 [==============================] - 0s 909us/step - loss: 5104.0825 - mae: 5104.0825\n",
      "Epoch 133/200\n",
      "34/34 [==============================] - 0s 879us/step - loss: 5044.7095 - mae: 5044.7095\n",
      "Epoch 134/200\n",
      "34/34 [==============================] - 0s 818us/step - loss: 4982.7090 - mae: 4982.7090\n",
      "Epoch 135/200\n",
      "34/34 [==============================] - 0s 879us/step - loss: 4919.6104 - mae: 4919.6104\n",
      "Epoch 136/200\n",
      "34/34 [==============================] - 0s 849us/step - loss: 4847.2383 - mae: 4847.2383\n",
      "Epoch 137/200\n",
      "34/34 [==============================] - 0s 848us/step - loss: 4781.1431 - mae: 4781.1431\n",
      "Epoch 138/200\n",
      "34/34 [==============================] - 0s 849us/step - loss: 4710.3877 - mae: 4710.3877\n",
      "Epoch 139/200\n",
      "34/34 [==============================] - 0s 818us/step - loss: 4627.9111 - mae: 4627.9111\n",
      "Epoch 140/200\n",
      "34/34 [==============================] - 0s 848us/step - loss: 4552.8970 - mae: 4552.8970\n",
      "Epoch 141/200\n",
      "34/34 [==============================] - 0s 848us/step - loss: 4481.2695 - mae: 4481.2695\n",
      "Epoch 142/200\n",
      "34/34 [==============================] - 0s 879us/step - loss: 4426.8931 - mae: 4426.8931\n",
      "Epoch 143/200\n",
      "34/34 [==============================] - 0s 879us/step - loss: 4334.1646 - mae: 4334.1646\n",
      "Epoch 144/200\n",
      "34/34 [==============================] - 0s 848us/step - loss: 4260.9468 - mae: 4260.9468\n",
      "Epoch 145/200\n",
      "34/34 [==============================] - 0s 848us/step - loss: 4191.8081 - mae: 4191.8081\n",
      "Epoch 146/200\n",
      "34/34 [==============================] - 0s 849us/step - loss: 4125.0190 - mae: 4125.0190\n",
      "Epoch 147/200\n",
      "34/34 [==============================] - 0s 879us/step - loss: 4083.5854 - mae: 4083.5854\n",
      "Epoch 148/200\n",
      "34/34 [==============================] - 0s 848us/step - loss: 4021.0945 - mae: 4021.0945\n",
      "Epoch 149/200\n",
      "34/34 [==============================] - 0s 879us/step - loss: 3989.4648 - mae: 3989.4648\n",
      "Epoch 150/200\n",
      "34/34 [==============================] - 0s 879us/step - loss: 3939.1763 - mae: 3939.1763\n",
      "Epoch 151/200\n",
      "34/34 [==============================] - 0s 879us/step - loss: 3901.2861 - mae: 3901.2861\n",
      "Epoch 152/200\n",
      "34/34 [==============================] - 0s 879us/step - loss: 3870.9600 - mae: 3870.9600\n",
      "Epoch 153/200\n",
      "34/34 [==============================] - 0s 848us/step - loss: 3854.5386 - mae: 3854.5386\n",
      "Epoch 154/200\n",
      "34/34 [==============================] - 0s 848us/step - loss: 3825.8770 - mae: 3825.8770\n",
      "Epoch 155/200\n",
      "34/34 [==============================] - 0s 848us/step - loss: 3814.2473 - mae: 3814.2473\n",
      "Epoch 156/200\n",
      "34/34 [==============================] - 0s 818us/step - loss: 3800.3625 - mae: 3800.3625\n",
      "Epoch 157/200\n",
      "34/34 [==============================] - 0s 1ms/step - loss: 3797.3945 - mae: 3797.3945\n",
      "Epoch 158/200\n",
      "34/34 [==============================] - 0s 879us/step - loss: 3781.4128 - mae: 3781.4128\n",
      "Epoch 159/200\n",
      "34/34 [==============================] - 0s 818us/step - loss: 3763.6592 - mae: 3763.6592\n",
      "Epoch 160/200\n",
      "34/34 [==============================] - 0s 879us/step - loss: 3763.1021 - mae: 3763.1021\n",
      "Epoch 161/200\n",
      "34/34 [==============================] - 0s 848us/step - loss: 3768.4023 - mae: 3768.4023\n",
      "Epoch 162/200\n",
      "34/34 [==============================] - 0s 879us/step - loss: 3748.0408 - mae: 3748.0408\n",
      "Epoch 163/200\n",
      "34/34 [==============================] - 0s 909us/step - loss: 3745.0874 - mae: 3745.0874\n",
      "Epoch 164/200\n",
      "34/34 [==============================] - 0s 848us/step - loss: 3750.8398 - mae: 3750.8398\n",
      "Epoch 165/200\n",
      "34/34 [==============================] - 0s 848us/step - loss: 3738.1089 - mae: 3738.1089\n",
      "Epoch 166/200\n",
      "34/34 [==============================] - 0s 849us/step - loss: 3735.5906 - mae: 3735.5906\n",
      "Epoch 167/200\n",
      "34/34 [==============================] - 0s 849us/step - loss: 3726.8806 - mae: 3726.8806\n",
      "Epoch 168/200\n",
      "34/34 [==============================] - 0s 818us/step - loss: 3725.1245 - mae: 3725.1245\n",
      "Epoch 169/200\n",
      "34/34 [==============================] - 0s 848us/step - loss: 3731.2637 - mae: 3731.2637\n",
      "Epoch 170/200\n",
      "34/34 [==============================] - 0s 848us/step - loss: 3717.4929 - mae: 3717.4929\n",
      "Epoch 171/200\n",
      "34/34 [==============================] - 0s 848us/step - loss: 3721.1367 - mae: 3721.1367\n",
      "Epoch 172/200\n",
      "34/34 [==============================] - 0s 848us/step - loss: 3720.2961 - mae: 3720.2961\n",
      "Epoch 173/200\n",
      "34/34 [==============================] - 0s 909us/step - loss: 3717.4495 - mae: 3717.4495\n",
      "Epoch 174/200\n",
      "34/34 [==============================] - 0s 848us/step - loss: 3715.4490 - mae: 3715.4490\n",
      "Epoch 175/200\n",
      "34/34 [==============================] - 0s 879us/step - loss: 3703.0205 - mae: 3703.0205\n",
      "Epoch 176/200\n",
      "34/34 [==============================] - 0s 848us/step - loss: 3718.8867 - mae: 3718.8867\n",
      "Epoch 177/200\n",
      "34/34 [==============================] - 0s 879us/step - loss: 3711.3354 - mae: 3711.3354\n",
      "Epoch 178/200\n",
      "34/34 [==============================] - 0s 818us/step - loss: 3692.0415 - mae: 3692.0415\n",
      "Epoch 179/200\n",
      "34/34 [==============================] - 0s 848us/step - loss: 3721.3618 - mae: 3721.3618\n",
      "Epoch 180/200\n",
      "34/34 [==============================] - 0s 879us/step - loss: 3697.5032 - mae: 3697.5032\n",
      "Epoch 181/200\n",
      "34/34 [==============================] - 0s 848us/step - loss: 3696.3662 - mae: 3696.3662\n",
      "Epoch 182/200\n",
      "34/34 [==============================] - 0s 848us/step - loss: 3695.8071 - mae: 3695.8071\n",
      "Epoch 183/200\n",
      "34/34 [==============================] - 0s 879us/step - loss: 3700.0627 - mae: 3700.0627\n",
      "Epoch 184/200\n",
      "34/34 [==============================] - 0s 879us/step - loss: 3704.4031 - mae: 3704.4031\n",
      "Epoch 185/200\n",
      "34/34 [==============================] - 0s 1ms/step - loss: 3693.0991 - mae: 3693.0991\n",
      "Epoch 186/200\n",
      "34/34 [==============================] - 0s 879us/step - loss: 3702.7434 - mae: 3702.7434\n",
      "Epoch 187/200\n",
      "34/34 [==============================] - 0s 818us/step - loss: 3686.5422 - mae: 3686.5422\n",
      "Epoch 188/200\n",
      "34/34 [==============================] - 0s 848us/step - loss: 3687.9773 - mae: 3687.9773\n",
      "Epoch 189/200\n",
      "34/34 [==============================] - 0s 879us/step - loss: 3673.2097 - mae: 3673.2097\n",
      "Epoch 190/200\n",
      "34/34 [==============================] - 0s 879us/step - loss: 3678.6248 - mae: 3678.6248\n",
      "Epoch 191/200\n",
      "34/34 [==============================] - 0s 848us/step - loss: 3679.3809 - mae: 3679.3809\n",
      "Epoch 192/200\n",
      "34/34 [==============================] - 0s 909us/step - loss: 3671.1365 - mae: 3671.1365\n",
      "Epoch 193/200\n",
      "34/34 [==============================] - 0s 848us/step - loss: 3669.8704 - mae: 3669.8704\n",
      "Epoch 194/200\n",
      "34/34 [==============================] - 0s 848us/step - loss: 3676.1338 - mae: 3676.1338\n",
      "Epoch 195/200\n",
      "34/34 [==============================] - 0s 818us/step - loss: 3662.3430 - mae: 3662.3430\n",
      "Epoch 196/200\n",
      "34/34 [==============================] - 0s 818us/step - loss: 3673.0522 - mae: 3673.0522\n",
      "Epoch 197/200\n",
      "34/34 [==============================] - 0s 818us/step - loss: 3652.9502 - mae: 3652.9502\n",
      "Epoch 198/200\n",
      "34/34 [==============================] - 0s 848us/step - loss: 3657.4189 - mae: 3657.4189\n",
      "Epoch 199/200\n",
      "34/34 [==============================] - 0s 848us/step - loss: 3657.4006 - mae: 3657.4006\n",
      "Epoch 200/200\n",
      "34/34 [==============================] - 0s 848us/step - loss: 3648.5964 - mae: 3648.5964\n"
     ]
    }
   ],
   "source": [
    "# Set random seed\n",
    "tf.random.set_seed(42)\n",
    "\n",
    "# 1. Create the model\n",
    "insurance_model_3 = tf.keras.Sequential([\n",
    "    tf.keras.layers.Dense(100),\n",
    "    tf.keras.layers.Dense(10),\n",
    "    tf.keras.layers.Dense(1)\n",
    "])\n",
    "\n",
    "# 2. Compile the model\n",
    "insurance_model_3.compile(loss=tf.keras.losses.mae,\n",
    "                          optimizer=tf.keras.optimizers.Adam(),\n",
    "                          metrics=[\"mae\"])\n",
    "\n",
    "# 3. Fit the model\n",
    "history = insurance_model_3.fit(X_train, y_train, epochs=200)"
   ]
  },
  {
   "cell_type": "code",
   "execution_count": 44,
   "metadata": {},
   "outputs": [
    {
     "name": "stdout",
     "output_type": "stream",
     "text": [
      "9/9 [==============================] - 0s 1ms/step - loss: 3446.0806 - mae: 3446.0806\n"
     ]
    },
    {
     "data": {
      "text/plain": [
       "[3446.08056640625, 3446.08056640625]"
      ]
     },
     "execution_count": 44,
     "metadata": {},
     "output_type": "execute_result"
    }
   ],
   "source": [
    "insurance_model_3.evaluate(X_test, y_test)"
   ]
  },
  {
   "cell_type": "code",
   "execution_count": 45,
   "metadata": {},
   "outputs": [
    {
     "name": "stdout",
     "output_type": "stream",
     "text": [
      "9/9 [==============================] - 0s 2ms/step - loss: 6325.5107 - mae: 6325.5107\n"
     ]
    },
    {
     "data": {
      "text/plain": [
       "[6325.5107421875, 6325.5107421875]"
      ]
     },
     "execution_count": 45,
     "metadata": {},
     "output_type": "execute_result"
    }
   ],
   "source": [
    "insurance_model.evaluate(X_test, y_test)"
   ]
  },
  {
   "cell_type": "code",
   "execution_count": 46,
   "metadata": {},
   "outputs": [
    {
     "data": {
      "text/plain": [
       "Text(0.5, 0, 'epochs')"
      ]
     },
     "execution_count": 46,
     "metadata": {},
     "output_type": "execute_result"
    },
    {
     "data": {
      "image/png": "[encoded data removed]",
      "text/plain": [
       "<Figure size 640x480 with 1 Axes>"
      ]
     },
     "metadata": {},
     "output_type": "display_data"
    }
   ],
   "source": [
    "# Plot history (also known as a loss curve or a training curve)\n",
    "pd.DataFrame(history.history).plot()\n",
    "plt.ylabel(\"loss\")\n",
    "plt.xlabel(\"epochs\")"
   ]
  },
  {
   "cell_type": "markdown",
   "metadata": {},
   "source": [
    "### Preprocessing data (normalization and standardization) \n",
    "\n",
    "In terms of scaling values, neural networks tend to prefer normalization.\n",
    "\n",
    "If you're not sure on which to use, your could try both and see which performs better."
   ]
  },
  {
   "cell_type": "code",
   "execution_count": 55,
   "metadata": {},
   "outputs": [
    {
     "data": {
      "text/html": [
       "<div>\n",
       "<style scoped>\n",
       "    .dataframe tbody tr th:only-of-type {\n",
       "        vertical-align: middle;\n",
       "    }\n",
       "\n",
       "    .dataframe tbody tr th {\n",
       "        vertical-align: top;\n",
       "    }\n",
       "\n",
       "    .dataframe thead th {\n",
       "        text-align: right;\n",
       "    }\n",
       "</style>\n",
       "<table border=\"1\" class=\"dataframe\">\n",
       "  <thead>\n",
       "    <tr style=\"text-align: right;\">\n",
       "      <th></th>\n",
       "      <th>age</th>\n",
       "      <th>sex</th>\n",
       "      <th>bmi</th>\n",
       "      <th>children</th>\n",
       "      <th>smoker</th>\n",
       "      <th>region</th>\n",
       "      <th>charges</th>\n",
       "    </tr>\n",
       "  </thead>\n",
       "  <tbody>\n",
       "    <tr>\n",
       "      <th>0</th>\n",
       "      <td>19</td>\n",
       "      <td>female</td>\n",
       "      <td>27.900</td>\n",
       "      <td>0</td>\n",
       "      <td>yes</td>\n",
       "      <td>southwest</td>\n",
       "      <td>16884.92400</td>\n",
       "    </tr>\n",
       "    <tr>\n",
       "      <th>1</th>\n",
       "      <td>18</td>\n",
       "      <td>male</td>\n",
       "      <td>33.770</td>\n",
       "      <td>1</td>\n",
       "      <td>no</td>\n",
       "      <td>southeast</td>\n",
       "      <td>1725.55230</td>\n",
       "    </tr>\n",
       "    <tr>\n",
       "      <th>2</th>\n",
       "      <td>28</td>\n",
       "      <td>male</td>\n",
       "      <td>33.000</td>\n",
       "      <td>3</td>\n",
       "      <td>no</td>\n",
       "      <td>southeast</td>\n",
       "      <td>4449.46200</td>\n",
       "    </tr>\n",
       "    <tr>\n",
       "      <th>3</th>\n",
       "      <td>33</td>\n",
       "      <td>male</td>\n",
       "      <td>22.705</td>\n",
       "      <td>0</td>\n",
       "      <td>no</td>\n",
       "      <td>northwest</td>\n",
       "      <td>21984.47061</td>\n",
       "    </tr>\n",
       "    <tr>\n",
       "      <th>4</th>\n",
       "      <td>32</td>\n",
       "      <td>male</td>\n",
       "      <td>28.880</td>\n",
       "      <td>0</td>\n",
       "      <td>no</td>\n",
       "      <td>northwest</td>\n",
       "      <td>3866.85520</td>\n",
       "    </tr>\n",
       "    <tr>\n",
       "      <th>...</th>\n",
       "      <td>...</td>\n",
       "      <td>...</td>\n",
       "      <td>...</td>\n",
       "      <td>...</td>\n",
       "      <td>...</td>\n",
       "      <td>...</td>\n",
       "      <td>...</td>\n",
       "    </tr>\n",
       "    <tr>\n",
       "      <th>1333</th>\n",
       "      <td>50</td>\n",
       "      <td>male</td>\n",
       "      <td>30.970</td>\n",
       "      <td>3</td>\n",
       "      <td>no</td>\n",
       "      <td>northwest</td>\n",
       "      <td>10600.54830</td>\n",
       "    </tr>\n",
       "    <tr>\n",
       "      <th>1334</th>\n",
       "      <td>18</td>\n",
       "      <td>female</td>\n",
       "      <td>31.920</td>\n",
       "      <td>0</td>\n",
       "      <td>no</td>\n",
       "      <td>northeast</td>\n",
       "      <td>2205.98080</td>\n",
       "    </tr>\n",
       "    <tr>\n",
       "      <th>1335</th>\n",
       "      <td>18</td>\n",
       "      <td>female</td>\n",
       "      <td>36.850</td>\n",
       "      <td>0</td>\n",
       "      <td>no</td>\n",
       "      <td>southeast</td>\n",
       "      <td>1629.83350</td>\n",
       "    </tr>\n",
       "    <tr>\n",
       "      <th>1336</th>\n",
       "      <td>21</td>\n",
       "      <td>female</td>\n",
       "      <td>25.800</td>\n",
       "      <td>0</td>\n",
       "      <td>no</td>\n",
       "      <td>southwest</td>\n",
       "      <td>2007.94500</td>\n",
       "    </tr>\n",
       "    <tr>\n",
       "      <th>1337</th>\n",
       "      <td>61</td>\n",
       "      <td>female</td>\n",
       "      <td>29.070</td>\n",
       "      <td>0</td>\n",
       "      <td>yes</td>\n",
       "      <td>northwest</td>\n",
       "      <td>29141.36030</td>\n",
       "    </tr>\n",
       "  </tbody>\n",
       "</table>\n",
       "<p>1338 rows × 7 columns</p>\n",
       "</div>"
      ],
      "text/plain": [
       "      age     sex     bmi  children smoker     region      charges\n",
       "0      19  female  27.900         0    yes  southwest  16884.92400\n",
       "1      18    male  33.770         1     no  southeast   1725.55230\n",
       "2      28    male  33.000         3     no  southeast   4449.46200\n",
       "3      33    male  22.705         0     no  northwest  21984.47061\n",
       "4      32    male  28.880         0     no  northwest   3866.85520\n",
       "...   ...     ...     ...       ...    ...        ...          ...\n",
       "1333   50    male  30.970         3     no  northwest  10600.54830\n",
       "1334   18  female  31.920         0     no  northeast   2205.98080\n",
       "1335   18  female  36.850         0     no  southeast   1629.83350\n",
       "1336   21  female  25.800         0     no  southwest   2007.94500\n",
       "1337   61  female  29.070         0    yes  northwest  29141.36030\n",
       "\n",
       "[1338 rows x 7 columns]"
      ]
     },
     "execution_count": 55,
     "metadata": {},
     "output_type": "execute_result"
    }
   ],
   "source": [
    "import pandas as pd\n",
    "import matplotlib.pyplot as plt\n",
    "import tensorflow as tf\n",
    "\n",
    "insurance = pd.read_csv(\"https://raw.githubusercontent.com/stedy/Machine-Learning-with-R-datasets/master/insurance.csv\")\n",
    "insurance"
   ]
  },
  {
   "cell_type": "code",
   "execution_count": 51,
   "metadata": {},
   "outputs": [
    {
     "data": {
      "text/html": [
       "<div>\n",
       "<style scoped>\n",
       "    .dataframe tbody tr th:only-of-type {\n",
       "        vertical-align: middle;\n",
       "    }\n",
       "\n",
       "    .dataframe tbody tr th {\n",
       "        vertical-align: top;\n",
       "    }\n",
       "\n",
       "    .dataframe thead th {\n",
       "        text-align: right;\n",
       "    }\n",
       "</style>\n",
       "<table border=\"1\" class=\"dataframe\">\n",
       "  <thead>\n",
       "    <tr style=\"text-align: right;\">\n",
       "      <th></th>\n",
       "      <th>age</th>\n",
       "      <th>bmi</th>\n",
       "      <th>children</th>\n",
       "      <th>sex_male</th>\n",
       "      <th>smoker_yes</th>\n",
       "      <th>region_northwest</th>\n",
       "      <th>region_southeast</th>\n",
       "      <th>region_southwest</th>\n",
       "    </tr>\n",
       "  </thead>\n",
       "  <tbody>\n",
       "    <tr>\n",
       "      <th>0</th>\n",
       "      <td>19</td>\n",
       "      <td>27.900</td>\n",
       "      <td>0</td>\n",
       "      <td>0.0</td>\n",
       "      <td>1.0</td>\n",
       "      <td>0.0</td>\n",
       "      <td>0.0</td>\n",
       "      <td>1.0</td>\n",
       "    </tr>\n",
       "    <tr>\n",
       "      <th>1</th>\n",
       "      <td>18</td>\n",
       "      <td>33.770</td>\n",
       "      <td>1</td>\n",
       "      <td>1.0</td>\n",
       "      <td>0.0</td>\n",
       "      <td>0.0</td>\n",
       "      <td>1.0</td>\n",
       "      <td>0.0</td>\n",
       "    </tr>\n",
       "    <tr>\n",
       "      <th>2</th>\n",
       "      <td>28</td>\n",
       "      <td>33.000</td>\n",
       "      <td>3</td>\n",
       "      <td>1.0</td>\n",
       "      <td>0.0</td>\n",
       "      <td>0.0</td>\n",
       "      <td>1.0</td>\n",
       "      <td>0.0</td>\n",
       "    </tr>\n",
       "    <tr>\n",
       "      <th>3</th>\n",
       "      <td>33</td>\n",
       "      <td>22.705</td>\n",
       "      <td>0</td>\n",
       "      <td>1.0</td>\n",
       "      <td>0.0</td>\n",
       "      <td>1.0</td>\n",
       "      <td>0.0</td>\n",
       "      <td>0.0</td>\n",
       "    </tr>\n",
       "    <tr>\n",
       "      <th>4</th>\n",
       "      <td>32</td>\n",
       "      <td>28.880</td>\n",
       "      <td>0</td>\n",
       "      <td>1.0</td>\n",
       "      <td>0.0</td>\n",
       "      <td>1.0</td>\n",
       "      <td>0.0</td>\n",
       "      <td>0.0</td>\n",
       "    </tr>\n",
       "    <tr>\n",
       "      <th>...</th>\n",
       "      <td>...</td>\n",
       "      <td>...</td>\n",
       "      <td>...</td>\n",
       "      <td>...</td>\n",
       "      <td>...</td>\n",
       "      <td>...</td>\n",
       "      <td>...</td>\n",
       "      <td>...</td>\n",
       "    </tr>\n",
       "    <tr>\n",
       "      <th>1333</th>\n",
       "      <td>50</td>\n",
       "      <td>30.970</td>\n",
       "      <td>3</td>\n",
       "      <td>1.0</td>\n",
       "      <td>0.0</td>\n",
       "      <td>1.0</td>\n",
       "      <td>0.0</td>\n",
       "      <td>0.0</td>\n",
       "    </tr>\n",
       "    <tr>\n",
       "      <th>1334</th>\n",
       "      <td>18</td>\n",
       "      <td>31.920</td>\n",
       "      <td>0</td>\n",
       "      <td>0.0</td>\n",
       "      <td>0.0</td>\n",
       "      <td>0.0</td>\n",
       "      <td>0.0</td>\n",
       "      <td>0.0</td>\n",
       "    </tr>\n",
       "    <tr>\n",
       "      <th>1335</th>\n",
       "      <td>18</td>\n",
       "      <td>36.850</td>\n",
       "      <td>0</td>\n",
       "      <td>0.0</td>\n",
       "      <td>0.0</td>\n",
       "      <td>0.0</td>\n",
       "      <td>1.0</td>\n",
       "      <td>0.0</td>\n",
       "    </tr>\n",
       "    <tr>\n",
       "      <th>1336</th>\n",
       "      <td>21</td>\n",
       "      <td>25.800</td>\n",
       "      <td>0</td>\n",
       "      <td>0.0</td>\n",
       "      <td>0.0</td>\n",
       "      <td>0.0</td>\n",
       "      <td>0.0</td>\n",
       "      <td>1.0</td>\n",
       "    </tr>\n",
       "    <tr>\n",
       "      <th>1337</th>\n",
       "      <td>61</td>\n",
       "      <td>29.070</td>\n",
       "      <td>0</td>\n",
       "      <td>0.0</td>\n",
       "      <td>1.0</td>\n",
       "      <td>1.0</td>\n",
       "      <td>0.0</td>\n",
       "      <td>0.0</td>\n",
       "    </tr>\n",
       "  </tbody>\n",
       "</table>\n",
       "<p>1338 rows × 8 columns</p>\n",
       "</div>"
      ],
      "text/plain": [
       "      age     bmi  children  sex_male  smoker_yes  region_northwest  \\\n",
       "0      19  27.900         0       0.0         1.0               0.0   \n",
       "1      18  33.770         1       1.0         0.0               0.0   \n",
       "2      28  33.000         3       1.0         0.0               0.0   \n",
       "3      33  22.705         0       1.0         0.0               1.0   \n",
       "4      32  28.880         0       1.0         0.0               1.0   \n",
       "...   ...     ...       ...       ...         ...               ...   \n",
       "1333   50  30.970         3       1.0         0.0               1.0   \n",
       "1334   18  31.920         0       0.0         0.0               0.0   \n",
       "1335   18  36.850         0       0.0         0.0               0.0   \n",
       "1336   21  25.800         0       0.0         0.0               0.0   \n",
       "1337   61  29.070         0       0.0         1.0               1.0   \n",
       "\n",
       "      region_southeast  region_southwest  \n",
       "0                  0.0               1.0  \n",
       "1                  1.0               0.0  \n",
       "2                  1.0               0.0  \n",
       "3                  0.0               0.0  \n",
       "4                  0.0               0.0  \n",
       "...                ...               ...  \n",
       "1333               0.0               0.0  \n",
       "1334               0.0               0.0  \n",
       "1335               1.0               0.0  \n",
       "1336               0.0               1.0  \n",
       "1337               0.0               0.0  \n",
       "\n",
       "[1338 rows x 8 columns]"
      ]
     },
     "execution_count": 51,
     "metadata": {},
     "output_type": "execute_result"
    }
   ],
   "source": [
    "X"
   ]
  },
  {
   "cell_type": "code",
   "execution_count": 52,
   "metadata": {},
   "outputs": [
    {
     "data": {
      "text/plain": [
       "<Axes: ylabel='Frequency'>"
      ]
     },
     "execution_count": 52,
     "metadata": {},
     "output_type": "execute_result"
    },
    {
     "data": {
      "image/png": "[encoded data removed]",
      "text/plain": [
       "<Figure size 640x480 with 1 Axes>"
      ]
     },
     "metadata": {},
     "output_type": "display_data"
    }
   ],
   "source": [
    "X['age'].plot(kind=\"hist\")"
   ]
  },
  {
   "cell_type": "code",
   "execution_count": 53,
   "metadata": {},
   "outputs": [
    {
     "data": {
      "text/plain": [
       "<Axes: ylabel='Frequency'>"
      ]
     },
     "execution_count": 53,
     "metadata": {},
     "output_type": "execute_result"
    },
    {
     "data": {
      "image/png": "[encoded data removed]",
      "text/plain": [
       "<Figure size 640x480 with 1 Axes>"
      ]
     },
     "metadata": {},
     "output_type": "display_data"
    }
   ],
   "source": [
    "X[\"bmi\"].plot(kind=\"hist\")"
   ]
  },
  {
   "cell_type": "code",
   "execution_count": 54,
   "metadata": {},
   "outputs": [
    {
     "data": {
      "text/plain": [
       "children\n",
       "0    574\n",
       "1    324\n",
       "2    240\n",
       "3    157\n",
       "4     25\n",
       "5     18\n",
       "Name: count, dtype: int64"
      ]
     },
     "execution_count": 54,
     "metadata": {},
     "output_type": "execute_result"
    }
   ],
   "source": [
    "X[\"children\"].value_counts()"
   ]
  },
  {
   "cell_type": "code",
   "execution_count": null,
   "metadata": {},
   "outputs": [],
   "source": []
  }
 ],
 "metadata": {
  "kernelspec": {
   "display_name": "Python 3 (ipykernel)",
   "language": "python",
   "name": "python3"
  },
  "language_info": {
   "codemirror_mode": {
    "name": "ipython",
    "version": 3
   },
   "file_extension": ".py",
   "mimetype": "text/x-python",
   "name": "python",
   "nbconvert_exporter": "python",
   "pygments_lexer": "ipython3",
   "version": "3.11.5"
  }
 },
 "nbformat": 4,
 "nbformat_minor": 2
}
