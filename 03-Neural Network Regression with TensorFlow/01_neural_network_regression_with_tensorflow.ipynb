{
 "cells": [
  {
   "cell_type": "markdown",
   "metadata": {},
   "source": [
    "# Introduction to Regression with Neural Networks in TensorFlow\n",
    "\n",
    "There are many definitions for a regression problem but in our case, we're going to simplify it: predicting a numerical variable based on some other combination of variables, even shorter... predicting a number."
   ]
  },
  {
   "cell_type": "code",
   "execution_count": 1,
   "metadata": {},
   "outputs": [
    {
     "name": "stdout",
     "output_type": "stream",
     "text": [
      "2.13.0\n"
     ]
    }
   ],
   "source": [
    "import tensorflow as tf\n",
    "print(tf.__version__)"
   ]
  },
  {
   "cell_type": "markdown",
   "metadata": {},
   "source": [
    "## Creating data to view and fit"
   ]
  },
  {
   "cell_type": "code",
   "execution_count": 2,
   "metadata": {},
   "outputs": [
    {
     "data": {
      "text/plain": [
       "<matplotlib.collections.PathCollection at 0x22978ec32d0>"
      ]
     },
     "execution_count": 2,
     "metadata": {},
     "output_type": "execute_result"
    },
    {
     "data": {
      "image/png": "[encoded data removed]",
      "text/plain": [
       "<Figure size 640x480 with 1 Axes>"
      ]
     },
     "metadata": {},
     "output_type": "display_data"
    }
   ],
   "source": [
    "import numpy as np\n",
    "import matplotlib.pyplot as plt\n",
    "\n",
    "# Create features\n",
    "X = np.array([-7.0, -4.0, -1.0, 2.0, 5.0, 8.0, 11.0, 14.0])\n",
    "\n",
    "# Create labels\n",
    "y = np.array([3.0, 6.0, 9.0, 12.0, 15.0, 18.0, 21.0, 24.0])\n",
    "\n",
    "# Visualize it\n",
    "plt.scatter(X, y)"
   ]
  },
  {
   "cell_type": "code",
   "execution_count": 3,
   "metadata": {},
   "outputs": [
    {
     "data": {
      "text/plain": [
       "array([ True,  True,  True,  True,  True,  True,  True,  True])"
      ]
     },
     "execution_count": 3,
     "metadata": {},
     "output_type": "execute_result"
    }
   ],
   "source": [
    "y == X + 10"
   ]
  },
  {
   "cell_type": "markdown",
   "metadata": {},
   "source": [
    "## Input and output shapes"
   ]
  },
  {
   "cell_type": "code",
   "execution_count": 4,
   "metadata": {},
   "outputs": [
    {
     "data": {
      "text/plain": [
       "(<tf.Tensor: shape=(3,), dtype=string, numpy=array([b'bedroom', b'bathroom', b'garage'], dtype=object)>,\n",
       " <tf.Tensor: shape=(1,), dtype=int32, numpy=array([939700])>)"
      ]
     },
     "execution_count": 4,
     "metadata": {},
     "output_type": "execute_result"
    }
   ],
   "source": [
    "# Create a demo tensor for our housing price prediction problem\n",
    "house_info = tf.constant([\"bedroom\", \"bathroom\", \"garage\"])\n",
    "house_price = tf.constant([939700])\n",
    "house_info, house_price"
   ]
  },
  {
   "cell_type": "code",
   "execution_count": 5,
   "metadata": {},
   "outputs": [
    {
     "data": {
      "text/plain": [
       "((8,), (8,))"
      ]
     },
     "execution_count": 5,
     "metadata": {},
     "output_type": "execute_result"
    }
   ],
   "source": [
    "input_shape = X.shape\n",
    "output_shape = y.shape\n",
    "input_shape, output_shape"
   ]
  },
  {
   "cell_type": "code",
   "execution_count": 6,
   "metadata": {},
   "outputs": [
    {
     "data": {
      "text/plain": [
       "(<tf.Tensor: shape=(8,), dtype=float32, numpy=array([-7., -4., -1.,  2.,  5.,  8., 11., 14.], dtype=float32)>,\n",
       " <tf.Tensor: shape=(8,), dtype=float32, numpy=array([ 3.,  6.,  9., 12., 15., 18., 21., 24.], dtype=float32)>)"
      ]
     },
     "execution_count": 6,
     "metadata": {},
     "output_type": "execute_result"
    }
   ],
   "source": [
    "# Turn our numpy array to tensors\n",
    "X = tf.constant(X, dtype=tf.float32)\n",
    "y = tf.constant(y, dtype=tf.float32)\n",
    "X, y"
   ]
  },
  {
   "cell_type": "code",
   "execution_count": 7,
   "metadata": {},
   "outputs": [
    {
     "data": {
      "text/plain": [
       "<matplotlib.collections.PathCollection at 0x22978f37f50>"
      ]
     },
     "execution_count": 7,
     "metadata": {},
     "output_type": "execute_result"
    },
    {
     "data": {
      "image/png": "[encoded data removed]",
      "text/plain": [
       "<Figure size 640x480 with 1 Axes>"
      ]
     },
     "metadata": {},
     "output_type": "display_data"
    }
   ],
   "source": [
    "plt.scatter(X, y)"
   ]
  },
  {
   "cell_type": "markdown",
   "metadata": {},
   "source": [
    "## Steps in modelling with TensorFlow\n",
    "1. Creating a model - define the input and output layers, as well as the hidden layers of a deep learning model.\n",
    "2. Compiling a model - define the loss function (in other words, the function with tells our model how wrong it is) and the optimizer (tell our model to improve the patterns its learning) and evaluation metrics (what we can use to interpret the performance of our model).\n",
    "3. Fitting a model - letting the model try to find patterns between X & y (features and labels)."
   ]
  },
  {
   "cell_type": "code",
   "execution_count": 8,
   "metadata": {},
   "outputs": [
    {
     "data": {
      "text/plain": [
       "(TensorShape([8]), 1)"
      ]
     },
     "execution_count": 8,
     "metadata": {},
     "output_type": "execute_result"
    }
   ],
   "source": [
    "X.shape, X.ndim"
   ]
  },
  {
   "cell_type": "code",
   "execution_count": 9,
   "metadata": {},
   "outputs": [],
   "source": [
    "X = tf.expand_dims(X, axis=-1)"
   ]
  },
  {
   "cell_type": "code",
   "execution_count": 10,
   "metadata": {},
   "outputs": [
    {
     "data": {
      "text/plain": [
       "(2, TensorShape([8, 1]))"
      ]
     },
     "execution_count": 10,
     "metadata": {},
     "output_type": "execute_result"
    }
   ],
   "source": [
    "X.ndim, X.shape"
   ]
  },
  {
   "cell_type": "code",
   "execution_count": 11,
   "metadata": {},
   "outputs": [
    {
     "name": "stdout",
     "output_type": "stream",
     "text": [
      "Epoch 1/5\n",
      "1/1 [==============================] - 0s 332ms/step - loss: 10.7894 - mae: 10.7894\n",
      "Epoch 2/5\n",
      "1/1 [==============================] - 0s 4ms/step - loss: 10.6569 - mae: 10.6569\n",
      "Epoch 3/5\n",
      "1/1 [==============================] - 0s 5ms/step - loss: 10.5244 - mae: 10.5244\n",
      "Epoch 4/5\n",
      "1/1 [==============================] - 0s 3ms/step - loss: 10.3919 - mae: 10.3919\n",
      "Epoch 5/5\n",
      "1/1 [==============================] - 0s 3ms/step - loss: 10.2594 - mae: 10.2594\n"
     ]
    },
    {
     "data": {
      "text/plain": [
       "<keras.src.callbacks.History at 0x2297c1373d0>"
      ]
     },
     "execution_count": 11,
     "metadata": {},
     "output_type": "execute_result"
    }
   ],
   "source": [
    "# Set random seed\n",
    "tf.random.set_seed(42)\n",
    "\n",
    "# 1. Create a model using the Sequential API \n",
    "model = tf.keras.Sequential([\n",
    "    tf.keras.layers.Dense(1)\n",
    "])\n",
    "\n",
    "# 2. Compile the model\n",
    "model.compile(loss=tf.keras.losses.mae,\n",
    "               optimizer=tf.keras.optimizers.SGD(),\n",
    "               metrics=[\"mae\"])\n",
    "\n",
    "# 3. Fit the model\n",
    "model.fit(X, y, epochs=5)"
   ]
  },
  {
   "cell_type": "code",
   "execution_count": 12,
   "metadata": {},
   "outputs": [
    {
     "data": {
      "text/plain": [
       "(<tf.Tensor: shape=(8, 1), dtype=float32, numpy=\n",
       " array([[-7.],\n",
       "        [-4.],\n",
       "        [-1.],\n",
       "        [ 2.],\n",
       "        [ 5.],\n",
       "        [ 8.],\n",
       "        [11.],\n",
       "        [14.]], dtype=float32)>,\n",
       " <tf.Tensor: shape=(8,), dtype=float32, numpy=array([ 3.,  6.,  9., 12., 15., 18., 21., 24.], dtype=float32)>)"
      ]
     },
     "execution_count": 12,
     "metadata": {},
     "output_type": "execute_result"
    }
   ],
   "source": [
    "# Check out X and y\n",
    "X, y"
   ]
  },
  {
   "cell_type": "code",
   "execution_count": 13,
   "metadata": {},
   "outputs": [
    {
     "name": "stdout",
     "output_type": "stream",
     "text": [
      "1/1 [==============================] - 0s 71ms/step\n"
     ]
    },
    {
     "data": {
      "text/plain": [
       "array([[16.19078]], dtype=float32)"
      ]
     },
     "execution_count": 13,
     "metadata": {},
     "output_type": "execute_result"
    }
   ],
   "source": [
    "# Try and make a prediction using our model\n",
    "model.predict([17.0])"
   ]
  },
  {
   "cell_type": "markdown",
   "metadata": {},
   "source": [
    "## Improving our model\n",
    "\n",
    "We can improve our model, by altering the steps we took to create a model.\n",
    "\n",
    "1. **Creating a model** - here we might add more layers, increase the number of units (all called neurons) within each of the hidden layers, change the activation function of each layer.\n",
    "2.  **Compiling a model** - here we might change the optimization function or perhaps the **learning rate** of the optimization of the optimization function.\n",
    "3.  **Fitting a model** - here we might fit a model for more **epochs** (leave it training for longer) or on more data (give the model more example to learn from)."
   ]
  },
  {
   "cell_type": "code",
   "execution_count": 14,
   "metadata": {},
   "outputs": [
    {
     "name": "stdout",
     "output_type": "stream",
     "text": [
      "Epoch 1/100\n",
      "1/1 [==============================] - 0s 251ms/step - loss: 13.6300 - mae: 13.6300\n",
      "Epoch 2/100\n",
      "1/1 [==============================] - 0s 12ms/step - loss: 13.4975 - mae: 13.4975\n",
      "Epoch 3/100\n",
      "1/1 [==============================] - 0s 4ms/step - loss: 13.3650 - mae: 13.3650\n",
      "Epoch 4/100\n",
      "1/1 [==============================] - 0s 4ms/step - loss: 13.2325 - mae: 13.2325\n",
      "Epoch 5/100\n",
      "1/1 [==============================] - 0s 3ms/step - loss: 13.1000 - mae: 13.1000\n",
      "Epoch 6/100\n",
      "1/1 [==============================] - 0s 5ms/step - loss: 12.9675 - mae: 12.9675\n",
      "Epoch 7/100\n",
      "1/1 [==============================] - 0s 7ms/step - loss: 12.8350 - mae: 12.8350\n",
      "Epoch 8/100\n",
      "1/1 [==============================] - 0s 7ms/step - loss: 12.7025 - mae: 12.7025\n",
      "Epoch 9/100\n",
      "1/1 [==============================] - 0s 5ms/step - loss: 12.5700 - mae: 12.5700\n",
      "Epoch 10/100\n",
      "1/1 [==============================] - 0s 6ms/step - loss: 12.4375 - mae: 12.4375\n",
      "Epoch 11/100\n",
      "1/1 [==============================] - 0s 5ms/step - loss: 12.3050 - mae: 12.3050\n",
      "Epoch 12/100\n",
      "1/1 [==============================] - 0s 5ms/step - loss: 12.1725 - mae: 12.1725\n",
      "Epoch 13/100\n",
      "1/1 [==============================] - 0s 3ms/step - loss: 12.0400 - mae: 12.0400\n",
      "Epoch 14/100\n",
      "1/1 [==============================] - 0s 3ms/step - loss: 11.9075 - mae: 11.9075\n",
      "Epoch 15/100\n",
      "1/1 [==============================] - 0s 4ms/step - loss: 11.7750 - mae: 11.7750\n",
      "Epoch 16/100\n",
      "1/1 [==============================] - 0s 5ms/step - loss: 11.6425 - mae: 11.6425\n",
      "Epoch 17/100\n",
      "1/1 [==============================] - 0s 4ms/step - loss: 11.5100 - mae: 11.5100\n",
      "Epoch 18/100\n",
      "1/1 [==============================] - 0s 5ms/step - loss: 11.3775 - mae: 11.3775\n",
      "Epoch 19/100\n",
      "1/1 [==============================] - 0s 5ms/step - loss: 11.2450 - mae: 11.2450\n",
      "Epoch 20/100\n",
      "1/1 [==============================] - 0s 4ms/step - loss: 11.1125 - mae: 11.1125\n",
      "Epoch 21/100\n",
      "1/1 [==============================] - 0s 4ms/step - loss: 10.9800 - mae: 10.9800\n",
      "Epoch 22/100\n",
      "1/1 [==============================] - 0s 5ms/step - loss: 10.8475 - mae: 10.8475\n",
      "Epoch 23/100\n",
      "1/1 [==============================] - 0s 5ms/step - loss: 10.7150 - mae: 10.7150\n",
      "Epoch 24/100\n",
      "1/1 [==============================] - 0s 4ms/step - loss: 10.5825 - mae: 10.5825\n",
      "Epoch 25/100\n",
      "1/1 [==============================] - 0s 3ms/step - loss: 10.4500 - mae: 10.4500\n",
      "Epoch 26/100\n",
      "1/1 [==============================] - 0s 3ms/step - loss: 10.3175 - mae: 10.3175\n",
      "Epoch 27/100\n",
      "1/1 [==============================] - 0s 6ms/step - loss: 10.1850 - mae: 10.1850\n",
      "Epoch 28/100\n",
      "1/1 [==============================] - 0s 3ms/step - loss: 10.0525 - mae: 10.0525\n",
      "Epoch 29/100\n",
      "1/1 [==============================] - 0s 3ms/step - loss: 9.9200 - mae: 9.9200\n",
      "Epoch 30/100\n",
      "1/1 [==============================] - 0s 4ms/step - loss: 9.7875 - mae: 9.7875\n",
      "Epoch 31/100\n",
      "1/1 [==============================] - 0s 3ms/step - loss: 9.6550 - mae: 9.6550\n",
      "Epoch 32/100\n",
      "1/1 [==============================] - 0s 3ms/step - loss: 9.5225 - mae: 9.5225\n",
      "Epoch 33/100\n",
      "1/1 [==============================] - 0s 5ms/step - loss: 9.3900 - mae: 9.3900\n",
      "Epoch 34/100\n",
      "1/1 [==============================] - 0s 4ms/step - loss: 9.2575 - mae: 9.2575\n",
      "Epoch 35/100\n",
      "1/1 [==============================] - 0s 3ms/step - loss: 9.1250 - mae: 9.1250\n",
      "Epoch 36/100\n",
      "1/1 [==============================] - 0s 4ms/step - loss: 8.9925 - mae: 8.9925\n",
      "Epoch 37/100\n",
      "1/1 [==============================] - 0s 6ms/step - loss: 8.8600 - mae: 8.8600\n",
      "Epoch 38/100\n",
      "1/1 [==============================] - 0s 9ms/step - loss: 8.7275 - mae: 8.7275\n",
      "Epoch 39/100\n",
      "1/1 [==============================] - 0s 5ms/step - loss: 8.5950 - mae: 8.5950\n",
      "Epoch 40/100\n",
      "1/1 [==============================] - 0s 7ms/step - loss: 8.4625 - mae: 8.4625\n",
      "Epoch 41/100\n",
      "1/1 [==============================] - 0s 5ms/step - loss: 8.3300 - mae: 8.3300\n",
      "Epoch 42/100\n",
      "1/1 [==============================] - 0s 8ms/step - loss: 8.1975 - mae: 8.1975\n",
      "Epoch 43/100\n",
      "1/1 [==============================] - 0s 7ms/step - loss: 8.0650 - mae: 8.0650\n",
      "Epoch 44/100\n",
      "1/1 [==============================] - 0s 6ms/step - loss: 7.9325 - mae: 7.9325\n",
      "Epoch 45/100\n",
      "1/1 [==============================] - 0s 7ms/step - loss: 7.8000 - mae: 7.8000\n",
      "Epoch 46/100\n",
      "1/1 [==============================] - 0s 4ms/step - loss: 7.6675 - mae: 7.6675\n",
      "Epoch 47/100\n",
      "1/1 [==============================] - 0s 6ms/step - loss: 7.5350 - mae: 7.5350\n",
      "Epoch 48/100\n",
      "1/1 [==============================] - 0s 6ms/step - loss: 7.4025 - mae: 7.4025\n",
      "Epoch 49/100\n",
      "1/1 [==============================] - 0s 5ms/step - loss: 7.2700 - mae: 7.2700\n",
      "Epoch 50/100\n",
      "1/1 [==============================] - 0s 6ms/step - loss: 7.1375 - mae: 7.1375\n",
      "Epoch 51/100\n",
      "1/1 [==============================] - 0s 7ms/step - loss: 7.1250 - mae: 7.1250\n",
      "Epoch 52/100\n",
      "1/1 [==============================] - 0s 6ms/step - loss: 7.1194 - mae: 7.1194\n",
      "Epoch 53/100\n",
      "1/1 [==============================] - 0s 8ms/step - loss: 7.1138 - mae: 7.1138\n",
      "Epoch 54/100\n",
      "1/1 [==============================] - 0s 5ms/step - loss: 7.1081 - mae: 7.1081\n",
      "Epoch 55/100\n",
      "1/1 [==============================] - 0s 6ms/step - loss: 7.1025 - mae: 7.1025\n",
      "Epoch 56/100\n",
      "1/1 [==============================] - 0s 4ms/step - loss: 7.0969 - mae: 7.0969\n",
      "Epoch 57/100\n",
      "1/1 [==============================] - 0s 3ms/step - loss: 7.0912 - mae: 7.0912\n",
      "Epoch 58/100\n",
      "1/1 [==============================] - 0s 5ms/step - loss: 7.0856 - mae: 7.0856\n",
      "Epoch 59/100\n",
      "1/1 [==============================] - 0s 4ms/step - loss: 7.0800 - mae: 7.0800\n",
      "Epoch 60/100\n",
      "1/1 [==============================] - 0s 5ms/step - loss: 7.0744 - mae: 7.0744\n",
      "Epoch 61/100\n",
      "1/1 [==============================] - 0s 5ms/step - loss: 7.0688 - mae: 7.0688\n",
      "Epoch 62/100\n",
      "1/1 [==============================] - 0s 4ms/step - loss: 7.0631 - mae: 7.0631\n",
      "Epoch 63/100\n",
      "1/1 [==============================] - 0s 4ms/step - loss: 7.0575 - mae: 7.0575\n",
      "Epoch 64/100\n",
      "1/1 [==============================] - 0s 5ms/step - loss: 7.0519 - mae: 7.0519\n",
      "Epoch 65/100\n",
      "1/1 [==============================] - 0s 5ms/step - loss: 7.0462 - mae: 7.0462\n",
      "Epoch 66/100\n",
      "1/1 [==============================] - 0s 4ms/step - loss: 7.0406 - mae: 7.0406\n",
      "Epoch 67/100\n",
      "1/1 [==============================] - 0s 4ms/step - loss: 7.0350 - mae: 7.0350\n",
      "Epoch 68/100\n",
      "1/1 [==============================] - 0s 4ms/step - loss: 7.0294 - mae: 7.0294\n",
      "Epoch 69/100\n",
      "1/1 [==============================] - 0s 3ms/step - loss: 7.0238 - mae: 7.0238\n",
      "Epoch 70/100\n",
      "1/1 [==============================] - 0s 5ms/step - loss: 7.0181 - mae: 7.0181\n",
      "Epoch 71/100\n",
      "1/1 [==============================] - 0s 5ms/step - loss: 7.0125 - mae: 7.0125\n",
      "Epoch 72/100\n",
      "1/1 [==============================] - 0s 7ms/step - loss: 7.0069 - mae: 7.0069\n",
      "Epoch 73/100\n",
      "1/1 [==============================] - 0s 4ms/step - loss: 7.0013 - mae: 7.0013\n",
      "Epoch 74/100\n",
      "1/1 [==============================] - 0s 7ms/step - loss: 6.9956 - mae: 6.9956\n",
      "Epoch 75/100\n",
      "1/1 [==============================] - 0s 6ms/step - loss: 6.9900 - mae: 6.9900\n",
      "Epoch 76/100\n",
      "1/1 [==============================] - 0s 4ms/step - loss: 6.9844 - mae: 6.9844\n",
      "Epoch 77/100\n",
      "1/1 [==============================] - 0s 4ms/step - loss: 6.9788 - mae: 6.9788\n",
      "Epoch 78/100\n",
      "1/1 [==============================] - 0s 7ms/step - loss: 6.9731 - mae: 6.9731\n",
      "Epoch 79/100\n",
      "1/1 [==============================] - 0s 4ms/step - loss: 6.9675 - mae: 6.9675\n",
      "Epoch 80/100\n",
      "1/1 [==============================] - 0s 4ms/step - loss: 6.9619 - mae: 6.9619\n",
      "Epoch 81/100\n",
      "1/1 [==============================] - 0s 5ms/step - loss: 6.9563 - mae: 6.9563\n",
      "Epoch 82/100\n",
      "1/1 [==============================] - 0s 4ms/step - loss: 6.9506 - mae: 6.9506\n",
      "Epoch 83/100\n",
      "1/1 [==============================] - 0s 6ms/step - loss: 6.9450 - mae: 6.9450\n",
      "Epoch 84/100\n",
      "1/1 [==============================] - 0s 3ms/step - loss: 6.9394 - mae: 6.9394\n",
      "Epoch 85/100\n",
      "1/1 [==============================] - 0s 4ms/step - loss: 6.9338 - mae: 6.9338\n",
      "Epoch 86/100\n",
      "1/1 [==============================] - 0s 3ms/step - loss: 6.9281 - mae: 6.9281\n",
      "Epoch 87/100\n",
      "1/1 [==============================] - 0s 3ms/step - loss: 6.9225 - mae: 6.9225\n",
      "Epoch 88/100\n",
      "1/1 [==============================] - 0s 3ms/step - loss: 6.9169 - mae: 6.9169\n",
      "Epoch 89/100\n",
      "1/1 [==============================] - 0s 4ms/step - loss: 6.9113 - mae: 6.9113\n",
      "Epoch 90/100\n",
      "1/1 [==============================] - 0s 4ms/step - loss: 6.9056 - mae: 6.9056\n",
      "Epoch 91/100\n",
      "1/1 [==============================] - 0s 3ms/step - loss: 6.9000 - mae: 6.9000\n",
      "Epoch 92/100\n",
      "1/1 [==============================] - 0s 5ms/step - loss: 6.8944 - mae: 6.8944\n",
      "Epoch 93/100\n",
      "1/1 [==============================] - 0s 3ms/step - loss: 6.8888 - mae: 6.8888\n",
      "Epoch 94/100\n",
      "1/1 [==============================] - 0s 3ms/step - loss: 6.8831 - mae: 6.8831\n",
      "Epoch 95/100\n",
      "1/1 [==============================] - 0s 5ms/step - loss: 6.8775 - mae: 6.8775\n",
      "Epoch 96/100\n",
      "1/1 [==============================] - 0s 3ms/step - loss: 6.8719 - mae: 6.8719\n",
      "Epoch 97/100\n",
      "1/1 [==============================] - 0s 4ms/step - loss: 6.8663 - mae: 6.8663\n",
      "Epoch 98/100\n",
      "1/1 [==============================] - 0s 4ms/step - loss: 6.8606 - mae: 6.8606\n",
      "Epoch 99/100\n",
      "1/1 [==============================] - 0s 4ms/step - loss: 6.8550 - mae: 6.8550\n",
      "Epoch 100/100\n",
      "1/1 [==============================] - 0s 3ms/step - loss: 6.8494 - mae: 6.8494\n"
     ]
    },
    {
     "data": {
      "text/plain": [
       "<keras.src.callbacks.History at 0x2297c290b50>"
      ]
     },
     "execution_count": 14,
     "metadata": {},
     "output_type": "execute_result"
    }
   ],
   "source": [
    "# Let's rebuild our model\n",
    "\n",
    "# 1. Create the model\n",
    "model = tf.keras.Sequential([\n",
    "    tf.keras.layers.Dense(1)\n",
    "])\n",
    "\n",
    "# 2. Compile the model\n",
    "model.compile(loss=tf.keras.losses.mae,\n",
    "              optimizer=tf.keras.optimizers.SGD(),\n",
    "              metrics=[\"mae\"])\n",
    "\n",
    "# 3. Fit the model\n",
    "model.fit(X, y, epochs=100)"
   ]
  },
  {
   "cell_type": "code",
   "execution_count": 15,
   "metadata": {},
   "outputs": [
    {
     "data": {
      "text/plain": [
       "(<tf.Tensor: shape=(8, 1), dtype=float32, numpy=\n",
       " array([[-7.],\n",
       "        [-4.],\n",
       "        [-1.],\n",
       "        [ 2.],\n",
       "        [ 5.],\n",
       "        [ 8.],\n",
       "        [11.],\n",
       "        [14.]], dtype=float32)>,\n",
       " <tf.Tensor: shape=(8,), dtype=float32, numpy=array([ 3.,  6.,  9., 12., 15., 18., 21., 24.], dtype=float32)>)"
      ]
     },
     "execution_count": 15,
     "metadata": {},
     "output_type": "execute_result"
    }
   ],
   "source": [
    "# Remind ourselves of the data\n",
    "X, y"
   ]
  },
  {
   "cell_type": "code",
   "execution_count": 16,
   "metadata": {},
   "outputs": [
    {
     "name": "stdout",
     "output_type": "stream",
     "text": [
      "1/1 [==============================] - 0s 76ms/step\n"
     ]
    },
    {
     "data": {
      "text/plain": [
       "array([[29.993786]], dtype=float32)"
      ]
     },
     "execution_count": 16,
     "metadata": {},
     "output_type": "execute_result"
    }
   ],
   "source": [
    "# Let's see if our model's prediction has improved...\n",
    "model.predict([17.0])"
   ]
  },
  {
   "cell_type": "code",
   "execution_count": 25,
   "metadata": {},
   "outputs": [
    {
     "name": "stdout",
     "output_type": "stream",
     "text": [
      "Epoch 1/100\n",
      "1/1 [==============================] - 0s 423ms/step - loss: 12.6693 - mae: 12.6693\n",
      "Epoch 2/100\n",
      "1/1 [==============================] - 0s 3ms/step - loss: 11.9677 - mae: 11.9677\n",
      "Epoch 3/100\n",
      "1/1 [==============================] - 0s 3ms/step - loss: 11.2540 - mae: 11.2540\n",
      "Epoch 4/100\n",
      "1/1 [==============================] - 0s 4ms/step - loss: 10.5261 - mae: 10.5261\n",
      "Epoch 5/100\n",
      "1/1 [==============================] - 0s 3ms/step - loss: 9.7826 - mae: 9.7826\n",
      "Epoch 6/100\n",
      "1/1 [==============================] - 0s 5ms/step - loss: 9.0219 - mae: 9.0219\n",
      "Epoch 7/100\n",
      "1/1 [==============================] - 0s 5ms/step - loss: 8.2425 - mae: 8.2425\n",
      "Epoch 8/100\n",
      "1/1 [==============================] - 0s 4ms/step - loss: 7.4425 - mae: 7.4425\n",
      "Epoch 9/100\n",
      "1/1 [==============================] - 0s 4ms/step - loss: 6.8122 - mae: 6.8122\n",
      "Epoch 10/100\n",
      "1/1 [==============================] - 0s 4ms/step - loss: 6.9068 - mae: 6.9068\n",
      "Epoch 11/100\n",
      "1/1 [==============================] - 0s 4ms/step - loss: 7.1906 - mae: 7.1906\n",
      "Epoch 12/100\n",
      "1/1 [==============================] - 0s 4ms/step - loss: 7.3546 - mae: 7.3546\n",
      "Epoch 13/100\n",
      "1/1 [==============================] - 0s 4ms/step - loss: 7.4129 - mae: 7.4129\n",
      "Epoch 14/100\n",
      "1/1 [==============================] - 0s 6ms/step - loss: 7.2628 - mae: 7.2628\n",
      "Epoch 15/100\n",
      "1/1 [==============================] - 0s 8ms/step - loss: 7.0243 - mae: 7.0243\n",
      "Epoch 16/100\n",
      "1/1 [==============================] - 0s 8ms/step - loss: 6.7882 - mae: 6.7882\n",
      "Epoch 17/100\n",
      "1/1 [==============================] - 0s 8ms/step - loss: 6.5258 - mae: 6.5258\n",
      "Epoch 18/100\n",
      "1/1 [==============================] - 0s 4ms/step - loss: 6.2427 - mae: 6.2427\n",
      "Epoch 19/100\n",
      "1/1 [==============================] - 0s 6ms/step - loss: 6.1147 - mae: 6.1147\n",
      "Epoch 20/100\n",
      "1/1 [==============================] - 0s 6ms/step - loss: 6.0625 - mae: 6.0625\n",
      "Epoch 21/100\n",
      "1/1 [==============================] - 0s 7ms/step - loss: 6.1918 - mae: 6.1918\n",
      "Epoch 22/100\n",
      "1/1 [==============================] - 0s 4ms/step - loss: 6.2455 - mae: 6.2455\n",
      "Epoch 23/100\n",
      "1/1 [==============================] - 0s 3ms/step - loss: 6.1868 - mae: 6.1868\n",
      "Epoch 24/100\n",
      "1/1 [==============================] - 0s 4ms/step - loss: 6.0301 - mae: 6.0301\n",
      "Epoch 25/100\n",
      "1/1 [==============================] - 0s 4ms/step - loss: 5.7861 - mae: 5.7861\n",
      "Epoch 26/100\n",
      "1/1 [==============================] - 0s 5ms/step - loss: 5.5548 - mae: 5.5548\n",
      "Epoch 27/100\n",
      "1/1 [==============================] - 0s 3ms/step - loss: 5.4415 - mae: 5.4415\n",
      "Epoch 28/100\n",
      "1/1 [==============================] - 0s 4ms/step - loss: 5.3350 - mae: 5.3350\n",
      "Epoch 29/100\n",
      "1/1 [==============================] - 0s 3ms/step - loss: 5.3306 - mae: 5.3306\n",
      "Epoch 30/100\n",
      "1/1 [==============================] - 0s 5ms/step - loss: 5.2775 - mae: 5.2775\n",
      "Epoch 31/100\n",
      "1/1 [==============================] - 0s 4ms/step - loss: 5.1799 - mae: 5.1799\n",
      "Epoch 32/100\n",
      "1/1 [==============================] - 0s 4ms/step - loss: 5.0418 - mae: 5.0418\n",
      "Epoch 33/100\n",
      "1/1 [==============================] - 0s 4ms/step - loss: 4.8671 - mae: 4.8671\n",
      "Epoch 34/100\n",
      "1/1 [==============================] - 0s 4ms/step - loss: 4.7296 - mae: 4.7296\n",
      "Epoch 35/100\n",
      "1/1 [==============================] - 0s 3ms/step - loss: 4.6334 - mae: 4.6334\n",
      "Epoch 36/100\n",
      "1/1 [==============================] - 0s 4ms/step - loss: 4.5301 - mae: 4.5301\n",
      "Epoch 37/100\n",
      "1/1 [==============================] - 0s 4ms/step - loss: 4.4195 - mae: 4.4195\n",
      "Epoch 38/100\n",
      "1/1 [==============================] - 0s 3ms/step - loss: 4.3719 - mae: 4.3719\n",
      "Epoch 39/100\n",
      "1/1 [==============================] - 0s 5ms/step - loss: 4.1981 - mae: 4.1981\n",
      "Epoch 40/100\n",
      "1/1 [==============================] - 0s 3ms/step - loss: 4.0112 - mae: 4.0112\n",
      "Epoch 41/100\n",
      "1/1 [==============================] - 0s 4ms/step - loss: 3.8509 - mae: 3.8509\n",
      "Epoch 42/100\n",
      "1/1 [==============================] - 0s 6ms/step - loss: 3.7250 - mae: 3.7250\n",
      "Epoch 43/100\n",
      "1/1 [==============================] - 0s 5ms/step - loss: 3.6242 - mae: 3.6242\n",
      "Epoch 44/100\n",
      "1/1 [==============================] - 0s 4ms/step - loss: 3.4691 - mae: 3.4691\n",
      "Epoch 45/100\n",
      "1/1 [==============================] - 0s 4ms/step - loss: 3.2629 - mae: 3.2629\n",
      "Epoch 46/100\n",
      "1/1 [==============================] - 0s 5ms/step - loss: 3.0574 - mae: 3.0574\n",
      "Epoch 47/100\n",
      "1/1 [==============================] - 0s 6ms/step - loss: 2.8947 - mae: 2.8947\n",
      "Epoch 48/100\n",
      "1/1 [==============================] - 0s 6ms/step - loss: 2.7236 - mae: 2.7236\n",
      "Epoch 49/100\n",
      "1/1 [==============================] - 0s 5ms/step - loss: 2.5231 - mae: 2.5231\n",
      "Epoch 50/100\n",
      "1/1 [==============================] - 0s 6ms/step - loss: 2.3151 - mae: 2.3151\n",
      "Epoch 51/100\n",
      "1/1 [==============================] - 0s 4ms/step - loss: 2.0967 - mae: 2.0967\n",
      "Epoch 52/100\n",
      "1/1 [==============================] - 0s 4ms/step - loss: 1.9047 - mae: 1.9047\n",
      "Epoch 53/100\n",
      "1/1 [==============================] - 0s 4ms/step - loss: 1.6764 - mae: 1.6764\n",
      "Epoch 54/100\n",
      "1/1 [==============================] - 0s 4ms/step - loss: 1.4184 - mae: 1.4184\n",
      "Epoch 55/100\n",
      "1/1 [==============================] - 0s 3ms/step - loss: 1.1900 - mae: 1.1900\n",
      "Epoch 56/100\n",
      "1/1 [==============================] - 0s 3ms/step - loss: 0.9178 - mae: 0.9178\n",
      "Epoch 57/100\n",
      "1/1 [==============================] - 0s 4ms/step - loss: 0.7136 - mae: 0.7136\n",
      "Epoch 58/100\n",
      "1/1 [==============================] - 0s 4ms/step - loss: 0.4616 - mae: 0.4616\n",
      "Epoch 59/100\n",
      "1/1 [==============================] - 0s 4ms/step - loss: 0.1837 - mae: 0.1837\n",
      "Epoch 60/100\n",
      "1/1 [==============================] - 0s 4ms/step - loss: 0.2582 - mae: 0.2582\n",
      "Epoch 61/100\n",
      "1/1 [==============================] - 0s 5ms/step - loss: 0.5100 - mae: 0.5100\n",
      "Epoch 62/100\n",
      "1/1 [==============================] - 0s 4ms/step - loss: 0.6664 - mae: 0.6664\n",
      "Epoch 63/100\n",
      "1/1 [==============================] - 0s 4ms/step - loss: 0.7210 - mae: 0.7210\n",
      "Epoch 64/100\n",
      "1/1 [==============================] - 0s 4ms/step - loss: 0.8201 - mae: 0.8201\n",
      "Epoch 65/100\n",
      "1/1 [==============================] - 0s 4ms/step - loss: 0.8118 - mae: 0.8118\n",
      "Epoch 66/100\n",
      "1/1 [==============================] - 0s 4ms/step - loss: 0.7820 - mae: 0.7820\n",
      "Epoch 67/100\n",
      "1/1 [==============================] - 0s 3ms/step - loss: 0.7132 - mae: 0.7132\n",
      "Epoch 68/100\n",
      "1/1 [==============================] - 0s 3ms/step - loss: 0.6432 - mae: 0.6432\n",
      "Epoch 69/100\n",
      "1/1 [==============================] - 0s 4ms/step - loss: 0.5169 - mae: 0.5169\n",
      "Epoch 70/100\n",
      "1/1 [==============================] - 0s 4ms/step - loss: 0.3860 - mae: 0.3860\n",
      "Epoch 71/100\n",
      "1/1 [==============================] - 0s 4ms/step - loss: 0.2368 - mae: 0.2368\n",
      "Epoch 72/100\n",
      "1/1 [==============================] - 0s 4ms/step - loss: 0.1328 - mae: 0.1328\n",
      "Epoch 73/100\n",
      "1/1 [==============================] - 0s 4ms/step - loss: 0.1290 - mae: 0.1290\n",
      "Epoch 74/100\n",
      "1/1 [==============================] - 0s 4ms/step - loss: 0.2617 - mae: 0.2617\n",
      "Epoch 75/100\n",
      "1/1 [==============================] - 0s 5ms/step - loss: 0.3530 - mae: 0.3530\n",
      "Epoch 76/100\n",
      "1/1 [==============================] - 0s 5ms/step - loss: 0.3707 - mae: 0.3707\n",
      "Epoch 77/100\n",
      "1/1 [==============================] - 0s 6ms/step - loss: 0.3876 - mae: 0.3876\n",
      "Epoch 78/100\n",
      "1/1 [==============================] - 0s 4ms/step - loss: 0.3717 - mae: 0.3717\n",
      "Epoch 79/100\n",
      "1/1 [==============================] - 0s 6ms/step - loss: 0.3251 - mae: 0.3251\n",
      "Epoch 80/100\n",
      "1/1 [==============================] - 0s 8ms/step - loss: 0.2725 - mae: 0.2725\n",
      "Epoch 81/100\n",
      "1/1 [==============================] - 0s 5ms/step - loss: 0.1666 - mae: 0.1666\n",
      "Epoch 82/100\n",
      "1/1 [==============================] - 0s 7ms/step - loss: 0.1753 - mae: 0.1753\n",
      "Epoch 83/100\n",
      "1/1 [==============================] - 0s 8ms/step - loss: 0.1071 - mae: 0.1071\n",
      "Epoch 84/100\n",
      "1/1 [==============================] - 0s 5ms/step - loss: 0.1724 - mae: 0.1724\n",
      "Epoch 85/100\n",
      "1/1 [==============================] - 0s 7ms/step - loss: 0.1995 - mae: 0.1995\n",
      "Epoch 86/100\n",
      "1/1 [==============================] - 0s 5ms/step - loss: 0.1990 - mae: 0.1990\n",
      "Epoch 87/100\n",
      "1/1 [==============================] - 0s 8ms/step - loss: 0.2368 - mae: 0.2368\n",
      "Epoch 88/100\n",
      "1/1 [==============================] - 0s 4ms/step - loss: 0.1238 - mae: 0.1238\n",
      "Epoch 89/100\n",
      "1/1 [==============================] - 0s 5ms/step - loss: 0.3278 - mae: 0.3278\n",
      "Epoch 90/100\n",
      "1/1 [==============================] - 0s 4ms/step - loss: 0.2397 - mae: 0.2397\n",
      "Epoch 91/100\n",
      "1/1 [==============================] - 0s 4ms/step - loss: 0.2052 - mae: 0.2052\n",
      "Epoch 92/100\n",
      "1/1 [==============================] - 0s 4ms/step - loss: 0.2774 - mae: 0.2774\n",
      "Epoch 93/100\n",
      "1/1 [==============================] - 0s 5ms/step - loss: 0.1859 - mae: 0.1859\n",
      "Epoch 94/100\n",
      "1/1 [==============================] - 0s 4ms/step - loss: 0.1855 - mae: 0.1855\n",
      "Epoch 95/100\n",
      "1/1 [==============================] - 0s 4ms/step - loss: 0.2029 - mae: 0.2029\n",
      "Epoch 96/100\n",
      "1/1 [==============================] - 0s 3ms/step - loss: 0.0779 - mae: 0.0779\n",
      "Epoch 97/100\n",
      "1/1 [==============================] - 0s 3ms/step - loss: 0.2865 - mae: 0.2865\n",
      "Epoch 98/100\n",
      "1/1 [==============================] - 0s 4ms/step - loss: 0.2697 - mae: 0.2697\n",
      "Epoch 99/100\n",
      "1/1 [==============================] - 0s 4ms/step - loss: 0.1505 - mae: 0.1505\n",
      "Epoch 100/100\n",
      "1/1 [==============================] - 0s 3ms/step - loss: 0.2233 - mae: 0.2233\n"
     ]
    },
    {
     "data": {
      "text/plain": [
       "<keras.src.callbacks.History at 0x2297f723a90>"
      ]
     },
     "execution_count": 25,
     "metadata": {},
     "output_type": "execute_result"
    }
   ],
   "source": [
    "model = tf.keras.Sequential([\n",
    "    tf.keras.layers.Dense(50, activation=None),\n",
    "    tf.keras.layers.Dense(1)\n",
    "])\n",
    "\n",
    "model.compile(loss=tf.keras.losses.mae,\n",
    "              optimizer=tf.keras.optimizers.Adam(learning_rate=0.01),\n",
    "              metrics=[\"mae\"])\n",
    "\n",
    "model.fit(X, y, epochs=100)"
   ]
  },
  {
   "cell_type": "code",
   "execution_count": 26,
   "metadata": {},
   "outputs": [
    {
     "name": "stdout",
     "output_type": "stream",
     "text": [
      "1/1 [==============================] - 0s 60ms/step\n"
     ]
    },
    {
     "data": {
      "text/plain": [
       "array([[27.209099]], dtype=float32)"
      ]
     },
     "execution_count": 26,
     "metadata": {},
     "output_type": "execute_result"
    }
   ],
   "source": [
    "model.predict([17.0])"
   ]
  },
  {
   "cell_type": "code",
   "execution_count": null,
   "metadata": {},
   "outputs": [],
   "source": []
  },
  {
   "cell_type": "code",
   "execution_count": null,
   "metadata": {},
   "outputs": [],
   "source": []
  }
 ],
 "metadata": {
  "kernelspec": {
   "display_name": "venv",
   "language": "python",
   "name": "python3"
  },
  "language_info": {
   "codemirror_mode": {
    "name": "ipython",
    "version": 3
   },
   "file_extension": ".py",
   "mimetype": "text/x-python",
   "name": "python",
   "nbconvert_exporter": "python",
   "pygments_lexer": "ipython3",
   "version": "3.11.5"
  },
  "orig_nbformat": 4
 },
 "nbformat": 4,
 "nbformat_minor": 2
}
