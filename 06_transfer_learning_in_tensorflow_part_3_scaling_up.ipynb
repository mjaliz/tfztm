{
 "cells": [
  {
   "cell_type": "markdown",
   "metadata": {
    "id": "9s4wADSafy7D"
   },
   "source": [
    "# Transfer Learning with TensorFlow Part 3: Scaling up (Food Vision min)\n",
    "\n",
    "We've seen the power of transfer learning feature extraction and fine tuning, now it's time to scale up to all of the classes in Food101 (101 total classes of food).\n",
    "\n",
    "Our goal is beat the original Food101 paper with 10% of the training data (leveraging the power of deep learning)"
   ]
  },
  {
   "cell_type": "code",
   "execution_count": 1,
   "metadata": {
    "colab": {
     "base_uri": "https://localhost:8080/"
    },
    "executionInfo": {
     "elapsed": 10,
     "status": "ok",
     "timestamp": 1696000616784,
     "user": {
      "displayName": "mohammadjavad alizadeh",
      "userId": "15449679624328239098"
     },
     "user_tz": -210
    },
    "id": "mgtSdA6hgc-L",
    "outputId": "f96c2c13-52f9-4a6f-88e2-362e5ce4a5db"
   },
   "outputs": [
    {
     "name": "stdout",
     "output_type": "stream",
     "text": [
      "Fri Sep 29 12:38:39 2023       \r\n",
      "+-----------------------------------------------------------------------------+\r\n",
      "| NVIDIA-SMI 520.56.06    Driver Version: 522.30       CUDA Version: 11.8     |\r\n",
      "|-------------------------------+----------------------+----------------------+\r\n",
      "| GPU  Name        Persistence-M| Bus-Id        Disp.A | Volatile Uncorr. ECC |\r\n",
      "| Fan  Temp  Perf  Pwr:Usage/Cap|         Memory-Usage | GPU-Util  Compute M. |\r\n",
      "|                               |                      |               MIG M. |\r\n",
      "|===============================+======================+======================|\r\n",
      "|   0  NVIDIA GeForce ...  On   | 00000000:01:00.0  On |                  N/A |\r\n",
      "|  0%   50C    P8    23W / 170W |  10395MiB / 12288MiB |      2%      Default |\r\n",
      "|                               |                      |                  N/A |\r\n",
      "+-------------------------------+----------------------+----------------------+\r\n",
      "                                                                               \r\n",
      "+-----------------------------------------------------------------------------+\r\n",
      "| Processes:                                                                  |\r\n",
      "|  GPU   GI   CI        PID   Type   Process name                  GPU Memory |\r\n",
      "|        ID   ID                                                   Usage      |\r\n",
      "|=============================================================================|\r\n",
      "|    0   N/A  N/A        13      C   /python3.8                      N/A      |\r\n",
      "+-----------------------------------------------------------------------------+\r\n"
     ]
    }
   ],
   "source": [
    "# Check to see of we're using a GPU\n",
    "!nvidia-smi"
   ]
  },
  {
   "cell_type": "markdown",
   "metadata": {
    "id": "47OHl-m_g17i"
   },
   "source": [
    "## Creating helper functions\n",
    "\n",
    "In previous notebooks, we've created a series of helper functions to do different tasks, let's download them."
   ]
  },
  {
   "cell_type": "code",
   "execution_count": 2,
   "metadata": {},
   "outputs": [
    {
     "name": "stdout",
     "output_type": "stream",
     "text": [
      "--2023-09-29 12:41:10--  https://raw.githubusercontent.com/mrdbourke/tensorflow-deep-learning/main/extras/helper_functions.py\n",
      "Resolving raw.githubusercontent.com (raw.githubusercontent.com)... 185.199.108.133, 185.199.109.133, 185.199.110.133, ...\n",
      "Connecting to raw.githubusercontent.com (raw.githubusercontent.com)|185.199.108.133|:443... connected.\n",
      "HTTP request sent, awaiting response... 200 OK\n",
      "Length: 10246 (10K) [text/plain]\n",
      "Saving to: ‘helper_functions.py.1’\n",
      "\n",
      "helper_functions.py 100%[===================>]  10.01K  --.-KB/s    in 0.002s  \n",
      "\n",
      "2023-09-29 12:41:10 (5.76 MB/s) - ‘helper_functions.py.1’ saved [10246/10246]\n",
      "\n"
     ]
    }
   ],
   "source": [
    "!wget https://raw.githubusercontent.com/mrdbourke/tensorflow-deep-learning/main/extras/helper_functions.py"
   ]
  },
  {
   "cell_type": "code",
   "execution_count": 3,
   "metadata": {},
   "outputs": [],
   "source": [
    "# Import series of helper functions for our notebook\n",
    "from helper_functions import create_tensorboard_callback, plot_loss_curves, unzip_data, compare_historys, walk_through_dir"
   ]
  },
  {
   "cell_type": "markdown",
   "metadata": {},
   "source": [
    "## 101 Food Classes: working with less data\n",
    "\n",
    "Our goal is to beat the original Food101 paper with 10% of the training data, sot let's download it.\n",
    "\n",
    "The data we're downloading comes from the original Food101 dataset but has been preprocessed using the imag_data_modification notebook."
   ]
  },
  {
   "cell_type": "code",
   "execution_count": 4,
   "metadata": {},
   "outputs": [],
   "source": [
    "assets_dir = \"assets\""
   ]
  },
  {
   "cell_type": "code",
   "execution_count": 6,
   "metadata": {},
   "outputs": [],
   "source": [
    "import os\n",
    "# !wget https://storage.googleapis.com/ztm_tf_course/food_vision/101_food_classes_10_percent.zip\n",
    "unzip_data(os.path.join(assets_dir, \"101_food_classes_10_percent.zip\"))"
   ]
  },
  {
   "cell_type": "code",
   "execution_count": 10,
   "metadata": {},
   "outputs": [],
   "source": [
    "train_dir = os.path.join(assets_dir, \"101_food_classes_10_percent\", \"train\")\n",
    "test_dir = os.path.join(assets_dir, \"101_food_classes_10_percent\", \"test\")"
   ]
  },
  {
   "cell_type": "code",
   "execution_count": 11,
   "metadata": {},
   "outputs": [
    {
     "name": "stdout",
     "output_type": "stream",
     "text": [
      "There are 2 directories and 0 images in 'assets/101_food_classes_10_percent'.\n",
      "There are 101 directories and 0 images in 'assets/101_food_classes_10_percent/test'.\n",
      "There are 0 directories and 250 images in 'assets/101_food_classes_10_percent/test/apple_pie'.\n",
      "There are 0 directories and 250 images in 'assets/101_food_classes_10_percent/test/baby_back_ribs'.\n",
      "There are 0 directories and 250 images in 'assets/101_food_classes_10_percent/test/baklava'.\n",
      "There are 0 directories and 250 images in 'assets/101_food_classes_10_percent/test/beef_carpaccio'.\n",
      "There are 0 directories and 250 images in 'assets/101_food_classes_10_percent/test/beef_tartare'.\n",
      "There are 0 directories and 250 images in 'assets/101_food_classes_10_percent/test/beet_salad'.\n",
      "There are 0 directories and 250 images in 'assets/101_food_classes_10_percent/test/beignets'.\n",
      "There are 0 directories and 250 images in 'assets/101_food_classes_10_percent/test/bibimbap'.\n",
      "There are 0 directories and 250 images in 'assets/101_food_classes_10_percent/test/bread_pudding'.\n",
      "There are 0 directories and 250 images in 'assets/101_food_classes_10_percent/test/breakfast_burrito'.\n",
      "There are 0 directories and 250 images in 'assets/101_food_classes_10_percent/test/bruschetta'.\n",
      "There are 0 directories and 250 images in 'assets/101_food_classes_10_percent/test/caesar_salad'.\n",
      "There are 0 directories and 250 images in 'assets/101_food_classes_10_percent/test/cannoli'.\n",
      "There are 0 directories and 250 images in 'assets/101_food_classes_10_percent/test/caprese_salad'.\n",
      "There are 0 directories and 250 images in 'assets/101_food_classes_10_percent/test/carrot_cake'.\n",
      "There are 0 directories and 250 images in 'assets/101_food_classes_10_percent/test/ceviche'.\n",
      "There are 0 directories and 250 images in 'assets/101_food_classes_10_percent/test/cheesecake'.\n",
      "There are 0 directories and 250 images in 'assets/101_food_classes_10_percent/test/cheese_plate'.\n",
      "There are 0 directories and 250 images in 'assets/101_food_classes_10_percent/test/chicken_curry'.\n",
      "There are 0 directories and 250 images in 'assets/101_food_classes_10_percent/test/chicken_quesadilla'.\n",
      "There are 0 directories and 250 images in 'assets/101_food_classes_10_percent/test/chicken_wings'.\n",
      "There are 0 directories and 250 images in 'assets/101_food_classes_10_percent/test/chocolate_cake'.\n",
      "There are 0 directories and 250 images in 'assets/101_food_classes_10_percent/test/chocolate_mousse'.\n",
      "There are 0 directories and 250 images in 'assets/101_food_classes_10_percent/test/churros'.\n",
      "There are 0 directories and 250 images in 'assets/101_food_classes_10_percent/test/clam_chowder'.\n",
      "There are 0 directories and 250 images in 'assets/101_food_classes_10_percent/test/club_sandwich'.\n",
      "There are 0 directories and 250 images in 'assets/101_food_classes_10_percent/test/crab_cakes'.\n",
      "There are 0 directories and 250 images in 'assets/101_food_classes_10_percent/test/creme_brulee'.\n",
      "There are 0 directories and 250 images in 'assets/101_food_classes_10_percent/test/croque_madame'.\n",
      "There are 0 directories and 250 images in 'assets/101_food_classes_10_percent/test/cup_cakes'.\n",
      "There are 0 directories and 250 images in 'assets/101_food_classes_10_percent/test/deviled_eggs'.\n",
      "There are 0 directories and 250 images in 'assets/101_food_classes_10_percent/test/donuts'.\n",
      "There are 0 directories and 250 images in 'assets/101_food_classes_10_percent/test/dumplings'.\n",
      "There are 0 directories and 250 images in 'assets/101_food_classes_10_percent/test/edamame'.\n",
      "There are 0 directories and 250 images in 'assets/101_food_classes_10_percent/test/eggs_benedict'.\n",
      "There are 0 directories and 250 images in 'assets/101_food_classes_10_percent/test/escargots'.\n",
      "There are 0 directories and 250 images in 'assets/101_food_classes_10_percent/test/falafel'.\n",
      "There are 0 directories and 250 images in 'assets/101_food_classes_10_percent/test/filet_mignon'.\n",
      "There are 0 directories and 250 images in 'assets/101_food_classes_10_percent/test/fish_and_chips'.\n",
      "There are 0 directories and 250 images in 'assets/101_food_classes_10_percent/test/foie_gras'.\n",
      "There are 0 directories and 250 images in 'assets/101_food_classes_10_percent/test/french_fries'.\n",
      "There are 0 directories and 250 images in 'assets/101_food_classes_10_percent/test/french_onion_soup'.\n",
      "There are 0 directories and 250 images in 'assets/101_food_classes_10_percent/test/french_toast'.\n",
      "There are 0 directories and 250 images in 'assets/101_food_classes_10_percent/test/fried_calamari'.\n",
      "There are 0 directories and 250 images in 'assets/101_food_classes_10_percent/test/fried_rice'.\n",
      "There are 0 directories and 250 images in 'assets/101_food_classes_10_percent/test/frozen_yogurt'.\n",
      "There are 0 directories and 250 images in 'assets/101_food_classes_10_percent/test/garlic_bread'.\n",
      "There are 0 directories and 250 images in 'assets/101_food_classes_10_percent/test/gnocchi'.\n",
      "There are 0 directories and 250 images in 'assets/101_food_classes_10_percent/test/greek_salad'.\n",
      "There are 0 directories and 250 images in 'assets/101_food_classes_10_percent/test/grilled_cheese_sandwich'.\n",
      "There are 0 directories and 250 images in 'assets/101_food_classes_10_percent/test/grilled_salmon'.\n",
      "There are 0 directories and 250 images in 'assets/101_food_classes_10_percent/test/guacamole'.\n",
      "There are 0 directories and 250 images in 'assets/101_food_classes_10_percent/test/gyoza'.\n",
      "There are 0 directories and 250 images in 'assets/101_food_classes_10_percent/test/hamburger'.\n",
      "There are 0 directories and 250 images in 'assets/101_food_classes_10_percent/test/hot_and_sour_soup'.\n",
      "There are 0 directories and 250 images in 'assets/101_food_classes_10_percent/test/hot_dog'.\n",
      "There are 0 directories and 250 images in 'assets/101_food_classes_10_percent/test/huevos_rancheros'.\n",
      "There are 0 directories and 250 images in 'assets/101_food_classes_10_percent/test/hummus'.\n",
      "There are 0 directories and 250 images in 'assets/101_food_classes_10_percent/test/ice_cream'.\n",
      "There are 0 directories and 250 images in 'assets/101_food_classes_10_percent/test/lasagna'.\n",
      "There are 0 directories and 250 images in 'assets/101_food_classes_10_percent/test/lobster_bisque'.\n",
      "There are 0 directories and 250 images in 'assets/101_food_classes_10_percent/test/lobster_roll_sandwich'.\n",
      "There are 0 directories and 250 images in 'assets/101_food_classes_10_percent/test/macaroni_and_cheese'.\n",
      "There are 0 directories and 250 images in 'assets/101_food_classes_10_percent/test/macarons'.\n",
      "There are 0 directories and 250 images in 'assets/101_food_classes_10_percent/test/miso_soup'.\n",
      "There are 0 directories and 250 images in 'assets/101_food_classes_10_percent/test/mussels'.\n",
      "There are 0 directories and 250 images in 'assets/101_food_classes_10_percent/test/nachos'.\n",
      "There are 0 directories and 250 images in 'assets/101_food_classes_10_percent/test/omelette'.\n",
      "There are 0 directories and 250 images in 'assets/101_food_classes_10_percent/test/onion_rings'.\n",
      "There are 0 directories and 250 images in 'assets/101_food_classes_10_percent/test/oysters'.\n",
      "There are 0 directories and 250 images in 'assets/101_food_classes_10_percent/test/pad_thai'.\n",
      "There are 0 directories and 250 images in 'assets/101_food_classes_10_percent/test/paella'.\n",
      "There are 0 directories and 250 images in 'assets/101_food_classes_10_percent/test/pancakes'.\n",
      "There are 0 directories and 250 images in 'assets/101_food_classes_10_percent/test/panna_cotta'.\n",
      "There are 0 directories and 250 images in 'assets/101_food_classes_10_percent/test/peking_duck'.\n",
      "There are 0 directories and 250 images in 'assets/101_food_classes_10_percent/test/pho'.\n",
      "There are 0 directories and 250 images in 'assets/101_food_classes_10_percent/test/pizza'.\n",
      "There are 0 directories and 250 images in 'assets/101_food_classes_10_percent/test/pork_chop'.\n",
      "There are 0 directories and 250 images in 'assets/101_food_classes_10_percent/test/poutine'.\n",
      "There are 0 directories and 250 images in 'assets/101_food_classes_10_percent/test/prime_rib'.\n",
      "There are 0 directories and 250 images in 'assets/101_food_classes_10_percent/test/pulled_pork_sandwich'.\n",
      "There are 0 directories and 250 images in 'assets/101_food_classes_10_percent/test/ramen'.\n",
      "There are 0 directories and 250 images in 'assets/101_food_classes_10_percent/test/ravioli'.\n",
      "There are 0 directories and 250 images in 'assets/101_food_classes_10_percent/test/red_velvet_cake'.\n",
      "There are 0 directories and 250 images in 'assets/101_food_classes_10_percent/test/risotto'.\n",
      "There are 0 directories and 250 images in 'assets/101_food_classes_10_percent/test/samosa'.\n",
      "There are 0 directories and 250 images in 'assets/101_food_classes_10_percent/test/sashimi'.\n",
      "There are 0 directories and 250 images in 'assets/101_food_classes_10_percent/test/scallops'.\n",
      "There are 0 directories and 250 images in 'assets/101_food_classes_10_percent/test/seaweed_salad'.\n",
      "There are 0 directories and 250 images in 'assets/101_food_classes_10_percent/test/shrimp_and_grits'.\n",
      "There are 0 directories and 250 images in 'assets/101_food_classes_10_percent/test/spaghetti_bolognese'.\n",
      "There are 0 directories and 250 images in 'assets/101_food_classes_10_percent/test/spaghetti_carbonara'.\n",
      "There are 0 directories and 250 images in 'assets/101_food_classes_10_percent/test/spring_rolls'.\n",
      "There are 0 directories and 250 images in 'assets/101_food_classes_10_percent/test/steak'.\n",
      "There are 0 directories and 250 images in 'assets/101_food_classes_10_percent/test/strawberry_shortcake'.\n",
      "There are 0 directories and 250 images in 'assets/101_food_classes_10_percent/test/sushi'.\n",
      "There are 0 directories and 250 images in 'assets/101_food_classes_10_percent/test/tacos'.\n",
      "There are 0 directories and 250 images in 'assets/101_food_classes_10_percent/test/takoyaki'.\n",
      "There are 0 directories and 250 images in 'assets/101_food_classes_10_percent/test/tiramisu'.\n",
      "There are 0 directories and 250 images in 'assets/101_food_classes_10_percent/test/tuna_tartare'.\n",
      "There are 0 directories and 250 images in 'assets/101_food_classes_10_percent/test/waffles'.\n",
      "There are 101 directories and 0 images in 'assets/101_food_classes_10_percent/train'.\n",
      "There are 0 directories and 75 images in 'assets/101_food_classes_10_percent/train/apple_pie'.\n",
      "There are 0 directories and 75 images in 'assets/101_food_classes_10_percent/train/baby_back_ribs'.\n",
      "There are 0 directories and 75 images in 'assets/101_food_classes_10_percent/train/baklava'.\n",
      "There are 0 directories and 75 images in 'assets/101_food_classes_10_percent/train/beef_carpaccio'.\n",
      "There are 0 directories and 75 images in 'assets/101_food_classes_10_percent/train/beef_tartare'.\n",
      "There are 0 directories and 75 images in 'assets/101_food_classes_10_percent/train/beet_salad'.\n",
      "There are 0 directories and 75 images in 'assets/101_food_classes_10_percent/train/beignets'.\n",
      "There are 0 directories and 75 images in 'assets/101_food_classes_10_percent/train/bibimbap'.\n",
      "There are 0 directories and 75 images in 'assets/101_food_classes_10_percent/train/bread_pudding'.\n",
      "There are 0 directories and 75 images in 'assets/101_food_classes_10_percent/train/breakfast_burrito'.\n",
      "There are 0 directories and 75 images in 'assets/101_food_classes_10_percent/train/bruschetta'.\n",
      "There are 0 directories and 75 images in 'assets/101_food_classes_10_percent/train/caesar_salad'.\n"
     ]
    },
    {
     "name": "stdout",
     "output_type": "stream",
     "text": [
      "There are 0 directories and 75 images in 'assets/101_food_classes_10_percent/train/cannoli'.\n",
      "There are 0 directories and 75 images in 'assets/101_food_classes_10_percent/train/caprese_salad'.\n",
      "There are 0 directories and 75 images in 'assets/101_food_classes_10_percent/train/carrot_cake'.\n",
      "There are 0 directories and 75 images in 'assets/101_food_classes_10_percent/train/ceviche'.\n",
      "There are 0 directories and 75 images in 'assets/101_food_classes_10_percent/train/cheesecake'.\n",
      "There are 0 directories and 75 images in 'assets/101_food_classes_10_percent/train/cheese_plate'.\n",
      "There are 0 directories and 75 images in 'assets/101_food_classes_10_percent/train/chicken_curry'.\n",
      "There are 0 directories and 75 images in 'assets/101_food_classes_10_percent/train/chicken_quesadilla'.\n",
      "There are 0 directories and 75 images in 'assets/101_food_classes_10_percent/train/chicken_wings'.\n",
      "There are 0 directories and 75 images in 'assets/101_food_classes_10_percent/train/chocolate_cake'.\n",
      "There are 0 directories and 75 images in 'assets/101_food_classes_10_percent/train/chocolate_mousse'.\n",
      "There are 0 directories and 75 images in 'assets/101_food_classes_10_percent/train/churros'.\n",
      "There are 0 directories and 75 images in 'assets/101_food_classes_10_percent/train/clam_chowder'.\n",
      "There are 0 directories and 75 images in 'assets/101_food_classes_10_percent/train/club_sandwich'.\n",
      "There are 0 directories and 75 images in 'assets/101_food_classes_10_percent/train/crab_cakes'.\n",
      "There are 0 directories and 75 images in 'assets/101_food_classes_10_percent/train/creme_brulee'.\n",
      "There are 0 directories and 75 images in 'assets/101_food_classes_10_percent/train/croque_madame'.\n",
      "There are 0 directories and 75 images in 'assets/101_food_classes_10_percent/train/cup_cakes'.\n",
      "There are 0 directories and 75 images in 'assets/101_food_classes_10_percent/train/deviled_eggs'.\n",
      "There are 0 directories and 75 images in 'assets/101_food_classes_10_percent/train/donuts'.\n",
      "There are 0 directories and 75 images in 'assets/101_food_classes_10_percent/train/dumplings'.\n",
      "There are 0 directories and 75 images in 'assets/101_food_classes_10_percent/train/edamame'.\n",
      "There are 0 directories and 75 images in 'assets/101_food_classes_10_percent/train/eggs_benedict'.\n",
      "There are 0 directories and 75 images in 'assets/101_food_classes_10_percent/train/escargots'.\n",
      "There are 0 directories and 75 images in 'assets/101_food_classes_10_percent/train/falafel'.\n",
      "There are 0 directories and 75 images in 'assets/101_food_classes_10_percent/train/filet_mignon'.\n",
      "There are 0 directories and 75 images in 'assets/101_food_classes_10_percent/train/fish_and_chips'.\n",
      "There are 0 directories and 75 images in 'assets/101_food_classes_10_percent/train/foie_gras'.\n",
      "There are 0 directories and 75 images in 'assets/101_food_classes_10_percent/train/french_fries'.\n",
      "There are 0 directories and 75 images in 'assets/101_food_classes_10_percent/train/french_onion_soup'.\n",
      "There are 0 directories and 75 images in 'assets/101_food_classes_10_percent/train/french_toast'.\n",
      "There are 0 directories and 75 images in 'assets/101_food_classes_10_percent/train/fried_calamari'.\n",
      "There are 0 directories and 75 images in 'assets/101_food_classes_10_percent/train/fried_rice'.\n",
      "There are 0 directories and 75 images in 'assets/101_food_classes_10_percent/train/frozen_yogurt'.\n",
      "There are 0 directories and 75 images in 'assets/101_food_classes_10_percent/train/garlic_bread'.\n",
      "There are 0 directories and 75 images in 'assets/101_food_classes_10_percent/train/gnocchi'.\n",
      "There are 0 directories and 75 images in 'assets/101_food_classes_10_percent/train/greek_salad'.\n",
      "There are 0 directories and 75 images in 'assets/101_food_classes_10_percent/train/grilled_cheese_sandwich'.\n",
      "There are 0 directories and 75 images in 'assets/101_food_classes_10_percent/train/grilled_salmon'.\n",
      "There are 0 directories and 75 images in 'assets/101_food_classes_10_percent/train/guacamole'.\n",
      "There are 0 directories and 75 images in 'assets/101_food_classes_10_percent/train/gyoza'.\n",
      "There are 0 directories and 75 images in 'assets/101_food_classes_10_percent/train/hamburger'.\n",
      "There are 0 directories and 75 images in 'assets/101_food_classes_10_percent/train/hot_and_sour_soup'.\n",
      "There are 0 directories and 75 images in 'assets/101_food_classes_10_percent/train/hot_dog'.\n",
      "There are 0 directories and 75 images in 'assets/101_food_classes_10_percent/train/huevos_rancheros'.\n",
      "There are 0 directories and 75 images in 'assets/101_food_classes_10_percent/train/hummus'.\n",
      "There are 0 directories and 75 images in 'assets/101_food_classes_10_percent/train/ice_cream'.\n",
      "There are 0 directories and 75 images in 'assets/101_food_classes_10_percent/train/lasagna'.\n",
      "There are 0 directories and 75 images in 'assets/101_food_classes_10_percent/train/lobster_bisque'.\n",
      "There are 0 directories and 75 images in 'assets/101_food_classes_10_percent/train/lobster_roll_sandwich'.\n",
      "There are 0 directories and 75 images in 'assets/101_food_classes_10_percent/train/macaroni_and_cheese'.\n",
      "There are 0 directories and 75 images in 'assets/101_food_classes_10_percent/train/macarons'.\n",
      "There are 0 directories and 75 images in 'assets/101_food_classes_10_percent/train/miso_soup'.\n",
      "There are 0 directories and 75 images in 'assets/101_food_classes_10_percent/train/mussels'.\n",
      "There are 0 directories and 75 images in 'assets/101_food_classes_10_percent/train/nachos'.\n",
      "There are 0 directories and 75 images in 'assets/101_food_classes_10_percent/train/omelette'.\n",
      "There are 0 directories and 75 images in 'assets/101_food_classes_10_percent/train/onion_rings'.\n",
      "There are 0 directories and 75 images in 'assets/101_food_classes_10_percent/train/oysters'.\n",
      "There are 0 directories and 75 images in 'assets/101_food_classes_10_percent/train/pad_thai'.\n",
      "There are 0 directories and 75 images in 'assets/101_food_classes_10_percent/train/paella'.\n",
      "There are 0 directories and 75 images in 'assets/101_food_classes_10_percent/train/pancakes'.\n",
      "There are 0 directories and 75 images in 'assets/101_food_classes_10_percent/train/panna_cotta'.\n",
      "There are 0 directories and 75 images in 'assets/101_food_classes_10_percent/train/peking_duck'.\n",
      "There are 0 directories and 75 images in 'assets/101_food_classes_10_percent/train/pho'.\n",
      "There are 0 directories and 75 images in 'assets/101_food_classes_10_percent/train/pizza'.\n",
      "There are 0 directories and 75 images in 'assets/101_food_classes_10_percent/train/pork_chop'.\n",
      "There are 0 directories and 75 images in 'assets/101_food_classes_10_percent/train/poutine'.\n",
      "There are 0 directories and 75 images in 'assets/101_food_classes_10_percent/train/prime_rib'.\n",
      "There are 0 directories and 75 images in 'assets/101_food_classes_10_percent/train/pulled_pork_sandwich'.\n",
      "There are 0 directories and 75 images in 'assets/101_food_classes_10_percent/train/ramen'.\n",
      "There are 0 directories and 75 images in 'assets/101_food_classes_10_percent/train/ravioli'.\n",
      "There are 0 directories and 75 images in 'assets/101_food_classes_10_percent/train/red_velvet_cake'.\n",
      "There are 0 directories and 75 images in 'assets/101_food_classes_10_percent/train/risotto'.\n",
      "There are 0 directories and 75 images in 'assets/101_food_classes_10_percent/train/samosa'.\n",
      "There are 0 directories and 75 images in 'assets/101_food_classes_10_percent/train/sashimi'.\n",
      "There are 0 directories and 75 images in 'assets/101_food_classes_10_percent/train/scallops'.\n",
      "There are 0 directories and 75 images in 'assets/101_food_classes_10_percent/train/seaweed_salad'.\n",
      "There are 0 directories and 75 images in 'assets/101_food_classes_10_percent/train/shrimp_and_grits'.\n",
      "There are 0 directories and 75 images in 'assets/101_food_classes_10_percent/train/spaghetti_bolognese'.\n",
      "There are 0 directories and 75 images in 'assets/101_food_classes_10_percent/train/spaghetti_carbonara'.\n",
      "There are 0 directories and 75 images in 'assets/101_food_classes_10_percent/train/spring_rolls'.\n",
      "There are 0 directories and 75 images in 'assets/101_food_classes_10_percent/train/steak'.\n",
      "There are 0 directories and 75 images in 'assets/101_food_classes_10_percent/train/strawberry_shortcake'.\n",
      "There are 0 directories and 75 images in 'assets/101_food_classes_10_percent/train/sushi'.\n",
      "There are 0 directories and 75 images in 'assets/101_food_classes_10_percent/train/tacos'.\n",
      "There are 0 directories and 75 images in 'assets/101_food_classes_10_percent/train/takoyaki'.\n",
      "There are 0 directories and 75 images in 'assets/101_food_classes_10_percent/train/tiramisu'.\n",
      "There are 0 directories and 75 images in 'assets/101_food_classes_10_percent/train/tuna_tartare'.\n",
      "There are 0 directories and 75 images in 'assets/101_food_classes_10_percent/train/waffles'.\n"
     ]
    }
   ],
   "source": [
    "# How many iamges/classes are there?\n",
    "walk_through_dir(os.path.join(assets_dir, \"101_food_classes_10_percent\"))"
   ]
  },
  {
   "cell_type": "code",
   "execution_count": 12,
   "metadata": {},
   "outputs": [
    {
     "name": "stdout",
     "output_type": "stream",
     "text": [
      "Found 7575 files belonging to 101 classes.\n"
     ]
    },
    {
     "name": "stderr",
     "output_type": "stream",
     "text": [
      "2023-09-29 13:30:56.540196: I tensorflow/compiler/xla/stream_executor/cuda/cuda_gpu_executor.cc:981] could not open file to read NUMA node: /sys/bus/pci/devices/0000:01:00.0/numa_node\n",
      "Your kernel may have been built without NUMA support.\n",
      "2023-09-29 13:30:56.547013: I tensorflow/compiler/xla/stream_executor/cuda/cuda_gpu_executor.cc:981] could not open file to read NUMA node: /sys/bus/pci/devices/0000:01:00.0/numa_node\n",
      "Your kernel may have been built without NUMA support.\n",
      "2023-09-29 13:30:56.547365: I tensorflow/compiler/xla/stream_executor/cuda/cuda_gpu_executor.cc:981] could not open file to read NUMA node: /sys/bus/pci/devices/0000:01:00.0/numa_node\n",
      "Your kernel may have been built without NUMA support.\n",
      "2023-09-29 13:30:56.548833: I tensorflow/compiler/xla/stream_executor/cuda/cuda_gpu_executor.cc:981] could not open file to read NUMA node: /sys/bus/pci/devices/0000:01:00.0/numa_node\n",
      "Your kernel may have been built without NUMA support.\n",
      "2023-09-29 13:30:56.549148: I tensorflow/compiler/xla/stream_executor/cuda/cuda_gpu_executor.cc:981] could not open file to read NUMA node: /sys/bus/pci/devices/0000:01:00.0/numa_node\n",
      "Your kernel may have been built without NUMA support.\n",
      "2023-09-29 13:30:56.549420: I tensorflow/compiler/xla/stream_executor/cuda/cuda_gpu_executor.cc:981] could not open file to read NUMA node: /sys/bus/pci/devices/0000:01:00.0/numa_node\n",
      "Your kernel may have been built without NUMA support.\n",
      "2023-09-29 13:30:57.208232: I tensorflow/compiler/xla/stream_executor/cuda/cuda_gpu_executor.cc:981] could not open file to read NUMA node: /sys/bus/pci/devices/0000:01:00.0/numa_node\n",
      "Your kernel may have been built without NUMA support.\n",
      "2023-09-29 13:30:57.208468: I tensorflow/compiler/xla/stream_executor/cuda/cuda_gpu_executor.cc:981] could not open file to read NUMA node: /sys/bus/pci/devices/0000:01:00.0/numa_node\n",
      "Your kernel may have been built without NUMA support.\n",
      "2023-09-29 13:30:57.208481: I tensorflow/core/common_runtime/gpu/gpu_device.cc:1726] Could not identify NUMA node of platform GPU id 0, defaulting to 0.  Your kernel may not have been built with NUMA support.\n",
      "2023-09-29 13:30:57.208647: I tensorflow/compiler/xla/stream_executor/cuda/cuda_gpu_executor.cc:981] could not open file to read NUMA node: /sys/bus/pci/devices/0000:01:00.0/numa_node\n",
      "Your kernel may have been built without NUMA support.\n",
      "2023-09-29 13:30:57.208681: I tensorflow/core/common_runtime/gpu/gpu_device.cc:1639] Created device /job:localhost/replica:0/task:0/device:GPU:0 with 9255 MB memory:  -> device: 0, name: NVIDIA GeForce RTX 3060, pci bus id: 0000:01:00.0, compute capability: 8.6\n"
     ]
    },
    {
     "name": "stdout",
     "output_type": "stream",
     "text": [
      "Found 25250 files belonging to 101 classes.\n"
     ]
    }
   ],
   "source": [
    "# Steup data inputs\n",
    "import tensorflow as tf\n",
    "IMG_SIZE = (224, 224)\n",
    "train_data_all_10_percent = tf.keras.utils.image_dataset_from_directory(train_dir,\n",
    "                                                                       label_mode=\"categorical\",\n",
    "                                                                       image_size=IMG_SIZE)\n",
    "\n",
    "test_data = tf.keras.utils.image_dataset_from_directory(test_dir,\n",
    "                                                       label_mode=\"categorical\",\n",
    "                                                       image_size=IMG_SIZE,\n",
    "                                                       shuffle=False) # don't shuffle test data fo prediction analysis"
   ]
  },
  {
   "cell_type": "code",
   "execution_count": null,
   "metadata": {},
   "outputs": [],
   "source": []
  }
 ],
 "metadata": {
  "accelerator": "GPU",
  "colab": {
   "authorship_tag": "ABX9TyMsOUiTeEXiaf9M+/AoIWoH",
   "gpuType": "T4",
   "provenance": []
  },
  "kernelspec": {
   "display_name": "Python 3 (ipykernel)",
   "language": "python",
   "name": "python3"
  },
  "language_info": {
   "codemirror_mode": {
    "name": "ipython",
    "version": 3
   },
   "file_extension": ".py",
   "mimetype": "text/x-python",
   "name": "python",
   "nbconvert_exporter": "python",
   "pygments_lexer": "ipython3",
   "version": "3.8.10"
  }
 },
 "nbformat": 4,
 "nbformat_minor": 1
}
